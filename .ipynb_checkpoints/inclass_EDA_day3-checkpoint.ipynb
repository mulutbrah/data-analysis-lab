{
 "cells": [
  {
   "cell_type": "markdown",
   "metadata": {
    "id": "7Q0eAHX6sDE1"
   },
   "source": [
    "**Inclass material for Week 2: Exploratory Data Analysis**\n",
    "\n",
    "This notebook was made based on main materials `2_Exploratory_Data_Analysis.ipynb`\n",
    "\n",
    "Version: Newton - February 2021"
   ]
  },
  {
   "cell_type": "markdown",
   "metadata": {
    "id": "H6EvH5MFsDE7"
   },
   "source": [
    "___"
   ]
  },
  {
   "cell_type": "markdown",
   "metadata": {
    "id": "0KLXJp17sDE7"
   },
   "source": [
    "# Exploratory Data Analysis (EDA)"
   ]
  },
  {
   "cell_type": "markdown",
   "metadata": {
    "id": "EEub_sK8sDE8"
   },
   "source": [
    "## Training Objectives"
   ]
  },
  {
   "cell_type": "markdown",
   "metadata": {
    "id": "cekORY-8sDE8"
   },
   "source": [
    "The coursebook focuses on:\n",
    "- Why and What: Exploratory Data Analysis\n",
    "- Date Time objects\n",
    "- Categorical data types\n",
    "- Cross Tabulation and Pivot Table\n",
    "- Treating Duplicates and Missing Values "
   ]
  },
  {
   "cell_type": "markdown",
   "metadata": {
    "id": "R2Wa98D8sDE8"
   },
   "source": [
    "## Introduction to EDA"
   ]
  },
  {
   "cell_type": "markdown",
   "metadata": {
    "id": "w0-tVOqssDE9"
   },
   "source": [
    "About 60 years ago, John Tukey defined data analysis as the \"procedures for analyzing data, techniques for interpreting the results of such procedures ... and all the machinery of mathematical statistics which apply to analyzing data\". His championing of EDA encouraged the development of statistical computing packages, especially S at Bell Labs (which later inspired R).\n",
    "\n",
    "He wrote a book titled _Exploratory Data Analysis_ arguing that too much emphasis in statistics was placed on hypothesis testing (confirmatory data analysis) while not enough was placed on the discovery of the unexpected. \n",
    "\n",
    "> Exploratory data analysis isolates patterns and features of the data and reveals these forcefully to the analyst.\n",
    "\n",
    "This course aims to present a selection of EDA techniques -- some developed by John Tukey himself -- but with a special emphasis on its application to modern business analytics."
   ]
  },
  {
   "cell_type": "markdown",
   "metadata": {
    "id": "Y3O--KeXsDE9"
   },
   "source": [
    "## Data Loading"
   ]
  },
  {
   "cell_type": "markdown",
   "metadata": {
    "id": "Z8twESRKsDE9"
   },
   "source": [
    "Don't forget to **import** required library before analysis:"
   ]
  },
  {
   "cell_type": "code",
   "execution_count": 1,
   "metadata": {
    "id": "cQDLS32msDE-"
   },
   "outputs": [],
   "source": [
    "import pandas as pd"
   ]
  },
  {
   "cell_type": "markdown",
   "metadata": {
    "id": "YTw-1aYZsDE-"
   },
   "source": [
    "Load `household` data from the directory `data_input/household.csv`:"
   ]
  },
  {
   "cell_type": "code",
   "execution_count": 2,
   "metadata": {
    "id": "GXH2mUEAsDE-",
    "scrolled": true
   },
   "outputs": [],
   "source": [
    "household = pd.read_csv('data_input/household.csv')"
   ]
  },
  {
   "cell_type": "code",
   "execution_count": 3,
   "metadata": {
    "id": "34Zsx26CsDE-",
    "outputId": "b1ddf493-deaa-4e5d-d082-ebf93fbb8ec6"
   },
   "outputs": [
    {
     "data": {
      "text/html": [
       "<div>\n",
       "<style scoped>\n",
       "    .dataframe tbody tr th:only-of-type {\n",
       "        vertical-align: middle;\n",
       "    }\n",
       "\n",
       "    .dataframe tbody tr th {\n",
       "        vertical-align: top;\n",
       "    }\n",
       "\n",
       "    .dataframe thead th {\n",
       "        text-align: right;\n",
       "    }\n",
       "</style>\n",
       "<table border=\"1\" class=\"dataframe\">\n",
       "  <thead>\n",
       "    <tr style=\"text-align: right;\">\n",
       "      <th></th>\n",
       "      <th>receipt_id</th>\n",
       "      <th>receipts_item_id</th>\n",
       "      <th>purchase_time</th>\n",
       "      <th>category</th>\n",
       "      <th>sub_category</th>\n",
       "      <th>format</th>\n",
       "      <th>unit_price</th>\n",
       "      <th>discount</th>\n",
       "      <th>quantity</th>\n",
       "      <th>yearmonth</th>\n",
       "    </tr>\n",
       "  </thead>\n",
       "  <tbody>\n",
       "    <tr>\n",
       "      <th>0</th>\n",
       "      <td>9622257</td>\n",
       "      <td>32369294</td>\n",
       "      <td>7/22/2018 21:19</td>\n",
       "      <td>Rice</td>\n",
       "      <td>Rice</td>\n",
       "      <td>supermarket</td>\n",
       "      <td>128000.0</td>\n",
       "      <td>0</td>\n",
       "      <td>1</td>\n",
       "      <td>2018-07</td>\n",
       "    </tr>\n",
       "    <tr>\n",
       "      <th>1</th>\n",
       "      <td>9446359</td>\n",
       "      <td>31885876</td>\n",
       "      <td>7/15/2018 16:17</td>\n",
       "      <td>Rice</td>\n",
       "      <td>Rice</td>\n",
       "      <td>minimarket</td>\n",
       "      <td>102750.0</td>\n",
       "      <td>0</td>\n",
       "      <td>1</td>\n",
       "      <td>2018-07</td>\n",
       "    </tr>\n",
       "    <tr>\n",
       "      <th>2</th>\n",
       "      <td>9470290</td>\n",
       "      <td>31930241</td>\n",
       "      <td>7/15/2018 12:12</td>\n",
       "      <td>Rice</td>\n",
       "      <td>Rice</td>\n",
       "      <td>supermarket</td>\n",
       "      <td>64000.0</td>\n",
       "      <td>0</td>\n",
       "      <td>3</td>\n",
       "      <td>2018-07</td>\n",
       "    </tr>\n",
       "    <tr>\n",
       "      <th>3</th>\n",
       "      <td>9643416</td>\n",
       "      <td>32418582</td>\n",
       "      <td>7/24/2018 8:27</td>\n",
       "      <td>Rice</td>\n",
       "      <td>Rice</td>\n",
       "      <td>minimarket</td>\n",
       "      <td>65000.0</td>\n",
       "      <td>0</td>\n",
       "      <td>1</td>\n",
       "      <td>2018-07</td>\n",
       "    </tr>\n",
       "    <tr>\n",
       "      <th>4</th>\n",
       "      <td>9692093</td>\n",
       "      <td>32561236</td>\n",
       "      <td>7/26/2018 11:28</td>\n",
       "      <td>Rice</td>\n",
       "      <td>Rice</td>\n",
       "      <td>supermarket</td>\n",
       "      <td>124500.0</td>\n",
       "      <td>0</td>\n",
       "      <td>1</td>\n",
       "      <td>2018-07</td>\n",
       "    </tr>\n",
       "  </tbody>\n",
       "</table>\n",
       "</div>"
      ],
      "text/plain": [
       "   receipt_id  receipts_item_id    purchase_time category sub_category  \\\n",
       "0     9622257          32369294  7/22/2018 21:19     Rice         Rice   \n",
       "1     9446359          31885876  7/15/2018 16:17     Rice         Rice   \n",
       "2     9470290          31930241  7/15/2018 12:12     Rice         Rice   \n",
       "3     9643416          32418582   7/24/2018 8:27     Rice         Rice   \n",
       "4     9692093          32561236  7/26/2018 11:28     Rice         Rice   \n",
       "\n",
       "        format  unit_price  discount  quantity yearmonth  \n",
       "0  supermarket    128000.0         0         1   2018-07  \n",
       "1   minimarket    102750.0         0         1   2018-07  \n",
       "2  supermarket     64000.0         0         3   2018-07  \n",
       "3   minimarket     65000.0         0         1   2018-07  \n",
       "4  supermarket    124500.0         0         1   2018-07  "
      ]
     },
     "execution_count": 3,
     "metadata": {},
     "output_type": "execute_result"
    }
   ],
   "source": [
    "household.head()"
   ]
  },
  {
   "cell_type": "markdown",
   "metadata": {
    "id": "xZUlZ7oesDE_"
   },
   "source": [
    "Data terkait transaksi Rice, Detergent (Fabric Care), dan Sugar "
   ]
  },
  {
   "cell_type": "code",
   "execution_count": 4,
   "metadata": {
    "id": "EXQorUehsDE_",
    "outputId": "a2cae4d9-9bb7-4c22-db55-4dcf304bf542"
   },
   "outputs": [
    {
     "data": {
      "text/plain": [
       "array(['Rice', 'Fabric Care', 'Sugar/Flavored Syrup'], dtype=object)"
      ]
     },
     "execution_count": 4,
     "metadata": {},
     "output_type": "execute_result"
    }
   ],
   "source": [
    "household['category'].unique()"
   ]
  },
  {
   "cell_type": "markdown",
   "metadata": {
    "id": "DbQy-5GFsDFA"
   },
   "source": [
    "💡 **Tips**: Using `.info()` method, we can check complete **information** of our DataFrame:\n",
    "\n",
    "- Number of rows and columns (`.shape`)\n",
    "- Column name and number of non-null value (`.columns`)\n",
    "- Data types of each column (`.dtypes`)\n",
    "- Memory usage"
   ]
  },
  {
   "cell_type": "code",
   "execution_count": 5,
   "metadata": {
    "id": "jPqQDah_sDFA",
    "outputId": "4dce14e8-3654-47d6-d12d-f01c370e0e15"
   },
   "outputs": [
    {
     "name": "stdout",
     "output_type": "stream",
     "text": [
      "<class 'pandas.core.frame.DataFrame'>\n",
      "RangeIndex: 72000 entries, 0 to 71999\n",
      "Data columns (total 10 columns):\n",
      " #   Column            Non-Null Count  Dtype  \n",
      "---  ------            --------------  -----  \n",
      " 0   receipt_id        72000 non-null  int64  \n",
      " 1   receipts_item_id  72000 non-null  int64  \n",
      " 2   purchase_time     72000 non-null  object \n",
      " 3   category          72000 non-null  object \n",
      " 4   sub_category      72000 non-null  object \n",
      " 5   format            72000 non-null  object \n",
      " 6   unit_price        72000 non-null  float64\n",
      " 7   discount          72000 non-null  int64  \n",
      " 8   quantity          72000 non-null  int64  \n",
      " 9   yearmonth         72000 non-null  object \n",
      "dtypes: float64(1), int64(4), object(5)\n",
      "memory usage: 5.5+ MB\n"
     ]
    }
   ],
   "source": [
    "household.info()"
   ]
  },
  {
   "cell_type": "markdown",
   "metadata": {
    "id": "rJ2gm0DbsDFA"
   },
   "source": [
    "Note: 72000 non-null untuk semua kolom menandakan data `household` tidak ada missing value"
   ]
  },
  {
   "cell_type": "markdown",
   "metadata": {
    "id": "Rt1QGQzQsDFA"
   },
   "source": [
    "___"
   ]
  },
  {
   "cell_type": "markdown",
   "metadata": {
    "id": "jna-wmJfsDFB"
   },
   "source": [
    "# Working with Datetime"
   ]
  },
  {
   "cell_type": "markdown",
   "metadata": {
    "id": "M4vSzPf3sDFB"
   },
   "source": [
    "Let's focus on column data types of `household`:"
   ]
  },
  {
   "cell_type": "code",
   "execution_count": 6,
   "metadata": {
    "id": "VJxz8kZdsDFB",
    "outputId": "258df036-8d2f-476d-cf13-28778c09fd7a",
    "scrolled": true
   },
   "outputs": [
    {
     "data": {
      "text/plain": [
       "receipt_id            int64\n",
       "receipts_item_id      int64\n",
       "purchase_time        object\n",
       "category             object\n",
       "sub_category         object\n",
       "format               object\n",
       "unit_price          float64\n",
       "discount              int64\n",
       "quantity              int64\n",
       "yearmonth            object\n",
       "dtype: object"
      ]
     },
     "execution_count": 6,
     "metadata": {},
     "output_type": "execute_result"
    }
   ],
   "source": [
    "household.dtypes"
   ]
  },
  {
   "cell_type": "markdown",
   "metadata": {
    "id": "Ec4pJl-ksDFB"
   },
   "source": [
    "Which column should be stored in `datetime64` data type?\n",
    "\n",
    "> Answer: `purchase_time`"
   ]
  },
  {
   "cell_type": "code",
   "execution_count": 7,
   "metadata": {
    "id": "HD4_mtsCsDFB",
    "outputId": "ca6fc5ba-b6e1-4601-c6e1-f6a50e2bb13b"
   },
   "outputs": [
    {
     "data": {
      "text/plain": [
       "0        2018-07\n",
       "1        2018-07\n",
       "2        2018-07\n",
       "3        2018-07\n",
       "4        2018-07\n",
       "          ...   \n",
       "71995    2017-12\n",
       "71996    2017-12\n",
       "71997    2017-12\n",
       "71998    2017-12\n",
       "71999    2017-12\n",
       "Name: yearmonth, Length: 72000, dtype: object"
      ]
     },
     "execution_count": 7,
     "metadata": {},
     "output_type": "execute_result"
    }
   ],
   "source": [
    "# apakah yearmonth dijadikan datetime64?\n",
    "household['yearmonth']\n",
    "# jawaban: category, karena tidak ada komponen day (hanya tahun dan bulan), dan juga nilainya berulang\n",
    "# datetime64 -> yyyy-mm-dd"
   ]
  },
  {
   "cell_type": "markdown",
   "metadata": {
    "id": "YqTmV4kVsDFC"
   },
   "source": [
    "## Convert to Datetime\n",
    "\n",
    "There are three common ways for us to convert data type into `datetime64`:"
   ]
  },
  {
   "cell_type": "markdown",
   "metadata": {
    "id": "kcF6W6tdsDFC"
   },
   "source": [
    "### First: Method `.astype()`"
   ]
  },
  {
   "cell_type": "markdown",
   "metadata": {
    "id": "RgDrOeFdsDFC"
   },
   "source": [
    "Let's create a copy of `household` so that the original data remains unchanged."
   ]
  },
  {
   "cell_type": "code",
   "execution_count": 8,
   "metadata": {
    "id": "LBAUXRj5sDFC",
    "outputId": "70941230-6c1e-45a0-b4d1-b39f6d00dcbb"
   },
   "outputs": [
    {
     "data": {
      "text/plain": [
       "receipt_id            int64\n",
       "receipts_item_id      int64\n",
       "purchase_time        object\n",
       "category             object\n",
       "sub_category         object\n",
       "format               object\n",
       "unit_price          float64\n",
       "discount              int64\n",
       "quantity              int64\n",
       "yearmonth            object\n",
       "dtype: object"
      ]
     },
     "execution_count": 8,
     "metadata": {},
     "output_type": "execute_result"
    }
   ],
   "source": [
    "df_1 = household.copy()\n",
    "df_1.dtypes"
   ]
  },
  {
   "cell_type": "markdown",
   "metadata": {
    "id": "JOx4BXySsDFC"
   },
   "source": [
    "Convert data type using `.astype()` method:"
   ]
  },
  {
   "cell_type": "code",
   "execution_count": 9,
   "metadata": {
    "id": "6xZDoQn1sDFC"
   },
   "outputs": [],
   "source": [
    "df_1['purchase_time'] = df_1['purchase_time'].astype('datetime64')"
   ]
  },
  {
   "cell_type": "code",
   "execution_count": 10,
   "metadata": {
    "id": "ujDQZnrNsDFD",
    "outputId": "99c66a1b-c38b-4402-f218-34de7fe7385d"
   },
   "outputs": [
    {
     "data": {
      "text/plain": [
       "receipt_id                   int64\n",
       "receipts_item_id             int64\n",
       "purchase_time       datetime64[ns]\n",
       "category                    object\n",
       "sub_category                object\n",
       "format                      object\n",
       "unit_price                 float64\n",
       "discount                     int64\n",
       "quantity                     int64\n",
       "yearmonth                   object\n",
       "dtype: object"
      ]
     },
     "execution_count": 10,
     "metadata": {},
     "output_type": "execute_result"
    }
   ],
   "source": [
    "df_1.dtypes"
   ]
  },
  {
   "cell_type": "markdown",
   "metadata": {
    "id": "umE4bXj2sDFD"
   },
   "source": [
    "⚠️ **Warning**: Don't forget to assign the result to its original column."
   ]
  },
  {
   "cell_type": "markdown",
   "metadata": {
    "id": "DIV-ZSxZsDFD"
   },
   "source": [
    "### Second: Parameter `parse_dates`\n",
    "\n",
    "Used during data loading, assuming we already know which columns are supposed to be `datetime64`."
   ]
  },
  {
   "cell_type": "code",
   "execution_count": 11,
   "metadata": {
    "id": "saQzDBtPsDFD",
    "outputId": "8c306013-b6e4-48e7-c0f8-3a590a12e4fe"
   },
   "outputs": [
    {
     "data": {
      "text/plain": [
       "receipt_id                   int64\n",
       "receipts_item_id             int64\n",
       "purchase_time       datetime64[ns]\n",
       "category                    object\n",
       "sub_category                object\n",
       "format                      object\n",
       "unit_price                 float64\n",
       "discount                     int64\n",
       "quantity                     int64\n",
       "yearmonth                   object\n",
       "dtype: object"
      ]
     },
     "execution_count": 11,
     "metadata": {},
     "output_type": "execute_result"
    }
   ],
   "source": [
    "df_2 = pd.read_csv('data_input/household.csv', parse_dates=['purchase_time'])\n",
    "df_2.dtypes"
   ]
  },
  {
   "cell_type": "code",
   "execution_count": 12,
   "metadata": {
    "id": "uefKyHdYsDFD",
    "outputId": "9fab0650-2a8b-4195-a19a-ada9ec260f5a"
   },
   "outputs": [
    {
     "data": {
      "text/plain": [
       "0   2018-07-22 21:19:00\n",
       "1   2018-07-15 16:17:00\n",
       "2   2018-07-15 12:12:00\n",
       "3   2018-07-24 08:27:00\n",
       "4   2018-07-26 11:28:00\n",
       "Name: purchase_time, dtype: datetime64[ns]"
      ]
     },
     "execution_count": 12,
     "metadata": {},
     "output_type": "execute_result"
    }
   ],
   "source": [
    "df_2['purchase_time'].head()\n",
    "# format datetime64 adalah yyyy-mm-dd hh:mm:ss"
   ]
  },
  {
   "cell_type": "markdown",
   "metadata": {
    "id": "Z3baBZPBsDFE"
   },
   "source": [
    "### Third: Method `pd.to_datetime()`"
   ]
  },
  {
   "cell_type": "code",
   "execution_count": 13,
   "metadata": {
    "id": "j8506_0WsDFE",
    "outputId": "44c4d577-48e0-4c35-a857-198b38b72db4"
   },
   "outputs": [
    {
     "data": {
      "text/plain": [
       "receipt_id            int64\n",
       "receipts_item_id      int64\n",
       "purchase_time        object\n",
       "category             object\n",
       "sub_category         object\n",
       "format               object\n",
       "unit_price          float64\n",
       "discount              int64\n",
       "quantity              int64\n",
       "yearmonth            object\n",
       "dtype: object"
      ]
     },
     "execution_count": 13,
     "metadata": {},
     "output_type": "execute_result"
    }
   ],
   "source": [
    "df_3 = household.copy()\n",
    "df_3.dtypes"
   ]
  },
  {
   "cell_type": "markdown",
   "metadata": {
    "id": "6Gad3GS0sDFE"
   },
   "source": [
    "Convert data type using `pd.to_datetime()` method:"
   ]
  },
  {
   "cell_type": "code",
   "execution_count": 14,
   "metadata": {
    "id": "VL28p53usDFE"
   },
   "outputs": [],
   "source": [
    "df_3['purchase_time'] = pd.to_datetime(df_3['purchase_time'])"
   ]
  },
  {
   "cell_type": "code",
   "execution_count": 15,
   "metadata": {
    "id": "mSbGgh08sDFE",
    "outputId": "c50e48a1-1311-4da4-daae-c5f0e1fb755e"
   },
   "outputs": [
    {
     "data": {
      "text/plain": [
       "receipt_id                   int64\n",
       "receipts_item_id             int64\n",
       "purchase_time       datetime64[ns]\n",
       "category                    object\n",
       "sub_category                object\n",
       "format                      object\n",
       "unit_price                 float64\n",
       "discount                     int64\n",
       "quantity                     int64\n",
       "yearmonth                   object\n",
       "dtype: object"
      ]
     },
     "execution_count": 15,
     "metadata": {},
     "output_type": "execute_result"
    }
   ],
   "source": [
    "df_3.dtypes"
   ]
  },
  {
   "cell_type": "markdown",
   "metadata": {
    "id": "_CAMdRpNsDFE"
   },
   "source": [
    "So, what is the difference between using `.astype()` and `pd.to_datetime()`?\n",
    "\n",
    "Unlike using `astype()`, with `pd.to_datetime()` we are allowed to specify **parameters** for the datetime conversion. Thus, provide more **flexibility**."
   ]
  },
  {
   "cell_type": "markdown",
   "metadata": {
    "id": "HLb-cJMxsDFF"
   },
   "source": [
    "Suppose we have a column which stores a daily sales data from end of January to the beginning of February:"
   ]
  },
  {
   "cell_type": "code",
   "execution_count": 16,
   "metadata": {
    "id": "BphiY68esDFF",
    "outputId": "42e0ff64-b280-4be7-9a14-e7116eb605dd"
   },
   "outputs": [
    {
     "data": {
      "text/plain": [
       "0    30-01-2021\n",
       "1    31-01-2021\n",
       "2    01-02-2021\n",
       "3    02-02-2021\n",
       "dtype: object"
      ]
     },
     "execution_count": 16,
     "metadata": {},
     "output_type": "execute_result"
    }
   ],
   "source": [
    "sales_date = pd.Series(['30-01-2021', '31-01-2021', '01-02-2021', '02-02-2021'])\n",
    "sales_date"
   ]
  },
  {
   "cell_type": "markdown",
   "metadata": {
    "id": "f5tjwHclsDFF"
   },
   "source": [
    "The example above shows how Indonesians usually write dates, using **dd-mm-yyyy** format. Let's see what will happen when we convert `sales_date` data type to `datetime64`:"
   ]
  },
  {
   "cell_type": "code",
   "execution_count": 17,
   "metadata": {
    "id": "-bjROOhfsDFF",
    "outputId": "f325f8e2-6c9a-4af1-9f8e-4f4f545c0be6"
   },
   "outputs": [
    {
     "data": {
      "text/plain": [
       "0   2021-01-30\n",
       "1   2021-01-31\n",
       "2   2021-01-02\n",
       "3   2021-02-02\n",
       "dtype: datetime64[ns]"
      ]
     },
     "execution_count": 17,
     "metadata": {},
     "output_type": "execute_result"
    }
   ],
   "source": [
    "sales_date.astype('datetime64') # yyyy-mm-dd"
   ]
  },
  {
   "cell_type": "markdown",
   "metadata": {
    "id": "nzi5z1k2sDFF"
   },
   "source": [
    "Take a look on the third observation (second index):\n",
    "\n",
    "- Expectation: 1 February\n",
    "- Reality: 2 January\n",
    "\n",
    "⚠️ **Warning**: By default, `pandas` will infer date as **month first** format."
   ]
  },
  {
   "cell_type": "markdown",
   "metadata": {
    "id": "uJ1FJT9QsDFF"
   },
   "source": [
    "#### Parameter `dayfirst`"
   ]
  },
  {
   "cell_type": "markdown",
   "metadata": {
    "id": "jzRR5Y3SsDFG"
   },
   "source": [
    "Solution 1: Use parameter `dayfirst=True` to specify that our `sales_date` starts with day, not month."
   ]
  },
  {
   "cell_type": "code",
   "execution_count": 18,
   "metadata": {
    "id": "XGvK6AF6sDFG",
    "outputId": "a81df364-f384-485e-dfc2-179c26970a24"
   },
   "outputs": [
    {
     "data": {
      "text/plain": [
       "0   2021-01-30\n",
       "1   2021-01-31\n",
       "2   2021-02-01\n",
       "3   2021-02-02\n",
       "dtype: datetime64[ns]"
      ]
     },
     "execution_count": 18,
     "metadata": {},
     "output_type": "execute_result"
    }
   ],
   "source": [
    "pd.to_datetime(sales_date, dayfirst=True)"
   ]
  },
  {
   "cell_type": "markdown",
   "metadata": {
    "id": "ku2tsfOssDFG"
   },
   "source": [
    "#### Parameter `format`"
   ]
  },
  {
   "cell_type": "markdown",
   "metadata": {
    "id": "nbrh0fnGsDFG"
   },
   "source": [
    "Solution 2: Use parameter `format` to specifically specify the date formatting of our `sales_date`."
   ]
  },
  {
   "cell_type": "code",
   "execution_count": 19,
   "metadata": {
    "id": "OYiYwN_5sDFG",
    "outputId": "1d96c8cf-2541-47fb-c768-f07a2c3b05a2"
   },
   "outputs": [
    {
     "data": {
      "text/plain": [
       "0   2021-01-30\n",
       "1   2021-01-31\n",
       "2   2021-02-01\n",
       "3   2021-02-02\n",
       "dtype: datetime64[ns]"
      ]
     },
     "execution_count": 19,
     "metadata": {},
     "output_type": "execute_result"
    }
   ],
   "source": [
    "pd.to_datetime(sales_date, format='%d-%m-%Y')"
   ]
  },
  {
   "cell_type": "markdown",
   "metadata": {
    "id": "u5-molMZsDFG"
   },
   "source": [
    "- `%d`: tanggal, dua digit\n",
    "- `%m`: bulan, dua digit\n",
    "- `%Y`: tahun, empat digit"
   ]
  },
  {
   "cell_type": "markdown",
   "metadata": {
    "id": "6OOB33n6sDFG"
   },
   "source": [
    "The specified `format` is called as Python's `strftime` directives.\n",
    "\n",
    "`strftime` means string from time, we can format the time in different desirable ways.\n",
    "\n",
    "[Documentation of `strftime`](https://strftime.org/)"
   ]
  },
  {
   "cell_type": "markdown",
   "metadata": {
    "id": "ldWX9vJUsDFH"
   },
   "source": [
    "Misalkan format tanggal yang kita miliki sekarang `dd/mm-yyyy` maka formatnya juga mengikuti: `format='%d/%m-%Y'`"
   ]
  },
  {
   "cell_type": "code",
   "execution_count": 20,
   "metadata": {
    "id": "RFcvBAX8sDFH",
    "outputId": "fa2d418a-40b6-420c-a414-76af12b77f73"
   },
   "outputs": [
    {
     "data": {
      "text/plain": [
       "0   2021-01-30\n",
       "1   2021-01-31\n",
       "2   2021-02-01\n",
       "3   2021-02-02\n",
       "dtype: datetime64[ns]"
      ]
     },
     "execution_count": 20,
     "metadata": {},
     "output_type": "execute_result"
    }
   ],
   "source": [
    "sales_date2 = pd.Series(['30/01-2021', '31/01-2021', '01/02-2021', '02/02-2021'])\n",
    "pd.to_datetime(sales_date2, format='%d/%m-%Y')"
   ]
  },
  {
   "cell_type": "markdown",
   "metadata": {
    "id": "yXx3eUNssDFH"
   },
   "source": [
    "Note:\n",
    "\n",
    "- Untuk `datetime64` formatnya selalu yyyy-mm-dd hh:mm:ss\n",
    "- `ns`: nanosecond"
   ]
  },
  {
   "cell_type": "markdown",
   "metadata": {
    "id": "_Cplh0oasDFH"
   },
   "source": [
    "Misalkan format tanggal dan bulan tanpa '0' melainkan langsung angkanya, maka formatnya sama saja:"
   ]
  },
  {
   "cell_type": "code",
   "execution_count": 21,
   "metadata": {
    "id": "bw1HYF2ysDFK",
    "outputId": "8a985a4c-c67a-4c13-c1e2-524c721963ae"
   },
   "outputs": [
    {
     "data": {
      "text/plain": [
       "0   2021-01-01\n",
       "1   2021-01-02\n",
       "2   2021-01-03\n",
       "3   2021-01-04\n",
       "dtype: datetime64[ns]"
      ]
     },
     "execution_count": 21,
     "metadata": {},
     "output_type": "execute_result"
    }
   ],
   "source": [
    "sales_date3 = pd.Series(['1-1-2021', '2-1-2021', '3-1-2021', '4-1-2021'])\n",
    "pd.to_datetime(sales_date3, format='%d-%m-%Y')"
   ]
  },
  {
   "cell_type": "markdown",
   "metadata": {
    "id": "J5AV8Lx1sDFL"
   },
   "source": [
    "## Extract Datetime Component"
   ]
  },
  {
   "cell_type": "markdown",
   "metadata": {
    "id": "Wh1z0ANMsDFL"
   },
   "source": [
    "The main reason we convert a column to `datetime64` date type because `pandas` has a number of machineries to work with `datetime` objects. These are convenient for when we need to extract datetime component.\n",
    "\n",
    "**Date component (numeric)**\n",
    "- `.dt.year`\n",
    "- `.dt.month`\n",
    "- `.dt.day`\n",
    "- `.dt.dayofweek`: index of day, Monday = 0 to Sunday = 6\n",
    "\n",
    "**Date component (string)**\n",
    "- `.dt.month_name()`\n",
    "- `.dt.day_name()`\n",
    "\n",
    "**Time component**\n",
    "- `.dt.hour`\n",
    "- `.dt.minute`\n",
    "- `.dt.second`\n",
    "\n",
    "[Documentation of datetime properties](https://pandas.pydata.org/pandas-docs/stable/reference/series.html#datetimelike-properties)"
   ]
  },
  {
   "cell_type": "markdown",
   "metadata": {
    "id": "uxYjLzCesDFL"
   },
   "source": [
    "Let's extract datetime component from `household`, but first let's convert `purchase_time` column to `datetime64`:"
   ]
  },
  {
   "cell_type": "code",
   "execution_count": 22,
   "metadata": {
    "id": "aF7N4bqosDFM",
    "outputId": "b0b74eea-b00a-4fc0-a563-a07801433ed5"
   },
   "outputs": [
    {
     "data": {
      "text/plain": [
       "0       2018-07-22 21:19:00\n",
       "1       2018-07-15 16:17:00\n",
       "2       2018-07-15 12:12:00\n",
       "3       2018-07-24 08:27:00\n",
       "4       2018-07-26 11:28:00\n",
       "                ...        \n",
       "71995   2017-12-27 09:20:00\n",
       "71996   2017-12-13 19:52:00\n",
       "71997   2017-12-27 08:03:00\n",
       "71998   2017-12-07 12:29:00\n",
       "71999   2017-12-19 18:59:00\n",
       "Name: purchase_time, Length: 72000, dtype: datetime64[ns]"
      ]
     },
     "execution_count": 22,
     "metadata": {},
     "output_type": "execute_result"
    }
   ],
   "source": [
    "# your code here\n",
    "household['purchase_time'] = household['purchase_time'].astype('datetime64')\n",
    "household['purchase_time']"
   ]
  },
  {
   "cell_type": "code",
   "execution_count": 23,
   "metadata": {
    "id": "eY9pE3XIsDFM",
    "outputId": "90909c7e-240d-4a59-abb7-ef3a99dbb3ec"
   },
   "outputs": [
    {
     "data": {
      "text/plain": [
       "receipt_id                   int64\n",
       "receipts_item_id             int64\n",
       "purchase_time       datetime64[ns]\n",
       "category                    object\n",
       "sub_category                object\n",
       "format                      object\n",
       "unit_price                 float64\n",
       "discount                     int64\n",
       "quantity                     int64\n",
       "yearmonth                   object\n",
       "dtype: object"
      ]
     },
     "execution_count": 23,
     "metadata": {},
     "output_type": "execute_result"
    }
   ],
   "source": [
    "household.dtypes"
   ]
  },
  {
   "cell_type": "markdown",
   "metadata": {
    "id": "3HitbXt2sDFM"
   },
   "source": [
    "Check the range of `purchase_time`:"
   ]
  },
  {
   "cell_type": "code",
   "execution_count": 24,
   "metadata": {
    "id": "EqDLYWM2sDFN",
    "outputId": "2094adf7-e1f1-44df-a485-1b33f86ee914",
    "scrolled": true
   },
   "outputs": [
    {
     "name": "stderr",
     "output_type": "stream",
     "text": [
      "<ipython-input-24-ae4a8afa6a47>:1: FutureWarning: Treating datetime data as categorical rather than numeric in `.describe` is deprecated and will be removed in a future version of pandas. Specify `datetime_is_numeric=True` to silence this warning and adopt the future behavior now.\n",
      "  household['purchase_time'].describe()\n"
     ]
    },
    {
     "data": {
      "text/plain": [
       "count                   72000\n",
       "unique                  62072\n",
       "top       2017-10-22 12:00:00\n",
       "freq                       12\n",
       "first     2017-10-01 00:00:00\n",
       "last      2018-09-30 23:57:00\n",
       "Name: purchase_time, dtype: object"
      ]
     },
     "execution_count": 24,
     "metadata": {},
     "output_type": "execute_result"
    }
   ],
   "source": [
    "household['purchase_time'].describe()"
   ]
  },
  {
   "cell_type": "markdown",
   "metadata": {
    "id": "huLTuJtusDFN"
   },
   "source": [
    "Note: `dtype: object` bukanlah tipe data dari kolom `purchase_time`, melainkan dari hasil `.describe()`"
   ]
  },
  {
   "cell_type": "markdown",
   "metadata": {
    "id": "yv3XQqEAsDFN"
   },
   "source": [
    "### Datetime attribute\n",
    "\n",
    "To extract datetime component in numeric value, we can use its **attribute** (without bracket)"
   ]
  },
  {
   "cell_type": "code",
   "execution_count": 25,
   "metadata": {
    "id": "pNXhq1_FsDFN",
    "outputId": "3dd59b8c-e37f-49e0-a7f8-c7f2bce4df3e"
   },
   "outputs": [
    {
     "data": {
      "text/plain": [
       "0       2018-07-22 21:19:00\n",
       "1       2018-07-15 16:17:00\n",
       "2       2018-07-15 12:12:00\n",
       "3       2018-07-24 08:27:00\n",
       "4       2018-07-26 11:28:00\n",
       "                ...        \n",
       "71995   2017-12-27 09:20:00\n",
       "71996   2017-12-13 19:52:00\n",
       "71997   2017-12-27 08:03:00\n",
       "71998   2017-12-07 12:29:00\n",
       "71999   2017-12-19 18:59:00\n",
       "Name: purchase_time, Length: 72000, dtype: datetime64[ns]"
      ]
     },
     "execution_count": 25,
     "metadata": {},
     "output_type": "execute_result"
    }
   ],
   "source": [
    "household['purchase_time']"
   ]
  },
  {
   "cell_type": "code",
   "execution_count": 26,
   "metadata": {
    "id": "Td80j_SusDFN",
    "outputId": "bbc6db49-2932-4976-adff-1c35fb9f5bd5"
   },
   "outputs": [
    {
     "data": {
      "text/plain": [
       "0         7\n",
       "1         7\n",
       "2         7\n",
       "3         7\n",
       "4         7\n",
       "         ..\n",
       "71995    12\n",
       "71996    12\n",
       "71997    12\n",
       "71998    12\n",
       "71999    12\n",
       "Name: purchase_time, Length: 72000, dtype: int64"
      ]
     },
     "execution_count": 26,
     "metadata": {},
     "output_type": "execute_result"
    }
   ],
   "source": [
    "household['purchase_time'].dt.month"
   ]
  },
  {
   "cell_type": "code",
   "execution_count": 27,
   "metadata": {
    "id": "SfRu6MzcsDFO",
    "outputId": "c28e58db-ff98-4c24-b07f-b530ff2342c1"
   },
   "outputs": [
    {
     "data": {
      "text/plain": [
       "0        21\n",
       "1        16\n",
       "2        12\n",
       "3         8\n",
       "4        11\n",
       "         ..\n",
       "71995     9\n",
       "71996    19\n",
       "71997     8\n",
       "71998    12\n",
       "71999    18\n",
       "Name: purchase_time, Length: 72000, dtype: int64"
      ]
     },
     "execution_count": 27,
     "metadata": {},
     "output_type": "execute_result"
    }
   ],
   "source": [
    "household['purchase_time'].dt.hour"
   ]
  },
  {
   "cell_type": "markdown",
   "metadata": {
    "id": "dAdEzt4jsDFO"
   },
   "source": [
    "### Datetime method\n",
    "\n",
    "To extract name (text) from datetime component, we can use its **method** (with bracket)"
   ]
  },
  {
   "cell_type": "code",
   "execution_count": 28,
   "metadata": {
    "id": "NdOTwQTUsDFO",
    "outputId": "5e43e179-9107-467a-ae55-1f1da28f60fa"
   },
   "outputs": [
    {
     "data": {
      "text/plain": [
       "0           Sunday\n",
       "1           Sunday\n",
       "2           Sunday\n",
       "3          Tuesday\n",
       "4         Thursday\n",
       "           ...    \n",
       "71995    Wednesday\n",
       "71996    Wednesday\n",
       "71997    Wednesday\n",
       "71998     Thursday\n",
       "71999      Tuesday\n",
       "Name: purchase_time, Length: 72000, dtype: object"
      ]
     },
     "execution_count": 28,
     "metadata": {},
     "output_type": "execute_result"
    }
   ],
   "source": [
    "household['purchase_time'].dt.day_name()"
   ]
  },
  {
   "cell_type": "code",
   "execution_count": 29,
   "metadata": {
    "id": "7SUHRwjJsDFO",
    "outputId": "33413268-a5c9-4031-8892-dbd4272acaba"
   },
   "outputs": [
    {
     "data": {
      "text/plain": [
       "0            July\n",
       "1            July\n",
       "2            July\n",
       "3            July\n",
       "4            July\n",
       "           ...   \n",
       "71995    December\n",
       "71996    December\n",
       "71997    December\n",
       "71998    December\n",
       "71999    December\n",
       "Name: purchase_time, Length: 72000, dtype: object"
      ]
     },
     "execution_count": 29,
     "metadata": {},
     "output_type": "execute_result"
    }
   ],
   "source": [
    "household['purchase_time'].dt.month_name()"
   ]
  },
  {
   "cell_type": "markdown",
   "metadata": {
    "id": "f9Yo05cEsDFO"
   },
   "source": [
    "## Datetime Transformation"
   ]
  },
  {
   "cell_type": "markdown",
   "metadata": {
    "id": "ucCmJjU6sDFP"
   },
   "source": [
    "Supposed we want to transform the existing `datetime64` column into values of periods, we can use the `.to_period()` method:\n",
    "\n",
    "- `.dt.to_period('D')`: Daily (yyyy-mm-dd)\n",
    "- `.dt.to_period('W')`: Weekly (Monday to Sunday period)\n",
    "- `.dt.to_period('M')`: Monthly (year-month)\n",
    "- `.dt.to_period('Q')`: Quarterly (year-quarter)\n",
    "\n",
    "[Documentation of offset aliases](https://pandas.pydata.org/pandas-docs/stable/user_guide/timeseries.html#timeseries-offset-aliases)"
   ]
  },
  {
   "cell_type": "code",
   "execution_count": 30,
   "metadata": {
    "id": "wegO60ufsDFP",
    "outputId": "c6bde730-cbe8-4455-fb58-b25cb0a24b0d"
   },
   "outputs": [
    {
     "data": {
      "text/plain": [
       "0        2018-07-22\n",
       "1        2018-07-15\n",
       "2        2018-07-15\n",
       "3        2018-07-24\n",
       "4        2018-07-26\n",
       "            ...    \n",
       "71995    2017-12-27\n",
       "71996    2017-12-13\n",
       "71997    2017-12-27\n",
       "71998    2017-12-07\n",
       "71999    2017-12-19\n",
       "Name: purchase_time, Length: 72000, dtype: period[D]"
      ]
     },
     "execution_count": 30,
     "metadata": {},
     "output_type": "execute_result"
    }
   ],
   "source": [
    "household['purchase_time'].dt.to_period('D') # Daily"
   ]
  },
  {
   "cell_type": "code",
   "execution_count": 31,
   "metadata": {
    "id": "r_YFE3smsDFP",
    "outputId": "7775346a-f57c-40c2-a805-707bb5106683"
   },
   "outputs": [
    {
     "data": {
      "text/plain": [
       "0        2018-07-16/2018-07-22\n",
       "1        2018-07-09/2018-07-15\n",
       "2        2018-07-09/2018-07-15\n",
       "3        2018-07-23/2018-07-29\n",
       "4        2018-07-23/2018-07-29\n",
       "                 ...          \n",
       "71995    2017-12-25/2017-12-31\n",
       "71996    2017-12-11/2017-12-17\n",
       "71997    2017-12-25/2017-12-31\n",
       "71998    2017-12-04/2017-12-10\n",
       "71999    2017-12-18/2017-12-24\n",
       "Name: purchase_time, Length: 72000, dtype: period[W-SUN]"
      ]
     },
     "execution_count": 31,
     "metadata": {},
     "output_type": "execute_result"
    }
   ],
   "source": [
    "household['purchase_time'].dt.to_period('W') # Weekly: Monday/Sunday"
   ]
  },
  {
   "cell_type": "code",
   "execution_count": 32,
   "metadata": {
    "id": "2ZhJPSsjsDFP",
    "outputId": "a2a5bf5f-3432-4ee7-dc88-d36fa52da2c2"
   },
   "outputs": [
    {
     "data": {
      "text/plain": [
       "0        2018-07-22/2018-07-28\n",
       "1        2018-07-15/2018-07-21\n",
       "2        2018-07-15/2018-07-21\n",
       "3        2018-07-22/2018-07-28\n",
       "4        2018-07-22/2018-07-28\n",
       "                 ...          \n",
       "71995    2017-12-24/2017-12-30\n",
       "71996    2017-12-10/2017-12-16\n",
       "71997    2017-12-24/2017-12-30\n",
       "71998    2017-12-03/2017-12-09\n",
       "71999    2017-12-17/2017-12-23\n",
       "Name: purchase_time, Length: 72000, dtype: period[W-SAT]"
      ]
     },
     "execution_count": 32,
     "metadata": {},
     "output_type": "execute_result"
    }
   ],
   "source": [
    "household['purchase_time'].dt.to_period('W-SAT') # Weekly Saturday: Sunday/Saturday"
   ]
  },
  {
   "cell_type": "code",
   "execution_count": 33,
   "metadata": {
    "id": "zTpih9f9sDFP",
    "outputId": "107a42fb-c18e-4fd8-f584-44df26e8b145"
   },
   "outputs": [
    {
     "data": {
      "text/plain": [
       "0        2018-07\n",
       "1        2018-07\n",
       "2        2018-07\n",
       "3        2018-07\n",
       "4        2018-07\n",
       "          ...   \n",
       "71995    2017-12\n",
       "71996    2017-12\n",
       "71997    2017-12\n",
       "71998    2017-12\n",
       "71999    2017-12\n",
       "Name: purchase_time, Length: 72000, dtype: period[M]"
      ]
     },
     "execution_count": 33,
     "metadata": {},
     "output_type": "execute_result"
    }
   ],
   "source": [
    "household['purchase_time'].dt.to_period('M') # Monthly: year-month"
   ]
  },
  {
   "cell_type": "code",
   "execution_count": 34,
   "metadata": {
    "id": "_5N9654JsDFQ",
    "outputId": "4c7e5c90-2beb-4302-e16e-10f6d6cfdb13"
   },
   "outputs": [
    {
     "data": {
      "text/plain": [
       "0        2018Q3\n",
       "1        2018Q3\n",
       "2        2018Q3\n",
       "3        2018Q3\n",
       "4        2018Q3\n",
       "          ...  \n",
       "71995    2017Q4\n",
       "71996    2017Q4\n",
       "71997    2017Q4\n",
       "71998    2017Q4\n",
       "71999    2017Q4\n",
       "Name: purchase_time, Length: 72000, dtype: period[Q-DEC]"
      ]
     },
     "execution_count": 34,
     "metadata": {},
     "output_type": "execute_result"
    }
   ],
   "source": [
    "household['purchase_time'].dt.to_period('Q') # Quarterly: yearQ[1/2/3/4]"
   ]
  },
  {
   "cell_type": "markdown",
   "metadata": {
    "id": "tf87vXKbsDFQ"
   },
   "source": [
    "**In class Question 1**: Bagaimana untuk menggabungkan beberapa kolom komponen tanggal menjadi satu?\n",
    "\n",
    "Misal pakai data `companies.csv` kita gabungkan kolom `Month`, `Day`, dan `Year`:"
   ]
  },
  {
   "cell_type": "code",
   "execution_count": 35,
   "metadata": {
    "id": "gDv8LqcQsDFQ",
    "outputId": "7929025d-d796-4d0b-ae34-102f400f8f42"
   },
   "outputs": [
    {
     "data": {
      "text/html": [
       "<div>\n",
       "<style scoped>\n",
       "    .dataframe tbody tr th:only-of-type {\n",
       "        vertical-align: middle;\n",
       "    }\n",
       "\n",
       "    .dataframe tbody tr th {\n",
       "        vertical-align: top;\n",
       "    }\n",
       "\n",
       "    .dataframe thead th {\n",
       "        text-align: right;\n",
       "    }\n",
       "</style>\n",
       "<table border=\"1\" class=\"dataframe\">\n",
       "  <thead>\n",
       "    <tr style=\"text-align: right;\">\n",
       "      <th></th>\n",
       "      <th>ID</th>\n",
       "      <th>Customer Name</th>\n",
       "      <th>Consulting Sales</th>\n",
       "      <th>Software Sales</th>\n",
       "      <th>Forecasted Growth</th>\n",
       "      <th>Returns</th>\n",
       "      <th>Month</th>\n",
       "      <th>Day</th>\n",
       "      <th>Year</th>\n",
       "      <th>Location</th>\n",
       "      <th>Account</th>\n",
       "    </tr>\n",
       "  </thead>\n",
       "  <tbody>\n",
       "    <tr>\n",
       "      <th>0</th>\n",
       "      <td>30940</td>\n",
       "      <td>New Media Group</td>\n",
       "      <td>IDR7125000</td>\n",
       "      <td>IDR5500000</td>\n",
       "      <td>30.00%</td>\n",
       "      <td>IDR1,500,000</td>\n",
       "      <td>1</td>\n",
       "      <td>10</td>\n",
       "      <td>2017</td>\n",
       "      <td>Jakarta</td>\n",
       "      <td>Enterprise</td>\n",
       "    </tr>\n",
       "    <tr>\n",
       "      <th>1</th>\n",
       "      <td>82391</td>\n",
       "      <td>Li and Partners</td>\n",
       "      <td>IDR420000</td>\n",
       "      <td>IDR820000</td>\n",
       "      <td>10.00%</td>\n",
       "      <td>IDR400,000</td>\n",
       "      <td>6</td>\n",
       "      <td>15</td>\n",
       "      <td>2016</td>\n",
       "      <td>Jakarta</td>\n",
       "      <td>Startup</td>\n",
       "    </tr>\n",
       "    <tr>\n",
       "      <th>2</th>\n",
       "      <td>18374</td>\n",
       "      <td>PT. Kreasi Metrik Solusi</td>\n",
       "      <td>0</td>\n",
       "      <td>IDR550403</td>\n",
       "      <td>25.00%</td>\n",
       "      <td>0</td>\n",
       "      <td>3</td>\n",
       "      <td>29</td>\n",
       "      <td>2012</td>\n",
       "      <td>Surabaya</td>\n",
       "      <td>Enterprise</td>\n",
       "    </tr>\n",
       "    <tr>\n",
       "      <th>3</th>\n",
       "      <td>57531</td>\n",
       "      <td>PT. Algoritma Data Indonesia</td>\n",
       "      <td>IDR850000</td>\n",
       "      <td>IDR395500</td>\n",
       "      <td>4.00%</td>\n",
       "      <td>0</td>\n",
       "      <td>7</td>\n",
       "      <td>17</td>\n",
       "      <td>2017</td>\n",
       "      <td>Jakarta</td>\n",
       "      <td>Startup</td>\n",
       "    </tr>\n",
       "    <tr>\n",
       "      <th>4</th>\n",
       "      <td>19002</td>\n",
       "      <td>Palembang Konsultansi</td>\n",
       "      <td>IDR2115000</td>\n",
       "      <td>0</td>\n",
       "      <td>-15.00%</td>\n",
       "      <td>0</td>\n",
       "      <td>2</td>\n",
       "      <td>24</td>\n",
       "      <td>2018</td>\n",
       "      <td>Bandung</td>\n",
       "      <td>Startup</td>\n",
       "    </tr>\n",
       "    <tr>\n",
       "      <th>5</th>\n",
       "      <td>31142</td>\n",
       "      <td>PT. Surya Citra Manajemen</td>\n",
       "      <td>IDR960000</td>\n",
       "      <td>IDR503000</td>\n",
       "      <td>19.00%</td>\n",
       "      <td>0</td>\n",
       "      <td>1</td>\n",
       "      <td>19</td>\n",
       "      <td>2019</td>\n",
       "      <td>Jakarta</td>\n",
       "      <td>Enterprise</td>\n",
       "    </tr>\n",
       "  </tbody>\n",
       "</table>\n",
       "</div>"
      ],
      "text/plain": [
       "      ID                 Customer Name Consulting Sales Software Sales  \\\n",
       "0  30940               New Media Group       IDR7125000     IDR5500000   \n",
       "1  82391               Li and Partners        IDR420000      IDR820000   \n",
       "2  18374      PT. Kreasi Metrik Solusi                0      IDR550403   \n",
       "3  57531  PT. Algoritma Data Indonesia        IDR850000      IDR395500   \n",
       "4  19002         Palembang Konsultansi       IDR2115000              0   \n",
       "5  31142     PT. Surya Citra Manajemen        IDR960000      IDR503000   \n",
       "\n",
       "  Forecasted Growth       Returns  Month  Day  Year  Location     Account  \n",
       "0            30.00%  IDR1,500,000      1   10  2017   Jakarta  Enterprise  \n",
       "1            10.00%    IDR400,000      6   15  2016   Jakarta     Startup  \n",
       "2            25.00%             0      3   29  2012  Surabaya  Enterprise  \n",
       "3             4.00%             0      7   17  2017   Jakarta     Startup  \n",
       "4           -15.00%             0      2   24  2018   Bandung     Startup  \n",
       "5            19.00%             0      1   19  2019   Jakarta  Enterprise  "
      ]
     },
     "execution_count": 35,
     "metadata": {},
     "output_type": "execute_result"
    }
   ],
   "source": [
    "companies = pd.read_csv(\"data_input/companies.csv\")\n",
    "companies"
   ]
  },
  {
   "cell_type": "markdown",
   "metadata": {
    "id": "5y5ovCllsDFQ"
   },
   "source": [
    "Tahapan:\n",
    "\n",
    "1. Gabungkan dengan operasi `+`, namun pastikan tipenya **str** (string) agar dapat digabungkan\n",
    "2. Ubah menjadi tipe data `datetime64`\n",
    "3. Kemudian dapat diekstrak komponen datetime nya"
   ]
  },
  {
   "cell_type": "code",
   "execution_count": 36,
   "metadata": {
    "id": "j2EcRNUNsDFQ",
    "outputId": "46abcdd1-7abd-4b41-c662-7efd8b613b92"
   },
   "outputs": [
    {
     "data": {
      "text/plain": [
       "0      Tuesday\n",
       "1    Wednesday\n",
       "2     Thursday\n",
       "3       Monday\n",
       "4     Saturday\n",
       "5     Saturday\n",
       "Name: date, dtype: object"
      ]
     },
     "execution_count": 36,
     "metadata": {},
     "output_type": "execute_result"
    }
   ],
   "source": [
    "companies['date'] = companies['Month'].astype(str) + '-' + companies['Day'].astype(str) + '-' + companies['Year'].astype(str)\n",
    "companies['date'] = companies['date'].astype('datetime64')\n",
    "companies['date'].dt.day_name()"
   ]
  },
  {
   "cell_type": "markdown",
   "metadata": {
    "id": "zJHeFEBtsDFR"
   },
   "source": [
    "**In class Question 2**: Apakah str = object?\n",
    "\n",
    "Tipe data object umumnya adalah string (kalimat) pada file text/csv. Object tidak selalu string, bahkan kita dapat meletakkan DataFrame di dalam DataFrame, dan DataFrame yang ada di dalam dikenal sebagai object. Namun hal ini jarang dilakukan dalam melakukan analisis data."
   ]
  },
  {
   "cell_type": "code",
   "execution_count": 37,
   "metadata": {
    "id": "19-MVQmksDFR",
    "outputId": "3f754e1f-1ca3-406b-9942-9d4d01a62983"
   },
   "outputs": [
    {
     "data": {
      "text/html": [
       "<div>\n",
       "<style scoped>\n",
       "    .dataframe tbody tr th:only-of-type {\n",
       "        vertical-align: middle;\n",
       "    }\n",
       "\n",
       "    .dataframe tbody tr th {\n",
       "        vertical-align: top;\n",
       "    }\n",
       "\n",
       "    .dataframe thead th {\n",
       "        text-align: right;\n",
       "    }\n",
       "</style>\n",
       "<table border=\"1\" class=\"dataframe\">\n",
       "  <thead>\n",
       "    <tr style=\"text-align: right;\">\n",
       "      <th></th>\n",
       "      <th>kolom1</th>\n",
       "    </tr>\n",
       "  </thead>\n",
       "  <tbody>\n",
       "    <tr>\n",
       "      <th>0</th>\n",
       "      <td>kolom1 kolom2\n",
       "0       1      a\n",
       "1       2   ...</td>\n",
       "    </tr>\n",
       "    <tr>\n",
       "      <th>1</th>\n",
       "      <td>kolom1 kolom2\n",
       "0       1      a\n",
       "1       2   ...</td>\n",
       "    </tr>\n",
       "  </tbody>\n",
       "</table>\n",
       "</div>"
      ],
      "text/plain": [
       "                                              kolom1\n",
       "0     kolom1 kolom2\n",
       "0       1      a\n",
       "1       2   ...\n",
       "1     kolom1 kolom2\n",
       "0       1      a\n",
       "1       2   ..."
      ]
     },
     "execution_count": 37,
     "metadata": {},
     "output_type": "execute_result"
    }
   ],
   "source": [
    "tabel1 = pd.DataFrame({'kolom1': [1, 2, 3],\n",
    "                       'kolom2': ['a', 'b', 'c']})\n",
    "tabel2 = tabel1.copy()\n",
    "\n",
    "tabel = pd.DataFrame({'kolom1': [tabel1, tabel2]})\n",
    "tabel"
   ]
  },
  {
   "cell_type": "code",
   "execution_count": 38,
   "metadata": {
    "id": "PRVmvrQWsDFR",
    "outputId": "1eb3b227-c314-4895-843a-f1b4629a97c2"
   },
   "outputs": [
    {
     "data": {
      "text/plain": [
       "kolom1    object\n",
       "dtype: object"
      ]
     },
     "execution_count": 38,
     "metadata": {},
     "output_type": "execute_result"
    }
   ],
   "source": [
    "tabel.dtypes"
   ]
  },
  {
   "cell_type": "markdown",
   "metadata": {
    "id": "zrU-APqdsDFR"
   },
   "source": [
    "## Knowledge Check: Datetime\n",
    "\n",
    "_Estimated time required: 15 minutes_"
   ]
  },
  {
   "cell_type": "markdown",
   "metadata": {
    "id": "KmnucgZvsDFR"
   },
   "source": [
    "1. In the following cell, start again by reading in the `household.csv` dataset.\n",
    "2. Make sure the `purchase_time` column has converted as a datetime object.\n",
    "3. Use `x.dt.day_name()`, assuming `x` is a datetime object to get the day of week. Assign this to a new column in your `household` Data Frame, name it `weekday`\n",
    "4. The `yearmonth` column stores the information of year and month of the `purchase_time`. Using `dt.to_period()`, how will you recreate the column if you needed the same information?\n",
    "5. Print the first 5 rows of your data to verify that your preprocessing steps are correct"
   ]
  },
  {
   "cell_type": "markdown",
   "metadata": {
    "id": "HrFIy4zUsDFS"
   },
   "source": [
    "Alternatif untuk nomor 2:\n",
    "\n",
    "- Menggunakan `household['purchase_time'].astype('datetime64')`\n",
    "- Menambahkan parameter `parse_dates = ['purchase_time']` di dalam `pd.read_csv()`"
   ]
  },
  {
   "cell_type": "code",
   "execution_count": 39,
   "metadata": {
    "id": "15mhNUfdsDFS",
    "outputId": "b75fce4c-2cad-41d4-84a7-a9a1163b8249",
    "scrolled": true
   },
   "outputs": [
    {
     "data": {
      "text/html": [
       "<div>\n",
       "<style scoped>\n",
       "    .dataframe tbody tr th:only-of-type {\n",
       "        vertical-align: middle;\n",
       "    }\n",
       "\n",
       "    .dataframe tbody tr th {\n",
       "        vertical-align: top;\n",
       "    }\n",
       "\n",
       "    .dataframe thead th {\n",
       "        text-align: right;\n",
       "    }\n",
       "</style>\n",
       "<table border=\"1\" class=\"dataframe\">\n",
       "  <thead>\n",
       "    <tr style=\"text-align: right;\">\n",
       "      <th></th>\n",
       "      <th>receipt_id</th>\n",
       "      <th>receipts_item_id</th>\n",
       "      <th>purchase_time</th>\n",
       "      <th>category</th>\n",
       "      <th>sub_category</th>\n",
       "      <th>format</th>\n",
       "      <th>unit_price</th>\n",
       "      <th>discount</th>\n",
       "      <th>quantity</th>\n",
       "      <th>yearmonth</th>\n",
       "      <th>weekday</th>\n",
       "      <th>yearmonth_recreate</th>\n",
       "    </tr>\n",
       "  </thead>\n",
       "  <tbody>\n",
       "    <tr>\n",
       "      <th>0</th>\n",
       "      <td>9622257</td>\n",
       "      <td>32369294</td>\n",
       "      <td>2018-07-22 21:19:00</td>\n",
       "      <td>Rice</td>\n",
       "      <td>Rice</td>\n",
       "      <td>supermarket</td>\n",
       "      <td>128000.0</td>\n",
       "      <td>0</td>\n",
       "      <td>1</td>\n",
       "      <td>2018-07</td>\n",
       "      <td>Sunday</td>\n",
       "      <td>2018-07</td>\n",
       "    </tr>\n",
       "    <tr>\n",
       "      <th>1</th>\n",
       "      <td>9446359</td>\n",
       "      <td>31885876</td>\n",
       "      <td>2018-07-15 16:17:00</td>\n",
       "      <td>Rice</td>\n",
       "      <td>Rice</td>\n",
       "      <td>minimarket</td>\n",
       "      <td>102750.0</td>\n",
       "      <td>0</td>\n",
       "      <td>1</td>\n",
       "      <td>2018-07</td>\n",
       "      <td>Sunday</td>\n",
       "      <td>2018-07</td>\n",
       "    </tr>\n",
       "    <tr>\n",
       "      <th>2</th>\n",
       "      <td>9470290</td>\n",
       "      <td>31930241</td>\n",
       "      <td>2018-07-15 12:12:00</td>\n",
       "      <td>Rice</td>\n",
       "      <td>Rice</td>\n",
       "      <td>supermarket</td>\n",
       "      <td>64000.0</td>\n",
       "      <td>0</td>\n",
       "      <td>3</td>\n",
       "      <td>2018-07</td>\n",
       "      <td>Sunday</td>\n",
       "      <td>2018-07</td>\n",
       "    </tr>\n",
       "    <tr>\n",
       "      <th>3</th>\n",
       "      <td>9643416</td>\n",
       "      <td>32418582</td>\n",
       "      <td>2018-07-24 08:27:00</td>\n",
       "      <td>Rice</td>\n",
       "      <td>Rice</td>\n",
       "      <td>minimarket</td>\n",
       "      <td>65000.0</td>\n",
       "      <td>0</td>\n",
       "      <td>1</td>\n",
       "      <td>2018-07</td>\n",
       "      <td>Tuesday</td>\n",
       "      <td>2018-07</td>\n",
       "    </tr>\n",
       "    <tr>\n",
       "      <th>4</th>\n",
       "      <td>9692093</td>\n",
       "      <td>32561236</td>\n",
       "      <td>2018-07-26 11:28:00</td>\n",
       "      <td>Rice</td>\n",
       "      <td>Rice</td>\n",
       "      <td>supermarket</td>\n",
       "      <td>124500.0</td>\n",
       "      <td>0</td>\n",
       "      <td>1</td>\n",
       "      <td>2018-07</td>\n",
       "      <td>Thursday</td>\n",
       "      <td>2018-07</td>\n",
       "    </tr>\n",
       "  </tbody>\n",
       "</table>\n",
       "</div>"
      ],
      "text/plain": [
       "   receipt_id  receipts_item_id       purchase_time category sub_category  \\\n",
       "0     9622257          32369294 2018-07-22 21:19:00     Rice         Rice   \n",
       "1     9446359          31885876 2018-07-15 16:17:00     Rice         Rice   \n",
       "2     9470290          31930241 2018-07-15 12:12:00     Rice         Rice   \n",
       "3     9643416          32418582 2018-07-24 08:27:00     Rice         Rice   \n",
       "4     9692093          32561236 2018-07-26 11:28:00     Rice         Rice   \n",
       "\n",
       "        format  unit_price  discount  quantity yearmonth   weekday  \\\n",
       "0  supermarket    128000.0         0         1   2018-07    Sunday   \n",
       "1   minimarket    102750.0         0         1   2018-07    Sunday   \n",
       "2  supermarket     64000.0         0         3   2018-07    Sunday   \n",
       "3   minimarket     65000.0         0         1   2018-07   Tuesday   \n",
       "4  supermarket    124500.0         0         1   2018-07  Thursday   \n",
       "\n",
       "  yearmonth_recreate  \n",
       "0            2018-07  \n",
       "1            2018-07  \n",
       "2            2018-07  \n",
       "3            2018-07  \n",
       "4            2018-07  "
      ]
     },
     "execution_count": 39,
     "metadata": {},
     "output_type": "execute_result"
    }
   ],
   "source": [
    "# your code here\n",
    "household = pd.read_csv('data_input/household.csv')\n",
    "household['purchase_time'] = pd.to_datetime(household['purchase_time'])\n",
    "household['weekday'] = household['purchase_time'].dt.day_name()\n",
    "household['yearmonth_recreate'] = household['purchase_time'].dt.to_period('M') # Monthly: year-month\n",
    "household.head()"
   ]
  },
  {
   "cell_type": "markdown",
   "metadata": {
    "id": "wqAI7DzlsDFS"
   },
   "source": [
    "💭 **Bonus challenge:**\n",
    "\n",
    "Suppose that the estimated delivery time will take exactly 2 days after the product is purchased. How do we obtain the result by using `purchase_time` column?"
   ]
  },
  {
   "cell_type": "code",
   "execution_count": 40,
   "metadata": {
    "id": "z0kf3ISxsDFS",
    "outputId": "f2cf33aa-0354-48d0-b6a3-edf32809c4ce"
   },
   "outputs": [
    {
     "data": {
      "text/plain": [
       "0       2018-07-22 21:19:00\n",
       "1       2018-07-15 16:17:00\n",
       "2       2018-07-15 12:12:00\n",
       "3       2018-07-24 08:27:00\n",
       "4       2018-07-26 11:28:00\n",
       "                ...        \n",
       "71995   2017-12-27 09:20:00\n",
       "71996   2017-12-13 19:52:00\n",
       "71997   2017-12-27 08:03:00\n",
       "71998   2017-12-07 12:29:00\n",
       "71999   2017-12-19 18:59:00\n",
       "Name: purchase_time, Length: 72000, dtype: datetime64[ns]"
      ]
     },
     "execution_count": 40,
     "metadata": {},
     "output_type": "execute_result"
    }
   ],
   "source": [
    "household['purchase_time']"
   ]
  },
  {
   "cell_type": "code",
   "execution_count": 41,
   "metadata": {
    "id": "KoPOUSI7sDFS",
    "outputId": "1769c87c-0ba1-444e-9cf8-a99f8ba2a993"
   },
   "outputs": [
    {
     "data": {
      "text/plain": [
       "0       2018-07-24 21:19:00\n",
       "1       2018-07-17 16:17:00\n",
       "2       2018-07-17 12:12:00\n",
       "3       2018-07-26 08:27:00\n",
       "4       2018-07-28 11:28:00\n",
       "                ...        \n",
       "71995   2017-12-29 09:20:00\n",
       "71996   2017-12-15 19:52:00\n",
       "71997   2017-12-29 08:03:00\n",
       "71998   2017-12-09 12:29:00\n",
       "71999   2017-12-21 18:59:00\n",
       "Name: purchase_time, Length: 72000, dtype: datetime64[ns]"
      ]
     },
     "execution_count": 41,
     "metadata": {},
     "output_type": "execute_result"
    }
   ],
   "source": [
    "# Pak Prasetyo, Pak Zainul, Bu Rahmah\n",
    "from datetime import timedelta\n",
    "household['purchase_time'] + timedelta(days=2)"
   ]
  },
  {
   "cell_type": "code",
   "execution_count": 42,
   "metadata": {
    "id": "zzjyMcccsDFT",
    "outputId": "cd8d143d-4edc-40ab-ff41-e23291e95b28"
   },
   "outputs": [
    {
     "data": {
      "text/plain": [
       "0       2018-07-24 21:19:00\n",
       "1       2018-07-17 16:17:00\n",
       "2       2018-07-17 12:12:00\n",
       "3       2018-07-26 08:27:00\n",
       "4       2018-07-28 11:28:00\n",
       "                ...        \n",
       "71995   2017-12-29 09:20:00\n",
       "71996   2017-12-15 19:52:00\n",
       "71997   2017-12-29 08:03:00\n",
       "71998   2017-12-09 12:29:00\n",
       "71999   2017-12-21 18:59:00\n",
       "Name: purchase_time, Length: 72000, dtype: datetime64[ns]"
      ]
     },
     "execution_count": 42,
     "metadata": {},
     "output_type": "execute_result"
    }
   ],
   "source": [
    "# Pak Privera\n",
    "household['purchase_time'] + pd.Timedelta(2, 'D') # 2 Days"
   ]
  },
  {
   "cell_type": "code",
   "execution_count": 43,
   "metadata": {
    "id": "vWOV1MxUsDFT",
    "outputId": "d81fa3c3-713f-48ea-f5ba-72b9ca8728ea"
   },
   "outputs": [
    {
     "data": {
      "text/plain": [
       "0        2018-07-24\n",
       "1        2018-07-17\n",
       "2        2018-07-17\n",
       "3        2018-07-26\n",
       "4        2018-07-28\n",
       "            ...    \n",
       "71995    2017-12-29\n",
       "71996    2017-12-15\n",
       "71997    2017-12-29\n",
       "71998    2017-12-09\n",
       "71999    2017-12-21\n",
       "Name: purchase_time, Length: 72000, dtype: period[D]"
      ]
     },
     "execution_count": 43,
     "metadata": {},
     "output_type": "execute_result"
    }
   ],
   "source": [
    "# Pak Endi: bisa, tetapi untuk data timenya hilang\n",
    "household['purchase_time'].dt.to_period('D') + 2"
   ]
  },
  {
   "cell_type": "markdown",
   "metadata": {
    "id": "RRUr_fcBsDFT"
   },
   "source": [
    "## Timedelta Object"
   ]
  },
  {
   "cell_type": "markdown",
   "metadata": {
    "id": "INVj_64csDFT"
   },
   "source": [
    "`pandas` has `.Timedelta()` method which represents a duration, the difference between two dates or times.\n",
    "\n",
    "[Documentation of Timedelta](https://pandas.pydata.org/pandas-docs/stable/reference/api/pandas.Timedelta.html#pandas-timedelta)"
   ]
  },
  {
   "cell_type": "code",
   "execution_count": 44,
   "metadata": {
    "id": "BKrvFv1GsDFT",
    "outputId": "df70429c-2613-4048-9b9c-3e305983cf9a"
   },
   "outputs": [
    {
     "data": {
      "text/plain": [
       "0   3 days 14:00:00\n",
       "1   5 days 15:00:00\n",
       "2   5 days 16:00:00\n",
       "dtype: timedelta64[ns]"
      ]
     },
     "execution_count": 44,
     "metadata": {},
     "output_type": "execute_result"
    }
   ],
   "source": [
    "# contoh selisih antar dua tanggal\n",
    "contoh = pd.DataFrame({\n",
    "    'id': [1, 2, 3],\n",
    "    'start': ['2021-01-01 01:00:00', '2021-01-02 01:00:00', '2021-01-03 01:00:00'],\n",
    "    'end': ['2021/01/04 15:00:00', '2021/01/07 16:00:00', '2021/01/08 17:00:00']\n",
    "})\n",
    "\n",
    "contoh[['start', 'end']] = contoh[['start', 'end']].astype('datetime64')\n",
    "contoh['end'] - contoh['start']"
   ]
  },
  {
   "cell_type": "code",
   "execution_count": 45,
   "metadata": {
    "id": "GWaqjiIVsDFT",
    "outputId": "5c96a791-96b5-4d2b-eb61-a0ea5857f5f7",
    "scrolled": true
   },
   "outputs": [
    {
     "data": {
      "text/plain": [
       "0    3\n",
       "1    5\n",
       "2    5\n",
       "dtype: int64"
      ]
     },
     "execution_count": 45,
     "metadata": {},
     "output_type": "execute_result"
    }
   ],
   "source": [
    "(contoh['end'] - contoh['start']).dt.days"
   ]
  },
  {
   "cell_type": "markdown",
   "metadata": {
    "id": "MNR85JbXsDFU"
   },
   "source": [
    "**END OF DAY 1**\n",
    "\n",
    "___\n",
    "\n",
    "**START OF DAY 2**"
   ]
  },
  {
   "cell_type": "markdown",
   "metadata": {
    "id": "9RK_8r9BsDFU"
   },
   "source": [
    "# Working with Category"
   ]
  },
  {
   "cell_type": "markdown",
   "metadata": {
    "id": "jjbfHyJasDFU"
   },
   "source": [
    "## Characteristic: Unique Values"
   ]
  },
  {
   "cell_type": "markdown",
   "metadata": {
    "id": "tRKUYgHasDFU"
   },
   "source": [
    "Characteristic of `category` data type: repeated values, which can be categorized into several groups. We can use:\n",
    "\n",
    "- `.unique()` to see unique values of a Series\n",
    "- `.nunique()` to see number of unique values of a Series or DataFrame\n",
    "\n",
    "to identify which columns are better converted to `category`."
   ]
  },
  {
   "cell_type": "code",
   "execution_count": 46,
   "metadata": {
    "id": "nVdpzMlEsDFU",
    "outputId": "a8eba68b-a72b-4f3f-e80f-6882847919d1"
   },
   "outputs": [
    {
     "data": {
      "text/plain": [
       "receipt_id            69776\n",
       "receipts_item_id      72000\n",
       "purchase_time         62072\n",
       "category                  3\n",
       "sub_category              3\n",
       "format                    3\n",
       "unit_price             3884\n",
       "discount               1329\n",
       "quantity                 19\n",
       "yearmonth                12\n",
       "weekday                   7\n",
       "yearmonth_recreate       12\n",
       "dtype: int64"
      ]
     },
     "execution_count": 46,
     "metadata": {},
     "output_type": "execute_result"
    }
   ],
   "source": [
    "household.nunique() # number of unique value"
   ]
  },
  {
   "cell_type": "code",
   "execution_count": 47,
   "metadata": {
    "id": "XJg0F1FMsDFU",
    "outputId": "962b6af2-ccea-47aa-c0e9-c75c14298c01"
   },
   "outputs": [
    {
     "data": {
      "text/plain": [
       "array(['supermarket', 'minimarket', 'hypermarket'], dtype=object)"
      ]
     },
     "execution_count": 47,
     "metadata": {},
     "output_type": "execute_result"
    }
   ],
   "source": [
    "household['format'].unique()"
   ]
  },
  {
   "cell_type": "markdown",
   "metadata": {
    "id": "xJXak93vsDFV"
   },
   "source": [
    "## Convert to Category"
   ]
  },
  {
   "cell_type": "markdown",
   "metadata": {
    "id": "EDeZ3XPisDFV"
   },
   "source": [
    "Let's create a copy of `household` so that the original data remains unchanged."
   ]
  },
  {
   "cell_type": "code",
   "execution_count": 48,
   "metadata": {
    "id": "gcOZflkCsDFV",
    "outputId": "a8c9452c-316d-46eb-f869-82e88964b701"
   },
   "outputs": [
    {
     "data": {
      "text/plain": [
       "receipt_id                     int64\n",
       "receipts_item_id               int64\n",
       "purchase_time         datetime64[ns]\n",
       "category                      object\n",
       "sub_category                  object\n",
       "format                        object\n",
       "unit_price                   float64\n",
       "discount                       int64\n",
       "quantity                       int64\n",
       "yearmonth                     object\n",
       "weekday                       object\n",
       "yearmonth_recreate         period[M]\n",
       "dtype: object"
      ]
     },
     "execution_count": 48,
     "metadata": {},
     "output_type": "execute_result"
    }
   ],
   "source": [
    "household_cat = household.copy()\n",
    "household_cat.dtypes"
   ]
  },
  {
   "cell_type": "markdown",
   "metadata": {
    "id": "QmbKYQuUsDFV"
   },
   "source": [
    "Let's convert the columns to `category` data type:\n",
    "\n",
    "- `category`\n",
    "- `sub_category`\n",
    "- `format`\n",
    "- `yearmonth`\n",
    "- `weekday`"
   ]
  },
  {
   "cell_type": "code",
   "execution_count": 49,
   "metadata": {
    "id": "j97ZSp2GsDFV"
   },
   "outputs": [],
   "source": [
    "cat_col = ['category', 'sub_category', 'format', 'yearmonth', 'weekday']\n",
    "household_cat[cat_col] = household_cat[cat_col].astype('category')"
   ]
  },
  {
   "cell_type": "code",
   "execution_count": 50,
   "metadata": {
    "id": "B0tDSkflsDFV",
    "outputId": "dfff7455-5f2a-4750-cd07-377c12451036"
   },
   "outputs": [
    {
     "data": {
      "text/plain": [
       "receipt_id                     int64\n",
       "receipts_item_id               int64\n",
       "purchase_time         datetime64[ns]\n",
       "category                    category\n",
       "sub_category                category\n",
       "format                      category\n",
       "unit_price                   float64\n",
       "discount                       int64\n",
       "quantity                       int64\n",
       "yearmonth                   category\n",
       "weekday                     category\n",
       "yearmonth_recreate         period[M]\n",
       "dtype: object"
      ]
     },
     "execution_count": 50,
     "metadata": {},
     "output_type": "execute_result"
    }
   ],
   "source": [
    "household_cat.dtypes"
   ]
  },
  {
   "cell_type": "markdown",
   "metadata": {
    "id": "GMSu8SnysDFV"
   },
   "source": [
    "## Advantages"
   ]
  },
  {
   "cell_type": "markdown",
   "metadata": {
    "id": "2Jva5YVmsDFW"
   },
   "source": [
    "There are two main advantages of converting to `category`:"
   ]
  },
  {
   "cell_type": "markdown",
   "metadata": {
    "id": "bJfaRsaQsDFW"
   },
   "source": [
    "### First: Memory Efficient"
   ]
  },
  {
   "cell_type": "markdown",
   "metadata": {
    "id": "DlgWTDjssDFW"
   },
   "source": [
    "We can compare two Data Frame **before and after** the columns are converted to `category` data type:\n",
    "\n",
    "- `household` (before): 6.0+ MB\n",
    "- `household_cat` (after): 3.6 MB"
   ]
  },
  {
   "cell_type": "code",
   "execution_count": null,
   "metadata": {
    "id": "gsDRSqEmzBxG"
   },
   "outputs": [],
   "source": []
  },
  {
   "cell_type": "code",
   "execution_count": 51,
   "metadata": {
    "id": "IrzLk8jmsDFW",
    "outputId": "52b67f1a-2405-4538-9e2e-307697537228"
   },
   "outputs": [
    {
     "name": "stdout",
     "output_type": "stream",
     "text": [
      "<class 'pandas.core.frame.DataFrame'>\n",
      "RangeIndex: 72000 entries, 0 to 71999\n",
      "Data columns (total 12 columns):\n",
      " #   Column              Non-Null Count  Dtype         \n",
      "---  ------              --------------  -----         \n",
      " 0   receipt_id          72000 non-null  int64         \n",
      " 1   receipts_item_id    72000 non-null  int64         \n",
      " 2   purchase_time       72000 non-null  datetime64[ns]\n",
      " 3   category            72000 non-null  object        \n",
      " 4   sub_category        72000 non-null  object        \n",
      " 5   format              72000 non-null  object        \n",
      " 6   unit_price          72000 non-null  float64       \n",
      " 7   discount            72000 non-null  int64         \n",
      " 8   quantity            72000 non-null  int64         \n",
      " 9   yearmonth           72000 non-null  object        \n",
      " 10  weekday             72000 non-null  object        \n",
      " 11  yearmonth_recreate  72000 non-null  period[M]     \n",
      "dtypes: datetime64[ns](1), float64(1), int64(4), object(5), period[M](1)\n",
      "memory usage: 6.6+ MB\n"
     ]
    }
   ],
   "source": [
    "household.info()"
   ]
  },
  {
   "cell_type": "code",
   "execution_count": 52,
   "metadata": {
    "id": "sp_k8JCUsDFW",
    "outputId": "e1b830c1-07b3-4ee7-8fda-0a2ca40ffbfb"
   },
   "outputs": [
    {
     "name": "stdout",
     "output_type": "stream",
     "text": [
      "<class 'pandas.core.frame.DataFrame'>\n",
      "RangeIndex: 72000 entries, 0 to 71999\n",
      "Data columns (total 12 columns):\n",
      " #   Column              Non-Null Count  Dtype         \n",
      "---  ------              --------------  -----         \n",
      " 0   receipt_id          72000 non-null  int64         \n",
      " 1   receipts_item_id    72000 non-null  int64         \n",
      " 2   purchase_time       72000 non-null  datetime64[ns]\n",
      " 3   category            72000 non-null  category      \n",
      " 4   sub_category        72000 non-null  category      \n",
      " 5   format              72000 non-null  category      \n",
      " 6   unit_price          72000 non-null  float64       \n",
      " 7   discount            72000 non-null  int64         \n",
      " 8   quantity            72000 non-null  int64         \n",
      " 9   yearmonth           72000 non-null  category      \n",
      " 10  weekday             72000 non-null  category      \n",
      " 11  yearmonth_recreate  72000 non-null  period[M]     \n",
      "dtypes: category(5), datetime64[ns](1), float64(1), int64(4), period[M](1)\n",
      "memory usage: 4.2 MB\n"
     ]
    }
   ],
   "source": [
    "household_cat.info()"
   ]
  },
  {
   "cell_type": "markdown",
   "metadata": {
    "id": "bR4cMbLUsDFW"
   },
   "source": [
    "### Second: Categorical Accessor `.cat`"
   ]
  },
  {
   "cell_type": "markdown",
   "metadata": {
    "id": "fhxpbUFUsDFW"
   },
   "source": [
    "Just like the `datetime64` data type which has `.dt` accessor, the `category` data type has `.cat` accessor."
   ]
  },
  {
   "cell_type": "code",
   "execution_count": 53,
   "metadata": {
    "id": "Mqt8AGgjsDFW",
    "outputId": "468a2c4d-8c90-4e13-8917-f3aa4cc60d2b"
   },
   "outputs": [
    {
     "data": {
      "text/plain": [
       "Index(['hypermarket', 'minimarket', 'supermarket'], dtype='object')"
      ]
     },
     "execution_count": 53,
     "metadata": {},
     "output_type": "execute_result"
    }
   ],
   "source": [
    "household_cat['format'].cat.categories"
   ]
  },
  {
   "cell_type": "markdown",
   "metadata": {
    "id": "DA8aEmLZsDFX"
   },
   "source": [
    "You can explore more functionalities by refering to [documentation of categorical accessor](https://pandas.pydata.org/pandas-docs/stable/reference/series.html#categorical-accessor) for the complete list."
   ]
  },
  {
   "cell_type": "markdown",
   "metadata": {
    "id": "AVGo1_C6sDFX"
   },
   "source": [
    "___"
   ]
  },
  {
   "cell_type": "markdown",
   "metadata": {
    "id": "GBw0Cg9EsDFX"
   },
   "source": [
    "# Contingency Table\n",
    "\n",
    "One of the simplest EDA toolkit to display **counts** of a categorical column:\n",
    "\n",
    "Contingency = Cross-tabulation = Frequency tables"
   ]
  },
  {
   "cell_type": "code",
   "execution_count": 54,
   "metadata": {
    "id": "ETRPeurxsDFX",
    "outputId": "fb0aa59f-cc65-41ef-83fe-eab3825f9cc9"
   },
   "outputs": [
    {
     "data": {
      "text/plain": [
       "receipt_id                     int64\n",
       "receipts_item_id               int64\n",
       "purchase_time         datetime64[ns]\n",
       "category                    category\n",
       "sub_category                category\n",
       "format                      category\n",
       "unit_price                   float64\n",
       "discount                       int64\n",
       "quantity                       int64\n",
       "yearmonth                   category\n",
       "weekday                     category\n",
       "yearmonth_recreate         period[M]\n",
       "dtype: object"
      ]
     },
     "execution_count": 54,
     "metadata": {},
     "output_type": "execute_result"
    }
   ],
   "source": [
    "household = household_cat.copy()\n",
    "household.dtypes"
   ]
  },
  {
   "cell_type": "markdown",
   "metadata": {
    "id": "YnHoS-JksDFX"
   },
   "source": [
    "## Method `.value_counts()`"
   ]
  },
  {
   "cell_type": "markdown",
   "metadata": {
    "id": "R0Lbz-XXsDFX"
   },
   "source": [
    "Usage: Get the counts of each unique levels in one categorical column, sorted by descending order.\n",
    "\n",
    "Parameter:\n",
    "\n",
    "- `sort=False`: prevent any sorting values, **sort by index** instead\n",
    "- `ascending=True`: **sort values** in ascending order"
   ]
  },
  {
   "cell_type": "markdown",
   "metadata": {
    "id": "yHlPKBXMsDFX"
   },
   "source": [
    "<b id='q1'>Business Question 1</b>\n",
    "\n",
    "There are three categories of `format` (market type), how many total transactions occurred in each `format`?"
   ]
  },
  {
   "cell_type": "code",
   "execution_count": 55,
   "metadata": {
    "id": "2VkJD-RMsDFY",
    "outputId": "fb89e11f-034a-465d-e4af-502e2a8f167b"
   },
   "outputs": [
    {
     "data": {
      "text/plain": [
       "minimarket     46803\n",
       "supermarket    19826\n",
       "hypermarket     5371\n",
       "Name: format, dtype: int64"
      ]
     },
     "execution_count": 55,
     "metadata": {},
     "output_type": "execute_result"
    }
   ],
   "source": [
    "household['format'].value_counts()\n",
    "# by default: sort secara descending"
   ]
  },
  {
   "cell_type": "code",
   "execution_count": 56,
   "metadata": {
    "id": "8Jt3qvY4sDFY",
    "outputId": "98111857-9ce9-433a-aadc-620e6d8eef6a"
   },
   "outputs": [
    {
     "data": {
      "text/plain": [
       "72000"
      ]
     },
     "execution_count": 56,
     "metadata": {},
     "output_type": "execute_result"
    }
   ],
   "source": [
    "46803+19826+5371"
   ]
  },
  {
   "cell_type": "markdown",
   "metadata": {
    "id": "Fh4H143LsDFY"
   },
   "source": [
    "- Input: Series\n",
    "- Output: Series"
   ]
  },
  {
   "cell_type": "markdown",
   "metadata": {
    "id": "EaDpSz1HsDFY"
   },
   "source": [
    "Let's say we don't need sort by values:"
   ]
  },
  {
   "cell_type": "code",
   "execution_count": 57,
   "metadata": {
    "id": "cZtZ_XjosDFY",
    "outputId": "2cd12455-f11e-4be1-e76b-1522f1268c0f"
   },
   "outputs": [
    {
     "data": {
      "text/plain": [
       "hypermarket     5371\n",
       "minimarket     46803\n",
       "supermarket    19826\n",
       "Name: format, dtype: int64"
      ]
     },
     "execution_count": 57,
     "metadata": {},
     "output_type": "execute_result"
    }
   ],
   "source": [
    "household['format'].value_counts(sort=False)\n",
    "# sort by index, berdasarkan alfabetikal"
   ]
  },
  {
   "cell_type": "markdown",
   "metadata": {
    "id": "UtUq7fLSsDFY"
   },
   "source": [
    "Sort by ascending (smallest to largest):"
   ]
  },
  {
   "cell_type": "code",
   "execution_count": 58,
   "metadata": {
    "id": "w8pXCQmjsDFY",
    "outputId": "b322490f-8ac7-42d2-be4c-97b694b69255"
   },
   "outputs": [
    {
     "data": {
      "text/plain": [
       "hypermarket     5371\n",
       "supermarket    19826\n",
       "minimarket     46803\n",
       "Name: format, dtype: int64"
      ]
     },
     "execution_count": 58,
     "metadata": {},
     "output_type": "execute_result"
    }
   ],
   "source": [
    "household['format'].value_counts(ascending=True)"
   ]
  },
  {
   "cell_type": "markdown",
   "metadata": {
    "id": "40_ECcKWsDFZ"
   },
   "source": [
    "<b id='q2'>Business Question 2</b>\n",
    "\n",
    "Which `weekday` has the **largest** and **smallest** transaction volume?"
   ]
  },
  {
   "cell_type": "code",
   "execution_count": 59,
   "metadata": {
    "id": "m86h-XXasDFZ",
    "outputId": "e17a7e2e-9f8a-48ab-8c60-765920b98776"
   },
   "outputs": [
    {
     "data": {
      "text/plain": [
       "Sunday       12573\n",
       "Saturday     11828\n",
       "Friday       10778\n",
       "Tuesday       9427\n",
       "Wednesday     9206\n",
       "Thursday      9138\n",
       "Monday        9050\n",
       "Name: weekday, dtype: int64"
      ]
     },
     "execution_count": 59,
     "metadata": {},
     "output_type": "execute_result"
    }
   ],
   "source": [
    "household['weekday'].value_counts()"
   ]
  },
  {
   "cell_type": "code",
   "execution_count": 60,
   "metadata": {
    "id": "d35IomHfsDFZ",
    "outputId": "7f0dceb3-900c-436c-d1fe-a0861ed8fd4e"
   },
   "outputs": [
    {
     "data": {
      "text/plain": [
       "Sunday    12573\n",
       "Name: weekday, dtype: int64"
      ]
     },
     "execution_count": 60,
     "metadata": {},
     "output_type": "execute_result"
    }
   ],
   "source": [
    "# largest transaction volume\n",
    "household['weekday'].value_counts().head(1)"
   ]
  },
  {
   "cell_type": "code",
   "execution_count": 61,
   "metadata": {
    "id": "Bp9APKwvsDFZ",
    "outputId": "0866f21d-ef04-4583-9399-667cb39a2c6f"
   },
   "outputs": [
    {
     "data": {
      "text/plain": [
       "Monday    9050\n",
       "Name: weekday, dtype: int64"
      ]
     },
     "execution_count": 61,
     "metadata": {},
     "output_type": "execute_result"
    }
   ],
   "source": [
    "# smallest transaction volume\n",
    "household['weekday'].value_counts().tail(1)"
   ]
  },
  {
   "cell_type": "markdown",
   "metadata": {
    "id": "4_QIPWfUsDFZ"
   },
   "source": [
    "## Cross-Tabulation"
   ]
  },
  {
   "cell_type": "markdown",
   "metadata": {
    "id": "-Yd0FK-EsDFZ"
   },
   "source": [
    "Versatile solution in producing frequency table is by using `crosstab`. Syntax:\n",
    "\n",
    "    pd.crosstab(\n",
    "        index=...,\n",
    "        columns=...\n",
    "    )\n",
    "                \n",
    "**Required Parameter**:\n",
    "\n",
    "- `index`: Values to group by in the index (rows)\n",
    "- `columns`: Values to group by in the columns"
   ]
  },
  {
   "cell_type": "markdown",
   "metadata": {
    "id": "YtuV1c3lsDFZ"
   },
   "source": [
    "Let's re-create [Business Question 1](#q1) using `pd.crosstab()`:\n",
    "\n",
    "How many total transactions occurred in each `format`?"
   ]
  },
  {
   "cell_type": "code",
   "execution_count": 62,
   "metadata": {
    "id": "l3vIYAossDFa",
    "outputId": "73a33202-3ea5-4555-fa74-a6224ad78302"
   },
   "outputs": [
    {
     "data": {
      "text/html": [
       "<div>\n",
       "<style scoped>\n",
       "    .dataframe tbody tr th:only-of-type {\n",
       "        vertical-align: middle;\n",
       "    }\n",
       "\n",
       "    .dataframe tbody tr th {\n",
       "        vertical-align: top;\n",
       "    }\n",
       "\n",
       "    .dataframe thead th {\n",
       "        text-align: right;\n",
       "    }\n",
       "</style>\n",
       "<table border=\"1\" class=\"dataframe\">\n",
       "  <thead>\n",
       "    <tr style=\"text-align: right;\">\n",
       "      <th>col_0</th>\n",
       "      <th>Total</th>\n",
       "    </tr>\n",
       "    <tr>\n",
       "      <th>format</th>\n",
       "      <th></th>\n",
       "    </tr>\n",
       "  </thead>\n",
       "  <tbody>\n",
       "    <tr>\n",
       "      <th>hypermarket</th>\n",
       "      <td>5371</td>\n",
       "    </tr>\n",
       "    <tr>\n",
       "      <th>minimarket</th>\n",
       "      <td>46803</td>\n",
       "    </tr>\n",
       "    <tr>\n",
       "      <th>supermarket</th>\n",
       "      <td>19826</td>\n",
       "    </tr>\n",
       "  </tbody>\n",
       "</table>\n",
       "</div>"
      ],
      "text/plain": [
       "col_0        Total\n",
       "format            \n",
       "hypermarket   5371\n",
       "minimarket   46803\n",
       "supermarket  19826"
      ]
     },
     "execution_count": 62,
     "metadata": {},
     "output_type": "execute_result"
    }
   ],
   "source": [
    "pd.crosstab(\n",
    "    index=household['format'],\n",
    "    columns='Total')"
   ]
  },
  {
   "cell_type": "markdown",
   "metadata": {
    "id": "W5GMiYcysDFa"
   },
   "source": [
    "Note: Hasil dari `pd.crosstab` adalah sebuah DataFrame"
   ]
  },
  {
   "cell_type": "markdown",
   "metadata": {
    "id": "Xj2xo6GdsDFa"
   },
   "source": [
    "Let's re-create [Business Question 2](#q2) using `pd.crosstab()`:\n",
    "\n",
    "Which `weekday` has the **largest** and **smallest** transaction volume?"
   ]
  },
  {
   "cell_type": "code",
   "execution_count": 63,
   "metadata": {
    "id": "MC_wC6cGsDFa",
    "outputId": "7a50a795-4119-4428-fcd8-c951fe2c11c8"
   },
   "outputs": [
    {
     "data": {
      "text/html": [
       "<div>\n",
       "<style scoped>\n",
       "    .dataframe tbody tr th:only-of-type {\n",
       "        vertical-align: middle;\n",
       "    }\n",
       "\n",
       "    .dataframe tbody tr th {\n",
       "        vertical-align: top;\n",
       "    }\n",
       "\n",
       "    .dataframe thead th {\n",
       "        text-align: right;\n",
       "    }\n",
       "</style>\n",
       "<table border=\"1\" class=\"dataframe\">\n",
       "  <thead>\n",
       "    <tr style=\"text-align: right;\">\n",
       "      <th>col_0</th>\n",
       "      <th>Total</th>\n",
       "    </tr>\n",
       "    <tr>\n",
       "      <th>weekday</th>\n",
       "      <th></th>\n",
       "    </tr>\n",
       "  </thead>\n",
       "  <tbody>\n",
       "    <tr>\n",
       "      <th>Friday</th>\n",
       "      <td>10778</td>\n",
       "    </tr>\n",
       "    <tr>\n",
       "      <th>Monday</th>\n",
       "      <td>9050</td>\n",
       "    </tr>\n",
       "    <tr>\n",
       "      <th>Saturday</th>\n",
       "      <td>11828</td>\n",
       "    </tr>\n",
       "    <tr>\n",
       "      <th>Sunday</th>\n",
       "      <td>12573</td>\n",
       "    </tr>\n",
       "    <tr>\n",
       "      <th>Thursday</th>\n",
       "      <td>9138</td>\n",
       "    </tr>\n",
       "    <tr>\n",
       "      <th>Tuesday</th>\n",
       "      <td>9427</td>\n",
       "    </tr>\n",
       "    <tr>\n",
       "      <th>Wednesday</th>\n",
       "      <td>9206</td>\n",
       "    </tr>\n",
       "  </tbody>\n",
       "</table>\n",
       "</div>"
      ],
      "text/plain": [
       "col_0      Total\n",
       "weekday         \n",
       "Friday     10778\n",
       "Monday      9050\n",
       "Saturday   11828\n",
       "Sunday     12573\n",
       "Thursday    9138\n",
       "Tuesday     9427\n",
       "Wednesday   9206"
      ]
     },
     "execution_count": 63,
     "metadata": {},
     "output_type": "execute_result"
    }
   ],
   "source": [
    "pd.crosstab(\n",
    "    index=household['weekday'],\n",
    "    columns='Total')\n",
    "\n",
    "# by default: crosstab sort by index, berdasarkan alfabetikal"
   ]
  },
  {
   "cell_type": "markdown",
   "metadata": {
    "id": "XJkJfPlLsDFa"
   },
   "source": [
    "To get the insight easier, we have to sort the DataFrame by using `.sort_values()` method. Let's sort the table above in **descending** order:"
   ]
  },
  {
   "cell_type": "code",
   "execution_count": 64,
   "metadata": {
    "id": "RxYt5-aesDFb",
    "outputId": "26eb9a8b-c1ec-435a-9907-8406caab0238"
   },
   "outputs": [
    {
     "data": {
      "text/html": [
       "<div>\n",
       "<style scoped>\n",
       "    .dataframe tbody tr th:only-of-type {\n",
       "        vertical-align: middle;\n",
       "    }\n",
       "\n",
       "    .dataframe tbody tr th {\n",
       "        vertical-align: top;\n",
       "    }\n",
       "\n",
       "    .dataframe thead th {\n",
       "        text-align: right;\n",
       "    }\n",
       "</style>\n",
       "<table border=\"1\" class=\"dataframe\">\n",
       "  <thead>\n",
       "    <tr style=\"text-align: right;\">\n",
       "      <th>col_0</th>\n",
       "      <th>Total</th>\n",
       "    </tr>\n",
       "    <tr>\n",
       "      <th>weekday</th>\n",
       "      <th></th>\n",
       "    </tr>\n",
       "  </thead>\n",
       "  <tbody>\n",
       "    <tr>\n",
       "      <th>Sunday</th>\n",
       "      <td>12573</td>\n",
       "    </tr>\n",
       "    <tr>\n",
       "      <th>Saturday</th>\n",
       "      <td>11828</td>\n",
       "    </tr>\n",
       "    <tr>\n",
       "      <th>Friday</th>\n",
       "      <td>10778</td>\n",
       "    </tr>\n",
       "    <tr>\n",
       "      <th>Tuesday</th>\n",
       "      <td>9427</td>\n",
       "    </tr>\n",
       "    <tr>\n",
       "      <th>Wednesday</th>\n",
       "      <td>9206</td>\n",
       "    </tr>\n",
       "    <tr>\n",
       "      <th>Thursday</th>\n",
       "      <td>9138</td>\n",
       "    </tr>\n",
       "    <tr>\n",
       "      <th>Monday</th>\n",
       "      <td>9050</td>\n",
       "    </tr>\n",
       "  </tbody>\n",
       "</table>\n",
       "</div>"
      ],
      "text/plain": [
       "col_0      Total\n",
       "weekday         \n",
       "Sunday     12573\n",
       "Saturday   11828\n",
       "Friday     10778\n",
       "Tuesday     9427\n",
       "Wednesday   9206\n",
       "Thursday    9138\n",
       "Monday      9050"
      ]
     },
     "execution_count": 64,
     "metadata": {},
     "output_type": "execute_result"
    }
   ],
   "source": [
    "pd.crosstab(\n",
    "    index=household['weekday'],\n",
    "    columns='Total').sort_values(by='Total', ascending=False)"
   ]
  },
  {
   "cell_type": "markdown",
   "metadata": {
    "id": "4EGJXErIsDFb"
   },
   "source": [
    "Optional: If you want to sort by `weekday` name, using `.cat` accessor:"
   ]
  },
  {
   "cell_type": "code",
   "execution_count": 65,
   "metadata": {
    "id": "Jd8rCwa4sDFb"
   },
   "outputs": [],
   "source": [
    "household['weekday'] = household['weekday'].cat.reorder_categories(\n",
    "    ['Monday', 'Tuesday', 'Wednesday', 'Thursday', 'Friday', 'Saturday', 'Sunday'],\n",
    "    ordered=True\n",
    ")"
   ]
  },
  {
   "cell_type": "code",
   "execution_count": 66,
   "metadata": {
    "id": "83EXpZQOsDFb",
    "outputId": "1dd985ad-6700-4876-8c8b-3bfb0252d03e"
   },
   "outputs": [
    {
     "data": {
      "text/html": [
       "<div>\n",
       "<style scoped>\n",
       "    .dataframe tbody tr th:only-of-type {\n",
       "        vertical-align: middle;\n",
       "    }\n",
       "\n",
       "    .dataframe tbody tr th {\n",
       "        vertical-align: top;\n",
       "    }\n",
       "\n",
       "    .dataframe thead th {\n",
       "        text-align: right;\n",
       "    }\n",
       "</style>\n",
       "<table border=\"1\" class=\"dataframe\">\n",
       "  <thead>\n",
       "    <tr style=\"text-align: right;\">\n",
       "      <th>col_0</th>\n",
       "      <th>Total</th>\n",
       "    </tr>\n",
       "    <tr>\n",
       "      <th>weekday</th>\n",
       "      <th></th>\n",
       "    </tr>\n",
       "  </thead>\n",
       "  <tbody>\n",
       "    <tr>\n",
       "      <th>Monday</th>\n",
       "      <td>9050</td>\n",
       "    </tr>\n",
       "    <tr>\n",
       "      <th>Tuesday</th>\n",
       "      <td>9427</td>\n",
       "    </tr>\n",
       "    <tr>\n",
       "      <th>Wednesday</th>\n",
       "      <td>9206</td>\n",
       "    </tr>\n",
       "    <tr>\n",
       "      <th>Thursday</th>\n",
       "      <td>9138</td>\n",
       "    </tr>\n",
       "    <tr>\n",
       "      <th>Friday</th>\n",
       "      <td>10778</td>\n",
       "    </tr>\n",
       "    <tr>\n",
       "      <th>Saturday</th>\n",
       "      <td>11828</td>\n",
       "    </tr>\n",
       "    <tr>\n",
       "      <th>Sunday</th>\n",
       "      <td>12573</td>\n",
       "    </tr>\n",
       "  </tbody>\n",
       "</table>\n",
       "</div>"
      ],
      "text/plain": [
       "col_0      Total\n",
       "weekday         \n",
       "Monday      9050\n",
       "Tuesday     9427\n",
       "Wednesday   9206\n",
       "Thursday    9138\n",
       "Friday     10778\n",
       "Saturday   11828\n",
       "Sunday     12573"
      ]
     },
     "execution_count": 66,
     "metadata": {},
     "output_type": "execute_result"
    }
   ],
   "source": [
    "pd.crosstab(\n",
    "    index=household['weekday'],\n",
    "    columns='Total')"
   ]
  },
  {
   "cell_type": "markdown",
   "metadata": {
    "id": "yZ98ayZxsDFb"
   },
   "source": [
    "Dua tipe data kategori:\n",
    "\n",
    "- Nominal: tipe data kategori tanpa urutan -> tidak perlu dilakukan reorder\n",
    "- Ordinal: tipe data kategori yang ada urutan -> perlu dilakukan reorder, co: nama hari, nama bulan, tingkat pendidikan"
   ]
  },
  {
   "cell_type": "markdown",
   "metadata": {
    "id": "vA-Hfxj4sDFb"
   },
   "source": [
    "<b id='q3'>Business Question 3</b>\n",
    "\n",
    "From [Business Question 1](#q1) we know that minimarket has the most frequent transaction. Let's say we are curious to know what `category` of items has the highest total transactions in minimarket?  "
   ]
  },
  {
   "cell_type": "code",
   "execution_count": 67,
   "metadata": {
    "id": "H5ReGWQEsDFc",
    "outputId": "67e17a02-a930-4d2f-dd62-d94583f430b3",
    "scrolled": true
   },
   "outputs": [
    {
     "data": {
      "text/html": [
       "<div>\n",
       "<style scoped>\n",
       "    .dataframe tbody tr th:only-of-type {\n",
       "        vertical-align: middle;\n",
       "    }\n",
       "\n",
       "    .dataframe tbody tr th {\n",
       "        vertical-align: top;\n",
       "    }\n",
       "\n",
       "    .dataframe thead th {\n",
       "        text-align: right;\n",
       "    }\n",
       "</style>\n",
       "<table border=\"1\" class=\"dataframe\">\n",
       "  <thead>\n",
       "    <tr style=\"text-align: right;\">\n",
       "      <th>format</th>\n",
       "      <th>hypermarket</th>\n",
       "      <th>minimarket</th>\n",
       "      <th>supermarket</th>\n",
       "    </tr>\n",
       "    <tr>\n",
       "      <th>category</th>\n",
       "      <th></th>\n",
       "      <th></th>\n",
       "      <th></th>\n",
       "    </tr>\n",
       "  </thead>\n",
       "  <tbody>\n",
       "    <tr>\n",
       "      <th>Fabric Care</th>\n",
       "      <td>2611</td>\n",
       "      <td>24345</td>\n",
       "      <td>9044</td>\n",
       "    </tr>\n",
       "    <tr>\n",
       "      <th>Rice</th>\n",
       "      <td>999</td>\n",
       "      <td>7088</td>\n",
       "      <td>3913</td>\n",
       "    </tr>\n",
       "    <tr>\n",
       "      <th>Sugar/Flavored Syrup</th>\n",
       "      <td>1761</td>\n",
       "      <td>15370</td>\n",
       "      <td>6869</td>\n",
       "    </tr>\n",
       "  </tbody>\n",
       "</table>\n",
       "</div>"
      ],
      "text/plain": [
       "format                hypermarket  minimarket  supermarket\n",
       "category                                                  \n",
       "Fabric Care                  2611       24345         9044\n",
       "Rice                          999        7088         3913\n",
       "Sugar/Flavored Syrup         1761       15370         6869"
      ]
     },
     "execution_count": 67,
     "metadata": {},
     "output_type": "execute_result"
    }
   ],
   "source": [
    "pd.crosstab(index=household['category'],\n",
    "            columns=household['format'])"
   ]
  },
  {
   "cell_type": "code",
   "execution_count": 68,
   "metadata": {
    "id": "4SSaA5LUsDFc",
    "outputId": "c968c11e-c652-41f4-c226-36dc4431185b"
   },
   "outputs": [
    {
     "data": {
      "text/html": [
       "<div>\n",
       "<style scoped>\n",
       "    .dataframe tbody tr th:only-of-type {\n",
       "        vertical-align: middle;\n",
       "    }\n",
       "\n",
       "    .dataframe tbody tr th {\n",
       "        vertical-align: top;\n",
       "    }\n",
       "\n",
       "    .dataframe thead th {\n",
       "        text-align: right;\n",
       "    }\n",
       "</style>\n",
       "<table border=\"1\" class=\"dataframe\">\n",
       "  <thead>\n",
       "    <tr style=\"text-align: right;\">\n",
       "      <th>format</th>\n",
       "      <th>hypermarket</th>\n",
       "      <th>minimarket</th>\n",
       "      <th>supermarket</th>\n",
       "    </tr>\n",
       "    <tr>\n",
       "      <th>category</th>\n",
       "      <th></th>\n",
       "      <th></th>\n",
       "      <th></th>\n",
       "    </tr>\n",
       "  </thead>\n",
       "  <tbody>\n",
       "    <tr>\n",
       "      <th>Fabric Care</th>\n",
       "      <td>2611</td>\n",
       "      <td>24345</td>\n",
       "      <td>9044</td>\n",
       "    </tr>\n",
       "    <tr>\n",
       "      <th>Sugar/Flavored Syrup</th>\n",
       "      <td>1761</td>\n",
       "      <td>15370</td>\n",
       "      <td>6869</td>\n",
       "    </tr>\n",
       "    <tr>\n",
       "      <th>Rice</th>\n",
       "      <td>999</td>\n",
       "      <td>7088</td>\n",
       "      <td>3913</td>\n",
       "    </tr>\n",
       "  </tbody>\n",
       "</table>\n",
       "</div>"
      ],
      "text/plain": [
       "format                hypermarket  minimarket  supermarket\n",
       "category                                                  \n",
       "Fabric Care                  2611       24345         9044\n",
       "Sugar/Flavored Syrup         1761       15370         6869\n",
       "Rice                          999        7088         3913"
      ]
     },
     "execution_count": 68,
     "metadata": {},
     "output_type": "execute_result"
    }
   ],
   "source": [
    "pd.crosstab(index=household['category'],\n",
    "            columns=household['format']).sort_values(by='minimarket', ascending=False)"
   ]
  },
  {
   "cell_type": "code",
   "execution_count": 69,
   "metadata": {
    "id": "fbeQjXkIsDFc",
    "outputId": "d71e2e15-bc21-4e87-c18e-5537894e3fdb"
   },
   "outputs": [
    {
     "data": {
      "text/html": [
       "<div>\n",
       "<style scoped>\n",
       "    .dataframe tbody tr th:only-of-type {\n",
       "        vertical-align: middle;\n",
       "    }\n",
       "\n",
       "    .dataframe tbody tr th {\n",
       "        vertical-align: top;\n",
       "    }\n",
       "\n",
       "    .dataframe thead th {\n",
       "        text-align: right;\n",
       "    }\n",
       "</style>\n",
       "<table border=\"1\" class=\"dataframe\">\n",
       "  <thead>\n",
       "    <tr style=\"text-align: right;\">\n",
       "      <th>format</th>\n",
       "      <th>minimarket</th>\n",
       "    </tr>\n",
       "    <tr>\n",
       "      <th>category</th>\n",
       "      <th></th>\n",
       "    </tr>\n",
       "  </thead>\n",
       "  <tbody>\n",
       "    <tr>\n",
       "      <th>Fabric Care</th>\n",
       "      <td>24345</td>\n",
       "    </tr>\n",
       "    <tr>\n",
       "      <th>Rice</th>\n",
       "      <td>7088</td>\n",
       "    </tr>\n",
       "    <tr>\n",
       "      <th>Sugar/Flavored Syrup</th>\n",
       "      <td>15370</td>\n",
       "    </tr>\n",
       "  </tbody>\n",
       "</table>\n",
       "</div>"
      ],
      "text/plain": [
       "format                minimarket\n",
       "category                        \n",
       "Fabric Care                24345\n",
       "Rice                        7088\n",
       "Sugar/Flavored Syrup       15370"
      ]
     },
     "execution_count": 69,
     "metadata": {},
     "output_type": "execute_result"
    }
   ],
   "source": [
    "# ingin mengambil kolom minimarket saja\n",
    "category_format = pd.crosstab(index=household['category'],\n",
    "                              columns=household['format'])\n",
    "category_format[['minimarket']]"
   ]
  },
  {
   "cell_type": "code",
   "execution_count": 70,
   "metadata": {
    "id": "enAl9QJ5sDFc",
    "outputId": "d47f4e4e-0b41-4560-fc60-d048a009e1a2"
   },
   "outputs": [
    {
     "data": {
      "text/html": [
       "<div>\n",
       "<style scoped>\n",
       "    .dataframe tbody tr th:only-of-type {\n",
       "        vertical-align: middle;\n",
       "    }\n",
       "\n",
       "    .dataframe tbody tr th {\n",
       "        vertical-align: top;\n",
       "    }\n",
       "\n",
       "    .dataframe thead th {\n",
       "        text-align: right;\n",
       "    }\n",
       "</style>\n",
       "<table border=\"1\" class=\"dataframe\">\n",
       "  <thead>\n",
       "    <tr style=\"text-align: right;\">\n",
       "      <th>col_0</th>\n",
       "      <th>Total Transaction in Minimarket</th>\n",
       "    </tr>\n",
       "    <tr>\n",
       "      <th>category</th>\n",
       "      <th></th>\n",
       "    </tr>\n",
       "  </thead>\n",
       "  <tbody>\n",
       "    <tr>\n",
       "      <th>Fabric Care</th>\n",
       "      <td>24345</td>\n",
       "    </tr>\n",
       "    <tr>\n",
       "      <th>Rice</th>\n",
       "      <td>7088</td>\n",
       "    </tr>\n",
       "    <tr>\n",
       "      <th>Sugar/Flavored Syrup</th>\n",
       "      <td>15370</td>\n",
       "    </tr>\n",
       "  </tbody>\n",
       "</table>\n",
       "</div>"
      ],
      "text/plain": [
       "col_0                 Total Transaction in Minimarket\n",
       "category                                             \n",
       "Fabric Care                                     24345\n",
       "Rice                                             7088\n",
       "Sugar/Flavored Syrup                            15370"
      ]
     },
     "execution_count": 70,
     "metadata": {},
     "output_type": "execute_result"
    }
   ],
   "source": [
    "# alternatif: melakukan conditional subsetting, kemudian crosstab\n",
    "mini = household[household['format'] == 'minimarket']\n",
    "\n",
    "pd.crosstab(\n",
    "    index=mini['category'],\n",
    "    columns='Total Transaction in Minimarket'\n",
    ")"
   ]
  },
  {
   "cell_type": "markdown",
   "metadata": {
    "id": "tchnW0BXsDFc"
   },
   "source": [
    "### Additional Parameters of `pd.crosstab()`"
   ]
  },
  {
   "cell_type": "markdown",
   "metadata": {
    "id": "75-hKjuHsDFd"
   },
   "source": [
    "#### Margins\n",
    "\n",
    "Usage: Calculate subtotals\n",
    "\n",
    "Parameter\n",
    "\n",
    "- `margins`: Add row and column margins for subtotals\n",
    "- `margins_name`: Name of the row and column that will contain the totals when `margins=True`"
   ]
  },
  {
   "cell_type": "code",
   "execution_count": 71,
   "metadata": {
    "id": "X2amxfhdsDFd",
    "outputId": "647980a9-cfc9-4ea6-9ade-e312975f6d14"
   },
   "outputs": [
    {
     "data": {
      "text/html": [
       "<div>\n",
       "<style scoped>\n",
       "    .dataframe tbody tr th:only-of-type {\n",
       "        vertical-align: middle;\n",
       "    }\n",
       "\n",
       "    .dataframe tbody tr th {\n",
       "        vertical-align: top;\n",
       "    }\n",
       "\n",
       "    .dataframe thead th {\n",
       "        text-align: right;\n",
       "    }\n",
       "</style>\n",
       "<table border=\"1\" class=\"dataframe\">\n",
       "  <thead>\n",
       "    <tr style=\"text-align: right;\">\n",
       "      <th>format</th>\n",
       "      <th>hypermarket</th>\n",
       "      <th>minimarket</th>\n",
       "      <th>supermarket</th>\n",
       "      <th>All</th>\n",
       "    </tr>\n",
       "    <tr>\n",
       "      <th>category</th>\n",
       "      <th></th>\n",
       "      <th></th>\n",
       "      <th></th>\n",
       "      <th></th>\n",
       "    </tr>\n",
       "  </thead>\n",
       "  <tbody>\n",
       "    <tr>\n",
       "      <th>Fabric Care</th>\n",
       "      <td>2611</td>\n",
       "      <td>24345</td>\n",
       "      <td>9044</td>\n",
       "      <td>36000</td>\n",
       "    </tr>\n",
       "    <tr>\n",
       "      <th>Rice</th>\n",
       "      <td>999</td>\n",
       "      <td>7088</td>\n",
       "      <td>3913</td>\n",
       "      <td>12000</td>\n",
       "    </tr>\n",
       "    <tr>\n",
       "      <th>Sugar/Flavored Syrup</th>\n",
       "      <td>1761</td>\n",
       "      <td>15370</td>\n",
       "      <td>6869</td>\n",
       "      <td>24000</td>\n",
       "    </tr>\n",
       "    <tr>\n",
       "      <th>All</th>\n",
       "      <td>5371</td>\n",
       "      <td>46803</td>\n",
       "      <td>19826</td>\n",
       "      <td>72000</td>\n",
       "    </tr>\n",
       "  </tbody>\n",
       "</table>\n",
       "</div>"
      ],
      "text/plain": [
       "format                hypermarket  minimarket  supermarket    All\n",
       "category                                                         \n",
       "Fabric Care                  2611       24345         9044  36000\n",
       "Rice                          999        7088         3913  12000\n",
       "Sugar/Flavored Syrup         1761       15370         6869  24000\n",
       "All                          5371       46803        19826  72000"
      ]
     },
     "execution_count": 71,
     "metadata": {},
     "output_type": "execute_result"
    }
   ],
   "source": [
    "pd.crosstab(\n",
    "    index=household['category'],\n",
    "    columns=household['format'],\n",
    "    margins=True\n",
    ")"
   ]
  },
  {
   "cell_type": "code",
   "execution_count": 72,
   "metadata": {
    "id": "H8USvfh7sDFd",
    "outputId": "d76045b5-bae4-454d-bae5-fdac9b568d6f"
   },
   "outputs": [
    {
     "data": {
      "text/html": [
       "<div>\n",
       "<style scoped>\n",
       "    .dataframe tbody tr th:only-of-type {\n",
       "        vertical-align: middle;\n",
       "    }\n",
       "\n",
       "    .dataframe tbody tr th {\n",
       "        vertical-align: top;\n",
       "    }\n",
       "\n",
       "    .dataframe thead th {\n",
       "        text-align: right;\n",
       "    }\n",
       "</style>\n",
       "<table border=\"1\" class=\"dataframe\">\n",
       "  <thead>\n",
       "    <tr style=\"text-align: right;\">\n",
       "      <th>format</th>\n",
       "      <th>hypermarket</th>\n",
       "      <th>minimarket</th>\n",
       "      <th>supermarket</th>\n",
       "      <th>Total Transaction</th>\n",
       "    </tr>\n",
       "    <tr>\n",
       "      <th>category</th>\n",
       "      <th></th>\n",
       "      <th></th>\n",
       "      <th></th>\n",
       "      <th></th>\n",
       "    </tr>\n",
       "  </thead>\n",
       "  <tbody>\n",
       "    <tr>\n",
       "      <th>Fabric Care</th>\n",
       "      <td>2611</td>\n",
       "      <td>24345</td>\n",
       "      <td>9044</td>\n",
       "      <td>36000</td>\n",
       "    </tr>\n",
       "    <tr>\n",
       "      <th>Rice</th>\n",
       "      <td>999</td>\n",
       "      <td>7088</td>\n",
       "      <td>3913</td>\n",
       "      <td>12000</td>\n",
       "    </tr>\n",
       "    <tr>\n",
       "      <th>Sugar/Flavored Syrup</th>\n",
       "      <td>1761</td>\n",
       "      <td>15370</td>\n",
       "      <td>6869</td>\n",
       "      <td>24000</td>\n",
       "    </tr>\n",
       "    <tr>\n",
       "      <th>Total Transaction</th>\n",
       "      <td>5371</td>\n",
       "      <td>46803</td>\n",
       "      <td>19826</td>\n",
       "      <td>72000</td>\n",
       "    </tr>\n",
       "  </tbody>\n",
       "</table>\n",
       "</div>"
      ],
      "text/plain": [
       "format                hypermarket  minimarket  supermarket  Total Transaction\n",
       "category                                                                     \n",
       "Fabric Care                  2611       24345         9044              36000\n",
       "Rice                          999        7088         3913              12000\n",
       "Sugar/Flavored Syrup         1761       15370         6869              24000\n",
       "Total Transaction            5371       46803        19826              72000"
      ]
     },
     "execution_count": 72,
     "metadata": {},
     "output_type": "execute_result"
    }
   ],
   "source": [
    "# change margins_name, dari All menjadi Total Transaction\n",
    "pd.crosstab(\n",
    "    index=household['category'],\n",
    "    columns=household['format'],\n",
    "    margins=True,\n",
    "    margins_name='Total Transaction'\n",
    ")"
   ]
  },
  {
   "cell_type": "markdown",
   "metadata": {
    "id": "1wYJYS0QsDFd"
   },
   "source": [
    "#### Normalize\n",
    "\n",
    "Usage: Calculate percentages/proportions instead of the frequency\n",
    "\n",
    "- `normalize='all'` or `normalize=True`: normalize over all values\n",
    "- `normalize='index'`: normalize over each row\n",
    "- `normalize='columns'`: normalize over each column"
   ]
  },
  {
   "cell_type": "markdown",
   "metadata": {
    "id": "FbkR64bdsDFd"
   },
   "source": [
    "**Normalize by all**"
   ]
  },
  {
   "cell_type": "code",
   "execution_count": 73,
   "metadata": {
    "id": "_Uw3KRj9sDFd",
    "outputId": "9db1c6ec-06f8-43c4-9a86-2e28912a7380"
   },
   "outputs": [
    {
     "data": {
      "text/html": [
       "<div>\n",
       "<style scoped>\n",
       "    .dataframe tbody tr th:only-of-type {\n",
       "        vertical-align: middle;\n",
       "    }\n",
       "\n",
       "    .dataframe tbody tr th {\n",
       "        vertical-align: top;\n",
       "    }\n",
       "\n",
       "    .dataframe thead th {\n",
       "        text-align: right;\n",
       "    }\n",
       "</style>\n",
       "<table border=\"1\" class=\"dataframe\">\n",
       "  <thead>\n",
       "    <tr style=\"text-align: right;\">\n",
       "      <th>format</th>\n",
       "      <th>hypermarket</th>\n",
       "      <th>minimarket</th>\n",
       "      <th>supermarket</th>\n",
       "      <th>All</th>\n",
       "    </tr>\n",
       "    <tr>\n",
       "      <th>category</th>\n",
       "      <th></th>\n",
       "      <th></th>\n",
       "      <th></th>\n",
       "      <th></th>\n",
       "    </tr>\n",
       "  </thead>\n",
       "  <tbody>\n",
       "    <tr>\n",
       "      <th>Fabric Care</th>\n",
       "      <td>2611</td>\n",
       "      <td>24345</td>\n",
       "      <td>9044</td>\n",
       "      <td>36000</td>\n",
       "    </tr>\n",
       "    <tr>\n",
       "      <th>Rice</th>\n",
       "      <td>999</td>\n",
       "      <td>7088</td>\n",
       "      <td>3913</td>\n",
       "      <td>12000</td>\n",
       "    </tr>\n",
       "    <tr>\n",
       "      <th>Sugar/Flavored Syrup</th>\n",
       "      <td>1761</td>\n",
       "      <td>15370</td>\n",
       "      <td>6869</td>\n",
       "      <td>24000</td>\n",
       "    </tr>\n",
       "    <tr>\n",
       "      <th>All</th>\n",
       "      <td>5371</td>\n",
       "      <td>46803</td>\n",
       "      <td>19826</td>\n",
       "      <td>72000</td>\n",
       "    </tr>\n",
       "  </tbody>\n",
       "</table>\n",
       "</div>"
      ],
      "text/plain": [
       "format                hypermarket  minimarket  supermarket    All\n",
       "category                                                         \n",
       "Fabric Care                  2611       24345         9044  36000\n",
       "Rice                          999        7088         3913  12000\n",
       "Sugar/Flavored Syrup         1761       15370         6869  24000\n",
       "All                          5371       46803        19826  72000"
      ]
     },
     "execution_count": 73,
     "metadata": {},
     "output_type": "execute_result"
    }
   ],
   "source": [
    "# sebelum normalize -> frekuensi/count\n",
    "pd.crosstab(\n",
    "    index=household['category'],\n",
    "    columns=household['format'],\n",
    "    margins=True\n",
    ")"
   ]
  },
  {
   "cell_type": "code",
   "execution_count": 74,
   "metadata": {
    "id": "Gbp_Yf4WsDFe",
    "outputId": "20c0dd1c-e3c7-4973-b5ca-cae2b513bc05",
    "scrolled": true
   },
   "outputs": [
    {
     "data": {
      "text/html": [
       "<div>\n",
       "<style scoped>\n",
       "    .dataframe tbody tr th:only-of-type {\n",
       "        vertical-align: middle;\n",
       "    }\n",
       "\n",
       "    .dataframe tbody tr th {\n",
       "        vertical-align: top;\n",
       "    }\n",
       "\n",
       "    .dataframe thead th {\n",
       "        text-align: right;\n",
       "    }\n",
       "</style>\n",
       "<table border=\"1\" class=\"dataframe\">\n",
       "  <thead>\n",
       "    <tr style=\"text-align: right;\">\n",
       "      <th>format</th>\n",
       "      <th>hypermarket</th>\n",
       "      <th>minimarket</th>\n",
       "      <th>supermarket</th>\n",
       "      <th>All</th>\n",
       "    </tr>\n",
       "    <tr>\n",
       "      <th>category</th>\n",
       "      <th></th>\n",
       "      <th></th>\n",
       "      <th></th>\n",
       "      <th></th>\n",
       "    </tr>\n",
       "  </thead>\n",
       "  <tbody>\n",
       "    <tr>\n",
       "      <th>Fabric Care</th>\n",
       "      <td>0.036264</td>\n",
       "      <td>0.338125</td>\n",
       "      <td>0.125611</td>\n",
       "      <td>0.500000</td>\n",
       "    </tr>\n",
       "    <tr>\n",
       "      <th>Rice</th>\n",
       "      <td>0.013875</td>\n",
       "      <td>0.098444</td>\n",
       "      <td>0.054347</td>\n",
       "      <td>0.166667</td>\n",
       "    </tr>\n",
       "    <tr>\n",
       "      <th>Sugar/Flavored Syrup</th>\n",
       "      <td>0.024458</td>\n",
       "      <td>0.213472</td>\n",
       "      <td>0.095403</td>\n",
       "      <td>0.333333</td>\n",
       "    </tr>\n",
       "    <tr>\n",
       "      <th>All</th>\n",
       "      <td>0.074597</td>\n",
       "      <td>0.650042</td>\n",
       "      <td>0.275361</td>\n",
       "      <td>1.000000</td>\n",
       "    </tr>\n",
       "  </tbody>\n",
       "</table>\n",
       "</div>"
      ],
      "text/plain": [
       "format                hypermarket  minimarket  supermarket       All\n",
       "category                                                            \n",
       "Fabric Care              0.036264    0.338125     0.125611  0.500000\n",
       "Rice                     0.013875    0.098444     0.054347  0.166667\n",
       "Sugar/Flavored Syrup     0.024458    0.213472     0.095403  0.333333\n",
       "All                      0.074597    0.650042     0.275361  1.000000"
      ]
     },
     "execution_count": 74,
     "metadata": {},
     "output_type": "execute_result"
    }
   ],
   "source": [
    "# setelah normalize all -> proporsi/persentase\n",
    "pd.crosstab(\n",
    "    index=household['category'],\n",
    "    columns=household['format'],\n",
    "    margins=True,\n",
    "    normalize='all'\n",
    ")"
   ]
  },
  {
   "cell_type": "markdown",
   "metadata": {
    "id": "VNkTRmSlsDFe"
   },
   "source": [
    "Dari **keseluruhan** transaksi, transaksi untuk Fabric care dan yang terjadi di hypermarket adalah sebesar 0.036264 (3.6264%)"
   ]
  },
  {
   "cell_type": "markdown",
   "metadata": {
    "id": "JX5aAh9osDFe"
   },
   "source": [
    "**Normalize by index**"
   ]
  },
  {
   "cell_type": "code",
   "execution_count": 75,
   "metadata": {
    "id": "vFMYo9UUsDFe",
    "outputId": "00748073-f673-4de6-e9fb-3ee26c5fcdba"
   },
   "outputs": [
    {
     "data": {
      "text/html": [
       "<div>\n",
       "<style scoped>\n",
       "    .dataframe tbody tr th:only-of-type {\n",
       "        vertical-align: middle;\n",
       "    }\n",
       "\n",
       "    .dataframe tbody tr th {\n",
       "        vertical-align: top;\n",
       "    }\n",
       "\n",
       "    .dataframe thead th {\n",
       "        text-align: right;\n",
       "    }\n",
       "</style>\n",
       "<table border=\"1\" class=\"dataframe\">\n",
       "  <thead>\n",
       "    <tr style=\"text-align: right;\">\n",
       "      <th>format</th>\n",
       "      <th>hypermarket</th>\n",
       "      <th>minimarket</th>\n",
       "      <th>supermarket</th>\n",
       "    </tr>\n",
       "    <tr>\n",
       "      <th>category</th>\n",
       "      <th></th>\n",
       "      <th></th>\n",
       "      <th></th>\n",
       "    </tr>\n",
       "  </thead>\n",
       "  <tbody>\n",
       "    <tr>\n",
       "      <th>Fabric Care</th>\n",
       "      <td>0.072528</td>\n",
       "      <td>0.676250</td>\n",
       "      <td>0.251222</td>\n",
       "    </tr>\n",
       "    <tr>\n",
       "      <th>Rice</th>\n",
       "      <td>0.083250</td>\n",
       "      <td>0.590667</td>\n",
       "      <td>0.326083</td>\n",
       "    </tr>\n",
       "    <tr>\n",
       "      <th>Sugar/Flavored Syrup</th>\n",
       "      <td>0.073375</td>\n",
       "      <td>0.640417</td>\n",
       "      <td>0.286208</td>\n",
       "    </tr>\n",
       "    <tr>\n",
       "      <th>All</th>\n",
       "      <td>0.074597</td>\n",
       "      <td>0.650042</td>\n",
       "      <td>0.275361</td>\n",
       "    </tr>\n",
       "  </tbody>\n",
       "</table>\n",
       "</div>"
      ],
      "text/plain": [
       "format                hypermarket  minimarket  supermarket\n",
       "category                                                  \n",
       "Fabric Care              0.072528    0.676250     0.251222\n",
       "Rice                     0.083250    0.590667     0.326083\n",
       "Sugar/Flavored Syrup     0.073375    0.640417     0.286208\n",
       "All                      0.074597    0.650042     0.275361"
      ]
     },
     "execution_count": 75,
     "metadata": {},
     "output_type": "execute_result"
    }
   ],
   "source": [
    "pd.crosstab(\n",
    "    index=household['category'],\n",
    "    columns=household['format'],\n",
    "    margins=True,\n",
    "    normalize='index'\n",
    ")"
   ]
  },
  {
   "cell_type": "markdown",
   "metadata": {
    "id": "TCM-IIhFsDFe"
   },
   "source": [
    "- Jumlah per baris (`index`) adalah 100%\n",
    "- Cara interpretasi: 0.072528 (7.2528%) adalah persentase Fabric Care yang terjual di hypermarket dibandingkan dengan `format` lainnya"
   ]
  },
  {
   "cell_type": "markdown",
   "metadata": {
    "id": "_pWgt-0jsDFf"
   },
   "source": [
    "**Normalize by column**"
   ]
  },
  {
   "cell_type": "code",
   "execution_count": 76,
   "metadata": {
    "id": "0gaQ-_7YsDFf",
    "outputId": "69b027bb-3fd1-418e-cfcf-66782bcbbfae",
    "run_control": {
     "marked": false
    }
   },
   "outputs": [
    {
     "data": {
      "text/html": [
       "<div>\n",
       "<style scoped>\n",
       "    .dataframe tbody tr th:only-of-type {\n",
       "        vertical-align: middle;\n",
       "    }\n",
       "\n",
       "    .dataframe tbody tr th {\n",
       "        vertical-align: top;\n",
       "    }\n",
       "\n",
       "    .dataframe thead th {\n",
       "        text-align: right;\n",
       "    }\n",
       "</style>\n",
       "<table border=\"1\" class=\"dataframe\">\n",
       "  <thead>\n",
       "    <tr style=\"text-align: right;\">\n",
       "      <th>format</th>\n",
       "      <th>hypermarket</th>\n",
       "      <th>minimarket</th>\n",
       "      <th>supermarket</th>\n",
       "      <th>All</th>\n",
       "    </tr>\n",
       "    <tr>\n",
       "      <th>category</th>\n",
       "      <th></th>\n",
       "      <th></th>\n",
       "      <th></th>\n",
       "      <th></th>\n",
       "    </tr>\n",
       "  </thead>\n",
       "  <tbody>\n",
       "    <tr>\n",
       "      <th>Fabric Care</th>\n",
       "      <td>0.486129</td>\n",
       "      <td>0.520159</td>\n",
       "      <td>0.456169</td>\n",
       "      <td>0.500000</td>\n",
       "    </tr>\n",
       "    <tr>\n",
       "      <th>Rice</th>\n",
       "      <td>0.185999</td>\n",
       "      <td>0.151443</td>\n",
       "      <td>0.197367</td>\n",
       "      <td>0.166667</td>\n",
       "    </tr>\n",
       "    <tr>\n",
       "      <th>Sugar/Flavored Syrup</th>\n",
       "      <td>0.327872</td>\n",
       "      <td>0.328398</td>\n",
       "      <td>0.346464</td>\n",
       "      <td>0.333333</td>\n",
       "    </tr>\n",
       "  </tbody>\n",
       "</table>\n",
       "</div>"
      ],
      "text/plain": [
       "format                hypermarket  minimarket  supermarket       All\n",
       "category                                                            \n",
       "Fabric Care              0.486129    0.520159     0.456169  0.500000\n",
       "Rice                     0.185999    0.151443     0.197367  0.166667\n",
       "Sugar/Flavored Syrup     0.327872    0.328398     0.346464  0.333333"
      ]
     },
     "execution_count": 76,
     "metadata": {},
     "output_type": "execute_result"
    }
   ],
   "source": [
    "pd.crosstab(\n",
    "    index=household['category'],\n",
    "    columns=household['format'],\n",
    "    margins=True,\n",
    "    normalize='columns'\n",
    ")"
   ]
  },
  {
   "cell_type": "markdown",
   "metadata": {
    "id": "icdTRpdgsDFf"
   },
   "source": [
    "- Jumlah per kolom (`columns`) adalah 100%\n",
    "- Cara interpretasi: Pada transaksi yang terjadi di hypermarket, 0.486129 (48.6129%)nya adalah Fabric Care"
   ]
  },
  {
   "cell_type": "code",
   "execution_count": 77,
   "metadata": {
    "id": "7AZ1EkwPsDFf",
    "outputId": "e90f444e-05e2-47ed-89b5-6dbb0171c1ff"
   },
   "outputs": [
    {
     "data": {
      "text/html": [
       "<div>\n",
       "<style scoped>\n",
       "    .dataframe tbody tr th:only-of-type {\n",
       "        vertical-align: middle;\n",
       "    }\n",
       "\n",
       "    .dataframe tbody tr th {\n",
       "        vertical-align: top;\n",
       "    }\n",
       "\n",
       "    .dataframe thead th {\n",
       "        text-align: right;\n",
       "    }\n",
       "</style>\n",
       "<table border=\"1\" class=\"dataframe\">\n",
       "  <thead>\n",
       "    <tr style=\"text-align: right;\">\n",
       "      <th>format</th>\n",
       "      <th>hypermarket</th>\n",
       "      <th>minimarket</th>\n",
       "      <th>supermarket</th>\n",
       "      <th>All</th>\n",
       "    </tr>\n",
       "    <tr>\n",
       "      <th>category</th>\n",
       "      <th></th>\n",
       "      <th></th>\n",
       "      <th></th>\n",
       "      <th></th>\n",
       "    </tr>\n",
       "  </thead>\n",
       "  <tbody>\n",
       "    <tr>\n",
       "      <th>Fabric Care</th>\n",
       "      <td>48.612921</td>\n",
       "      <td>52.015896</td>\n",
       "      <td>45.616867</td>\n",
       "      <td>50.000000</td>\n",
       "    </tr>\n",
       "    <tr>\n",
       "      <th>Rice</th>\n",
       "      <td>18.599888</td>\n",
       "      <td>15.144328</td>\n",
       "      <td>19.736709</td>\n",
       "      <td>16.666667</td>\n",
       "    </tr>\n",
       "    <tr>\n",
       "      <th>Sugar/Flavored Syrup</th>\n",
       "      <td>32.787190</td>\n",
       "      <td>32.839775</td>\n",
       "      <td>34.646424</td>\n",
       "      <td>33.333333</td>\n",
       "    </tr>\n",
       "  </tbody>\n",
       "</table>\n",
       "</div>"
      ],
      "text/plain": [
       "format                hypermarket  minimarket  supermarket        All\n",
       "category                                                             \n",
       "Fabric Care             48.612921   52.015896    45.616867  50.000000\n",
       "Rice                    18.599888   15.144328    19.736709  16.666667\n",
       "Sugar/Flavored Syrup    32.787190   32.839775    34.646424  33.333333"
      ]
     },
     "execution_count": 77,
     "metadata": {},
     "output_type": "execute_result"
    }
   ],
   "source": [
    "# mengubah menjadi persentase, dikalikan 100\n",
    "category_format_percent = pd.crosstab(\n",
    "    index=household['category'],\n",
    "    columns=household['format'],\n",
    "    margins=True,\n",
    "    normalize='columns'\n",
    ")*100\n",
    "\n",
    "category_format_percent"
   ]
  },
  {
   "cell_type": "code",
   "execution_count": 78,
   "metadata": {
    "id": "ZfMN4oS7sDFf",
    "outputId": "4dd10a78-f86d-49ef-f189-acdd0ee2a9d2"
   },
   "outputs": [
    {
     "data": {
      "text/html": [
       "<div>\n",
       "<style scoped>\n",
       "    .dataframe tbody tr th:only-of-type {\n",
       "        vertical-align: middle;\n",
       "    }\n",
       "\n",
       "    .dataframe tbody tr th {\n",
       "        vertical-align: top;\n",
       "    }\n",
       "\n",
       "    .dataframe thead th {\n",
       "        text-align: right;\n",
       "    }\n",
       "</style>\n",
       "<table border=\"1\" class=\"dataframe\">\n",
       "  <thead>\n",
       "    <tr style=\"text-align: right;\">\n",
       "      <th>format</th>\n",
       "      <th>hypermarket</th>\n",
       "      <th>minimarket</th>\n",
       "      <th>supermarket</th>\n",
       "      <th>All</th>\n",
       "    </tr>\n",
       "    <tr>\n",
       "      <th>category</th>\n",
       "      <th></th>\n",
       "      <th></th>\n",
       "      <th></th>\n",
       "      <th></th>\n",
       "    </tr>\n",
       "  </thead>\n",
       "  <tbody>\n",
       "    <tr>\n",
       "      <th>Fabric Care</th>\n",
       "      <td>48.61</td>\n",
       "      <td>52.02</td>\n",
       "      <td>45.62</td>\n",
       "      <td>50.00</td>\n",
       "    </tr>\n",
       "    <tr>\n",
       "      <th>Rice</th>\n",
       "      <td>18.60</td>\n",
       "      <td>15.14</td>\n",
       "      <td>19.74</td>\n",
       "      <td>16.67</td>\n",
       "    </tr>\n",
       "    <tr>\n",
       "      <th>Sugar/Flavored Syrup</th>\n",
       "      <td>32.79</td>\n",
       "      <td>32.84</td>\n",
       "      <td>34.65</td>\n",
       "      <td>33.33</td>\n",
       "    </tr>\n",
       "  </tbody>\n",
       "</table>\n",
       "</div>"
      ],
      "text/plain": [
       "format                hypermarket  minimarket  supermarket    All\n",
       "category                                                         \n",
       "Fabric Care                 48.61       52.02        45.62  50.00\n",
       "Rice                        18.60       15.14        19.74  16.67\n",
       "Sugar/Flavored Syrup        32.79       32.84        34.65  33.33"
      ]
     },
     "execution_count": 78,
     "metadata": {},
     "output_type": "execute_result"
    }
   ],
   "source": [
    "# membulatkan dua angka di belakang koma\n",
    "category_format_percent.round(2)"
   ]
  },
  {
   "cell_type": "markdown",
   "metadata": {
    "id": "zhW2JVyFsDFf"
   },
   "source": [
    "## Knowledge Check: Contingency Table\n",
    "\n",
    "_Estimated time required: 15 minutes_"
   ]
  },
  {
   "cell_type": "markdown",
   "metadata": {
    "id": "-MJvoHSVsDFg"
   },
   "source": [
    "1. In which period (`yearmonth`) does the hypermarket achieve the highest total transactions?"
   ]
  },
  {
   "cell_type": "code",
   "execution_count": 79,
   "metadata": {
    "id": "x4GvNOkksDFg",
    "outputId": "d6fb9a00-732e-4e74-d7e2-6205107ccd68",
    "scrolled": true
   },
   "outputs": [
    {
     "data": {
      "text/html": [
       "<div>\n",
       "<style scoped>\n",
       "    .dataframe tbody tr th:only-of-type {\n",
       "        vertical-align: middle;\n",
       "    }\n",
       "\n",
       "    .dataframe tbody tr th {\n",
       "        vertical-align: top;\n",
       "    }\n",
       "\n",
       "    .dataframe thead th {\n",
       "        text-align: right;\n",
       "    }\n",
       "</style>\n",
       "<table border=\"1\" class=\"dataframe\">\n",
       "  <thead>\n",
       "    <tr style=\"text-align: right;\">\n",
       "      <th>format</th>\n",
       "      <th>hypermarket</th>\n",
       "      <th>minimarket</th>\n",
       "      <th>supermarket</th>\n",
       "    </tr>\n",
       "    <tr>\n",
       "      <th>yearmonth</th>\n",
       "      <th></th>\n",
       "      <th></th>\n",
       "      <th></th>\n",
       "    </tr>\n",
       "  </thead>\n",
       "  <tbody>\n",
       "    <tr>\n",
       "      <th>2018-03</th>\n",
       "      <td>521</td>\n",
       "      <td>3540</td>\n",
       "      <td>1939</td>\n",
       "    </tr>\n",
       "  </tbody>\n",
       "</table>\n",
       "</div>"
      ],
      "text/plain": [
       "format     hypermarket  minimarket  supermarket\n",
       "yearmonth                                      \n",
       "2018-03            521        3540         1939"
      ]
     },
     "execution_count": 79,
     "metadata": {},
     "output_type": "execute_result"
    }
   ],
   "source": [
    "# your code here\n",
    "\n",
    "# Pak Lutfi\n",
    "pd.crosstab(\n",
    "    index=household['yearmonth'],\n",
    "    columns=household['format']\n",
    ").sort_values('hypermarket', ascending=False).head(1)\n",
    "\n",
    "# Jawaban: 2018-03 dengan total transaksinya sebesar 521"
   ]
  },
  {
   "cell_type": "markdown",
   "metadata": {
    "id": "Wn93NvugsDFg"
   },
   "source": [
    "2. In the second quarter of 2018, how many percentage of total transactions came from the supermarket, when we compared to other `format`? (Hint: extract the quarterly period from `purchase_time`)"
   ]
  },
  {
   "cell_type": "code",
   "execution_count": 80,
   "metadata": {
    "id": "gw1Yux2hsDFg",
    "outputId": "ba615d48-2a00-4bf7-a5df-fe677446621b",
    "run_control": {
     "marked": false
    }
   },
   "outputs": [
    {
     "data": {
      "text/html": [
       "<div>\n",
       "<style scoped>\n",
       "    .dataframe tbody tr th:only-of-type {\n",
       "        vertical-align: middle;\n",
       "    }\n",
       "\n",
       "    .dataframe tbody tr th {\n",
       "        vertical-align: top;\n",
       "    }\n",
       "\n",
       "    .dataframe thead th {\n",
       "        text-align: right;\n",
       "    }\n",
       "</style>\n",
       "<table border=\"1\" class=\"dataframe\">\n",
       "  <thead>\n",
       "    <tr style=\"text-align: right;\">\n",
       "      <th>format</th>\n",
       "      <th>hypermarket</th>\n",
       "      <th>minimarket</th>\n",
       "      <th>supermarket</th>\n",
       "    </tr>\n",
       "    <tr>\n",
       "      <th>quarter</th>\n",
       "      <th></th>\n",
       "      <th></th>\n",
       "      <th></th>\n",
       "    </tr>\n",
       "  </thead>\n",
       "  <tbody>\n",
       "    <tr>\n",
       "      <th>2017Q4</th>\n",
       "      <td>7.305556</td>\n",
       "      <td>65.272222</td>\n",
       "      <td>27.422222</td>\n",
       "    </tr>\n",
       "    <tr>\n",
       "      <th>2018Q1</th>\n",
       "      <td>8.238889</td>\n",
       "      <td>62.472222</td>\n",
       "      <td>29.288889</td>\n",
       "    </tr>\n",
       "    <tr>\n",
       "      <th>2018Q2</th>\n",
       "      <td>7.338889</td>\n",
       "      <td>64.233333</td>\n",
       "      <td>28.427778</td>\n",
       "    </tr>\n",
       "    <tr>\n",
       "      <th>2018Q3</th>\n",
       "      <td>6.955556</td>\n",
       "      <td>68.038889</td>\n",
       "      <td>25.005556</td>\n",
       "    </tr>\n",
       "  </tbody>\n",
       "</table>\n",
       "</div>"
      ],
      "text/plain": [
       "format   hypermarket  minimarket  supermarket\n",
       "quarter                                      \n",
       "2017Q4      7.305556   65.272222    27.422222\n",
       "2018Q1      8.238889   62.472222    29.288889\n",
       "2018Q2      7.338889   64.233333    28.427778\n",
       "2018Q3      6.955556   68.038889    25.005556"
      ]
     },
     "execution_count": 80,
     "metadata": {},
     "output_type": "execute_result"
    }
   ],
   "source": [
    "# your code here\n",
    "\n",
    "# Bu Rahmah\n",
    "household['quarter']=household['purchase_time'].dt.to_period('Q')\n",
    "\n",
    "pd.crosstab(\n",
    "    index=household['quarter'],\n",
    "    columns=household['format'],\n",
    "    normalize='index'\n",
    ")*100\n",
    "\n",
    "# Answer: 28.427778%"
   ]
  },
  {
   "cell_type": "markdown",
   "metadata": {
    "id": "3cOA4A_DsDFg"
   },
   "source": [
    "💭 **Bonus challenge:**\n",
    "\n",
    "Produce a frequency table where we can breakdown the total transactions for each `yearmonth` period by each product `category` in each market (`format`)."
   ]
  },
  {
   "cell_type": "code",
   "execution_count": 81,
   "metadata": {
    "id": "8YIl2AiasDFg",
    "outputId": "f24c6800-7b8e-4508-e735-11192d2644ef"
   },
   "outputs": [
    {
     "data": {
      "text/html": [
       "<div>\n",
       "<style scoped>\n",
       "    .dataframe tbody tr th:only-of-type {\n",
       "        vertical-align: middle;\n",
       "    }\n",
       "\n",
       "    .dataframe tbody tr th {\n",
       "        vertical-align: top;\n",
       "    }\n",
       "\n",
       "    .dataframe thead tr th {\n",
       "        text-align: left;\n",
       "    }\n",
       "\n",
       "    .dataframe thead tr:last-of-type th {\n",
       "        text-align: right;\n",
       "    }\n",
       "</style>\n",
       "<table border=\"1\" class=\"dataframe\">\n",
       "  <thead>\n",
       "    <tr>\n",
       "      <th>category</th>\n",
       "      <th colspan=\"3\" halign=\"left\">Fabric Care</th>\n",
       "      <th colspan=\"3\" halign=\"left\">Rice</th>\n",
       "      <th colspan=\"3\" halign=\"left\">Sugar/Flavored Syrup</th>\n",
       "    </tr>\n",
       "    <tr>\n",
       "      <th>format</th>\n",
       "      <th>hypermarket</th>\n",
       "      <th>minimarket</th>\n",
       "      <th>supermarket</th>\n",
       "      <th>hypermarket</th>\n",
       "      <th>minimarket</th>\n",
       "      <th>supermarket</th>\n",
       "      <th>hypermarket</th>\n",
       "      <th>minimarket</th>\n",
       "      <th>supermarket</th>\n",
       "    </tr>\n",
       "    <tr>\n",
       "      <th>yearmonth</th>\n",
       "      <th></th>\n",
       "      <th></th>\n",
       "      <th></th>\n",
       "      <th></th>\n",
       "      <th></th>\n",
       "      <th></th>\n",
       "      <th></th>\n",
       "      <th></th>\n",
       "      <th></th>\n",
       "    </tr>\n",
       "  </thead>\n",
       "  <tbody>\n",
       "    <tr>\n",
       "      <th>2017-10</th>\n",
       "      <td>213</td>\n",
       "      <td>2009</td>\n",
       "      <td>778</td>\n",
       "      <td>81</td>\n",
       "      <td>600</td>\n",
       "      <td>319</td>\n",
       "      <td>152</td>\n",
       "      <td>1289</td>\n",
       "      <td>559</td>\n",
       "    </tr>\n",
       "    <tr>\n",
       "      <th>2017-11</th>\n",
       "      <td>218</td>\n",
       "      <td>2069</td>\n",
       "      <td>713</td>\n",
       "      <td>76</td>\n",
       "      <td>581</td>\n",
       "      <td>343</td>\n",
       "      <td>148</td>\n",
       "      <td>1262</td>\n",
       "      <td>590</td>\n",
       "    </tr>\n",
       "    <tr>\n",
       "      <th>2017-12</th>\n",
       "      <td>206</td>\n",
       "      <td>2111</td>\n",
       "      <td>683</td>\n",
       "      <td>68</td>\n",
       "      <td>583</td>\n",
       "      <td>349</td>\n",
       "      <td>153</td>\n",
       "      <td>1245</td>\n",
       "      <td>602</td>\n",
       "    </tr>\n",
       "    <tr>\n",
       "      <th>2018-01</th>\n",
       "      <td>229</td>\n",
       "      <td>2094</td>\n",
       "      <td>677</td>\n",
       "      <td>68</td>\n",
       "      <td>597</td>\n",
       "      <td>335</td>\n",
       "      <td>152</td>\n",
       "      <td>1269</td>\n",
       "      <td>579</td>\n",
       "    </tr>\n",
       "    <tr>\n",
       "      <th>2018-02</th>\n",
       "      <td>212</td>\n",
       "      <td>1989</td>\n",
       "      <td>799</td>\n",
       "      <td>117</td>\n",
       "      <td>549</td>\n",
       "      <td>334</td>\n",
       "      <td>184</td>\n",
       "      <td>1207</td>\n",
       "      <td>609</td>\n",
       "    </tr>\n",
       "    <tr>\n",
       "      <th>2018-03</th>\n",
       "      <td>249</td>\n",
       "      <td>1853</td>\n",
       "      <td>898</td>\n",
       "      <td>97</td>\n",
       "      <td>559</td>\n",
       "      <td>344</td>\n",
       "      <td>175</td>\n",
       "      <td>1128</td>\n",
       "      <td>697</td>\n",
       "    </tr>\n",
       "    <tr>\n",
       "      <th>2018-04</th>\n",
       "      <td>176</td>\n",
       "      <td>2031</td>\n",
       "      <td>793</td>\n",
       "      <td>79</td>\n",
       "      <td>578</td>\n",
       "      <td>343</td>\n",
       "      <td>121</td>\n",
       "      <td>1300</td>\n",
       "      <td>579</td>\n",
       "    </tr>\n",
       "    <tr>\n",
       "      <th>2018-05</th>\n",
       "      <td>236</td>\n",
       "      <td>1884</td>\n",
       "      <td>880</td>\n",
       "      <td>82</td>\n",
       "      <td>585</td>\n",
       "      <td>333</td>\n",
       "      <td>169</td>\n",
       "      <td>1235</td>\n",
       "      <td>596</td>\n",
       "    </tr>\n",
       "    <tr>\n",
       "      <th>2018-06</th>\n",
       "      <td>230</td>\n",
       "      <td>1996</td>\n",
       "      <td>774</td>\n",
       "      <td>81</td>\n",
       "      <td>622</td>\n",
       "      <td>297</td>\n",
       "      <td>147</td>\n",
       "      <td>1331</td>\n",
       "      <td>522</td>\n",
       "    </tr>\n",
       "    <tr>\n",
       "      <th>2018-07</th>\n",
       "      <td>169</td>\n",
       "      <td>2289</td>\n",
       "      <td>542</td>\n",
       "      <td>65</td>\n",
       "      <td>626</td>\n",
       "      <td>309</td>\n",
       "      <td>122</td>\n",
       "      <td>1378</td>\n",
       "      <td>500</td>\n",
       "    </tr>\n",
       "    <tr>\n",
       "      <th>2018-08</th>\n",
       "      <td>253</td>\n",
       "      <td>2025</td>\n",
       "      <td>722</td>\n",
       "      <td>82</td>\n",
       "      <td>611</td>\n",
       "      <td>307</td>\n",
       "      <td>120</td>\n",
       "      <td>1358</td>\n",
       "      <td>522</td>\n",
       "    </tr>\n",
       "    <tr>\n",
       "      <th>2018-09</th>\n",
       "      <td>220</td>\n",
       "      <td>1995</td>\n",
       "      <td>785</td>\n",
       "      <td>103</td>\n",
       "      <td>597</td>\n",
       "      <td>300</td>\n",
       "      <td>118</td>\n",
       "      <td>1368</td>\n",
       "      <td>514</td>\n",
       "    </tr>\n",
       "  </tbody>\n",
       "</table>\n",
       "</div>"
      ],
      "text/plain": [
       "category  Fabric Care                               Rice             \\\n",
       "format    hypermarket minimarket supermarket hypermarket minimarket   \n",
       "yearmonth                                                             \n",
       "2017-10           213       2009         778          81        600   \n",
       "2017-11           218       2069         713          76        581   \n",
       "2017-12           206       2111         683          68        583   \n",
       "2018-01           229       2094         677          68        597   \n",
       "2018-02           212       1989         799         117        549   \n",
       "2018-03           249       1853         898          97        559   \n",
       "2018-04           176       2031         793          79        578   \n",
       "2018-05           236       1884         880          82        585   \n",
       "2018-06           230       1996         774          81        622   \n",
       "2018-07           169       2289         542          65        626   \n",
       "2018-08           253       2025         722          82        611   \n",
       "2018-09           220       1995         785         103        597   \n",
       "\n",
       "category              Sugar/Flavored Syrup                         \n",
       "format    supermarket          hypermarket minimarket supermarket  \n",
       "yearmonth                                                          \n",
       "2017-10           319                  152       1289         559  \n",
       "2017-11           343                  148       1262         590  \n",
       "2017-12           349                  153       1245         602  \n",
       "2018-01           335                  152       1269         579  \n",
       "2018-02           334                  184       1207         609  \n",
       "2018-03           344                  175       1128         697  \n",
       "2018-04           343                  121       1300         579  \n",
       "2018-05           333                  169       1235         596  \n",
       "2018-06           297                  147       1331         522  \n",
       "2018-07           309                  122       1378         500  \n",
       "2018-08           307                  120       1358         522  \n",
       "2018-09           300                  118       1368         514  "
      ]
     },
     "execution_count": 81,
     "metadata": {},
     "output_type": "execute_result"
    }
   ],
   "source": [
    "# Pak Musthofa\n",
    "\n",
    "pd.crosstab(\n",
    "    index=household[\"yearmonth\"],\n",
    "    columns=[household[\"category\"], household[\"format\"]]\n",
    ")"
   ]
  },
  {
   "cell_type": "markdown",
   "metadata": {
    "id": "koQJpKxasDFg"
   },
   "source": [
    "In `pandas`, we call a higher-dimensional table as Multi-Index DataFrame. We will cover more on Week 3: Data Wrangling and Visualization course. So, stay tune~"
   ]
  },
  {
   "cell_type": "markdown",
   "metadata": {
    "id": "Q3IubGy7sDFh"
   },
   "source": [
    "**END OF DAY 2**\n",
    "\n",
    "___\n",
    "\n",
    "**START OF DAY 3**"
   ]
  },
  {
   "cell_type": "markdown",
   "metadata": {
    "id": "01vH7yAQsDFh"
   },
   "source": [
    "# Aggregation Table"
   ]
  },
  {
   "cell_type": "markdown",
   "metadata": {
    "id": "LJW_E3_zsDFh"
   },
   "source": [
    "## `pd.crosstab()`"
   ]
  },
  {
   "cell_type": "markdown",
   "metadata": {
    "id": "xayl6Nr5sDFh"
   },
   "source": [
    "Not only for creating a frequency table, `crosstab` can also be used to perform aggregation by adding two more parameters:\n",
    "\n",
    "- `values`: Values to be aggregated according to the `index` and `columns`\n",
    "- `aggfunc`: Aggregate function to be used. Most common function: 'count', 'mean', 'median', 'sum', 'max', 'min'\n",
    "\n",
    "\n",
    "    pd.crosstab(\n",
    "        index=...,\n",
    "        columns=...,\n",
    "        values=...,\n",
    "        aggfunc=...\n",
    "    )"
   ]
  },
  {
   "cell_type": "markdown",
   "metadata": {
    "id": "Sswzo0z2sDFh"
   },
   "source": [
    "<b id='q4'>Business Question 4</b>\n",
    "\n",
    "Find out the most expensive product `category`, by its mean of `unit_price`.\n",
    "\n",
    "In other words, let's calculate the mean of `unit_price` of each product `category`."
   ]
  },
  {
   "cell_type": "code",
   "execution_count": 82,
   "metadata": {
    "id": "tmF_rE0RsDFh"
   },
   "outputs": [
    {
     "data": {
      "text/html": [
       "<div>\n",
       "<style scoped>\n",
       "    .dataframe tbody tr th:only-of-type {\n",
       "        vertical-align: middle;\n",
       "    }\n",
       "\n",
       "    .dataframe tbody tr th {\n",
       "        vertical-align: top;\n",
       "    }\n",
       "\n",
       "    .dataframe thead th {\n",
       "        text-align: right;\n",
       "    }\n",
       "</style>\n",
       "<table border=\"1\" class=\"dataframe\">\n",
       "  <thead>\n",
       "    <tr style=\"text-align: right;\">\n",
       "      <th>col_0</th>\n",
       "      <th>mean_unit_price</th>\n",
       "    </tr>\n",
       "    <tr>\n",
       "      <th>category</th>\n",
       "      <th></th>\n",
       "    </tr>\n",
       "  </thead>\n",
       "  <tbody>\n",
       "    <tr>\n",
       "      <th>Fabric Care</th>\n",
       "      <td>17893.793214</td>\n",
       "    </tr>\n",
       "    <tr>\n",
       "      <th>Rice</th>\n",
       "      <td>70013.146313</td>\n",
       "    </tr>\n",
       "    <tr>\n",
       "      <th>Sugar/Flavored Syrup</th>\n",
       "      <td>12645.066024</td>\n",
       "    </tr>\n",
       "  </tbody>\n",
       "</table>\n",
       "</div>"
      ],
      "text/plain": [
       "col_0                 mean_unit_price\n",
       "category                             \n",
       "Fabric Care              17893.793214\n",
       "Rice                     70013.146313\n",
       "Sugar/Flavored Syrup     12645.066024"
      ]
     },
     "execution_count": 82,
     "metadata": {},
     "output_type": "execute_result"
    }
   ],
   "source": [
    "pd.crosstab(\n",
    "    index=household['category'], \n",
    "    columns='mean_unit_price', \n",
    "    values=household['unit_price'],\n",
    "    aggfunc='mean'\n",
    ")"
   ]
  },
  {
   "cell_type": "markdown",
   "metadata": {
    "id": "BeJlbaOjsDFh"
   },
   "source": [
    "<b id='q5'>Business Question 5</b>\n",
    "\n",
    "Just like [Business Question 4](#q4), but please also breakdown the mean for each market (`format`)"
   ]
  },
  {
   "cell_type": "code",
   "execution_count": null,
   "metadata": {
    "id": "IOTV528tsDFh"
   },
   "outputs": [],
   "source": []
  },
  {
   "cell_type": "markdown",
   "metadata": {
    "id": "TU9AdCpIsDFi"
   },
   "source": [
    "Let's say we want to compare the mean and median side by side:"
   ]
  },
  {
   "cell_type": "code",
   "execution_count": null,
   "metadata": {
    "id": "Rc8blqz0sDFi"
   },
   "outputs": [],
   "source": []
  },
  {
   "cell_type": "markdown",
   "metadata": {
    "id": "kCB-MybFsDFi"
   },
   "source": [
    "📝 Notes on mean and median:\n",
    "\n",
    "- Both are measures of central tendency\n",
    "- Mean = average values of data, Median = middle value (50%) of data\n",
    "- Median is prefered when the data is skewed (contains extremely large values)"
   ]
  },
  {
   "cell_type": "markdown",
   "metadata": {
    "id": "nv5OWYyGsDFj"
   },
   "source": [
    "<b id='q6'>Business Question 6</b>\n",
    "\n",
    "Construct an aggregation table to show the sum of `quantity` across each product `category` and `format`. Find out how many percentages of **Rice** is sold in **hypermarket**?\n",
    "\n",
    "Note: Don't forget we can use parameter `margins` and `normalize` too."
   ]
  },
  {
   "cell_type": "code",
   "execution_count": null,
   "metadata": {
    "id": "X4oMPb8YsDFj"
   },
   "outputs": [],
   "source": []
  },
  {
   "cell_type": "markdown",
   "metadata": {
    "id": "-HXzNIM4sDFj"
   },
   "source": [
    "## Knowledge Check: Aggregation Table\n",
    "\n",
    "_Estimated time required: 20 minutes_"
   ]
  },
  {
   "cell_type": "markdown",
   "metadata": {
    "id": "bt2FU4nFsDFj"
   },
   "source": [
    "1. Create a cross-tab showing the median of `unit_price` across each `sub_category` and `format`. Add a subtotal to both the row and column. Answer the following questions:\n",
    "\n",
    "    - Overall by median, Sugar is cheapest at ...\n",
    "    - Overall by median, Detergent is most expensive at ..."
   ]
  },
  {
   "cell_type": "code",
   "execution_count": 83,
   "metadata": {
    "id": "UjdnFpgJsDFj"
   },
   "outputs": [],
   "source": [
    "# your code here\n"
   ]
  },
  {
   "cell_type": "markdown",
   "metadata": {
    "id": "k6hi_f8qsDFk"
   },
   "source": [
    "2. In which `quarterly` do the hypermarket achieve its highest total sales (sum of `subtotal`)?. **Hint**: Create a new column `subtotal` which calculate the total price of each item in a transaction by multiplying the `unit_price` with the `quantity`.\n",
    "\n",
    "\n",
    "<!--\n",
    "# float formatting, round to 3 decimal places\n",
    "pd.options.display.float_format = '{:.3f}'.format\n",
    "-->"
   ]
  },
  {
   "cell_type": "code",
   "execution_count": 84,
   "metadata": {
    "id": "qkZoUo3-sDFk"
   },
   "outputs": [],
   "source": [
    "# your code here\n"
   ]
  },
  {
   "cell_type": "markdown",
   "metadata": {
    "id": "ghcU-c9TsDFk"
   },
   "source": [
    "💭 **Bonus challenge:**\n",
    "\n",
    "Produce a cross-tabulation table where we calculate the sum of `quantity` using:\n",
    "\n",
    "- `quarterly` and `weekday` as the `index`\n",
    "- `format` and `category` as the `columns`\n",
    "\n",
    "Note: this will return a Multi-Index DataFrame."
   ]
  },
  {
   "cell_type": "code",
   "execution_count": null,
   "metadata": {
    "id": "-jLgn_wKsDFk"
   },
   "outputs": [],
   "source": []
  },
  {
   "cell_type": "markdown",
   "metadata": {
    "id": "fWhWnCL-sDFk"
   },
   "source": [
    "## Pivot Table"
   ]
  },
  {
   "cell_type": "markdown",
   "metadata": {
    "id": "3UBlg7UmsDFl"
   },
   "source": [
    "Actually if our data is already a `DataFrame` object, using `pd.pivot_table()` can be more convenient compared to a `pd.crosstab()`.\n",
    "\n",
    "Parameters:\n",
    "\n",
    "- `data`: the `DataFrame` object (**not available in `pd.crosstab()`**)\n",
    "- `index`: the column to be used as rows\n",
    "- `columns`: the column to be used as columns\n",
    "- `values`: the values used to fill in the table\n",
    "- `aggfunc`: the aggregation function (**default: 'mean'**)\n",
    "\n",
    "Syntax:\n",
    "\n",
    "```\n",
    "pd.pivot_table(\n",
    "    data=...,\n",
    "    index=...,\n",
    "    columns=...,\n",
    "    values=...,\n",
    "    aggfunc=...\n",
    ")\n",
    "```\n",
    "\n",
    "OR\n",
    "\n",
    "```\n",
    "data.pivot_table(\n",
    "    index=...,\n",
    "    columns=...,\n",
    "    values=...,\n",
    "    aggfunc=...\n",
    ")\n",
    "```"
   ]
  },
  {
   "cell_type": "markdown",
   "metadata": {
    "id": "K7B3Jw3EsDFl"
   },
   "source": [
    "Let's compare between `pivot_table` and `crosstab`. Consider the following aggregation table created using `crosstab`:"
   ]
  },
  {
   "cell_type": "code",
   "execution_count": 85,
   "metadata": {
    "id": "LnoB2L34sDFl"
   },
   "outputs": [
    {
     "data": {
      "text/html": [
       "<div>\n",
       "<style scoped>\n",
       "    .dataframe tbody tr th:only-of-type {\n",
       "        vertical-align: middle;\n",
       "    }\n",
       "\n",
       "    .dataframe tbody tr th {\n",
       "        vertical-align: top;\n",
       "    }\n",
       "\n",
       "    .dataframe thead tr th {\n",
       "        text-align: left;\n",
       "    }\n",
       "\n",
       "    .dataframe thead tr:last-of-type th {\n",
       "        text-align: right;\n",
       "    }\n",
       "</style>\n",
       "<table border=\"1\" class=\"dataframe\">\n",
       "  <thead>\n",
       "    <tr>\n",
       "      <th>format</th>\n",
       "      <th colspan=\"3\" halign=\"left\">hypermarket</th>\n",
       "      <th colspan=\"3\" halign=\"left\">minimarket</th>\n",
       "      <th colspan=\"3\" halign=\"left\">supermarket</th>\n",
       "    </tr>\n",
       "    <tr>\n",
       "      <th>sub_category</th>\n",
       "      <th>Detergent</th>\n",
       "      <th>Rice</th>\n",
       "      <th>Sugar</th>\n",
       "      <th>Detergent</th>\n",
       "      <th>Rice</th>\n",
       "      <th>Sugar</th>\n",
       "      <th>Detergent</th>\n",
       "      <th>Rice</th>\n",
       "      <th>Sugar</th>\n",
       "    </tr>\n",
       "    <tr>\n",
       "      <th>weekday</th>\n",
       "      <th></th>\n",
       "      <th></th>\n",
       "      <th></th>\n",
       "      <th></th>\n",
       "      <th></th>\n",
       "      <th></th>\n",
       "      <th></th>\n",
       "      <th></th>\n",
       "      <th></th>\n",
       "    </tr>\n",
       "  </thead>\n",
       "  <tbody>\n",
       "    <tr>\n",
       "      <th>Monday</th>\n",
       "      <td>19138.560606</td>\n",
       "      <td>66298.693694</td>\n",
       "      <td>13358.891903</td>\n",
       "      <td>17560.317294</td>\n",
       "      <td>68546.853862</td>\n",
       "      <td>12457.940470</td>\n",
       "      <td>18133.631542</td>\n",
       "      <td>73603.415629</td>\n",
       "      <td>13024.603859</td>\n",
       "    </tr>\n",
       "    <tr>\n",
       "      <th>Tuesday</th>\n",
       "      <td>19389.388316</td>\n",
       "      <td>74470.872340</td>\n",
       "      <td>13794.590698</td>\n",
       "      <td>17901.031532</td>\n",
       "      <td>68448.321464</td>\n",
       "      <td>12286.595116</td>\n",
       "      <td>17944.182547</td>\n",
       "      <td>73134.498062</td>\n",
       "      <td>13436.082699</td>\n",
       "    </tr>\n",
       "    <tr>\n",
       "      <th>Wednesday</th>\n",
       "      <td>19372.105469</td>\n",
       "      <td>68216.509804</td>\n",
       "      <td>13234.430556</td>\n",
       "      <td>17809.980058</td>\n",
       "      <td>66220.127409</td>\n",
       "      <td>12255.598561</td>\n",
       "      <td>17797.291157</td>\n",
       "      <td>71961.800562</td>\n",
       "      <td>13234.805461</td>\n",
       "    </tr>\n",
       "    <tr>\n",
       "      <th>Thursday</th>\n",
       "      <td>19879.209774</td>\n",
       "      <td>68319.880000</td>\n",
       "      <td>13324.351220</td>\n",
       "      <td>17987.282458</td>\n",
       "      <td>67578.548780</td>\n",
       "      <td>12511.782441</td>\n",
       "      <td>17906.231623</td>\n",
       "      <td>75706.441218</td>\n",
       "      <td>12694.992999</td>\n",
       "    </tr>\n",
       "    <tr>\n",
       "      <th>Friday</th>\n",
       "      <td>18891.041457</td>\n",
       "      <td>73596.727273</td>\n",
       "      <td>12885.248000</td>\n",
       "      <td>17694.003432</td>\n",
       "      <td>65973.959918</td>\n",
       "      <td>12249.178311</td>\n",
       "      <td>17535.585915</td>\n",
       "      <td>77468.788054</td>\n",
       "      <td>12982.341464</td>\n",
       "    </tr>\n",
       "    <tr>\n",
       "      <th>Saturday</th>\n",
       "      <td>19970.335818</td>\n",
       "      <td>72381.885714</td>\n",
       "      <td>13939.891089</td>\n",
       "      <td>17747.660396</td>\n",
       "      <td>66611.120909</td>\n",
       "      <td>12313.932787</td>\n",
       "      <td>17773.888751</td>\n",
       "      <td>74740.144531</td>\n",
       "      <td>13001.971354</td>\n",
       "    </tr>\n",
       "    <tr>\n",
       "      <th>Sunday</th>\n",
       "      <td>18831.241756</td>\n",
       "      <td>72182.653992</td>\n",
       "      <td>13897.502674</td>\n",
       "      <td>17649.690262</td>\n",
       "      <td>66708.621488</td>\n",
       "      <td>12385.304045</td>\n",
       "      <td>17939.162317</td>\n",
       "      <td>76545.073587</td>\n",
       "      <td>13114.061792</td>\n",
       "    </tr>\n",
       "  </tbody>\n",
       "</table>\n",
       "</div>"
      ],
      "text/plain": [
       "format         hypermarket                                minimarket  \\\n",
       "sub_category     Detergent          Rice         Sugar     Detergent   \n",
       "weekday                                                                \n",
       "Monday        19138.560606  66298.693694  13358.891903  17560.317294   \n",
       "Tuesday       19389.388316  74470.872340  13794.590698  17901.031532   \n",
       "Wednesday     19372.105469  68216.509804  13234.430556  17809.980058   \n",
       "Thursday      19879.209774  68319.880000  13324.351220  17987.282458   \n",
       "Friday        18891.041457  73596.727273  12885.248000  17694.003432   \n",
       "Saturday      19970.335818  72381.885714  13939.891089  17747.660396   \n",
       "Sunday        18831.241756  72182.653992  13897.502674  17649.690262   \n",
       "\n",
       "format                                     supermarket                \\\n",
       "sub_category          Rice         Sugar     Detergent          Rice   \n",
       "weekday                                                                \n",
       "Monday        68546.853862  12457.940470  18133.631542  73603.415629   \n",
       "Tuesday       68448.321464  12286.595116  17944.182547  73134.498062   \n",
       "Wednesday     66220.127409  12255.598561  17797.291157  71961.800562   \n",
       "Thursday      67578.548780  12511.782441  17906.231623  75706.441218   \n",
       "Friday        65973.959918  12249.178311  17535.585915  77468.788054   \n",
       "Saturday      66611.120909  12313.932787  17773.888751  74740.144531   \n",
       "Sunday        66708.621488  12385.304045  17939.162317  76545.073587   \n",
       "\n",
       "format                      \n",
       "sub_category         Sugar  \n",
       "weekday                     \n",
       "Monday        13024.603859  \n",
       "Tuesday       13436.082699  \n",
       "Wednesday     13234.805461  \n",
       "Thursday      12694.992999  \n",
       "Friday        12982.341464  \n",
       "Saturday      13001.971354  \n",
       "Sunday        13114.061792  "
      ]
     },
     "execution_count": 85,
     "metadata": {},
     "output_type": "execute_result"
    }
   ],
   "source": [
    "pd.crosstab(\n",
    "    index=household['weekday'], \n",
    "    columns=[household['format'], household['sub_category']], \n",
    "    values=household['unit_price'],\n",
    "    aggfunc='mean'\n",
    ")"
   ]
  },
  {
   "cell_type": "markdown",
   "metadata": {
    "id": "lgeE_Ka2sDFl"
   },
   "source": [
    "Let's re-create the table above with `pd.pivot_table()`.\n",
    "\n",
    "Note: Default `aggfunc='mean'`"
   ]
  },
  {
   "cell_type": "code",
   "execution_count": 86,
   "metadata": {
    "id": "qxYDk9x-sDFm"
   },
   "outputs": [
    {
     "data": {
      "text/html": [
       "<div>\n",
       "<style scoped>\n",
       "    .dataframe tbody tr th:only-of-type {\n",
       "        vertical-align: middle;\n",
       "    }\n",
       "\n",
       "    .dataframe tbody tr th {\n",
       "        vertical-align: top;\n",
       "    }\n",
       "\n",
       "    .dataframe thead tr th {\n",
       "        text-align: left;\n",
       "    }\n",
       "\n",
       "    .dataframe thead tr:last-of-type th {\n",
       "        text-align: right;\n",
       "    }\n",
       "</style>\n",
       "<table border=\"1\" class=\"dataframe\">\n",
       "  <thead>\n",
       "    <tr>\n",
       "      <th>format</th>\n",
       "      <th colspan=\"3\" halign=\"left\">hypermarket</th>\n",
       "      <th colspan=\"3\" halign=\"left\">minimarket</th>\n",
       "      <th colspan=\"3\" halign=\"left\">supermarket</th>\n",
       "    </tr>\n",
       "    <tr>\n",
       "      <th>sub_category</th>\n",
       "      <th>Detergent</th>\n",
       "      <th>Rice</th>\n",
       "      <th>Sugar</th>\n",
       "      <th>Detergent</th>\n",
       "      <th>Rice</th>\n",
       "      <th>Sugar</th>\n",
       "      <th>Detergent</th>\n",
       "      <th>Rice</th>\n",
       "      <th>Sugar</th>\n",
       "    </tr>\n",
       "    <tr>\n",
       "      <th>weekday</th>\n",
       "      <th></th>\n",
       "      <th></th>\n",
       "      <th></th>\n",
       "      <th></th>\n",
       "      <th></th>\n",
       "      <th></th>\n",
       "      <th></th>\n",
       "      <th></th>\n",
       "      <th></th>\n",
       "    </tr>\n",
       "  </thead>\n",
       "  <tbody>\n",
       "    <tr>\n",
       "      <th>Monday</th>\n",
       "      <td>19138.560606</td>\n",
       "      <td>66298.693694</td>\n",
       "      <td>13358.891903</td>\n",
       "      <td>17560.317294</td>\n",
       "      <td>68546.853862</td>\n",
       "      <td>12457.940470</td>\n",
       "      <td>18133.631542</td>\n",
       "      <td>73603.415629</td>\n",
       "      <td>13024.603859</td>\n",
       "    </tr>\n",
       "    <tr>\n",
       "      <th>Tuesday</th>\n",
       "      <td>19389.388316</td>\n",
       "      <td>74470.872340</td>\n",
       "      <td>13794.590698</td>\n",
       "      <td>17901.031532</td>\n",
       "      <td>68448.321464</td>\n",
       "      <td>12286.595116</td>\n",
       "      <td>17944.182547</td>\n",
       "      <td>73134.498062</td>\n",
       "      <td>13436.082699</td>\n",
       "    </tr>\n",
       "    <tr>\n",
       "      <th>Wednesday</th>\n",
       "      <td>19372.105469</td>\n",
       "      <td>68216.509804</td>\n",
       "      <td>13234.430556</td>\n",
       "      <td>17809.980058</td>\n",
       "      <td>66220.127409</td>\n",
       "      <td>12255.598561</td>\n",
       "      <td>17797.291157</td>\n",
       "      <td>71961.800562</td>\n",
       "      <td>13234.805461</td>\n",
       "    </tr>\n",
       "    <tr>\n",
       "      <th>Thursday</th>\n",
       "      <td>19879.209774</td>\n",
       "      <td>68319.880000</td>\n",
       "      <td>13324.351220</td>\n",
       "      <td>17987.282458</td>\n",
       "      <td>67578.548780</td>\n",
       "      <td>12511.782441</td>\n",
       "      <td>17906.231623</td>\n",
       "      <td>75706.441218</td>\n",
       "      <td>12694.992999</td>\n",
       "    </tr>\n",
       "    <tr>\n",
       "      <th>Friday</th>\n",
       "      <td>18891.041457</td>\n",
       "      <td>73596.727273</td>\n",
       "      <td>12885.248000</td>\n",
       "      <td>17694.003432</td>\n",
       "      <td>65973.959918</td>\n",
       "      <td>12249.178311</td>\n",
       "      <td>17535.585915</td>\n",
       "      <td>77468.788054</td>\n",
       "      <td>12982.341464</td>\n",
       "    </tr>\n",
       "    <tr>\n",
       "      <th>Saturday</th>\n",
       "      <td>19970.335818</td>\n",
       "      <td>72381.885714</td>\n",
       "      <td>13939.891089</td>\n",
       "      <td>17747.660396</td>\n",
       "      <td>66611.120909</td>\n",
       "      <td>12313.932787</td>\n",
       "      <td>17773.888751</td>\n",
       "      <td>74740.144531</td>\n",
       "      <td>13001.971354</td>\n",
       "    </tr>\n",
       "    <tr>\n",
       "      <th>Sunday</th>\n",
       "      <td>18831.241756</td>\n",
       "      <td>72182.653992</td>\n",
       "      <td>13897.502674</td>\n",
       "      <td>17649.690262</td>\n",
       "      <td>66708.621488</td>\n",
       "      <td>12385.304045</td>\n",
       "      <td>17939.162317</td>\n",
       "      <td>76545.073587</td>\n",
       "      <td>13114.061792</td>\n",
       "    </tr>\n",
       "  </tbody>\n",
       "</table>\n",
       "</div>"
      ],
      "text/plain": [
       "format         hypermarket                                minimarket  \\\n",
       "sub_category     Detergent          Rice         Sugar     Detergent   \n",
       "weekday                                                                \n",
       "Monday        19138.560606  66298.693694  13358.891903  17560.317294   \n",
       "Tuesday       19389.388316  74470.872340  13794.590698  17901.031532   \n",
       "Wednesday     19372.105469  68216.509804  13234.430556  17809.980058   \n",
       "Thursday      19879.209774  68319.880000  13324.351220  17987.282458   \n",
       "Friday        18891.041457  73596.727273  12885.248000  17694.003432   \n",
       "Saturday      19970.335818  72381.885714  13939.891089  17747.660396   \n",
       "Sunday        18831.241756  72182.653992  13897.502674  17649.690262   \n",
       "\n",
       "format                                     supermarket                \\\n",
       "sub_category          Rice         Sugar     Detergent          Rice   \n",
       "weekday                                                                \n",
       "Monday        68546.853862  12457.940470  18133.631542  73603.415629   \n",
       "Tuesday       68448.321464  12286.595116  17944.182547  73134.498062   \n",
       "Wednesday     66220.127409  12255.598561  17797.291157  71961.800562   \n",
       "Thursday      67578.548780  12511.782441  17906.231623  75706.441218   \n",
       "Friday        65973.959918  12249.178311  17535.585915  77468.788054   \n",
       "Saturday      66611.120909  12313.932787  17773.888751  74740.144531   \n",
       "Sunday        66708.621488  12385.304045  17939.162317  76545.073587   \n",
       "\n",
       "format                      \n",
       "sub_category         Sugar  \n",
       "weekday                     \n",
       "Monday        13024.603859  \n",
       "Tuesday       13436.082699  \n",
       "Wednesday     13234.805461  \n",
       "Thursday      12694.992999  \n",
       "Friday        12982.341464  \n",
       "Saturday      13001.971354  \n",
       "Sunday        13114.061792  "
      ]
     },
     "execution_count": 86,
     "metadata": {},
     "output_type": "execute_result"
    }
   ],
   "source": [
    "pd.pivot_table(\n",
    "    data=household,\n",
    "    index='weekday',\n",
    "    columns=['format', 'sub_category'],\n",
    "    values='unit_price'\n",
    ")"
   ]
  },
  {
   "cell_type": "markdown",
   "metadata": {
    "id": "Uke8bOaVsDFm"
   },
   "source": [
    "If we want to summarize the table by `max` of `unit_price`, just specify the `aggfunc` parameter:"
   ]
  },
  {
   "cell_type": "code",
   "execution_count": 87,
   "metadata": {
    "id": "5lqdQL4DsDFm"
   },
   "outputs": [
    {
     "data": {
      "text/html": [
       "<div>\n",
       "<style scoped>\n",
       "    .dataframe tbody tr th:only-of-type {\n",
       "        vertical-align: middle;\n",
       "    }\n",
       "\n",
       "    .dataframe tbody tr th {\n",
       "        vertical-align: top;\n",
       "    }\n",
       "\n",
       "    .dataframe thead tr th {\n",
       "        text-align: left;\n",
       "    }\n",
       "\n",
       "    .dataframe thead tr:last-of-type th {\n",
       "        text-align: right;\n",
       "    }\n",
       "</style>\n",
       "<table border=\"1\" class=\"dataframe\">\n",
       "  <thead>\n",
       "    <tr>\n",
       "      <th>format</th>\n",
       "      <th colspan=\"3\" halign=\"left\">hypermarket</th>\n",
       "      <th colspan=\"3\" halign=\"left\">minimarket</th>\n",
       "      <th colspan=\"3\" halign=\"left\">supermarket</th>\n",
       "    </tr>\n",
       "    <tr>\n",
       "      <th>sub_category</th>\n",
       "      <th>Detergent</th>\n",
       "      <th>Rice</th>\n",
       "      <th>Sugar</th>\n",
       "      <th>Detergent</th>\n",
       "      <th>Rice</th>\n",
       "      <th>Sugar</th>\n",
       "      <th>Detergent</th>\n",
       "      <th>Rice</th>\n",
       "      <th>Sugar</th>\n",
       "    </tr>\n",
       "    <tr>\n",
       "      <th>weekday</th>\n",
       "      <th></th>\n",
       "      <th></th>\n",
       "      <th></th>\n",
       "      <th></th>\n",
       "      <th></th>\n",
       "      <th></th>\n",
       "      <th></th>\n",
       "      <th></th>\n",
       "      <th></th>\n",
       "    </tr>\n",
       "  </thead>\n",
       "  <tbody>\n",
       "    <tr>\n",
       "      <th>Monday</th>\n",
       "      <td>57000.0</td>\n",
       "      <td>175000.0</td>\n",
       "      <td>59950.0</td>\n",
       "      <td>57000.0</td>\n",
       "      <td>219400.0</td>\n",
       "      <td>57000.0</td>\n",
       "      <td>53200.0</td>\n",
       "      <td>219000.0</td>\n",
       "      <td>59500.0</td>\n",
       "    </tr>\n",
       "    <tr>\n",
       "      <th>Tuesday</th>\n",
       "      <td>59500.0</td>\n",
       "      <td>213725.0</td>\n",
       "      <td>59900.0</td>\n",
       "      <td>59000.0</td>\n",
       "      <td>215000.0</td>\n",
       "      <td>50000.0</td>\n",
       "      <td>59900.0</td>\n",
       "      <td>179900.0</td>\n",
       "      <td>59216.0</td>\n",
       "    </tr>\n",
       "    <tr>\n",
       "      <th>Wednesday</th>\n",
       "      <td>50000.0</td>\n",
       "      <td>214000.0</td>\n",
       "      <td>50000.0</td>\n",
       "      <td>55675.0</td>\n",
       "      <td>218592.0</td>\n",
       "      <td>57000.0</td>\n",
       "      <td>53900.0</td>\n",
       "      <td>192000.0</td>\n",
       "      <td>59900.0</td>\n",
       "    </tr>\n",
       "    <tr>\n",
       "      <th>Thursday</th>\n",
       "      <td>54475.0</td>\n",
       "      <td>128000.0</td>\n",
       "      <td>49600.0</td>\n",
       "      <td>57500.0</td>\n",
       "      <td>215000.0</td>\n",
       "      <td>59900.0</td>\n",
       "      <td>55000.0</td>\n",
       "      <td>192000.0</td>\n",
       "      <td>59950.0</td>\n",
       "    </tr>\n",
       "    <tr>\n",
       "      <th>Friday</th>\n",
       "      <td>55440.0</td>\n",
       "      <td>141200.0</td>\n",
       "      <td>43815.0</td>\n",
       "      <td>56000.0</td>\n",
       "      <td>215000.0</td>\n",
       "      <td>47200.0</td>\n",
       "      <td>57200.0</td>\n",
       "      <td>218900.0</td>\n",
       "      <td>58500.0</td>\n",
       "    </tr>\n",
       "    <tr>\n",
       "      <th>Saturday</th>\n",
       "      <td>58470.0</td>\n",
       "      <td>195650.0</td>\n",
       "      <td>59500.0</td>\n",
       "      <td>58000.0</td>\n",
       "      <td>215000.0</td>\n",
       "      <td>56000.0</td>\n",
       "      <td>56400.0</td>\n",
       "      <td>214000.0</td>\n",
       "      <td>59900.0</td>\n",
       "    </tr>\n",
       "    <tr>\n",
       "      <th>Sunday</th>\n",
       "      <td>55560.0</td>\n",
       "      <td>129000.0</td>\n",
       "      <td>59900.0</td>\n",
       "      <td>57100.0</td>\n",
       "      <td>219000.0</td>\n",
       "      <td>58000.0</td>\n",
       "      <td>59600.0</td>\n",
       "      <td>218000.0</td>\n",
       "      <td>59900.0</td>\n",
       "    </tr>\n",
       "  </tbody>\n",
       "</table>\n",
       "</div>"
      ],
      "text/plain": [
       "format       hypermarket                    minimarket                     \\\n",
       "sub_category   Detergent      Rice    Sugar  Detergent      Rice    Sugar   \n",
       "weekday                                                                     \n",
       "Monday           57000.0  175000.0  59950.0    57000.0  219400.0  57000.0   \n",
       "Tuesday          59500.0  213725.0  59900.0    59000.0  215000.0  50000.0   \n",
       "Wednesday        50000.0  214000.0  50000.0    55675.0  218592.0  57000.0   \n",
       "Thursday         54475.0  128000.0  49600.0    57500.0  215000.0  59900.0   \n",
       "Friday           55440.0  141200.0  43815.0    56000.0  215000.0  47200.0   \n",
       "Saturday         58470.0  195650.0  59500.0    58000.0  215000.0  56000.0   \n",
       "Sunday           55560.0  129000.0  59900.0    57100.0  219000.0  58000.0   \n",
       "\n",
       "format       supermarket                     \n",
       "sub_category   Detergent      Rice    Sugar  \n",
       "weekday                                      \n",
       "Monday           53200.0  219000.0  59500.0  \n",
       "Tuesday          59900.0  179900.0  59216.0  \n",
       "Wednesday        53900.0  192000.0  59900.0  \n",
       "Thursday         55000.0  192000.0  59950.0  \n",
       "Friday           57200.0  218900.0  58500.0  \n",
       "Saturday         56400.0  214000.0  59900.0  \n",
       "Sunday           59600.0  218000.0  59900.0  "
      ]
     },
     "execution_count": 87,
     "metadata": {},
     "output_type": "execute_result"
    }
   ],
   "source": [
    "pd.pivot_table(\n",
    "    data=household,\n",
    "    index='weekday', \n",
    "    columns=['format', 'sub_category'], \n",
    "    values='unit_price',\n",
    "    aggfunc='max'\n",
    ")"
   ]
  },
  {
   "cell_type": "markdown",
   "metadata": {
    "id": "Oa_wiZvgsDFm"
   },
   "source": [
    "Let's recreate a frequency table below which shows the number of transactions, using `pd.pivot_table()`:"
   ]
  },
  {
   "cell_type": "markdown",
   "metadata": {
    "id": "bi7qm_f5sDFm"
   },
   "source": [
    "| category                 |   hypermarket |   minimarket |   supermarket |   Total |\n",
    "|:-------------------------|--------------:|-------------:|--------------:|--------:|\n",
    "| **Fabric Care**          |          2611 |        24345 |          9044 |   36000 |\n",
    "| **Rice**                 |           999 |         7088 |          3913 |   12000 |\n",
    "| **Sugar/Flavored Syrup** |          1761 |        15370 |          6869 |   24000 |\n",
    "| **Total**                |          5371 |        46803 |         19826 |   72000 |"
   ]
  },
  {
   "cell_type": "markdown",
   "metadata": {
    "id": "7REbks-nsDFn"
   },
   "source": [
    "- index: ...\n",
    "- columns: ...\n",
    "- aggfunc: ...\n",
    "- values: ...\n",
    "- \"Total\" in row and column using ..."
   ]
  },
  {
   "cell_type": "code",
   "execution_count": null,
   "metadata": {
    "id": "3otU50H5sDFn"
   },
   "outputs": [],
   "source": []
  },
  {
   "cell_type": "markdown",
   "metadata": {
    "id": "TSIWaPD-sDFn"
   },
   "source": [
    "**Note:** parameter `margins` and `margins_name` are available on both `crosstab` and `pivot_table`, but parameter `normalize` only available on `crosstab`"
   ]
  },
  {
   "cell_type": "markdown",
   "metadata": {
    "id": "vjKh4MU2sDFn"
   },
   "source": [
    "___"
   ]
  },
  {
   "cell_type": "markdown",
   "metadata": {
    "id": "jnRpofblsDFn"
   },
   "source": [
    "# Summary: Tables in `pandas` "
   ]
  },
  {
   "cell_type": "markdown",
   "metadata": {
    "id": "jUzAcbm2sDFn"
   },
   "source": [
    "## Frequency Tables\n",
    "\n",
    "Usage: calculate number of rows for categorical column\n",
    "\n",
    "Methods:\n",
    "\n",
    "- For one column, use `.value_counts()` (Series)\n",
    "- For one or more columns:\n",
    "    - `pd.crosstab(index, columns)`\n",
    "    - `pd.pivot_table(index, columns, aggfunc='count')` but rarely used"
   ]
  },
  {
   "cell_type": "markdown",
   "metadata": {
    "id": "E6amVhvfsDFo"
   },
   "source": [
    "## Aggregation Tables\n",
    "\n",
    "Usage: aggregate numerical column which broken down by categorical column\n",
    "\n",
    "Methods:\n",
    "\n",
    "- `pd.crosstab(index, columns, values, aggfunc)`\n",
    "- `pd.pivot_table(data, index, columns, values, aggfunc)`"
   ]
  },
  {
   "cell_type": "markdown",
   "metadata": {
    "id": "uumOtM1nsDFo"
   },
   "source": [
    "## `crosstab` vs `pivot_table`"
   ]
  },
  {
   "cell_type": "markdown",
   "metadata": {
    "id": "hlo1ZUdUsDFo"
   },
   "source": [
    "The main differences between `crosstab` and `pivot_table` can be summarized as follows:\n",
    "\n",
    "|                                                                                    | `pd.crosstab()` | `pd.pivot_table()` |\n",
    "|------------------------------------------------------------------------------------|-----------------|--------------------|\n",
    "|                                                                          **Input** | Array of values |          DataFrame |\n",
    "|                                                              **Default `aggfunc`** |       `'count'` |           `'mean'` |\n",
    "|                                                          **Parameter `normalize`** |       Available |      Not Available |\n",
    "| [**Computation Time**](https://ramiro.org/notebook/pandas-crosstab-groupby-pivot/) | Relatively Slower |  Relatively Faster |"
   ]
  },
  {
   "cell_type": "code",
   "execution_count": 88,
   "metadata": {
    "id": "j251ysb2sDFo"
   },
   "outputs": [
    {
     "data": {
      "text/html": [
       "<div>\n",
       "<style scoped>\n",
       "    .dataframe tbody tr th:only-of-type {\n",
       "        vertical-align: middle;\n",
       "    }\n",
       "\n",
       "    .dataframe tbody tr th {\n",
       "        vertical-align: top;\n",
       "    }\n",
       "\n",
       "    .dataframe thead th {\n",
       "        text-align: right;\n",
       "    }\n",
       "</style>\n",
       "<table border=\"1\" class=\"dataframe\">\n",
       "  <thead>\n",
       "    <tr style=\"text-align: right;\">\n",
       "      <th>col_0</th>\n",
       "      <th>hypermarket</th>\n",
       "      <th>minimarket</th>\n",
       "    </tr>\n",
       "    <tr>\n",
       "      <th>row_0</th>\n",
       "      <th></th>\n",
       "      <th></th>\n",
       "    </tr>\n",
       "  </thead>\n",
       "  <tbody>\n",
       "    <tr>\n",
       "      <th>Rice</th>\n",
       "      <td>1</td>\n",
       "      <td>1</td>\n",
       "    </tr>\n",
       "    <tr>\n",
       "      <th>Sugar</th>\n",
       "      <td>2</td>\n",
       "      <td>0</td>\n",
       "    </tr>\n",
       "  </tbody>\n",
       "</table>\n",
       "</div>"
      ],
      "text/plain": [
       "col_0  hypermarket  minimarket\n",
       "row_0                         \n",
       "Rice             1           1\n",
       "Sugar            2           0"
      ]
     },
     "execution_count": 88,
     "metadata": {},
     "output_type": "execute_result"
    }
   ],
   "source": [
    "# crosstab expect a list/array of values, so the input doesn't have to be a DataFrame\n",
    "import numpy as np\n",
    "\n",
    "pd.crosstab(\n",
    "    index=np.array(['Sugar', 'Sugar', 'Rice', 'Rice']),\n",
    "    columns=np.array(['hypermarket', 'hypermarket', 'minimarket', 'hypermarket'])\n",
    ")"
   ]
  },
  {
   "cell_type": "markdown",
   "metadata": {
    "id": "8aoJBDRDsDFo"
   },
   "source": [
    "# Missing Values and Duplicates"
   ]
  },
  {
   "cell_type": "markdown",
   "metadata": {
    "id": "7cWxOdzXsDFo"
   },
   "source": [
    "During the data exploration and preparation phase, it is likely we come across some problematic details in our data, such as: \n",
    "\n",
    "- Value of _-1_ for the _age_ column\n",
    "- Value of _blank_ for the _customer segment_ column\n",
    "- Value of _None_ for the _loan duration_ column\n",
    "- etc\n",
    "\n",
    "All of these are examples of \"untidy\" data, which is rather common depending on the data collection and recording process in a company."
   ]
  },
  {
   "cell_type": "markdown",
   "metadata": {
    "id": "qbDyeNK2sDFo"
   },
   "source": [
    "## Missing Values"
   ]
  },
  {
   "cell_type": "markdown",
   "metadata": {
    "id": "X3fmbCmgsDFp"
   },
   "source": [
    "Let's import `household_untidy.csv`, which is a manipulated version of `household` DataFrame. \n",
    "\n",
    "**Note**: If you're curious on how to inject the missing values, check out our main materials on Section 3."
   ]
  },
  {
   "cell_type": "code",
   "execution_count": 89,
   "metadata": {
    "id": "rH-5WF8rsDFp"
   },
   "outputs": [
    {
     "data": {
      "text/html": [
       "<div>\n",
       "<style scoped>\n",
       "    .dataframe tbody tr th:only-of-type {\n",
       "        vertical-align: middle;\n",
       "    }\n",
       "\n",
       "    .dataframe tbody tr th {\n",
       "        vertical-align: top;\n",
       "    }\n",
       "\n",
       "    .dataframe thead th {\n",
       "        text-align: right;\n",
       "    }\n",
       "</style>\n",
       "<table border=\"1\" class=\"dataframe\">\n",
       "  <thead>\n",
       "    <tr style=\"text-align: right;\">\n",
       "      <th></th>\n",
       "      <th>purchase_time</th>\n",
       "      <th>category</th>\n",
       "      <th>format</th>\n",
       "      <th>unit_price</th>\n",
       "      <th>discount</th>\n",
       "      <th>quantity</th>\n",
       "      <th>weekday</th>\n",
       "      <th>Unnamed: 8</th>\n",
       "    </tr>\n",
       "    <tr>\n",
       "      <th>receipts_item_id</th>\n",
       "      <th></th>\n",
       "      <th></th>\n",
       "      <th></th>\n",
       "      <th></th>\n",
       "      <th></th>\n",
       "      <th></th>\n",
       "      <th></th>\n",
       "      <th></th>\n",
       "    </tr>\n",
       "  </thead>\n",
       "  <tbody>\n",
       "    <tr>\n",
       "      <th>32000000</th>\n",
       "      <td>NaT</td>\n",
       "      <td>NaN</td>\n",
       "      <td>NaN</td>\n",
       "      <td>NaN</td>\n",
       "      <td>NaN</td>\n",
       "      <td>NaN</td>\n",
       "      <td>NaN</td>\n",
       "      <td>NaN</td>\n",
       "    </tr>\n",
       "    <tr>\n",
       "      <th>32000001</th>\n",
       "      <td>NaT</td>\n",
       "      <td>NaN</td>\n",
       "      <td>NaN</td>\n",
       "      <td>NaN</td>\n",
       "      <td>NaN</td>\n",
       "      <td>NaN</td>\n",
       "      <td>NaN</td>\n",
       "      <td>NaN</td>\n",
       "    </tr>\n",
       "    <tr>\n",
       "      <th>32030785</th>\n",
       "      <td>2018-07-17 18:05:00</td>\n",
       "      <td>Rice</td>\n",
       "      <td>minimarket</td>\n",
       "      <td>63500.0</td>\n",
       "      <td>0.0</td>\n",
       "      <td>1.0</td>\n",
       "      <td>Tuesday</td>\n",
       "      <td>NaN</td>\n",
       "    </tr>\n",
       "    <tr>\n",
       "      <th>32000002</th>\n",
       "      <td>NaT</td>\n",
       "      <td>NaN</td>\n",
       "      <td>NaN</td>\n",
       "      <td>NaN</td>\n",
       "      <td>NaN</td>\n",
       "      <td>NaN</td>\n",
       "      <td>NaN</td>\n",
       "      <td>NaN</td>\n",
       "    </tr>\n",
       "    <tr>\n",
       "      <th>32000003</th>\n",
       "      <td>NaT</td>\n",
       "      <td>NaN</td>\n",
       "      <td>NaN</td>\n",
       "      <td>NaN</td>\n",
       "      <td>NaN</td>\n",
       "      <td>NaN</td>\n",
       "      <td>NaN</td>\n",
       "      <td>NaN</td>\n",
       "    </tr>\n",
       "  </tbody>\n",
       "</table>\n",
       "</div>"
      ],
      "text/plain": [
       "                       purchase_time category      format  unit_price  \\\n",
       "receipts_item_id                                                        \n",
       "32000000                         NaT      NaN         NaN         NaN   \n",
       "32000001                         NaT      NaN         NaN         NaN   \n",
       "32030785         2018-07-17 18:05:00     Rice  minimarket     63500.0   \n",
       "32000002                         NaT      NaN         NaN         NaN   \n",
       "32000003                         NaT      NaN         NaN         NaN   \n",
       "\n",
       "                  discount  quantity  weekday  Unnamed: 8  \n",
       "receipts_item_id                                           \n",
       "32000000               NaN       NaN      NaN         NaN  \n",
       "32000001               NaN       NaN      NaN         NaN  \n",
       "32030785               0.0       1.0  Tuesday         NaN  \n",
       "32000002               NaN       NaN      NaN         NaN  \n",
       "32000003               NaN       NaN      NaN         NaN  "
      ]
     },
     "execution_count": 89,
     "metadata": {},
     "output_type": "execute_result"
    }
   ],
   "source": [
    "household_untidy = pd.read_csv(\"data_input/household_untidy.csv\", index_col='receipts_item_id')\n",
    "household_untidy['purchase_time'] = household_untidy['purchase_time'].astype('datetime64')\n",
    "household_untidy.head()"
   ]
  },
  {
   "cell_type": "markdown",
   "metadata": {
    "id": "tvvJEfECsDFp"
   },
   "source": [
    "Missing Values:\n",
    "\n",
    "- `NaN`: Not a Number, for object and category\n",
    "- `nan`: not a number, for numeric\n",
    "- `NaT`: Not a Time, for datetime64"
   ]
  },
  {
   "cell_type": "markdown",
   "metadata": {
    "id": "QeBQ5Ux3sDFp"
   },
   "source": [
    "### Check Missing Values"
   ]
  },
  {
   "cell_type": "markdown",
   "metadata": {
    "id": "Gd1Jxd6YsDFp"
   },
   "source": [
    "A common method to detect missing values:\n",
    "\n",
    "- `.isna()`: returns `True` if the values are missing.\n",
    "- `.notna()`: returns `True` if the values are **not** missing."
   ]
  },
  {
   "cell_type": "code",
   "execution_count": 90,
   "metadata": {
    "id": "i7DJ1dNdsDFp",
    "scrolled": false
   },
   "outputs": [
    {
     "data": {
      "text/html": [
       "<div>\n",
       "<style scoped>\n",
       "    .dataframe tbody tr th:only-of-type {\n",
       "        vertical-align: middle;\n",
       "    }\n",
       "\n",
       "    .dataframe tbody tr th {\n",
       "        vertical-align: top;\n",
       "    }\n",
       "\n",
       "    .dataframe thead th {\n",
       "        text-align: right;\n",
       "    }\n",
       "</style>\n",
       "<table border=\"1\" class=\"dataframe\">\n",
       "  <thead>\n",
       "    <tr style=\"text-align: right;\">\n",
       "      <th></th>\n",
       "      <th>purchase_time</th>\n",
       "      <th>category</th>\n",
       "      <th>format</th>\n",
       "      <th>unit_price</th>\n",
       "      <th>discount</th>\n",
       "      <th>quantity</th>\n",
       "      <th>weekday</th>\n",
       "      <th>Unnamed: 8</th>\n",
       "    </tr>\n",
       "    <tr>\n",
       "      <th>receipts_item_id</th>\n",
       "      <th></th>\n",
       "      <th></th>\n",
       "      <th></th>\n",
       "      <th></th>\n",
       "      <th></th>\n",
       "      <th></th>\n",
       "      <th></th>\n",
       "      <th></th>\n",
       "    </tr>\n",
       "  </thead>\n",
       "  <tbody>\n",
       "    <tr>\n",
       "      <th>32000000</th>\n",
       "      <td>True</td>\n",
       "      <td>True</td>\n",
       "      <td>True</td>\n",
       "      <td>True</td>\n",
       "      <td>True</td>\n",
       "      <td>True</td>\n",
       "      <td>True</td>\n",
       "      <td>True</td>\n",
       "    </tr>\n",
       "    <tr>\n",
       "      <th>32000001</th>\n",
       "      <td>True</td>\n",
       "      <td>True</td>\n",
       "      <td>True</td>\n",
       "      <td>True</td>\n",
       "      <td>True</td>\n",
       "      <td>True</td>\n",
       "      <td>True</td>\n",
       "      <td>True</td>\n",
       "    </tr>\n",
       "    <tr>\n",
       "      <th>32030785</th>\n",
       "      <td>False</td>\n",
       "      <td>False</td>\n",
       "      <td>False</td>\n",
       "      <td>False</td>\n",
       "      <td>False</td>\n",
       "      <td>False</td>\n",
       "      <td>False</td>\n",
       "      <td>True</td>\n",
       "    </tr>\n",
       "    <tr>\n",
       "      <th>32000002</th>\n",
       "      <td>True</td>\n",
       "      <td>True</td>\n",
       "      <td>True</td>\n",
       "      <td>True</td>\n",
       "      <td>True</td>\n",
       "      <td>True</td>\n",
       "      <td>True</td>\n",
       "      <td>True</td>\n",
       "    </tr>\n",
       "    <tr>\n",
       "      <th>32000003</th>\n",
       "      <td>True</td>\n",
       "      <td>True</td>\n",
       "      <td>True</td>\n",
       "      <td>True</td>\n",
       "      <td>True</td>\n",
       "      <td>True</td>\n",
       "      <td>True</td>\n",
       "      <td>True</td>\n",
       "    </tr>\n",
       "    <tr>\n",
       "      <th>32000004</th>\n",
       "      <td>True</td>\n",
       "      <td>True</td>\n",
       "      <td>True</td>\n",
       "      <td>True</td>\n",
       "      <td>True</td>\n",
       "      <td>True</td>\n",
       "      <td>True</td>\n",
       "      <td>True</td>\n",
       "    </tr>\n",
       "    <tr>\n",
       "      <th>32369294</th>\n",
       "      <td>False</td>\n",
       "      <td>False</td>\n",
       "      <td>False</td>\n",
       "      <td>False</td>\n",
       "      <td>False</td>\n",
       "      <td>False</td>\n",
       "      <td>False</td>\n",
       "      <td>True</td>\n",
       "    </tr>\n",
       "    <tr>\n",
       "      <th>31885876</th>\n",
       "      <td>False</td>\n",
       "      <td>False</td>\n",
       "      <td>False</td>\n",
       "      <td>False</td>\n",
       "      <td>False</td>\n",
       "      <td>False</td>\n",
       "      <td>True</td>\n",
       "      <td>True</td>\n",
       "    </tr>\n",
       "    <tr>\n",
       "      <th>31930241</th>\n",
       "      <td>False</td>\n",
       "      <td>False</td>\n",
       "      <td>False</td>\n",
       "      <td>False</td>\n",
       "      <td>False</td>\n",
       "      <td>False</td>\n",
       "      <td>False</td>\n",
       "      <td>True</td>\n",
       "    </tr>\n",
       "    <tr>\n",
       "      <th>32418582</th>\n",
       "      <td>False</td>\n",
       "      <td>False</td>\n",
       "      <td>False</td>\n",
       "      <td>False</td>\n",
       "      <td>False</td>\n",
       "      <td>False</td>\n",
       "      <td>False</td>\n",
       "      <td>True</td>\n",
       "    </tr>\n",
       "    <tr>\n",
       "      <th>32561236</th>\n",
       "      <td>False</td>\n",
       "      <td>False</td>\n",
       "      <td>False</td>\n",
       "      <td>False</td>\n",
       "      <td>False</td>\n",
       "      <td>False</td>\n",
       "      <td>False</td>\n",
       "      <td>True</td>\n",
       "    </tr>\n",
       "    <tr>\n",
       "      <th>32030785</th>\n",
       "      <td>False</td>\n",
       "      <td>False</td>\n",
       "      <td>False</td>\n",
       "      <td>False</td>\n",
       "      <td>False</td>\n",
       "      <td>False</td>\n",
       "      <td>False</td>\n",
       "      <td>True</td>\n",
       "    </tr>\n",
       "    <tr>\n",
       "      <th>32935097</th>\n",
       "      <td>False</td>\n",
       "      <td>False</td>\n",
       "      <td>False</td>\n",
       "      <td>False</td>\n",
       "      <td>False</td>\n",
       "      <td>False</td>\n",
       "      <td>False</td>\n",
       "      <td>True</td>\n",
       "    </tr>\n",
       "    <tr>\n",
       "      <th>32593606</th>\n",
       "      <td>False</td>\n",
       "      <td>False</td>\n",
       "      <td>False</td>\n",
       "      <td>False</td>\n",
       "      <td>False</td>\n",
       "      <td>False</td>\n",
       "      <td>False</td>\n",
       "      <td>True</td>\n",
       "    </tr>\n",
       "    <tr>\n",
       "      <th>32573843</th>\n",
       "      <td>False</td>\n",
       "      <td>False</td>\n",
       "      <td>False</td>\n",
       "      <td>False</td>\n",
       "      <td>False</td>\n",
       "      <td>False</td>\n",
       "      <td>False</td>\n",
       "      <td>True</td>\n",
       "    </tr>\n",
       "    <tr>\n",
       "      <th>31913062</th>\n",
       "      <td>False</td>\n",
       "      <td>False</td>\n",
       "      <td>False</td>\n",
       "      <td>False</td>\n",
       "      <td>False</td>\n",
       "      <td>False</td>\n",
       "      <td>False</td>\n",
       "      <td>True</td>\n",
       "    </tr>\n",
       "    <tr>\n",
       "      <th>31125365</th>\n",
       "      <td>False</td>\n",
       "      <td>False</td>\n",
       "      <td>False</td>\n",
       "      <td>False</td>\n",
       "      <td>False</td>\n",
       "      <td>False</td>\n",
       "      <td>False</td>\n",
       "      <td>True</td>\n",
       "    </tr>\n",
       "    <tr>\n",
       "      <th>32856560</th>\n",
       "      <td>False</td>\n",
       "      <td>False</td>\n",
       "      <td>False</td>\n",
       "      <td>False</td>\n",
       "      <td>False</td>\n",
       "      <td>False</td>\n",
       "      <td>False</td>\n",
       "      <td>True</td>\n",
       "    </tr>\n",
       "    <tr>\n",
       "      <th>32552145</th>\n",
       "      <td>False</td>\n",
       "      <td>False</td>\n",
       "      <td>False</td>\n",
       "      <td>False</td>\n",
       "      <td>False</td>\n",
       "      <td>False</td>\n",
       "      <td>False</td>\n",
       "      <td>True</td>\n",
       "    </tr>\n",
       "    <tr>\n",
       "      <th>32369065</th>\n",
       "      <td>False</td>\n",
       "      <td>False</td>\n",
       "      <td>False</td>\n",
       "      <td>False</td>\n",
       "      <td>False</td>\n",
       "      <td>False</td>\n",
       "      <td>False</td>\n",
       "      <td>True</td>\n",
       "    </tr>\n",
       "  </tbody>\n",
       "</table>\n",
       "</div>"
      ],
      "text/plain": [
       "                  purchase_time  category  format  unit_price  discount  \\\n",
       "receipts_item_id                                                          \n",
       "32000000                   True      True    True        True      True   \n",
       "32000001                   True      True    True        True      True   \n",
       "32030785                  False     False   False       False     False   \n",
       "32000002                   True      True    True        True      True   \n",
       "32000003                   True      True    True        True      True   \n",
       "32000004                   True      True    True        True      True   \n",
       "32369294                  False     False   False       False     False   \n",
       "31885876                  False     False   False       False     False   \n",
       "31930241                  False     False   False       False     False   \n",
       "32418582                  False     False   False       False     False   \n",
       "32561236                  False     False   False       False     False   \n",
       "32030785                  False     False   False       False     False   \n",
       "32935097                  False     False   False       False     False   \n",
       "32593606                  False     False   False       False     False   \n",
       "32573843                  False     False   False       False     False   \n",
       "31913062                  False     False   False       False     False   \n",
       "31125365                  False     False   False       False     False   \n",
       "32856560                  False     False   False       False     False   \n",
       "32552145                  False     False   False       False     False   \n",
       "32369065                  False     False   False       False     False   \n",
       "\n",
       "                  quantity  weekday  Unnamed: 8  \n",
       "receipts_item_id                                 \n",
       "32000000              True     True        True  \n",
       "32000001              True     True        True  \n",
       "32030785             False    False        True  \n",
       "32000002              True     True        True  \n",
       "32000003              True     True        True  \n",
       "32000004              True     True        True  \n",
       "32369294             False    False        True  \n",
       "31885876             False     True        True  \n",
       "31930241             False    False        True  \n",
       "32418582             False    False        True  \n",
       "32561236             False    False        True  \n",
       "32030785             False    False        True  \n",
       "32935097             False    False        True  \n",
       "32593606             False    False        True  \n",
       "32573843             False    False        True  \n",
       "31913062             False    False        True  \n",
       "31125365             False    False        True  \n",
       "32856560             False    False        True  \n",
       "32552145             False    False        True  \n",
       "32369065             False    False        True  "
      ]
     },
     "execution_count": 90,
     "metadata": {},
     "output_type": "execute_result"
    }
   ],
   "source": [
    "household_untidy.isna()"
   ]
  },
  {
   "cell_type": "markdown",
   "metadata": {
    "id": "XzhHj6CesDFq"
   },
   "source": [
    "Count the **number** of missing values across each column:\n",
    "\n",
    "- `True` will be treated as 1\n",
    "- `False` will be treated as 0"
   ]
  },
  {
   "cell_type": "code",
   "execution_count": 91,
   "metadata": {
    "id": "zDDPan_-sDFq"
   },
   "outputs": [
    {
     "data": {
      "text/plain": [
       "purchase_time     5\n",
       "category          5\n",
       "format            5\n",
       "unit_price        5\n",
       "discount          5\n",
       "quantity          5\n",
       "weekday           6\n",
       "Unnamed: 8       20\n",
       "dtype: int64"
      ]
     },
     "execution_count": 91,
     "metadata": {},
     "output_type": "execute_result"
    }
   ],
   "source": [
    "household_untidy.isna().sum()"
   ]
  },
  {
   "cell_type": "markdown",
   "metadata": {
    "id": "iV-DLfFTsDFq"
   },
   "source": [
    "Usually, we count the **percentages** of missing values across each column:"
   ]
  },
  {
   "cell_type": "code",
   "execution_count": null,
   "metadata": {
    "id": "1EKThXkOsDFq"
   },
   "outputs": [],
   "source": []
  },
  {
   "cell_type": "markdown",
   "metadata": {
    "id": "elp1kvo8sDFq"
   },
   "source": [
    "### Treatment for Missing Value"
   ]
  },
  {
   "cell_type": "markdown",
   "metadata": {
    "id": "0KMnMjiOsDFr"
   },
   "source": [
    "Three most common ways to deal with missing value:\n",
    "\n",
    "1. Delete column\n",
    "2. Delete row\n",
    "3. Imputation"
   ]
  },
  {
   "cell_type": "markdown",
   "metadata": {
    "id": "cPSyzoZSsDFr"
   },
   "source": [
    "#### Delete Column"
   ]
  },
  {
   "cell_type": "markdown",
   "metadata": {
    "id": "GqBehmBDsDFr"
   },
   "source": [
    "Use `.drop(columns = ...)` method"
   ]
  },
  {
   "cell_type": "code",
   "execution_count": 92,
   "metadata": {
    "id": "WvgyuPI_sDFr"
   },
   "outputs": [
    {
     "data": {
      "text/html": [
       "<div>\n",
       "<style scoped>\n",
       "    .dataframe tbody tr th:only-of-type {\n",
       "        vertical-align: middle;\n",
       "    }\n",
       "\n",
       "    .dataframe tbody tr th {\n",
       "        vertical-align: top;\n",
       "    }\n",
       "\n",
       "    .dataframe thead th {\n",
       "        text-align: right;\n",
       "    }\n",
       "</style>\n",
       "<table border=\"1\" class=\"dataframe\">\n",
       "  <thead>\n",
       "    <tr style=\"text-align: right;\">\n",
       "      <th></th>\n",
       "      <th>purchase_time</th>\n",
       "      <th>category</th>\n",
       "      <th>format</th>\n",
       "      <th>unit_price</th>\n",
       "      <th>discount</th>\n",
       "      <th>quantity</th>\n",
       "      <th>weekday</th>\n",
       "    </tr>\n",
       "    <tr>\n",
       "      <th>receipts_item_id</th>\n",
       "      <th></th>\n",
       "      <th></th>\n",
       "      <th></th>\n",
       "      <th></th>\n",
       "      <th></th>\n",
       "      <th></th>\n",
       "      <th></th>\n",
       "    </tr>\n",
       "  </thead>\n",
       "  <tbody>\n",
       "    <tr>\n",
       "      <th>32000000</th>\n",
       "      <td>NaT</td>\n",
       "      <td>NaN</td>\n",
       "      <td>NaN</td>\n",
       "      <td>NaN</td>\n",
       "      <td>NaN</td>\n",
       "      <td>NaN</td>\n",
       "      <td>NaN</td>\n",
       "    </tr>\n",
       "    <tr>\n",
       "      <th>32000001</th>\n",
       "      <td>NaT</td>\n",
       "      <td>NaN</td>\n",
       "      <td>NaN</td>\n",
       "      <td>NaN</td>\n",
       "      <td>NaN</td>\n",
       "      <td>NaN</td>\n",
       "      <td>NaN</td>\n",
       "    </tr>\n",
       "    <tr>\n",
       "      <th>32030785</th>\n",
       "      <td>2018-07-17 18:05:00</td>\n",
       "      <td>Rice</td>\n",
       "      <td>minimarket</td>\n",
       "      <td>63500.0</td>\n",
       "      <td>0.0</td>\n",
       "      <td>1.0</td>\n",
       "      <td>Tuesday</td>\n",
       "    </tr>\n",
       "    <tr>\n",
       "      <th>32000002</th>\n",
       "      <td>NaT</td>\n",
       "      <td>NaN</td>\n",
       "      <td>NaN</td>\n",
       "      <td>NaN</td>\n",
       "      <td>NaN</td>\n",
       "      <td>NaN</td>\n",
       "      <td>NaN</td>\n",
       "    </tr>\n",
       "    <tr>\n",
       "      <th>32000003</th>\n",
       "      <td>NaT</td>\n",
       "      <td>NaN</td>\n",
       "      <td>NaN</td>\n",
       "      <td>NaN</td>\n",
       "      <td>NaN</td>\n",
       "      <td>NaN</td>\n",
       "      <td>NaN</td>\n",
       "    </tr>\n",
       "  </tbody>\n",
       "</table>\n",
       "</div>"
      ],
      "text/plain": [
       "                       purchase_time category      format  unit_price  \\\n",
       "receipts_item_id                                                        \n",
       "32000000                         NaT      NaN         NaN         NaN   \n",
       "32000001                         NaT      NaN         NaN         NaN   \n",
       "32030785         2018-07-17 18:05:00     Rice  minimarket     63500.0   \n",
       "32000002                         NaT      NaN         NaN         NaN   \n",
       "32000003                         NaT      NaN         NaN         NaN   \n",
       "\n",
       "                  discount  quantity  weekday  \n",
       "receipts_item_id                               \n",
       "32000000               NaN       NaN      NaN  \n",
       "32000001               NaN       NaN      NaN  \n",
       "32030785               0.0       1.0  Tuesday  \n",
       "32000002               NaN       NaN      NaN  \n",
       "32000003               NaN       NaN      NaN  "
      ]
     },
     "execution_count": 92,
     "metadata": {},
     "output_type": "execute_result"
    }
   ],
   "source": [
    "household_untidy = household_untidy.drop(columns='Unnamed: 8')\n",
    "household_untidy.head()"
   ]
  },
  {
   "cell_type": "markdown",
   "metadata": {
    "id": "uWNwPR_qsDFr"
   },
   "source": [
    "⚠️ **Warning**: When removing a column, it is necessary to pay attention to the business case, will the discarded column eliminate or reduce the information of our data?"
   ]
  },
  {
   "cell_type": "markdown",
   "metadata": {
    "id": "hRFX-mEMsDFr"
   },
   "source": [
    "#### Delete Row"
   ]
  },
  {
   "cell_type": "markdown",
   "metadata": {
    "id": "8-zazvjQsDFr"
   },
   "source": [
    "When we are certain that the rows with missing value can be safely dropped, we can use `.dropna()` method.\n",
    "\n",
    "- `.dropna(how='any')`: drops row if **minimum 1 column** contain missing value\n",
    "\n",
    "- `.dropna(how='all')`: drops row if **all values** are missing\n",
    "\n",
    "- `.dropna(thresh=...)`: drops row if non-missing values < `thresh` "
   ]
  },
  {
   "cell_type": "code",
   "execution_count": 93,
   "metadata": {
    "id": "TNCNtd1RsDFr"
   },
   "outputs": [
    {
     "data": {
      "text/html": [
       "<div>\n",
       "<style scoped>\n",
       "    .dataframe tbody tr th:only-of-type {\n",
       "        vertical-align: middle;\n",
       "    }\n",
       "\n",
       "    .dataframe tbody tr th {\n",
       "        vertical-align: top;\n",
       "    }\n",
       "\n",
       "    .dataframe thead th {\n",
       "        text-align: right;\n",
       "    }\n",
       "</style>\n",
       "<table border=\"1\" class=\"dataframe\">\n",
       "  <thead>\n",
       "    <tr style=\"text-align: right;\">\n",
       "      <th></th>\n",
       "      <th>purchase_time</th>\n",
       "      <th>category</th>\n",
       "      <th>format</th>\n",
       "      <th>unit_price</th>\n",
       "      <th>discount</th>\n",
       "      <th>quantity</th>\n",
       "      <th>weekday</th>\n",
       "    </tr>\n",
       "    <tr>\n",
       "      <th>receipts_item_id</th>\n",
       "      <th></th>\n",
       "      <th></th>\n",
       "      <th></th>\n",
       "      <th></th>\n",
       "      <th></th>\n",
       "      <th></th>\n",
       "      <th></th>\n",
       "    </tr>\n",
       "  </thead>\n",
       "  <tbody>\n",
       "    <tr>\n",
       "      <th>32030785</th>\n",
       "      <td>2018-07-17 18:05:00</td>\n",
       "      <td>Rice</td>\n",
       "      <td>minimarket</td>\n",
       "      <td>63500.0</td>\n",
       "      <td>0.0</td>\n",
       "      <td>1.0</td>\n",
       "      <td>Tuesday</td>\n",
       "    </tr>\n",
       "    <tr>\n",
       "      <th>32369294</th>\n",
       "      <td>2018-07-22 21:19:00</td>\n",
       "      <td>Rice</td>\n",
       "      <td>supermarket</td>\n",
       "      <td>128000.0</td>\n",
       "      <td>0.0</td>\n",
       "      <td>1.0</td>\n",
       "      <td>Sunday</td>\n",
       "    </tr>\n",
       "    <tr>\n",
       "      <th>31930241</th>\n",
       "      <td>2018-07-15 12:12:00</td>\n",
       "      <td>Rice</td>\n",
       "      <td>supermarket</td>\n",
       "      <td>64000.0</td>\n",
       "      <td>0.0</td>\n",
       "      <td>3.0</td>\n",
       "      <td>Sunday</td>\n",
       "    </tr>\n",
       "    <tr>\n",
       "      <th>32418582</th>\n",
       "      <td>2018-07-24 08:27:00</td>\n",
       "      <td>Rice</td>\n",
       "      <td>minimarket</td>\n",
       "      <td>65000.0</td>\n",
       "      <td>0.0</td>\n",
       "      <td>1.0</td>\n",
       "      <td>Tuesday</td>\n",
       "    </tr>\n",
       "    <tr>\n",
       "      <th>32561236</th>\n",
       "      <td>2018-07-26 11:28:00</td>\n",
       "      <td>Rice</td>\n",
       "      <td>supermarket</td>\n",
       "      <td>124500.0</td>\n",
       "      <td>0.0</td>\n",
       "      <td>1.0</td>\n",
       "      <td>Thursday</td>\n",
       "    </tr>\n",
       "    <tr>\n",
       "      <th>32030785</th>\n",
       "      <td>2018-07-17 18:05:00</td>\n",
       "      <td>Rice</td>\n",
       "      <td>minimarket</td>\n",
       "      <td>63500.0</td>\n",
       "      <td>0.0</td>\n",
       "      <td>1.0</td>\n",
       "      <td>Tuesday</td>\n",
       "    </tr>\n",
       "    <tr>\n",
       "      <th>32935097</th>\n",
       "      <td>2018-07-29 18:18:00</td>\n",
       "      <td>Rice</td>\n",
       "      <td>supermarket</td>\n",
       "      <td>66500.0</td>\n",
       "      <td>0.0</td>\n",
       "      <td>1.0</td>\n",
       "      <td>Sunday</td>\n",
       "    </tr>\n",
       "    <tr>\n",
       "      <th>32593606</th>\n",
       "      <td>2018-07-25 12:48:00</td>\n",
       "      <td>Rice</td>\n",
       "      <td>minimarket</td>\n",
       "      <td>62500.0</td>\n",
       "      <td>0.0</td>\n",
       "      <td>1.0</td>\n",
       "      <td>Wednesday</td>\n",
       "    </tr>\n",
       "    <tr>\n",
       "      <th>32573843</th>\n",
       "      <td>2018-07-26 16:41:00</td>\n",
       "      <td>Rice</td>\n",
       "      <td>minimarket</td>\n",
       "      <td>62500.0</td>\n",
       "      <td>0.0</td>\n",
       "      <td>1.0</td>\n",
       "      <td>Thursday</td>\n",
       "    </tr>\n",
       "    <tr>\n",
       "      <th>31913062</th>\n",
       "      <td>2018-07-14 21:17:00</td>\n",
       "      <td>Rice</td>\n",
       "      <td>supermarket</td>\n",
       "      <td>64000.0</td>\n",
       "      <td>0.0</td>\n",
       "      <td>3.0</td>\n",
       "      <td>Saturday</td>\n",
       "    </tr>\n",
       "    <tr>\n",
       "      <th>31125365</th>\n",
       "      <td>2018-07-02 15:39:00</td>\n",
       "      <td>Rice</td>\n",
       "      <td>minimarket</td>\n",
       "      <td>112500.0</td>\n",
       "      <td>0.0</td>\n",
       "      <td>1.0</td>\n",
       "      <td>Monday</td>\n",
       "    </tr>\n",
       "    <tr>\n",
       "      <th>32856560</th>\n",
       "      <td>2018-07-31 05:51:00</td>\n",
       "      <td>Rice</td>\n",
       "      <td>hypermarket</td>\n",
       "      <td>77750.0</td>\n",
       "      <td>0.0</td>\n",
       "      <td>1.0</td>\n",
       "      <td>Tuesday</td>\n",
       "    </tr>\n",
       "    <tr>\n",
       "      <th>32552145</th>\n",
       "      <td>2018-07-26 11:43:00</td>\n",
       "      <td>Rice</td>\n",
       "      <td>minimarket</td>\n",
       "      <td>66500.0</td>\n",
       "      <td>0.0</td>\n",
       "      <td>1.0</td>\n",
       "      <td>Thursday</td>\n",
       "    </tr>\n",
       "    <tr>\n",
       "      <th>32369065</th>\n",
       "      <td>2018-07-23 14:22:00</td>\n",
       "      <td>Rice</td>\n",
       "      <td>minimarket</td>\n",
       "      <td>62900.0</td>\n",
       "      <td>0.0</td>\n",
       "      <td>1.0</td>\n",
       "      <td>Monday</td>\n",
       "    </tr>\n",
       "  </tbody>\n",
       "</table>\n",
       "</div>"
      ],
      "text/plain": [
       "                       purchase_time category       format  unit_price  \\\n",
       "receipts_item_id                                                         \n",
       "32030785         2018-07-17 18:05:00     Rice   minimarket     63500.0   \n",
       "32369294         2018-07-22 21:19:00     Rice  supermarket    128000.0   \n",
       "31930241         2018-07-15 12:12:00     Rice  supermarket     64000.0   \n",
       "32418582         2018-07-24 08:27:00     Rice   minimarket     65000.0   \n",
       "32561236         2018-07-26 11:28:00     Rice  supermarket    124500.0   \n",
       "32030785         2018-07-17 18:05:00     Rice   minimarket     63500.0   \n",
       "32935097         2018-07-29 18:18:00     Rice  supermarket     66500.0   \n",
       "32593606         2018-07-25 12:48:00     Rice   minimarket     62500.0   \n",
       "32573843         2018-07-26 16:41:00     Rice   minimarket     62500.0   \n",
       "31913062         2018-07-14 21:17:00     Rice  supermarket     64000.0   \n",
       "31125365         2018-07-02 15:39:00     Rice   minimarket    112500.0   \n",
       "32856560         2018-07-31 05:51:00     Rice  hypermarket     77750.0   \n",
       "32552145         2018-07-26 11:43:00     Rice   minimarket     66500.0   \n",
       "32369065         2018-07-23 14:22:00     Rice   minimarket     62900.0   \n",
       "\n",
       "                  discount  quantity    weekday  \n",
       "receipts_item_id                                 \n",
       "32030785               0.0       1.0    Tuesday  \n",
       "32369294               0.0       1.0     Sunday  \n",
       "31930241               0.0       3.0     Sunday  \n",
       "32418582               0.0       1.0    Tuesday  \n",
       "32561236               0.0       1.0   Thursday  \n",
       "32030785               0.0       1.0    Tuesday  \n",
       "32935097               0.0       1.0     Sunday  \n",
       "32593606               0.0       1.0  Wednesday  \n",
       "32573843               0.0       1.0   Thursday  \n",
       "31913062               0.0       3.0   Saturday  \n",
       "31125365               0.0       1.0     Monday  \n",
       "32856560               0.0       1.0    Tuesday  \n",
       "32552145               0.0       1.0   Thursday  \n",
       "32369065               0.0       1.0     Monday  "
      ]
     },
     "execution_count": 93,
     "metadata": {},
     "output_type": "execute_result"
    }
   ],
   "source": [
    "household_untidy.dropna(how='any')#.shape[0]"
   ]
  },
  {
   "cell_type": "code",
   "execution_count": 94,
   "metadata": {
    "id": "3EwNH0IhsDFs"
   },
   "outputs": [
    {
     "data": {
      "text/html": [
       "<div>\n",
       "<style scoped>\n",
       "    .dataframe tbody tr th:only-of-type {\n",
       "        vertical-align: middle;\n",
       "    }\n",
       "\n",
       "    .dataframe tbody tr th {\n",
       "        vertical-align: top;\n",
       "    }\n",
       "\n",
       "    .dataframe thead th {\n",
       "        text-align: right;\n",
       "    }\n",
       "</style>\n",
       "<table border=\"1\" class=\"dataframe\">\n",
       "  <thead>\n",
       "    <tr style=\"text-align: right;\">\n",
       "      <th></th>\n",
       "      <th>purchase_time</th>\n",
       "      <th>category</th>\n",
       "      <th>format</th>\n",
       "      <th>unit_price</th>\n",
       "      <th>discount</th>\n",
       "      <th>quantity</th>\n",
       "      <th>weekday</th>\n",
       "    </tr>\n",
       "    <tr>\n",
       "      <th>receipts_item_id</th>\n",
       "      <th></th>\n",
       "      <th></th>\n",
       "      <th></th>\n",
       "      <th></th>\n",
       "      <th></th>\n",
       "      <th></th>\n",
       "      <th></th>\n",
       "    </tr>\n",
       "  </thead>\n",
       "  <tbody>\n",
       "    <tr>\n",
       "      <th>32030785</th>\n",
       "      <td>2018-07-17 18:05:00</td>\n",
       "      <td>Rice</td>\n",
       "      <td>minimarket</td>\n",
       "      <td>63500.0</td>\n",
       "      <td>0.0</td>\n",
       "      <td>1.0</td>\n",
       "      <td>Tuesday</td>\n",
       "    </tr>\n",
       "    <tr>\n",
       "      <th>32369294</th>\n",
       "      <td>2018-07-22 21:19:00</td>\n",
       "      <td>Rice</td>\n",
       "      <td>supermarket</td>\n",
       "      <td>128000.0</td>\n",
       "      <td>0.0</td>\n",
       "      <td>1.0</td>\n",
       "      <td>Sunday</td>\n",
       "    </tr>\n",
       "    <tr>\n",
       "      <th>31885876</th>\n",
       "      <td>2018-07-15 16:17:00</td>\n",
       "      <td>Rice</td>\n",
       "      <td>minimarket</td>\n",
       "      <td>102750.0</td>\n",
       "      <td>0.0</td>\n",
       "      <td>1.0</td>\n",
       "      <td>NaN</td>\n",
       "    </tr>\n",
       "    <tr>\n",
       "      <th>31930241</th>\n",
       "      <td>2018-07-15 12:12:00</td>\n",
       "      <td>Rice</td>\n",
       "      <td>supermarket</td>\n",
       "      <td>64000.0</td>\n",
       "      <td>0.0</td>\n",
       "      <td>3.0</td>\n",
       "      <td>Sunday</td>\n",
       "    </tr>\n",
       "    <tr>\n",
       "      <th>32418582</th>\n",
       "      <td>2018-07-24 08:27:00</td>\n",
       "      <td>Rice</td>\n",
       "      <td>minimarket</td>\n",
       "      <td>65000.0</td>\n",
       "      <td>0.0</td>\n",
       "      <td>1.0</td>\n",
       "      <td>Tuesday</td>\n",
       "    </tr>\n",
       "    <tr>\n",
       "      <th>32561236</th>\n",
       "      <td>2018-07-26 11:28:00</td>\n",
       "      <td>Rice</td>\n",
       "      <td>supermarket</td>\n",
       "      <td>124500.0</td>\n",
       "      <td>0.0</td>\n",
       "      <td>1.0</td>\n",
       "      <td>Thursday</td>\n",
       "    </tr>\n",
       "    <tr>\n",
       "      <th>32030785</th>\n",
       "      <td>2018-07-17 18:05:00</td>\n",
       "      <td>Rice</td>\n",
       "      <td>minimarket</td>\n",
       "      <td>63500.0</td>\n",
       "      <td>0.0</td>\n",
       "      <td>1.0</td>\n",
       "      <td>Tuesday</td>\n",
       "    </tr>\n",
       "    <tr>\n",
       "      <th>32935097</th>\n",
       "      <td>2018-07-29 18:18:00</td>\n",
       "      <td>Rice</td>\n",
       "      <td>supermarket</td>\n",
       "      <td>66500.0</td>\n",
       "      <td>0.0</td>\n",
       "      <td>1.0</td>\n",
       "      <td>Sunday</td>\n",
       "    </tr>\n",
       "    <tr>\n",
       "      <th>32593606</th>\n",
       "      <td>2018-07-25 12:48:00</td>\n",
       "      <td>Rice</td>\n",
       "      <td>minimarket</td>\n",
       "      <td>62500.0</td>\n",
       "      <td>0.0</td>\n",
       "      <td>1.0</td>\n",
       "      <td>Wednesday</td>\n",
       "    </tr>\n",
       "    <tr>\n",
       "      <th>32573843</th>\n",
       "      <td>2018-07-26 16:41:00</td>\n",
       "      <td>Rice</td>\n",
       "      <td>minimarket</td>\n",
       "      <td>62500.0</td>\n",
       "      <td>0.0</td>\n",
       "      <td>1.0</td>\n",
       "      <td>Thursday</td>\n",
       "    </tr>\n",
       "    <tr>\n",
       "      <th>31913062</th>\n",
       "      <td>2018-07-14 21:17:00</td>\n",
       "      <td>Rice</td>\n",
       "      <td>supermarket</td>\n",
       "      <td>64000.0</td>\n",
       "      <td>0.0</td>\n",
       "      <td>3.0</td>\n",
       "      <td>Saturday</td>\n",
       "    </tr>\n",
       "    <tr>\n",
       "      <th>31125365</th>\n",
       "      <td>2018-07-02 15:39:00</td>\n",
       "      <td>Rice</td>\n",
       "      <td>minimarket</td>\n",
       "      <td>112500.0</td>\n",
       "      <td>0.0</td>\n",
       "      <td>1.0</td>\n",
       "      <td>Monday</td>\n",
       "    </tr>\n",
       "    <tr>\n",
       "      <th>32856560</th>\n",
       "      <td>2018-07-31 05:51:00</td>\n",
       "      <td>Rice</td>\n",
       "      <td>hypermarket</td>\n",
       "      <td>77750.0</td>\n",
       "      <td>0.0</td>\n",
       "      <td>1.0</td>\n",
       "      <td>Tuesday</td>\n",
       "    </tr>\n",
       "    <tr>\n",
       "      <th>32552145</th>\n",
       "      <td>2018-07-26 11:43:00</td>\n",
       "      <td>Rice</td>\n",
       "      <td>minimarket</td>\n",
       "      <td>66500.0</td>\n",
       "      <td>0.0</td>\n",
       "      <td>1.0</td>\n",
       "      <td>Thursday</td>\n",
       "    </tr>\n",
       "    <tr>\n",
       "      <th>32369065</th>\n",
       "      <td>2018-07-23 14:22:00</td>\n",
       "      <td>Rice</td>\n",
       "      <td>minimarket</td>\n",
       "      <td>62900.0</td>\n",
       "      <td>0.0</td>\n",
       "      <td>1.0</td>\n",
       "      <td>Monday</td>\n",
       "    </tr>\n",
       "  </tbody>\n",
       "</table>\n",
       "</div>"
      ],
      "text/plain": [
       "                       purchase_time category       format  unit_price  \\\n",
       "receipts_item_id                                                         \n",
       "32030785         2018-07-17 18:05:00     Rice   minimarket     63500.0   \n",
       "32369294         2018-07-22 21:19:00     Rice  supermarket    128000.0   \n",
       "31885876         2018-07-15 16:17:00     Rice   minimarket    102750.0   \n",
       "31930241         2018-07-15 12:12:00     Rice  supermarket     64000.0   \n",
       "32418582         2018-07-24 08:27:00     Rice   minimarket     65000.0   \n",
       "32561236         2018-07-26 11:28:00     Rice  supermarket    124500.0   \n",
       "32030785         2018-07-17 18:05:00     Rice   minimarket     63500.0   \n",
       "32935097         2018-07-29 18:18:00     Rice  supermarket     66500.0   \n",
       "32593606         2018-07-25 12:48:00     Rice   minimarket     62500.0   \n",
       "32573843         2018-07-26 16:41:00     Rice   minimarket     62500.0   \n",
       "31913062         2018-07-14 21:17:00     Rice  supermarket     64000.0   \n",
       "31125365         2018-07-02 15:39:00     Rice   minimarket    112500.0   \n",
       "32856560         2018-07-31 05:51:00     Rice  hypermarket     77750.0   \n",
       "32552145         2018-07-26 11:43:00     Rice   minimarket     66500.0   \n",
       "32369065         2018-07-23 14:22:00     Rice   minimarket     62900.0   \n",
       "\n",
       "                  discount  quantity    weekday  \n",
       "receipts_item_id                                 \n",
       "32030785               0.0       1.0    Tuesday  \n",
       "32369294               0.0       1.0     Sunday  \n",
       "31885876               0.0       1.0        NaN  \n",
       "31930241               0.0       3.0     Sunday  \n",
       "32418582               0.0       1.0    Tuesday  \n",
       "32561236               0.0       1.0   Thursday  \n",
       "32030785               0.0       1.0    Tuesday  \n",
       "32935097               0.0       1.0     Sunday  \n",
       "32593606               0.0       1.0  Wednesday  \n",
       "32573843               0.0       1.0   Thursday  \n",
       "31913062               0.0       3.0   Saturday  \n",
       "31125365               0.0       1.0     Monday  \n",
       "32856560               0.0       1.0    Tuesday  \n",
       "32552145               0.0       1.0   Thursday  \n",
       "32369065               0.0       1.0     Monday  "
      ]
     },
     "execution_count": 94,
     "metadata": {},
     "output_type": "execute_result"
    }
   ],
   "source": [
    "household_untidy.dropna(how='all')#.shape[0]"
   ]
  },
  {
   "cell_type": "code",
   "execution_count": 95,
   "metadata": {
    "id": "PnPQUJm-sDFs"
   },
   "outputs": [
    {
     "data": {
      "text/html": [
       "<div>\n",
       "<style scoped>\n",
       "    .dataframe tbody tr th:only-of-type {\n",
       "        vertical-align: middle;\n",
       "    }\n",
       "\n",
       "    .dataframe tbody tr th {\n",
       "        vertical-align: top;\n",
       "    }\n",
       "\n",
       "    .dataframe thead th {\n",
       "        text-align: right;\n",
       "    }\n",
       "</style>\n",
       "<table border=\"1\" class=\"dataframe\">\n",
       "  <thead>\n",
       "    <tr style=\"text-align: right;\">\n",
       "      <th></th>\n",
       "      <th>purchase_time</th>\n",
       "      <th>category</th>\n",
       "      <th>format</th>\n",
       "      <th>unit_price</th>\n",
       "      <th>discount</th>\n",
       "      <th>quantity</th>\n",
       "      <th>weekday</th>\n",
       "    </tr>\n",
       "    <tr>\n",
       "      <th>receipts_item_id</th>\n",
       "      <th></th>\n",
       "      <th></th>\n",
       "      <th></th>\n",
       "      <th></th>\n",
       "      <th></th>\n",
       "      <th></th>\n",
       "      <th></th>\n",
       "    </tr>\n",
       "  </thead>\n",
       "  <tbody>\n",
       "    <tr>\n",
       "      <th>32030785</th>\n",
       "      <td>2018-07-17 18:05:00</td>\n",
       "      <td>Rice</td>\n",
       "      <td>minimarket</td>\n",
       "      <td>63500.0</td>\n",
       "      <td>0.0</td>\n",
       "      <td>1.0</td>\n",
       "      <td>Tuesday</td>\n",
       "    </tr>\n",
       "    <tr>\n",
       "      <th>32369294</th>\n",
       "      <td>2018-07-22 21:19:00</td>\n",
       "      <td>Rice</td>\n",
       "      <td>supermarket</td>\n",
       "      <td>128000.0</td>\n",
       "      <td>0.0</td>\n",
       "      <td>1.0</td>\n",
       "      <td>Sunday</td>\n",
       "    </tr>\n",
       "    <tr>\n",
       "      <th>31885876</th>\n",
       "      <td>2018-07-15 16:17:00</td>\n",
       "      <td>Rice</td>\n",
       "      <td>minimarket</td>\n",
       "      <td>102750.0</td>\n",
       "      <td>0.0</td>\n",
       "      <td>1.0</td>\n",
       "      <td>NaN</td>\n",
       "    </tr>\n",
       "    <tr>\n",
       "      <th>31930241</th>\n",
       "      <td>2018-07-15 12:12:00</td>\n",
       "      <td>Rice</td>\n",
       "      <td>supermarket</td>\n",
       "      <td>64000.0</td>\n",
       "      <td>0.0</td>\n",
       "      <td>3.0</td>\n",
       "      <td>Sunday</td>\n",
       "    </tr>\n",
       "    <tr>\n",
       "      <th>32418582</th>\n",
       "      <td>2018-07-24 08:27:00</td>\n",
       "      <td>Rice</td>\n",
       "      <td>minimarket</td>\n",
       "      <td>65000.0</td>\n",
       "      <td>0.0</td>\n",
       "      <td>1.0</td>\n",
       "      <td>Tuesday</td>\n",
       "    </tr>\n",
       "    <tr>\n",
       "      <th>32561236</th>\n",
       "      <td>2018-07-26 11:28:00</td>\n",
       "      <td>Rice</td>\n",
       "      <td>supermarket</td>\n",
       "      <td>124500.0</td>\n",
       "      <td>0.0</td>\n",
       "      <td>1.0</td>\n",
       "      <td>Thursday</td>\n",
       "    </tr>\n",
       "    <tr>\n",
       "      <th>32030785</th>\n",
       "      <td>2018-07-17 18:05:00</td>\n",
       "      <td>Rice</td>\n",
       "      <td>minimarket</td>\n",
       "      <td>63500.0</td>\n",
       "      <td>0.0</td>\n",
       "      <td>1.0</td>\n",
       "      <td>Tuesday</td>\n",
       "    </tr>\n",
       "    <tr>\n",
       "      <th>32935097</th>\n",
       "      <td>2018-07-29 18:18:00</td>\n",
       "      <td>Rice</td>\n",
       "      <td>supermarket</td>\n",
       "      <td>66500.0</td>\n",
       "      <td>0.0</td>\n",
       "      <td>1.0</td>\n",
       "      <td>Sunday</td>\n",
       "    </tr>\n",
       "    <tr>\n",
       "      <th>32593606</th>\n",
       "      <td>2018-07-25 12:48:00</td>\n",
       "      <td>Rice</td>\n",
       "      <td>minimarket</td>\n",
       "      <td>62500.0</td>\n",
       "      <td>0.0</td>\n",
       "      <td>1.0</td>\n",
       "      <td>Wednesday</td>\n",
       "    </tr>\n",
       "    <tr>\n",
       "      <th>32573843</th>\n",
       "      <td>2018-07-26 16:41:00</td>\n",
       "      <td>Rice</td>\n",
       "      <td>minimarket</td>\n",
       "      <td>62500.0</td>\n",
       "      <td>0.0</td>\n",
       "      <td>1.0</td>\n",
       "      <td>Thursday</td>\n",
       "    </tr>\n",
       "    <tr>\n",
       "      <th>31913062</th>\n",
       "      <td>2018-07-14 21:17:00</td>\n",
       "      <td>Rice</td>\n",
       "      <td>supermarket</td>\n",
       "      <td>64000.0</td>\n",
       "      <td>0.0</td>\n",
       "      <td>3.0</td>\n",
       "      <td>Saturday</td>\n",
       "    </tr>\n",
       "    <tr>\n",
       "      <th>31125365</th>\n",
       "      <td>2018-07-02 15:39:00</td>\n",
       "      <td>Rice</td>\n",
       "      <td>minimarket</td>\n",
       "      <td>112500.0</td>\n",
       "      <td>0.0</td>\n",
       "      <td>1.0</td>\n",
       "      <td>Monday</td>\n",
       "    </tr>\n",
       "    <tr>\n",
       "      <th>32856560</th>\n",
       "      <td>2018-07-31 05:51:00</td>\n",
       "      <td>Rice</td>\n",
       "      <td>hypermarket</td>\n",
       "      <td>77750.0</td>\n",
       "      <td>0.0</td>\n",
       "      <td>1.0</td>\n",
       "      <td>Tuesday</td>\n",
       "    </tr>\n",
       "    <tr>\n",
       "      <th>32552145</th>\n",
       "      <td>2018-07-26 11:43:00</td>\n",
       "      <td>Rice</td>\n",
       "      <td>minimarket</td>\n",
       "      <td>66500.0</td>\n",
       "      <td>0.0</td>\n",
       "      <td>1.0</td>\n",
       "      <td>Thursday</td>\n",
       "    </tr>\n",
       "    <tr>\n",
       "      <th>32369065</th>\n",
       "      <td>2018-07-23 14:22:00</td>\n",
       "      <td>Rice</td>\n",
       "      <td>minimarket</td>\n",
       "      <td>62900.0</td>\n",
       "      <td>0.0</td>\n",
       "      <td>1.0</td>\n",
       "      <td>Monday</td>\n",
       "    </tr>\n",
       "  </tbody>\n",
       "</table>\n",
       "</div>"
      ],
      "text/plain": [
       "                       purchase_time category       format  unit_price  \\\n",
       "receipts_item_id                                                         \n",
       "32030785         2018-07-17 18:05:00     Rice   minimarket     63500.0   \n",
       "32369294         2018-07-22 21:19:00     Rice  supermarket    128000.0   \n",
       "31885876         2018-07-15 16:17:00     Rice   minimarket    102750.0   \n",
       "31930241         2018-07-15 12:12:00     Rice  supermarket     64000.0   \n",
       "32418582         2018-07-24 08:27:00     Rice   minimarket     65000.0   \n",
       "32561236         2018-07-26 11:28:00     Rice  supermarket    124500.0   \n",
       "32030785         2018-07-17 18:05:00     Rice   minimarket     63500.0   \n",
       "32935097         2018-07-29 18:18:00     Rice  supermarket     66500.0   \n",
       "32593606         2018-07-25 12:48:00     Rice   minimarket     62500.0   \n",
       "32573843         2018-07-26 16:41:00     Rice   minimarket     62500.0   \n",
       "31913062         2018-07-14 21:17:00     Rice  supermarket     64000.0   \n",
       "31125365         2018-07-02 15:39:00     Rice   minimarket    112500.0   \n",
       "32856560         2018-07-31 05:51:00     Rice  hypermarket     77750.0   \n",
       "32552145         2018-07-26 11:43:00     Rice   minimarket     66500.0   \n",
       "32369065         2018-07-23 14:22:00     Rice   minimarket     62900.0   \n",
       "\n",
       "                  discount  quantity    weekday  \n",
       "receipts_item_id                                 \n",
       "32030785               0.0       1.0    Tuesday  \n",
       "32369294               0.0       1.0     Sunday  \n",
       "31885876               0.0       1.0        NaN  \n",
       "31930241               0.0       3.0     Sunday  \n",
       "32418582               0.0       1.0    Tuesday  \n",
       "32561236               0.0       1.0   Thursday  \n",
       "32030785               0.0       1.0    Tuesday  \n",
       "32935097               0.0       1.0     Sunday  \n",
       "32593606               0.0       1.0  Wednesday  \n",
       "32573843               0.0       1.0   Thursday  \n",
       "31913062               0.0       3.0   Saturday  \n",
       "31125365               0.0       1.0     Monday  \n",
       "32856560               0.0       1.0    Tuesday  \n",
       "32552145               0.0       1.0   Thursday  \n",
       "32369065               0.0       1.0     Monday  "
      ]
     },
     "execution_count": 95,
     "metadata": {},
     "output_type": "execute_result"
    }
   ],
   "source": [
    "# example: thresh=1, minimal 1 non-NA value present so that it doesn't drop the row\n",
    "household_untidy.dropna(thresh=1)"
   ]
  },
  {
   "cell_type": "markdown",
   "metadata": {
    "id": "QjTTcBc0sDFs"
   },
   "source": [
    "#### Imputation\n",
    "\n",
    "Fill missing value with some value, using `.fillna()` method"
   ]
  },
  {
   "cell_type": "markdown",
   "metadata": {
    "id": "RNYLdil7sDFs"
   },
   "source": [
    "First:\n",
    "\n",
    "- Impute `category`, `format`, `discount`  with value 'Missing'\n",
    "- Impute `unit_price` with value 0\n",
    "- Impute `quantity` with value 0"
   ]
  },
  {
   "cell_type": "code",
   "execution_count": 96,
   "metadata": {
    "id": "eUM5ijmXsDFs",
    "run_control": {
     "marked": false
    }
   },
   "outputs": [
    {
     "data": {
      "text/html": [
       "<div>\n",
       "<style scoped>\n",
       "    .dataframe tbody tr th:only-of-type {\n",
       "        vertical-align: middle;\n",
       "    }\n",
       "\n",
       "    .dataframe tbody tr th {\n",
       "        vertical-align: top;\n",
       "    }\n",
       "\n",
       "    .dataframe thead th {\n",
       "        text-align: right;\n",
       "    }\n",
       "</style>\n",
       "<table border=\"1\" class=\"dataframe\">\n",
       "  <thead>\n",
       "    <tr style=\"text-align: right;\">\n",
       "      <th></th>\n",
       "      <th>purchase_time</th>\n",
       "      <th>category</th>\n",
       "      <th>format</th>\n",
       "      <th>unit_price</th>\n",
       "      <th>discount</th>\n",
       "      <th>quantity</th>\n",
       "      <th>weekday</th>\n",
       "    </tr>\n",
       "    <tr>\n",
       "      <th>receipts_item_id</th>\n",
       "      <th></th>\n",
       "      <th></th>\n",
       "      <th></th>\n",
       "      <th></th>\n",
       "      <th></th>\n",
       "      <th></th>\n",
       "      <th></th>\n",
       "    </tr>\n",
       "  </thead>\n",
       "  <tbody>\n",
       "    <tr>\n",
       "      <th>32000000</th>\n",
       "      <td>NaT</td>\n",
       "      <td>Missing</td>\n",
       "      <td>Missing</td>\n",
       "      <td>0.0</td>\n",
       "      <td>Missing</td>\n",
       "      <td>0.0</td>\n",
       "      <td>NaN</td>\n",
       "    </tr>\n",
       "    <tr>\n",
       "      <th>32000001</th>\n",
       "      <td>NaT</td>\n",
       "      <td>Missing</td>\n",
       "      <td>Missing</td>\n",
       "      <td>0.0</td>\n",
       "      <td>Missing</td>\n",
       "      <td>0.0</td>\n",
       "      <td>NaN</td>\n",
       "    </tr>\n",
       "    <tr>\n",
       "      <th>32030785</th>\n",
       "      <td>2018-07-17 18:05:00</td>\n",
       "      <td>Rice</td>\n",
       "      <td>minimarket</td>\n",
       "      <td>63500.0</td>\n",
       "      <td>0</td>\n",
       "      <td>1.0</td>\n",
       "      <td>Tuesday</td>\n",
       "    </tr>\n",
       "    <tr>\n",
       "      <th>32000002</th>\n",
       "      <td>NaT</td>\n",
       "      <td>Missing</td>\n",
       "      <td>Missing</td>\n",
       "      <td>0.0</td>\n",
       "      <td>Missing</td>\n",
       "      <td>0.0</td>\n",
       "      <td>NaN</td>\n",
       "    </tr>\n",
       "    <tr>\n",
       "      <th>32000003</th>\n",
       "      <td>NaT</td>\n",
       "      <td>Missing</td>\n",
       "      <td>Missing</td>\n",
       "      <td>0.0</td>\n",
       "      <td>Missing</td>\n",
       "      <td>0.0</td>\n",
       "      <td>NaN</td>\n",
       "    </tr>\n",
       "  </tbody>\n",
       "</table>\n",
       "</div>"
      ],
      "text/plain": [
       "                       purchase_time category      format  unit_price  \\\n",
       "receipts_item_id                                                        \n",
       "32000000                         NaT  Missing     Missing         0.0   \n",
       "32000001                         NaT  Missing     Missing         0.0   \n",
       "32030785         2018-07-17 18:05:00     Rice  minimarket     63500.0   \n",
       "32000002                         NaT  Missing     Missing         0.0   \n",
       "32000003                         NaT  Missing     Missing         0.0   \n",
       "\n",
       "                 discount  quantity  weekday  \n",
       "receipts_item_id                              \n",
       "32000000          Missing       0.0      NaN  \n",
       "32000001          Missing       0.0      NaN  \n",
       "32030785                0       1.0  Tuesday  \n",
       "32000002          Missing       0.0      NaN  \n",
       "32000003          Missing       0.0      NaN  "
      ]
     },
     "execution_count": 96,
     "metadata": {},
     "output_type": "execute_result"
    }
   ],
   "source": [
    "household_untidy[['category', 'format', 'discount']] = household_untidy[['category', 'format', 'discount']].fillna('Missing')\n",
    "household_untidy['unit_price'] = household_untidy['unit_price'].fillna(0)\n",
    "household_untidy['quantity'] = household_untidy['quantity'].replace(np.nan, 0) #.fillna(0)\n",
    "household_untidy.head()"
   ]
  },
  {
   "cell_type": "markdown",
   "metadata": {
    "id": "Vue_07w9sDFs"
   },
   "source": [
    "Note, these two codes are functionally identical:\n",
    "\n",
    "- `.fillna(0)`\n",
    "- `.replace(np.nan, 0)`"
   ]
  },
  {
   "cell_type": "markdown",
   "metadata": {
    "id": "v46ZVWxtsDFs"
   },
   "source": [
    "Second: impute `purchase_time` with the next value. Use parameter `method='bfill'` to **backward fill** the missing values in the dataset"
   ]
  },
  {
   "cell_type": "code",
   "execution_count": 97,
   "metadata": {
    "id": "rr1WFDNpsDFs",
    "run_control": {
     "marked": false
    }
   },
   "outputs": [
    {
     "data": {
      "text/html": [
       "<div>\n",
       "<style scoped>\n",
       "    .dataframe tbody tr th:only-of-type {\n",
       "        vertical-align: middle;\n",
       "    }\n",
       "\n",
       "    .dataframe tbody tr th {\n",
       "        vertical-align: top;\n",
       "    }\n",
       "\n",
       "    .dataframe thead th {\n",
       "        text-align: right;\n",
       "    }\n",
       "</style>\n",
       "<table border=\"1\" class=\"dataframe\">\n",
       "  <thead>\n",
       "    <tr style=\"text-align: right;\">\n",
       "      <th></th>\n",
       "      <th>purchase_time</th>\n",
       "      <th>category</th>\n",
       "      <th>format</th>\n",
       "      <th>unit_price</th>\n",
       "      <th>discount</th>\n",
       "      <th>quantity</th>\n",
       "      <th>weekday</th>\n",
       "    </tr>\n",
       "    <tr>\n",
       "      <th>receipts_item_id</th>\n",
       "      <th></th>\n",
       "      <th></th>\n",
       "      <th></th>\n",
       "      <th></th>\n",
       "      <th></th>\n",
       "      <th></th>\n",
       "      <th></th>\n",
       "    </tr>\n",
       "  </thead>\n",
       "  <tbody>\n",
       "    <tr>\n",
       "      <th>32000000</th>\n",
       "      <td>2018-07-17 18:05:00</td>\n",
       "      <td>Missing</td>\n",
       "      <td>Missing</td>\n",
       "      <td>0.0</td>\n",
       "      <td>Missing</td>\n",
       "      <td>0.0</td>\n",
       "      <td>NaN</td>\n",
       "    </tr>\n",
       "    <tr>\n",
       "      <th>32000001</th>\n",
       "      <td>2018-07-17 18:05:00</td>\n",
       "      <td>Missing</td>\n",
       "      <td>Missing</td>\n",
       "      <td>0.0</td>\n",
       "      <td>Missing</td>\n",
       "      <td>0.0</td>\n",
       "      <td>NaN</td>\n",
       "    </tr>\n",
       "    <tr>\n",
       "      <th>32030785</th>\n",
       "      <td>2018-07-17 18:05:00</td>\n",
       "      <td>Rice</td>\n",
       "      <td>minimarket</td>\n",
       "      <td>63500.0</td>\n",
       "      <td>0</td>\n",
       "      <td>1.0</td>\n",
       "      <td>Tuesday</td>\n",
       "    </tr>\n",
       "    <tr>\n",
       "      <th>32000002</th>\n",
       "      <td>2018-07-22 21:19:00</td>\n",
       "      <td>Missing</td>\n",
       "      <td>Missing</td>\n",
       "      <td>0.0</td>\n",
       "      <td>Missing</td>\n",
       "      <td>0.0</td>\n",
       "      <td>NaN</td>\n",
       "    </tr>\n",
       "    <tr>\n",
       "      <th>32000003</th>\n",
       "      <td>2018-07-22 21:19:00</td>\n",
       "      <td>Missing</td>\n",
       "      <td>Missing</td>\n",
       "      <td>0.0</td>\n",
       "      <td>Missing</td>\n",
       "      <td>0.0</td>\n",
       "      <td>NaN</td>\n",
       "    </tr>\n",
       "    <tr>\n",
       "      <th>32000004</th>\n",
       "      <td>2018-07-22 21:19:00</td>\n",
       "      <td>Missing</td>\n",
       "      <td>Missing</td>\n",
       "      <td>0.0</td>\n",
       "      <td>Missing</td>\n",
       "      <td>0.0</td>\n",
       "      <td>NaN</td>\n",
       "    </tr>\n",
       "    <tr>\n",
       "      <th>32369294</th>\n",
       "      <td>2018-07-22 21:19:00</td>\n",
       "      <td>Rice</td>\n",
       "      <td>supermarket</td>\n",
       "      <td>128000.0</td>\n",
       "      <td>0</td>\n",
       "      <td>1.0</td>\n",
       "      <td>Sunday</td>\n",
       "    </tr>\n",
       "  </tbody>\n",
       "</table>\n",
       "</div>"
      ],
      "text/plain": [
       "                       purchase_time category       format  unit_price  \\\n",
       "receipts_item_id                                                         \n",
       "32000000         2018-07-17 18:05:00  Missing      Missing         0.0   \n",
       "32000001         2018-07-17 18:05:00  Missing      Missing         0.0   \n",
       "32030785         2018-07-17 18:05:00     Rice   minimarket     63500.0   \n",
       "32000002         2018-07-22 21:19:00  Missing      Missing         0.0   \n",
       "32000003         2018-07-22 21:19:00  Missing      Missing         0.0   \n",
       "32000004         2018-07-22 21:19:00  Missing      Missing         0.0   \n",
       "32369294         2018-07-22 21:19:00     Rice  supermarket    128000.0   \n",
       "\n",
       "                 discount  quantity  weekday  \n",
       "receipts_item_id                              \n",
       "32000000          Missing       0.0      NaN  \n",
       "32000001          Missing       0.0      NaN  \n",
       "32030785                0       1.0  Tuesday  \n",
       "32000002          Missing       0.0      NaN  \n",
       "32000003          Missing       0.0      NaN  \n",
       "32000004          Missing       0.0      NaN  \n",
       "32369294                0       1.0   Sunday  "
      ]
     },
     "execution_count": 97,
     "metadata": {},
     "output_type": "execute_result"
    }
   ],
   "source": [
    "household_untidy['purchase_time'] = household_untidy['purchase_time'].fillna(method='bfill')\n",
    "household_untidy.head(7)"
   ]
  },
  {
   "cell_type": "markdown",
   "metadata": {
    "id": "44fSAj9ssDFt"
   },
   "source": [
    "💡 **Tips on Imputation**:\n",
    "\n",
    "For categorical column, do either:\n",
    "- Make NA as one category\n",
    "- Fill using a central value (mode as the most frequent category)\n",
    "- Fill using predictive/machine learning model (Classification problem)\n",
    "\n",
    "For numerical column, do either:\n",
    "- Fill using a central value (mean or median)\n",
    "- Fill using predictive/machine learning model (Regression problem)\n",
    "\n",
    "Case: In a dataframe where `salary` is missing but the bank has data about the customer's occupation / profession, years of experience, years of education, seniority level, age, and industry, then a machine learning model can offer a viable alternative to the mean imputation approach."
   ]
  },
  {
   "cell_type": "markdown",
   "metadata": {
    "id": "Xqnvg4wmsDFt"
   },
   "source": [
    "## Duplicated Data"
   ]
  },
  {
   "cell_type": "markdown",
   "metadata": {
    "id": "4XupDgYXsDFt"
   },
   "source": [
    "### Check Duplicates"
   ]
  },
  {
   "cell_type": "markdown",
   "metadata": {
    "id": "afsKhPS6sDFt"
   },
   "source": [
    "Use method `.duplicated()` and combine with subsetting operation.\n",
    "\n",
    "Parameter `keep`: \n",
    "\n",
    "- `keep='first'` (default): Mark duplicates as True except for the **first occurrence**.\n",
    "- `keep='last'`: Mark duplicates as True except for the **last occurrence**.\n",
    "- `keep=False`: Mark all duplicates as True."
   ]
  },
  {
   "cell_type": "code",
   "execution_count": 98,
   "metadata": {
    "id": "20aOT-rNsDFt"
   },
   "outputs": [
    {
     "data": {
      "text/html": [
       "<div>\n",
       "<style scoped>\n",
       "    .dataframe tbody tr th:only-of-type {\n",
       "        vertical-align: middle;\n",
       "    }\n",
       "\n",
       "    .dataframe tbody tr th {\n",
       "        vertical-align: top;\n",
       "    }\n",
       "\n",
       "    .dataframe thead th {\n",
       "        text-align: right;\n",
       "    }\n",
       "</style>\n",
       "<table border=\"1\" class=\"dataframe\">\n",
       "  <thead>\n",
       "    <tr style=\"text-align: right;\">\n",
       "      <th></th>\n",
       "      <th>purchase_time</th>\n",
       "      <th>category</th>\n",
       "      <th>format</th>\n",
       "      <th>unit_price</th>\n",
       "      <th>discount</th>\n",
       "      <th>quantity</th>\n",
       "      <th>weekday</th>\n",
       "    </tr>\n",
       "    <tr>\n",
       "      <th>receipts_item_id</th>\n",
       "      <th></th>\n",
       "      <th></th>\n",
       "      <th></th>\n",
       "      <th></th>\n",
       "      <th></th>\n",
       "      <th></th>\n",
       "      <th></th>\n",
       "    </tr>\n",
       "  </thead>\n",
       "  <tbody>\n",
       "    <tr>\n",
       "      <th>32000000</th>\n",
       "      <td>2018-07-17 18:05:00</td>\n",
       "      <td>Missing</td>\n",
       "      <td>Missing</td>\n",
       "      <td>0.0</td>\n",
       "      <td>Missing</td>\n",
       "      <td>0.0</td>\n",
       "      <td>NaN</td>\n",
       "    </tr>\n",
       "    <tr>\n",
       "      <th>32000001</th>\n",
       "      <td>2018-07-17 18:05:00</td>\n",
       "      <td>Missing</td>\n",
       "      <td>Missing</td>\n",
       "      <td>0.0</td>\n",
       "      <td>Missing</td>\n",
       "      <td>0.0</td>\n",
       "      <td>NaN</td>\n",
       "    </tr>\n",
       "    <tr>\n",
       "      <th>32030785</th>\n",
       "      <td>2018-07-17 18:05:00</td>\n",
       "      <td>Rice</td>\n",
       "      <td>minimarket</td>\n",
       "      <td>63500.0</td>\n",
       "      <td>0</td>\n",
       "      <td>1.0</td>\n",
       "      <td>Tuesday</td>\n",
       "    </tr>\n",
       "    <tr>\n",
       "      <th>32000002</th>\n",
       "      <td>2018-07-22 21:19:00</td>\n",
       "      <td>Missing</td>\n",
       "      <td>Missing</td>\n",
       "      <td>0.0</td>\n",
       "      <td>Missing</td>\n",
       "      <td>0.0</td>\n",
       "      <td>NaN</td>\n",
       "    </tr>\n",
       "    <tr>\n",
       "      <th>32000003</th>\n",
       "      <td>2018-07-22 21:19:00</td>\n",
       "      <td>Missing</td>\n",
       "      <td>Missing</td>\n",
       "      <td>0.0</td>\n",
       "      <td>Missing</td>\n",
       "      <td>0.0</td>\n",
       "      <td>NaN</td>\n",
       "    </tr>\n",
       "    <tr>\n",
       "      <th>32000004</th>\n",
       "      <td>2018-07-22 21:19:00</td>\n",
       "      <td>Missing</td>\n",
       "      <td>Missing</td>\n",
       "      <td>0.0</td>\n",
       "      <td>Missing</td>\n",
       "      <td>0.0</td>\n",
       "      <td>NaN</td>\n",
       "    </tr>\n",
       "    <tr>\n",
       "      <th>32030785</th>\n",
       "      <td>2018-07-17 18:05:00</td>\n",
       "      <td>Rice</td>\n",
       "      <td>minimarket</td>\n",
       "      <td>63500.0</td>\n",
       "      <td>0</td>\n",
       "      <td>1.0</td>\n",
       "      <td>Tuesday</td>\n",
       "    </tr>\n",
       "  </tbody>\n",
       "</table>\n",
       "</div>"
      ],
      "text/plain": [
       "                       purchase_time category      format  unit_price  \\\n",
       "receipts_item_id                                                        \n",
       "32000000         2018-07-17 18:05:00  Missing     Missing         0.0   \n",
       "32000001         2018-07-17 18:05:00  Missing     Missing         0.0   \n",
       "32030785         2018-07-17 18:05:00     Rice  minimarket     63500.0   \n",
       "32000002         2018-07-22 21:19:00  Missing     Missing         0.0   \n",
       "32000003         2018-07-22 21:19:00  Missing     Missing         0.0   \n",
       "32000004         2018-07-22 21:19:00  Missing     Missing         0.0   \n",
       "32030785         2018-07-17 18:05:00     Rice  minimarket     63500.0   \n",
       "\n",
       "                 discount  quantity  weekday  \n",
       "receipts_item_id                              \n",
       "32000000          Missing       0.0      NaN  \n",
       "32000001          Missing       0.0      NaN  \n",
       "32030785                0       1.0  Tuesday  \n",
       "32000002          Missing       0.0      NaN  \n",
       "32000003          Missing       0.0      NaN  \n",
       "32000004          Missing       0.0      NaN  \n",
       "32030785                0       1.0  Tuesday  "
      ]
     },
     "execution_count": 98,
     "metadata": {},
     "output_type": "execute_result"
    }
   ],
   "source": [
    "cond = household_untidy.duplicated(keep=False)\n",
    "household_untidy[cond]"
   ]
  },
  {
   "cell_type": "markdown",
   "metadata": {
    "id": "hsUcXcRssDFt"
   },
   "source": [
    "### Treatment for Duplicated Data"
   ]
  },
  {
   "cell_type": "markdown",
   "metadata": {
    "id": "M9XlbhposDFt"
   },
   "source": [
    "Drop the duplicated row by using `.drop_duplicates()` method.\n",
    "\n",
    "Parameter `keep`: \n",
    "\n",
    "- `keep='first'` (default): Drop duplicates except for the **first occurrence**.\n",
    "- `keep='last'`: Drop duplicates except for the **last occurrence**.\n",
    "- `keep=False`: Drop all duplicates."
   ]
  },
  {
   "cell_type": "code",
   "execution_count": 99,
   "metadata": {
    "id": "yWVxCsQBsDFt"
   },
   "outputs": [
    {
     "data": {
      "text/html": [
       "<div>\n",
       "<style scoped>\n",
       "    .dataframe tbody tr th:only-of-type {\n",
       "        vertical-align: middle;\n",
       "    }\n",
       "\n",
       "    .dataframe tbody tr th {\n",
       "        vertical-align: top;\n",
       "    }\n",
       "\n",
       "    .dataframe thead th {\n",
       "        text-align: right;\n",
       "    }\n",
       "</style>\n",
       "<table border=\"1\" class=\"dataframe\">\n",
       "  <thead>\n",
       "    <tr style=\"text-align: right;\">\n",
       "      <th></th>\n",
       "      <th>purchase_time</th>\n",
       "      <th>category</th>\n",
       "      <th>format</th>\n",
       "      <th>unit_price</th>\n",
       "      <th>discount</th>\n",
       "      <th>quantity</th>\n",
       "      <th>weekday</th>\n",
       "    </tr>\n",
       "    <tr>\n",
       "      <th>receipts_item_id</th>\n",
       "      <th></th>\n",
       "      <th></th>\n",
       "      <th></th>\n",
       "      <th></th>\n",
       "      <th></th>\n",
       "      <th></th>\n",
       "      <th></th>\n",
       "    </tr>\n",
       "  </thead>\n",
       "  <tbody>\n",
       "    <tr>\n",
       "      <th>32000001</th>\n",
       "      <td>2018-07-17 18:05:00</td>\n",
       "      <td>Missing</td>\n",
       "      <td>Missing</td>\n",
       "      <td>0.0</td>\n",
       "      <td>Missing</td>\n",
       "      <td>0.0</td>\n",
       "      <td>NaN</td>\n",
       "    </tr>\n",
       "    <tr>\n",
       "      <th>32000004</th>\n",
       "      <td>2018-07-22 21:19:00</td>\n",
       "      <td>Missing</td>\n",
       "      <td>Missing</td>\n",
       "      <td>0.0</td>\n",
       "      <td>Missing</td>\n",
       "      <td>0.0</td>\n",
       "      <td>NaN</td>\n",
       "    </tr>\n",
       "    <tr>\n",
       "      <th>32369294</th>\n",
       "      <td>2018-07-22 21:19:00</td>\n",
       "      <td>Rice</td>\n",
       "      <td>supermarket</td>\n",
       "      <td>128000.0</td>\n",
       "      <td>0</td>\n",
       "      <td>1.0</td>\n",
       "      <td>Sunday</td>\n",
       "    </tr>\n",
       "    <tr>\n",
       "      <th>31885876</th>\n",
       "      <td>2018-07-15 16:17:00</td>\n",
       "      <td>Rice</td>\n",
       "      <td>minimarket</td>\n",
       "      <td>102750.0</td>\n",
       "      <td>0</td>\n",
       "      <td>1.0</td>\n",
       "      <td>NaN</td>\n",
       "    </tr>\n",
       "    <tr>\n",
       "      <th>31930241</th>\n",
       "      <td>2018-07-15 12:12:00</td>\n",
       "      <td>Rice</td>\n",
       "      <td>supermarket</td>\n",
       "      <td>64000.0</td>\n",
       "      <td>0</td>\n",
       "      <td>3.0</td>\n",
       "      <td>Sunday</td>\n",
       "    </tr>\n",
       "    <tr>\n",
       "      <th>32418582</th>\n",
       "      <td>2018-07-24 08:27:00</td>\n",
       "      <td>Rice</td>\n",
       "      <td>minimarket</td>\n",
       "      <td>65000.0</td>\n",
       "      <td>0</td>\n",
       "      <td>1.0</td>\n",
       "      <td>Tuesday</td>\n",
       "    </tr>\n",
       "    <tr>\n",
       "      <th>32561236</th>\n",
       "      <td>2018-07-26 11:28:00</td>\n",
       "      <td>Rice</td>\n",
       "      <td>supermarket</td>\n",
       "      <td>124500.0</td>\n",
       "      <td>0</td>\n",
       "      <td>1.0</td>\n",
       "      <td>Thursday</td>\n",
       "    </tr>\n",
       "    <tr>\n",
       "      <th>32030785</th>\n",
       "      <td>2018-07-17 18:05:00</td>\n",
       "      <td>Rice</td>\n",
       "      <td>minimarket</td>\n",
       "      <td>63500.0</td>\n",
       "      <td>0</td>\n",
       "      <td>1.0</td>\n",
       "      <td>Tuesday</td>\n",
       "    </tr>\n",
       "    <tr>\n",
       "      <th>32935097</th>\n",
       "      <td>2018-07-29 18:18:00</td>\n",
       "      <td>Rice</td>\n",
       "      <td>supermarket</td>\n",
       "      <td>66500.0</td>\n",
       "      <td>0</td>\n",
       "      <td>1.0</td>\n",
       "      <td>Sunday</td>\n",
       "    </tr>\n",
       "    <tr>\n",
       "      <th>32593606</th>\n",
       "      <td>2018-07-25 12:48:00</td>\n",
       "      <td>Rice</td>\n",
       "      <td>minimarket</td>\n",
       "      <td>62500.0</td>\n",
       "      <td>0</td>\n",
       "      <td>1.0</td>\n",
       "      <td>Wednesday</td>\n",
       "    </tr>\n",
       "    <tr>\n",
       "      <th>32573843</th>\n",
       "      <td>2018-07-26 16:41:00</td>\n",
       "      <td>Rice</td>\n",
       "      <td>minimarket</td>\n",
       "      <td>62500.0</td>\n",
       "      <td>0</td>\n",
       "      <td>1.0</td>\n",
       "      <td>Thursday</td>\n",
       "    </tr>\n",
       "    <tr>\n",
       "      <th>31913062</th>\n",
       "      <td>2018-07-14 21:17:00</td>\n",
       "      <td>Rice</td>\n",
       "      <td>supermarket</td>\n",
       "      <td>64000.0</td>\n",
       "      <td>0</td>\n",
       "      <td>3.0</td>\n",
       "      <td>Saturday</td>\n",
       "    </tr>\n",
       "    <tr>\n",
       "      <th>31125365</th>\n",
       "      <td>2018-07-02 15:39:00</td>\n",
       "      <td>Rice</td>\n",
       "      <td>minimarket</td>\n",
       "      <td>112500.0</td>\n",
       "      <td>0</td>\n",
       "      <td>1.0</td>\n",
       "      <td>Monday</td>\n",
       "    </tr>\n",
       "    <tr>\n",
       "      <th>32856560</th>\n",
       "      <td>2018-07-31 05:51:00</td>\n",
       "      <td>Rice</td>\n",
       "      <td>hypermarket</td>\n",
       "      <td>77750.0</td>\n",
       "      <td>0</td>\n",
       "      <td>1.0</td>\n",
       "      <td>Tuesday</td>\n",
       "    </tr>\n",
       "    <tr>\n",
       "      <th>32552145</th>\n",
       "      <td>2018-07-26 11:43:00</td>\n",
       "      <td>Rice</td>\n",
       "      <td>minimarket</td>\n",
       "      <td>66500.0</td>\n",
       "      <td>0</td>\n",
       "      <td>1.0</td>\n",
       "      <td>Thursday</td>\n",
       "    </tr>\n",
       "    <tr>\n",
       "      <th>32369065</th>\n",
       "      <td>2018-07-23 14:22:00</td>\n",
       "      <td>Rice</td>\n",
       "      <td>minimarket</td>\n",
       "      <td>62900.0</td>\n",
       "      <td>0</td>\n",
       "      <td>1.0</td>\n",
       "      <td>Monday</td>\n",
       "    </tr>\n",
       "  </tbody>\n",
       "</table>\n",
       "</div>"
      ],
      "text/plain": [
       "                       purchase_time category       format  unit_price  \\\n",
       "receipts_item_id                                                         \n",
       "32000001         2018-07-17 18:05:00  Missing      Missing         0.0   \n",
       "32000004         2018-07-22 21:19:00  Missing      Missing         0.0   \n",
       "32369294         2018-07-22 21:19:00     Rice  supermarket    128000.0   \n",
       "31885876         2018-07-15 16:17:00     Rice   minimarket    102750.0   \n",
       "31930241         2018-07-15 12:12:00     Rice  supermarket     64000.0   \n",
       "32418582         2018-07-24 08:27:00     Rice   minimarket     65000.0   \n",
       "32561236         2018-07-26 11:28:00     Rice  supermarket    124500.0   \n",
       "32030785         2018-07-17 18:05:00     Rice   minimarket     63500.0   \n",
       "32935097         2018-07-29 18:18:00     Rice  supermarket     66500.0   \n",
       "32593606         2018-07-25 12:48:00     Rice   minimarket     62500.0   \n",
       "32573843         2018-07-26 16:41:00     Rice   minimarket     62500.0   \n",
       "31913062         2018-07-14 21:17:00     Rice  supermarket     64000.0   \n",
       "31125365         2018-07-02 15:39:00     Rice   minimarket    112500.0   \n",
       "32856560         2018-07-31 05:51:00     Rice  hypermarket     77750.0   \n",
       "32552145         2018-07-26 11:43:00     Rice   minimarket     66500.0   \n",
       "32369065         2018-07-23 14:22:00     Rice   minimarket     62900.0   \n",
       "\n",
       "                 discount  quantity    weekday  \n",
       "receipts_item_id                                \n",
       "32000001          Missing       0.0        NaN  \n",
       "32000004          Missing       0.0        NaN  \n",
       "32369294                0       1.0     Sunday  \n",
       "31885876                0       1.0        NaN  \n",
       "31930241                0       3.0     Sunday  \n",
       "32418582                0       1.0    Tuesday  \n",
       "32561236                0       1.0   Thursday  \n",
       "32030785                0       1.0    Tuesday  \n",
       "32935097                0       1.0     Sunday  \n",
       "32593606                0       1.0  Wednesday  \n",
       "32573843                0       1.0   Thursday  \n",
       "31913062                0       3.0   Saturday  \n",
       "31125365                0       1.0     Monday  \n",
       "32856560                0       1.0    Tuesday  \n",
       "32552145                0       1.0   Thursday  \n",
       "32369065                0       1.0     Monday  "
      ]
     },
     "execution_count": 99,
     "metadata": {},
     "output_type": "execute_result"
    }
   ],
   "source": [
    "household_untidy.drop_duplicates(keep='last')"
   ]
  },
  {
   "cell_type": "markdown",
   "metadata": {
    "id": "8XEJzobCsDFu"
   },
   "source": [
    "Suppose we want to show unique observation of `receipt_id`:"
   ]
  },
  {
   "cell_type": "code",
   "execution_count": 100,
   "metadata": {
    "id": "r7JqQaTzsDFu"
   },
   "outputs": [
    {
     "data": {
      "text/html": [
       "<div>\n",
       "<style scoped>\n",
       "    .dataframe tbody tr th:only-of-type {\n",
       "        vertical-align: middle;\n",
       "    }\n",
       "\n",
       "    .dataframe tbody tr th {\n",
       "        vertical-align: top;\n",
       "    }\n",
       "\n",
       "    .dataframe thead th {\n",
       "        text-align: right;\n",
       "    }\n",
       "</style>\n",
       "<table border=\"1\" class=\"dataframe\">\n",
       "  <thead>\n",
       "    <tr style=\"text-align: right;\">\n",
       "      <th></th>\n",
       "      <th>receipt_id</th>\n",
       "      <th>receipts_item_id</th>\n",
       "      <th>purchase_time</th>\n",
       "      <th>category</th>\n",
       "      <th>sub_category</th>\n",
       "      <th>format</th>\n",
       "      <th>unit_price</th>\n",
       "      <th>discount</th>\n",
       "      <th>quantity</th>\n",
       "      <th>yearmonth</th>\n",
       "      <th>weekday</th>\n",
       "      <th>yearmonth_recreate</th>\n",
       "      <th>quarter</th>\n",
       "    </tr>\n",
       "  </thead>\n",
       "  <tbody>\n",
       "    <tr>\n",
       "      <th>353</th>\n",
       "      <td>9270720</td>\n",
       "      <td>31330334</td>\n",
       "      <td>2018-07-05 13:13:00</td>\n",
       "      <td>Rice</td>\n",
       "      <td>Rice</td>\n",
       "      <td>supermarket</td>\n",
       "      <td>64000.0</td>\n",
       "      <td>0</td>\n",
       "      <td>1</td>\n",
       "      <td>2018-07</td>\n",
       "      <td>Thursday</td>\n",
       "      <td>2018-07</td>\n",
       "      <td>2018Q3</td>\n",
       "    </tr>\n",
       "    <tr>\n",
       "      <th>443</th>\n",
       "      <td>9622257</td>\n",
       "      <td>32369293</td>\n",
       "      <td>2018-07-22 21:19:00</td>\n",
       "      <td>Rice</td>\n",
       "      <td>Rice</td>\n",
       "      <td>supermarket</td>\n",
       "      <td>159900.0</td>\n",
       "      <td>0</td>\n",
       "      <td>1</td>\n",
       "      <td>2018-07</td>\n",
       "      <td>Sunday</td>\n",
       "      <td>2018-07</td>\n",
       "      <td>2018Q3</td>\n",
       "    </tr>\n",
       "    <tr>\n",
       "      <th>634</th>\n",
       "      <td>9655239</td>\n",
       "      <td>32451761</td>\n",
       "      <td>2018-07-21 18:04:00</td>\n",
       "      <td>Rice</td>\n",
       "      <td>Rice</td>\n",
       "      <td>supermarket</td>\n",
       "      <td>59900.0</td>\n",
       "      <td>4100</td>\n",
       "      <td>1</td>\n",
       "      <td>2018-07</td>\n",
       "      <td>Saturday</td>\n",
       "      <td>2018-07</td>\n",
       "      <td>2018Q3</td>\n",
       "    </tr>\n",
       "    <tr>\n",
       "      <th>682</th>\n",
       "      <td>9367922</td>\n",
       "      <td>31616632</td>\n",
       "      <td>2018-07-10 22:56:00</td>\n",
       "      <td>Rice</td>\n",
       "      <td>Rice</td>\n",
       "      <td>minimarket</td>\n",
       "      <td>64000.0</td>\n",
       "      <td>0</td>\n",
       "      <td>1</td>\n",
       "      <td>2018-07</td>\n",
       "      <td>Tuesday</td>\n",
       "      <td>2018-07</td>\n",
       "      <td>2018Q3</td>\n",
       "    </tr>\n",
       "    <tr>\n",
       "      <th>996</th>\n",
       "      <td>9623282</td>\n",
       "      <td>32371114</td>\n",
       "      <td>2018-07-21 19:18:00</td>\n",
       "      <td>Rice</td>\n",
       "      <td>Rice</td>\n",
       "      <td>minimarket</td>\n",
       "      <td>28500.0</td>\n",
       "      <td>0</td>\n",
       "      <td>2</td>\n",
       "      <td>2018-07</td>\n",
       "      <td>Saturday</td>\n",
       "      <td>2018-07</td>\n",
       "      <td>2018Q3</td>\n",
       "    </tr>\n",
       "    <tr>\n",
       "      <th>...</th>\n",
       "      <td>...</td>\n",
       "      <td>...</td>\n",
       "      <td>...</td>\n",
       "      <td>...</td>\n",
       "      <td>...</td>\n",
       "      <td>...</td>\n",
       "      <td>...</td>\n",
       "      <td>...</td>\n",
       "      <td>...</td>\n",
       "      <td>...</td>\n",
       "      <td>...</td>\n",
       "      <td>...</td>\n",
       "      <td>...</td>\n",
       "    </tr>\n",
       "    <tr>\n",
       "      <th>71913</th>\n",
       "      <td>5955640</td>\n",
       "      <td>18149296</td>\n",
       "      <td>2017-12-31 09:28:00</td>\n",
       "      <td>Sugar/Flavored Syrup</td>\n",
       "      <td>Sugar</td>\n",
       "      <td>minimarket</td>\n",
       "      <td>11500.0</td>\n",
       "      <td>0</td>\n",
       "      <td>2</td>\n",
       "      <td>2017-12</td>\n",
       "      <td>Sunday</td>\n",
       "      <td>2017-12</td>\n",
       "      <td>2017Q4</td>\n",
       "    </tr>\n",
       "    <tr>\n",
       "      <th>71935</th>\n",
       "      <td>5737076</td>\n",
       "      <td>17437723</td>\n",
       "      <td>2017-12-13 14:13:00</td>\n",
       "      <td>Sugar/Flavored Syrup</td>\n",
       "      <td>Sugar</td>\n",
       "      <td>minimarket</td>\n",
       "      <td>12200.0</td>\n",
       "      <td>600</td>\n",
       "      <td>2</td>\n",
       "      <td>2017-12</td>\n",
       "      <td>Wednesday</td>\n",
       "      <td>2017-12</td>\n",
       "      <td>2017Q4</td>\n",
       "    </tr>\n",
       "    <tr>\n",
       "      <th>71940</th>\n",
       "      <td>5865653</td>\n",
       "      <td>17834851</td>\n",
       "      <td>2017-12-24 10:47:00</td>\n",
       "      <td>Sugar/Flavored Syrup</td>\n",
       "      <td>Sugar</td>\n",
       "      <td>supermarket</td>\n",
       "      <td>12990.0</td>\n",
       "      <td>0</td>\n",
       "      <td>1</td>\n",
       "      <td>2017-12</td>\n",
       "      <td>Sunday</td>\n",
       "      <td>2017-12</td>\n",
       "      <td>2017Q4</td>\n",
       "    </tr>\n",
       "    <tr>\n",
       "      <th>71954</th>\n",
       "      <td>5805533</td>\n",
       "      <td>17651393</td>\n",
       "      <td>2017-12-19 13:07:00</td>\n",
       "      <td>Sugar/Flavored Syrup</td>\n",
       "      <td>Sugar</td>\n",
       "      <td>minimarket</td>\n",
       "      <td>12500.0</td>\n",
       "      <td>0</td>\n",
       "      <td>1</td>\n",
       "      <td>2017-12</td>\n",
       "      <td>Tuesday</td>\n",
       "      <td>2017-12</td>\n",
       "      <td>2017Q4</td>\n",
       "    </tr>\n",
       "    <tr>\n",
       "      <th>71965</th>\n",
       "      <td>5935719</td>\n",
       "      <td>18295911</td>\n",
       "      <td>2017-12-28 14:23:00</td>\n",
       "      <td>Sugar/Flavored Syrup</td>\n",
       "      <td>Sugar</td>\n",
       "      <td>minimarket</td>\n",
       "      <td>12500.0</td>\n",
       "      <td>0</td>\n",
       "      <td>10</td>\n",
       "      <td>2017-12</td>\n",
       "      <td>Thursday</td>\n",
       "      <td>2017-12</td>\n",
       "      <td>2017Q4</td>\n",
       "    </tr>\n",
       "  </tbody>\n",
       "</table>\n",
       "<p>2224 rows × 13 columns</p>\n",
       "</div>"
      ],
      "text/plain": [
       "       receipt_id  receipts_item_id       purchase_time              category  \\\n",
       "353       9270720          31330334 2018-07-05 13:13:00                  Rice   \n",
       "443       9622257          32369293 2018-07-22 21:19:00                  Rice   \n",
       "634       9655239          32451761 2018-07-21 18:04:00                  Rice   \n",
       "682       9367922          31616632 2018-07-10 22:56:00                  Rice   \n",
       "996       9623282          32371114 2018-07-21 19:18:00                  Rice   \n",
       "...           ...               ...                 ...                   ...   \n",
       "71913     5955640          18149296 2017-12-31 09:28:00  Sugar/Flavored Syrup   \n",
       "71935     5737076          17437723 2017-12-13 14:13:00  Sugar/Flavored Syrup   \n",
       "71940     5865653          17834851 2017-12-24 10:47:00  Sugar/Flavored Syrup   \n",
       "71954     5805533          17651393 2017-12-19 13:07:00  Sugar/Flavored Syrup   \n",
       "71965     5935719          18295911 2017-12-28 14:23:00  Sugar/Flavored Syrup   \n",
       "\n",
       "      sub_category       format  unit_price  discount  quantity yearmonth  \\\n",
       "353           Rice  supermarket     64000.0         0         1   2018-07   \n",
       "443           Rice  supermarket    159900.0         0         1   2018-07   \n",
       "634           Rice  supermarket     59900.0      4100         1   2018-07   \n",
       "682           Rice   minimarket     64000.0         0         1   2018-07   \n",
       "996           Rice   minimarket     28500.0         0         2   2018-07   \n",
       "...            ...          ...         ...       ...       ...       ...   \n",
       "71913        Sugar   minimarket     11500.0         0         2   2017-12   \n",
       "71935        Sugar   minimarket     12200.0       600         2   2017-12   \n",
       "71940        Sugar  supermarket     12990.0         0         1   2017-12   \n",
       "71954        Sugar   minimarket     12500.0         0         1   2017-12   \n",
       "71965        Sugar   minimarket     12500.0         0        10   2017-12   \n",
       "\n",
       "         weekday yearmonth_recreate quarter  \n",
       "353     Thursday            2018-07  2018Q3  \n",
       "443       Sunday            2018-07  2018Q3  \n",
       "634     Saturday            2018-07  2018Q3  \n",
       "682      Tuesday            2018-07  2018Q3  \n",
       "996     Saturday            2018-07  2018Q3  \n",
       "...          ...                ...     ...  \n",
       "71913     Sunday            2017-12  2017Q4  \n",
       "71935  Wednesday            2017-12  2017Q4  \n",
       "71940     Sunday            2017-12  2017Q4  \n",
       "71954    Tuesday            2017-12  2017Q4  \n",
       "71965   Thursday            2017-12  2017Q4  \n",
       "\n",
       "[2224 rows x 13 columns]"
      ]
     },
     "execution_count": 100,
     "metadata": {},
     "output_type": "execute_result"
    }
   ],
   "source": [
    "household[household['receipt_id'].duplicated()]"
   ]
  },
  {
   "cell_type": "markdown",
   "metadata": {
    "id": "vEUGOuItsDFu"
   },
   "source": [
    "⚠️ **Warning**: Duplicates may mean a different thing from a data point-of-view and a business analyst's point-of-view. You want to be extra careful about whether the duplicates is an intended characteristic of your data, or whether it poses a violation to the business logic."
   ]
  },
  {
   "cell_type": "markdown",
   "metadata": {
    "id": "PAN8MMQCsDFu"
   },
   "source": [
    "## Knowledge Check: Missing Values and Duplicates\n",
    "\n",
    "_Estimated time required: 10 minutes_"
   ]
  },
  {
   "cell_type": "markdown",
   "metadata": {
    "id": "H8hEsB2esDFu"
   },
   "source": [
    "Should we drop the duplicates for each of the following case, and why:\n",
    "\n",
    "1. A medical center collects anonymized heart rate monitoring data from patients. It has duplicate observations collected across a span of 3 months\n",
    "2. An insurance company uses machine learning to deliver dynamic pricing to its customers. Each row contains the customer's name, occupation / profession and historical health data. It has duplicate observations collected across a span of 3 months\n",
    "3. On our original `household` data, check for duplicate observations. Would you have drop the duplicated rows?"
   ]
  },
  {
   "cell_type": "code",
   "execution_count": 101,
   "metadata": {
    "id": "jEH4DmNusDFu"
   },
   "outputs": [
    {
     "data": {
      "text/html": [
       "<div>\n",
       "<style scoped>\n",
       "    .dataframe tbody tr th:only-of-type {\n",
       "        vertical-align: middle;\n",
       "    }\n",
       "\n",
       "    .dataframe tbody tr th {\n",
       "        vertical-align: top;\n",
       "    }\n",
       "\n",
       "    .dataframe thead th {\n",
       "        text-align: right;\n",
       "    }\n",
       "</style>\n",
       "<table border=\"1\" class=\"dataframe\">\n",
       "  <thead>\n",
       "    <tr style=\"text-align: right;\">\n",
       "      <th></th>\n",
       "      <th>rate</th>\n",
       "    </tr>\n",
       "  </thead>\n",
       "  <tbody>\n",
       "    <tr>\n",
       "      <th>0</th>\n",
       "      <td>70</td>\n",
       "    </tr>\n",
       "    <tr>\n",
       "      <th>1</th>\n",
       "      <td>80</td>\n",
       "    </tr>\n",
       "    <tr>\n",
       "      <th>2</th>\n",
       "      <td>90</td>\n",
       "    </tr>\n",
       "    <tr>\n",
       "      <th>3</th>\n",
       "      <td>75</td>\n",
       "    </tr>\n",
       "    <tr>\n",
       "      <th>4</th>\n",
       "      <td>95</td>\n",
       "    </tr>\n",
       "    <tr>\n",
       "      <th>5</th>\n",
       "      <td>70</td>\n",
       "    </tr>\n",
       "    <tr>\n",
       "      <th>6</th>\n",
       "      <td>85</td>\n",
       "    </tr>\n",
       "    <tr>\n",
       "      <th>7</th>\n",
       "      <td>90</td>\n",
       "    </tr>\n",
       "  </tbody>\n",
       "</table>\n",
       "</div>"
      ],
      "text/plain": [
       "   rate\n",
       "0    70\n",
       "1    80\n",
       "2    90\n",
       "3    75\n",
       "4    95\n",
       "5    70\n",
       "6    85\n",
       "7    90"
      ]
     },
     "execution_count": 101,
     "metadata": {},
     "output_type": "execute_result"
    }
   ],
   "source": [
    "# illustration data for question 1\n",
    "heart = pd.DataFrame({\n",
    "    'rate': [70, 80, 90, 75, 95, 70, 85, 90]\n",
    "})\n",
    "\n",
    "heart"
   ]
  },
  {
   "cell_type": "code",
   "execution_count": 102,
   "metadata": {
    "id": "333RKMnHsDFu"
   },
   "outputs": [
    {
     "data": {
      "text/plain": [
       "0    False\n",
       "1    False\n",
       "2    False\n",
       "3    False\n",
       "4     True\n",
       "Name: cust_id, dtype: bool"
      ]
     },
     "execution_count": 102,
     "metadata": {},
     "output_type": "execute_result"
    }
   ],
   "source": [
    "# illustration data for question 2\n",
    "insurance = pd.DataFrame({\n",
    "    'cust_id': ['C1', 'C2', 'C3', 'C4', 'C1'],\n",
    "    'occupation': ['Employee', 'Employee', 'Student', 'Student', 'Employee'],\n",
    "    'health': ['Good', 'Ok', 'Good', 'Ok', 'Ok']\n",
    "})\n",
    "\n",
    "insurance['cust_id'].duplicated()"
   ]
  },
  {
   "cell_type": "code",
   "execution_count": 103,
   "metadata": {
    "id": "rm231eAjsDFu"
   },
   "outputs": [
    {
     "data": {
      "text/html": [
       "<div>\n",
       "<style scoped>\n",
       "    .dataframe tbody tr th:only-of-type {\n",
       "        vertical-align: middle;\n",
       "    }\n",
       "\n",
       "    .dataframe tbody tr th {\n",
       "        vertical-align: top;\n",
       "    }\n",
       "\n",
       "    .dataframe thead th {\n",
       "        text-align: right;\n",
       "    }\n",
       "</style>\n",
       "<table border=\"1\" class=\"dataframe\">\n",
       "  <thead>\n",
       "    <tr style=\"text-align: right;\">\n",
       "      <th></th>\n",
       "      <th>receipt_id</th>\n",
       "      <th>purchase_time</th>\n",
       "      <th>category</th>\n",
       "      <th>sub_category</th>\n",
       "      <th>format</th>\n",
       "      <th>unit_price</th>\n",
       "      <th>discount</th>\n",
       "      <th>quantity</th>\n",
       "      <th>yearmonth</th>\n",
       "    </tr>\n",
       "    <tr>\n",
       "      <th>receipts_item_id</th>\n",
       "      <th></th>\n",
       "      <th></th>\n",
       "      <th></th>\n",
       "      <th></th>\n",
       "      <th></th>\n",
       "      <th></th>\n",
       "      <th></th>\n",
       "      <th></th>\n",
       "      <th></th>\n",
       "    </tr>\n",
       "  </thead>\n",
       "  <tbody>\n",
       "    <tr>\n",
       "      <th>31616772</th>\n",
       "      <td>9367922</td>\n",
       "      <td>7/10/2018 22:56</td>\n",
       "      <td>Rice</td>\n",
       "      <td>Rice</td>\n",
       "      <td>minimarket</td>\n",
       "      <td>64000.0</td>\n",
       "      <td>0</td>\n",
       "      <td>1</td>\n",
       "      <td>2018-07</td>\n",
       "    </tr>\n",
       "    <tr>\n",
       "      <th>31616632</th>\n",
       "      <td>9367922</td>\n",
       "      <td>7/10/2018 22:56</td>\n",
       "      <td>Rice</td>\n",
       "      <td>Rice</td>\n",
       "      <td>minimarket</td>\n",
       "      <td>64000.0</td>\n",
       "      <td>0</td>\n",
       "      <td>1</td>\n",
       "      <td>2018-07</td>\n",
       "    </tr>\n",
       "    <tr>\n",
       "      <th>35486879</th>\n",
       "      <td>10626238</td>\n",
       "      <td>8/31/2018 20:21</td>\n",
       "      <td>Rice</td>\n",
       "      <td>Rice</td>\n",
       "      <td>minimarket</td>\n",
       "      <td>62500.0</td>\n",
       "      <td>0</td>\n",
       "      <td>1</td>\n",
       "      <td>2018-08</td>\n",
       "    </tr>\n",
       "    <tr>\n",
       "      <th>35486825</th>\n",
       "      <td>10626238</td>\n",
       "      <td>8/31/2018 20:21</td>\n",
       "      <td>Rice</td>\n",
       "      <td>Rice</td>\n",
       "      <td>minimarket</td>\n",
       "      <td>62500.0</td>\n",
       "      <td>0</td>\n",
       "      <td>1</td>\n",
       "      <td>2018-08</td>\n",
       "    </tr>\n",
       "    <tr>\n",
       "      <th>37704383</th>\n",
       "      <td>11250231</td>\n",
       "      <td>9/25/2018 14:15</td>\n",
       "      <td>Rice</td>\n",
       "      <td>Rice</td>\n",
       "      <td>supermarket</td>\n",
       "      <td>64000.0</td>\n",
       "      <td>0</td>\n",
       "      <td>1</td>\n",
       "      <td>2018-09</td>\n",
       "    </tr>\n",
       "    <tr>\n",
       "      <th>...</th>\n",
       "      <td>...</td>\n",
       "      <td>...</td>\n",
       "      <td>...</td>\n",
       "      <td>...</td>\n",
       "      <td>...</td>\n",
       "      <td>...</td>\n",
       "      <td>...</td>\n",
       "      <td>...</td>\n",
       "      <td>...</td>\n",
       "    </tr>\n",
       "    <tr>\n",
       "      <th>17911936</th>\n",
       "      <td>5890361</td>\n",
       "      <td>12/26/2017 9:50</td>\n",
       "      <td>Sugar/Flavored Syrup</td>\n",
       "      <td>Sugar</td>\n",
       "      <td>supermarket</td>\n",
       "      <td>6250.0</td>\n",
       "      <td>0</td>\n",
       "      <td>1</td>\n",
       "      <td>2017-12</td>\n",
       "    </tr>\n",
       "    <tr>\n",
       "      <th>17110567</th>\n",
       "      <td>5636761</td>\n",
       "      <td>12/4/2017 20:06</td>\n",
       "      <td>Sugar/Flavored Syrup</td>\n",
       "      <td>Sugar</td>\n",
       "      <td>minimarket</td>\n",
       "      <td>12500.0</td>\n",
       "      <td>0</td>\n",
       "      <td>1</td>\n",
       "      <td>2017-12</td>\n",
       "    </tr>\n",
       "    <tr>\n",
       "      <th>17685098</th>\n",
       "      <td>5817089</td>\n",
       "      <td>12/19/2017 22:03</td>\n",
       "      <td>Sugar/Flavored Syrup</td>\n",
       "      <td>Sugar</td>\n",
       "      <td>hypermarket</td>\n",
       "      <td>11990.0</td>\n",
       "      <td>260</td>\n",
       "      <td>1</td>\n",
       "      <td>2017-12</td>\n",
       "    </tr>\n",
       "    <tr>\n",
       "      <th>18149296</th>\n",
       "      <td>5955640</td>\n",
       "      <td>12/31/2017 9:28</td>\n",
       "      <td>Sugar/Flavored Syrup</td>\n",
       "      <td>Sugar</td>\n",
       "      <td>minimarket</td>\n",
       "      <td>11500.0</td>\n",
       "      <td>0</td>\n",
       "      <td>2</td>\n",
       "      <td>2017-12</td>\n",
       "    </tr>\n",
       "    <tr>\n",
       "      <th>17651393</th>\n",
       "      <td>5805533</td>\n",
       "      <td>12/19/2017 13:07</td>\n",
       "      <td>Sugar/Flavored Syrup</td>\n",
       "      <td>Sugar</td>\n",
       "      <td>minimarket</td>\n",
       "      <td>12500.0</td>\n",
       "      <td>0</td>\n",
       "      <td>1</td>\n",
       "      <td>2017-12</td>\n",
       "    </tr>\n",
       "  </tbody>\n",
       "</table>\n",
       "<p>650 rows × 9 columns</p>\n",
       "</div>"
      ],
      "text/plain": [
       "                  receipt_id     purchase_time              category  \\\n",
       "receipts_item_id                                                       \n",
       "31616772             9367922   7/10/2018 22:56                  Rice   \n",
       "31616632             9367922   7/10/2018 22:56                  Rice   \n",
       "35486879            10626238   8/31/2018 20:21                  Rice   \n",
       "35486825            10626238   8/31/2018 20:21                  Rice   \n",
       "37704383            11250231   9/25/2018 14:15                  Rice   \n",
       "...                      ...               ...                   ...   \n",
       "17911936             5890361   12/26/2017 9:50  Sugar/Flavored Syrup   \n",
       "17110567             5636761   12/4/2017 20:06  Sugar/Flavored Syrup   \n",
       "17685098             5817089  12/19/2017 22:03  Sugar/Flavored Syrup   \n",
       "18149296             5955640   12/31/2017 9:28  Sugar/Flavored Syrup   \n",
       "17651393             5805533  12/19/2017 13:07  Sugar/Flavored Syrup   \n",
       "\n",
       "                 sub_category       format  unit_price  discount  quantity  \\\n",
       "receipts_item_id                                                             \n",
       "31616772                 Rice   minimarket     64000.0         0         1   \n",
       "31616632                 Rice   minimarket     64000.0         0         1   \n",
       "35486879                 Rice   minimarket     62500.0         0         1   \n",
       "35486825                 Rice   minimarket     62500.0         0         1   \n",
       "37704383                 Rice  supermarket     64000.0         0         1   \n",
       "...                       ...          ...         ...       ...       ...   \n",
       "17911936                Sugar  supermarket      6250.0         0         1   \n",
       "17110567                Sugar   minimarket     12500.0         0         1   \n",
       "17685098                Sugar  hypermarket     11990.0       260         1   \n",
       "18149296                Sugar   minimarket     11500.0         0         2   \n",
       "17651393                Sugar   minimarket     12500.0         0         1   \n",
       "\n",
       "                 yearmonth  \n",
       "receipts_item_id            \n",
       "31616772           2018-07  \n",
       "31616632           2018-07  \n",
       "35486879           2018-08  \n",
       "35486825           2018-08  \n",
       "37704383           2018-09  \n",
       "...                    ...  \n",
       "17911936           2017-12  \n",
       "17110567           2017-12  \n",
       "17685098           2017-12  \n",
       "18149296           2017-12  \n",
       "17651393           2017-12  \n",
       "\n",
       "[650 rows x 9 columns]"
      ]
     },
     "execution_count": 103,
     "metadata": {},
     "output_type": "execute_result"
    }
   ],
   "source": [
    "# reference data for question 3\n",
    "household = pd.read_csv('data_input/household.csv', index_col='receipts_item_id')\n",
    "household[household.duplicated(keep=False)]"
   ]
  },
  {
   "cell_type": "markdown",
   "metadata": {
    "id": "dJ9ekuWPsDFv"
   },
   "source": [
    "**Answer**:\n",
    "\n",
    "1. Should (drop/not drop) the duplicates, because ...\n",
    "\n",
    "2. Should (drop/not drop) the duplicates, because ...\n",
    "\n",
    "3. Should (drop/not drop) the duplicates, because ..."
   ]
  }
 ],
 "metadata": {
  "colab": {
   "name": "inclass_EDA_day3.ipynb",
   "provenance": []
  },
  "kernelspec": {
   "display_name": "Python 3",
   "language": "python",
   "name": "python3"
  },
  "language_info": {
   "codemirror_mode": {
    "name": "ipython",
    "version": 3
   },
   "file_extension": ".py",
   "mimetype": "text/x-python",
   "name": "python",
   "nbconvert_exporter": "python",
   "pygments_lexer": "ipython3",
   "version": "3.8.5"
  },
  "latex_envs": {
   "LaTeX_envs_menu_present": true,
   "autoclose": false,
   "autocomplete": true,
   "bibliofile": "biblio.bib",
   "cite_by": "apalike",
   "current_citInitial": 1,
   "eqLabelWithNumbers": true,
   "eqNumInitial": 1,
   "hotkeys": {
    "equation": "Ctrl-E",
    "itemize": "Ctrl-I"
   },
   "labels_anchors": false,
   "latex_user_defs": false,
   "report_style_numbering": false,
   "user_envs_cfg": false
  },
  "toc": {
   "base_numbering": 1,
   "nav_menu": {},
   "number_sections": false,
   "sideBar": true,
   "skip_h1_title": false,
   "title_cell": "Table of Contents",
   "title_sidebar": "Contents",
   "toc_cell": false,
   "toc_position": {
    "height": "calc(100% - 180px)",
    "left": "10px",
    "top": "150px",
    "width": "228.011px"
   },
   "toc_section_display": true,
   "toc_window_display": false
  },
  "toc-showcode": true,
  "toc-showmarkdowntxt": true,
  "varInspector": {
   "cols": {
    "lenName": 16,
    "lenType": 16,
    "lenVar": 40
   },
   "kernels_config": {
    "python": {
     "delete_cmd_postfix": "",
     "delete_cmd_prefix": "del ",
     "library": "var_list.py",
     "varRefreshCmd": "print(var_dic_list())"
    },
    "r": {
     "delete_cmd_postfix": ") ",
     "delete_cmd_prefix": "rm(",
     "library": "var_list.r",
     "varRefreshCmd": "cat(var_dic_list()) "
    }
   },
   "types_to_exclude": [
    "module",
    "function",
    "builtin_function_or_method",
    "instance",
    "_Feature"
   ],
   "window_display": false
  }
 },
 "nbformat": 4,
 "nbformat_minor": 1
}
