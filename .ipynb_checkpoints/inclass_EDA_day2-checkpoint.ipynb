{
 "cells": [
  {
   "cell_type": "markdown",
   "metadata": {},
   "source": [
    "**Inclass material for Week 2: Exploratory Data Analysis**\n",
    "\n",
    "This notebook was made based on main materials `2_Exploratory_Data_Analysis.ipynb`\n",
    "\n",
    "Version: Newton - February 2021"
   ]
  },
  {
   "cell_type": "markdown",
   "metadata": {},
   "source": [
    "___"
   ]
  },
  {
   "cell_type": "markdown",
   "metadata": {},
   "source": [
    "# Exploratory Data Analysis (EDA)"
   ]
  },
  {
   "cell_type": "markdown",
   "metadata": {},
   "source": [
    "## Training Objectives"
   ]
  },
  {
   "cell_type": "markdown",
   "metadata": {},
   "source": [
    "The coursebook focuses on:\n",
    "- Why and What: Exploratory Data Analysis\n",
    "- Date Time objects\n",
    "- Categorical data types\n",
    "- Cross Tabulation and Pivot Table\n",
    "- Treating Duplicates and Missing Values "
   ]
  },
  {
   "cell_type": "markdown",
   "metadata": {},
   "source": [
    "## Introduction to EDA"
   ]
  },
  {
   "cell_type": "markdown",
   "metadata": {},
   "source": [
    "About 60 years ago, John Tukey defined data analysis as the \"procedures for analyzing data, techniques for interpreting the results of such procedures ... and all the machinery of mathematical statistics which apply to analyzing data\". His championing of EDA encouraged the development of statistical computing packages, especially S at Bell Labs (which later inspired R).\n",
    "\n",
    "He wrote a book titled _Exploratory Data Analysis_ arguing that too much emphasis in statistics was placed on hypothesis testing (confirmatory data analysis) while not enough was placed on the discovery of the unexpected. \n",
    "\n",
    "> Exploratory data analysis isolates patterns and features of the data and reveals these forcefully to the analyst.\n",
    "\n",
    "This course aims to present a selection of EDA techniques -- some developed by John Tukey himself -- but with a special emphasis on its application to modern business analytics."
   ]
  },
  {
   "cell_type": "markdown",
   "metadata": {},
   "source": [
    "## Data Loading"
   ]
  },
  {
   "cell_type": "markdown",
   "metadata": {},
   "source": [
    "Don't forget to **import** required library before analysis:"
   ]
  },
  {
   "cell_type": "code",
   "execution_count": 77,
   "metadata": {},
   "outputs": [],
   "source": [
    "import pandas as pd"
   ]
  },
  {
   "cell_type": "markdown",
   "metadata": {},
   "source": [
    "Load `household` data from the directory `data_input/household.csv`:"
   ]
  },
  {
   "cell_type": "code",
   "execution_count": 78,
   "metadata": {
    "scrolled": true
   },
   "outputs": [],
   "source": [
    "household = pd.read_csv('data_input/household.csv')"
   ]
  },
  {
   "cell_type": "code",
   "execution_count": 79,
   "metadata": {},
   "outputs": [
    {
     "data": {
      "text/html": [
       "<div>\n",
       "<style scoped>\n",
       "    .dataframe tbody tr th:only-of-type {\n",
       "        vertical-align: middle;\n",
       "    }\n",
       "\n",
       "    .dataframe tbody tr th {\n",
       "        vertical-align: top;\n",
       "    }\n",
       "\n",
       "    .dataframe thead th {\n",
       "        text-align: right;\n",
       "    }\n",
       "</style>\n",
       "<table border=\"1\" class=\"dataframe\">\n",
       "  <thead>\n",
       "    <tr style=\"text-align: right;\">\n",
       "      <th></th>\n",
       "      <th>receipt_id</th>\n",
       "      <th>receipts_item_id</th>\n",
       "      <th>purchase_time</th>\n",
       "      <th>category</th>\n",
       "      <th>sub_category</th>\n",
       "      <th>format</th>\n",
       "      <th>unit_price</th>\n",
       "      <th>discount</th>\n",
       "      <th>quantity</th>\n",
       "      <th>yearmonth</th>\n",
       "    </tr>\n",
       "  </thead>\n",
       "  <tbody>\n",
       "    <tr>\n",
       "      <th>0</th>\n",
       "      <td>9622257</td>\n",
       "      <td>32369294</td>\n",
       "      <td>7/22/2018 21:19</td>\n",
       "      <td>Rice</td>\n",
       "      <td>Rice</td>\n",
       "      <td>supermarket</td>\n",
       "      <td>128000.0</td>\n",
       "      <td>0</td>\n",
       "      <td>1</td>\n",
       "      <td>2018-07</td>\n",
       "    </tr>\n",
       "    <tr>\n",
       "      <th>1</th>\n",
       "      <td>9446359</td>\n",
       "      <td>31885876</td>\n",
       "      <td>7/15/2018 16:17</td>\n",
       "      <td>Rice</td>\n",
       "      <td>Rice</td>\n",
       "      <td>minimarket</td>\n",
       "      <td>102750.0</td>\n",
       "      <td>0</td>\n",
       "      <td>1</td>\n",
       "      <td>2018-07</td>\n",
       "    </tr>\n",
       "    <tr>\n",
       "      <th>2</th>\n",
       "      <td>9470290</td>\n",
       "      <td>31930241</td>\n",
       "      <td>7/15/2018 12:12</td>\n",
       "      <td>Rice</td>\n",
       "      <td>Rice</td>\n",
       "      <td>supermarket</td>\n",
       "      <td>64000.0</td>\n",
       "      <td>0</td>\n",
       "      <td>3</td>\n",
       "      <td>2018-07</td>\n",
       "    </tr>\n",
       "    <tr>\n",
       "      <th>3</th>\n",
       "      <td>9643416</td>\n",
       "      <td>32418582</td>\n",
       "      <td>7/24/2018 8:27</td>\n",
       "      <td>Rice</td>\n",
       "      <td>Rice</td>\n",
       "      <td>minimarket</td>\n",
       "      <td>65000.0</td>\n",
       "      <td>0</td>\n",
       "      <td>1</td>\n",
       "      <td>2018-07</td>\n",
       "    </tr>\n",
       "    <tr>\n",
       "      <th>4</th>\n",
       "      <td>9692093</td>\n",
       "      <td>32561236</td>\n",
       "      <td>7/26/2018 11:28</td>\n",
       "      <td>Rice</td>\n",
       "      <td>Rice</td>\n",
       "      <td>supermarket</td>\n",
       "      <td>124500.0</td>\n",
       "      <td>0</td>\n",
       "      <td>1</td>\n",
       "      <td>2018-07</td>\n",
       "    </tr>\n",
       "  </tbody>\n",
       "</table>\n",
       "</div>"
      ],
      "text/plain": [
       "   receipt_id  receipts_item_id    purchase_time category sub_category  \\\n",
       "0     9622257          32369294  7/22/2018 21:19     Rice         Rice   \n",
       "1     9446359          31885876  7/15/2018 16:17     Rice         Rice   \n",
       "2     9470290          31930241  7/15/2018 12:12     Rice         Rice   \n",
       "3     9643416          32418582   7/24/2018 8:27     Rice         Rice   \n",
       "4     9692093          32561236  7/26/2018 11:28     Rice         Rice   \n",
       "\n",
       "        format  unit_price  discount  quantity yearmonth  \n",
       "0  supermarket    128000.0         0         1   2018-07  \n",
       "1   minimarket    102750.0         0         1   2018-07  \n",
       "2  supermarket     64000.0         0         3   2018-07  \n",
       "3   minimarket     65000.0         0         1   2018-07  \n",
       "4  supermarket    124500.0         0         1   2018-07  "
      ]
     },
     "execution_count": 79,
     "metadata": {},
     "output_type": "execute_result"
    }
   ],
   "source": [
    "household.head()"
   ]
  },
  {
   "cell_type": "markdown",
   "metadata": {},
   "source": [
    "Data terkait transaksi Rice, Detergent (Fabric Care), dan Sugar "
   ]
  },
  {
   "cell_type": "code",
   "execution_count": 80,
   "metadata": {},
   "outputs": [
    {
     "data": {
      "text/plain": [
       "array(['Rice', 'Fabric Care', 'Sugar/Flavored Syrup'], dtype=object)"
      ]
     },
     "execution_count": 80,
     "metadata": {},
     "output_type": "execute_result"
    }
   ],
   "source": [
    "household['category'].unique()"
   ]
  },
  {
   "cell_type": "markdown",
   "metadata": {},
   "source": [
    "💡 **Tips**: Using `.info()` method, we can check complete **information** of our DataFrame:\n",
    "\n",
    "- Number of rows and columns (`.shape`)\n",
    "- Column name and number of non-null value (`.columns`)\n",
    "- Data types of each column (`.dtypes`)\n",
    "- Memory usage"
   ]
  },
  {
   "cell_type": "code",
   "execution_count": 81,
   "metadata": {},
   "outputs": [
    {
     "name": "stdout",
     "output_type": "stream",
     "text": [
      "<class 'pandas.core.frame.DataFrame'>\n",
      "RangeIndex: 72000 entries, 0 to 71999\n",
      "Data columns (total 10 columns):\n",
      " #   Column            Non-Null Count  Dtype  \n",
      "---  ------            --------------  -----  \n",
      " 0   receipt_id        72000 non-null  int64  \n",
      " 1   receipts_item_id  72000 non-null  int64  \n",
      " 2   purchase_time     72000 non-null  object \n",
      " 3   category          72000 non-null  object \n",
      " 4   sub_category      72000 non-null  object \n",
      " 5   format            72000 non-null  object \n",
      " 6   unit_price        72000 non-null  float64\n",
      " 7   discount          72000 non-null  int64  \n",
      " 8   quantity          72000 non-null  int64  \n",
      " 9   yearmonth         72000 non-null  object \n",
      "dtypes: float64(1), int64(4), object(5)\n",
      "memory usage: 5.5+ MB\n"
     ]
    }
   ],
   "source": [
    "household.info()"
   ]
  },
  {
   "cell_type": "markdown",
   "metadata": {},
   "source": [
    "Note: 72000 non-null untuk semua kolom menandakan data `household` tidak ada missing value"
   ]
  },
  {
   "cell_type": "markdown",
   "metadata": {},
   "source": [
    "___"
   ]
  },
  {
   "cell_type": "markdown",
   "metadata": {},
   "source": [
    "# Working with Datetime"
   ]
  },
  {
   "cell_type": "markdown",
   "metadata": {},
   "source": [
    "Let's focus on column data types of `household`:"
   ]
  },
  {
   "cell_type": "code",
   "execution_count": 82,
   "metadata": {
    "scrolled": true
   },
   "outputs": [
    {
     "data": {
      "text/plain": [
       "receipt_id            int64\n",
       "receipts_item_id      int64\n",
       "purchase_time        object\n",
       "category             object\n",
       "sub_category         object\n",
       "format               object\n",
       "unit_price          float64\n",
       "discount              int64\n",
       "quantity              int64\n",
       "yearmonth            object\n",
       "dtype: object"
      ]
     },
     "execution_count": 82,
     "metadata": {},
     "output_type": "execute_result"
    }
   ],
   "source": [
    "household.dtypes"
   ]
  },
  {
   "cell_type": "markdown",
   "metadata": {},
   "source": [
    "Which column should be stored in `datetime64` data type?\n",
    "\n",
    "> Answer: `purchase_time`"
   ]
  },
  {
   "cell_type": "code",
   "execution_count": 83,
   "metadata": {},
   "outputs": [
    {
     "data": {
      "text/plain": [
       "0        2018-07\n",
       "1        2018-07\n",
       "2        2018-07\n",
       "3        2018-07\n",
       "4        2018-07\n",
       "          ...   \n",
       "71995    2017-12\n",
       "71996    2017-12\n",
       "71997    2017-12\n",
       "71998    2017-12\n",
       "71999    2017-12\n",
       "Name: yearmonth, Length: 72000, dtype: object"
      ]
     },
     "execution_count": 83,
     "metadata": {},
     "output_type": "execute_result"
    }
   ],
   "source": [
    "# apakah yearmonth dijadikan datetime64?\n",
    "household['yearmonth']\n",
    "# jawaban: category, karena tidak ada komponen day (hanya tahun dan bulan), dan juga nilainya berulang\n",
    "# datetime64 -> yyyy-mm-dd"
   ]
  },
  {
   "cell_type": "markdown",
   "metadata": {},
   "source": [
    "## Convert to Datetime\n",
    "\n",
    "There are three common ways for us to convert data type into `datetime64`:"
   ]
  },
  {
   "cell_type": "markdown",
   "metadata": {},
   "source": [
    "### First: Method `.astype()`"
   ]
  },
  {
   "cell_type": "markdown",
   "metadata": {},
   "source": [
    "Let's create a copy of `household` so that the original data remains unchanged."
   ]
  },
  {
   "cell_type": "code",
   "execution_count": 84,
   "metadata": {},
   "outputs": [
    {
     "data": {
      "text/plain": [
       "receipt_id            int64\n",
       "receipts_item_id      int64\n",
       "purchase_time        object\n",
       "category             object\n",
       "sub_category         object\n",
       "format               object\n",
       "unit_price          float64\n",
       "discount              int64\n",
       "quantity              int64\n",
       "yearmonth            object\n",
       "dtype: object"
      ]
     },
     "execution_count": 84,
     "metadata": {},
     "output_type": "execute_result"
    }
   ],
   "source": [
    "df_1 = household.copy()\n",
    "df_1.dtypes"
   ]
  },
  {
   "cell_type": "markdown",
   "metadata": {},
   "source": [
    "Convert data type using `.astype()` method:"
   ]
  },
  {
   "cell_type": "code",
   "execution_count": 85,
   "metadata": {},
   "outputs": [],
   "source": [
    "df_1['purchase_time'] = df_1['purchase_time'].astype('datetime64')"
   ]
  },
  {
   "cell_type": "code",
   "execution_count": 86,
   "metadata": {},
   "outputs": [
    {
     "data": {
      "text/plain": [
       "receipt_id                   int64\n",
       "receipts_item_id             int64\n",
       "purchase_time       datetime64[ns]\n",
       "category                    object\n",
       "sub_category                object\n",
       "format                      object\n",
       "unit_price                 float64\n",
       "discount                     int64\n",
       "quantity                     int64\n",
       "yearmonth                   object\n",
       "dtype: object"
      ]
     },
     "execution_count": 86,
     "metadata": {},
     "output_type": "execute_result"
    }
   ],
   "source": [
    "df_1.dtypes"
   ]
  },
  {
   "cell_type": "markdown",
   "metadata": {},
   "source": [
    "⚠️ **Warning**: Don't forget to assign the result to its original column."
   ]
  },
  {
   "cell_type": "markdown",
   "metadata": {},
   "source": [
    "### Second: Parameter `parse_dates`\n",
    "\n",
    "Used during data loading, assuming we already know which columns are supposed to be `datetime64`."
   ]
  },
  {
   "cell_type": "code",
   "execution_count": 87,
   "metadata": {},
   "outputs": [
    {
     "data": {
      "text/plain": [
       "receipt_id                   int64\n",
       "receipts_item_id             int64\n",
       "purchase_time       datetime64[ns]\n",
       "category                    object\n",
       "sub_category                object\n",
       "format                      object\n",
       "unit_price                 float64\n",
       "discount                     int64\n",
       "quantity                     int64\n",
       "yearmonth                   object\n",
       "dtype: object"
      ]
     },
     "execution_count": 87,
     "metadata": {},
     "output_type": "execute_result"
    }
   ],
   "source": [
    "df_2 = pd.read_csv('data_input/household.csv', parse_dates=['purchase_time'])\n",
    "df_2.dtypes"
   ]
  },
  {
   "cell_type": "code",
   "execution_count": 88,
   "metadata": {},
   "outputs": [
    {
     "data": {
      "text/plain": [
       "0   2018-07-22 21:19:00\n",
       "1   2018-07-15 16:17:00\n",
       "2   2018-07-15 12:12:00\n",
       "3   2018-07-24 08:27:00\n",
       "4   2018-07-26 11:28:00\n",
       "Name: purchase_time, dtype: datetime64[ns]"
      ]
     },
     "execution_count": 88,
     "metadata": {},
     "output_type": "execute_result"
    }
   ],
   "source": [
    "df_2['purchase_time'].head()\n",
    "# format datetime64 adalah yyyy-mm-dd hh:mm:ss"
   ]
  },
  {
   "cell_type": "markdown",
   "metadata": {},
   "source": [
    "### Third: Method `pd.to_datetime()`"
   ]
  },
  {
   "cell_type": "code",
   "execution_count": 89,
   "metadata": {},
   "outputs": [
    {
     "data": {
      "text/plain": [
       "receipt_id            int64\n",
       "receipts_item_id      int64\n",
       "purchase_time        object\n",
       "category             object\n",
       "sub_category         object\n",
       "format               object\n",
       "unit_price          float64\n",
       "discount              int64\n",
       "quantity              int64\n",
       "yearmonth            object\n",
       "dtype: object"
      ]
     },
     "execution_count": 89,
     "metadata": {},
     "output_type": "execute_result"
    }
   ],
   "source": [
    "df_3 = household.copy()\n",
    "df_3.dtypes"
   ]
  },
  {
   "cell_type": "markdown",
   "metadata": {},
   "source": [
    "Convert data type using `pd.to_datetime()` method:"
   ]
  },
  {
   "cell_type": "code",
   "execution_count": 90,
   "metadata": {},
   "outputs": [],
   "source": [
    "df_3['purchase_time'] = pd.to_datetime(df_3['purchase_time'])"
   ]
  },
  {
   "cell_type": "code",
   "execution_count": 91,
   "metadata": {},
   "outputs": [
    {
     "data": {
      "text/plain": [
       "receipt_id                   int64\n",
       "receipts_item_id             int64\n",
       "purchase_time       datetime64[ns]\n",
       "category                    object\n",
       "sub_category                object\n",
       "format                      object\n",
       "unit_price                 float64\n",
       "discount                     int64\n",
       "quantity                     int64\n",
       "yearmonth                   object\n",
       "dtype: object"
      ]
     },
     "execution_count": 91,
     "metadata": {},
     "output_type": "execute_result"
    }
   ],
   "source": [
    "df_3.dtypes"
   ]
  },
  {
   "cell_type": "markdown",
   "metadata": {},
   "source": [
    "So, what is the difference between using `.astype()` and `pd.to_datetime()`?\n",
    "\n",
    "Unlike using `astype()`, with `pd.to_datetime()` we are allowed to specify **parameters** for the datetime conversion. Thus, provide more **flexibility**."
   ]
  },
  {
   "cell_type": "markdown",
   "metadata": {},
   "source": [
    "Suppose we have a column which stores a daily sales data from end of January to the beginning of February:"
   ]
  },
  {
   "cell_type": "code",
   "execution_count": 92,
   "metadata": {},
   "outputs": [
    {
     "data": {
      "text/plain": [
       "0    30-01-2021\n",
       "1    31-01-2021\n",
       "2    01-02-2021\n",
       "3    02-02-2021\n",
       "dtype: object"
      ]
     },
     "execution_count": 92,
     "metadata": {},
     "output_type": "execute_result"
    }
   ],
   "source": [
    "sales_date = pd.Series(['30-01-2021', '31-01-2021', '01-02-2021', '02-02-2021'])\n",
    "sales_date"
   ]
  },
  {
   "cell_type": "markdown",
   "metadata": {},
   "source": [
    "The example above shows how Indonesians usually write dates, using **dd-mm-yyyy** format. Let's see what will happen when we convert `sales_date` data type to `datetime64`:"
   ]
  },
  {
   "cell_type": "code",
   "execution_count": 93,
   "metadata": {},
   "outputs": [
    {
     "data": {
      "text/plain": [
       "0   2021-01-30\n",
       "1   2021-01-31\n",
       "2   2021-01-02\n",
       "3   2021-02-02\n",
       "dtype: datetime64[ns]"
      ]
     },
     "execution_count": 93,
     "metadata": {},
     "output_type": "execute_result"
    }
   ],
   "source": [
    "sales_date.astype('datetime64') # yyyy-mm-dd"
   ]
  },
  {
   "cell_type": "markdown",
   "metadata": {},
   "source": [
    "Take a look on the third observation (second index):\n",
    "\n",
    "- Expectation: 1 February\n",
    "- Reality: 2 January\n",
    "\n",
    "⚠️ **Warning**: By default, `pandas` will infer date as **month first** format."
   ]
  },
  {
   "cell_type": "markdown",
   "metadata": {},
   "source": [
    "#### Parameter `dayfirst`"
   ]
  },
  {
   "cell_type": "markdown",
   "metadata": {},
   "source": [
    "Solution 1: Use parameter `dayfirst=True` to specify that our `sales_date` starts with day, not month."
   ]
  },
  {
   "cell_type": "code",
   "execution_count": 94,
   "metadata": {},
   "outputs": [
    {
     "data": {
      "text/plain": [
       "0   2021-01-30\n",
       "1   2021-01-31\n",
       "2   2021-02-01\n",
       "3   2021-02-02\n",
       "dtype: datetime64[ns]"
      ]
     },
     "execution_count": 94,
     "metadata": {},
     "output_type": "execute_result"
    }
   ],
   "source": [
    "pd.to_datetime(sales_date, dayfirst=True)"
   ]
  },
  {
   "cell_type": "markdown",
   "metadata": {},
   "source": [
    "#### Parameter `format`"
   ]
  },
  {
   "cell_type": "markdown",
   "metadata": {},
   "source": [
    "Solution 2: Use parameter `format` to specifically specify the date formatting of our `sales_date`."
   ]
  },
  {
   "cell_type": "code",
   "execution_count": 95,
   "metadata": {},
   "outputs": [
    {
     "data": {
      "text/plain": [
       "0   2021-01-30\n",
       "1   2021-01-31\n",
       "2   2021-02-01\n",
       "3   2021-02-02\n",
       "dtype: datetime64[ns]"
      ]
     },
     "execution_count": 95,
     "metadata": {},
     "output_type": "execute_result"
    }
   ],
   "source": [
    "pd.to_datetime(sales_date, format='%d-%m-%Y')"
   ]
  },
  {
   "cell_type": "markdown",
   "metadata": {},
   "source": [
    "- `%d`: tanggal, dua digit\n",
    "- `%m`: bulan, dua digit\n",
    "- `%Y`: tahun, empat digit"
   ]
  },
  {
   "cell_type": "markdown",
   "metadata": {},
   "source": [
    "The specified `format` is called as Python's `strftime` directives.\n",
    "\n",
    "`strftime` means string from time, we can format the time in different desirable ways.\n",
    "\n",
    "[Documentation of `strftime`](https://strftime.org/)"
   ]
  },
  {
   "cell_type": "markdown",
   "metadata": {},
   "source": [
    "Misalkan format tanggal yang kita miliki sekarang `dd/mm-yyyy` maka formatnya juga mengikuti: `format='%d/%m-%Y'`"
   ]
  },
  {
   "cell_type": "code",
   "execution_count": 96,
   "metadata": {},
   "outputs": [
    {
     "data": {
      "text/plain": [
       "0   2021-01-30\n",
       "1   2021-01-31\n",
       "2   2021-02-01\n",
       "3   2021-02-02\n",
       "dtype: datetime64[ns]"
      ]
     },
     "execution_count": 96,
     "metadata": {},
     "output_type": "execute_result"
    }
   ],
   "source": [
    "sales_date2 = pd.Series(['30/01-2021', '31/01-2021', '01/02-2021', '02/02-2021'])\n",
    "pd.to_datetime(sales_date2, format='%d/%m-%Y')"
   ]
  },
  {
   "cell_type": "markdown",
   "metadata": {},
   "source": [
    "Note:\n",
    "\n",
    "- Untuk `datetime64` formatnya selalu yyyy-mm-dd hh:mm:ss\n",
    "- `ns`: nanosecond"
   ]
  },
  {
   "cell_type": "markdown",
   "metadata": {},
   "source": [
    "Misalkan format tanggal dan bulan tanpa '0' melainkan langsung angkanya, maka formatnya sama saja:"
   ]
  },
  {
   "cell_type": "code",
   "execution_count": 97,
   "metadata": {},
   "outputs": [
    {
     "data": {
      "text/plain": [
       "0   2021-01-01\n",
       "1   2021-01-02\n",
       "2   2021-01-03\n",
       "3   2021-01-04\n",
       "dtype: datetime64[ns]"
      ]
     },
     "execution_count": 97,
     "metadata": {},
     "output_type": "execute_result"
    }
   ],
   "source": [
    "sales_date3 = pd.Series(['1-1-2021', '2-1-2021', '3-1-2021', '4-1-2021'])\n",
    "pd.to_datetime(sales_date3, format='%d-%m-%Y')"
   ]
  },
  {
   "cell_type": "markdown",
   "metadata": {},
   "source": [
    "## Extract Datetime Component"
   ]
  },
  {
   "cell_type": "markdown",
   "metadata": {},
   "source": [
    "The main reason we convert a column to `datetime64` date type because `pandas` has a number of machineries to work with `datetime` objects. These are convenient for when we need to extract datetime component.\n",
    "\n",
    "**Date component (numeric)**\n",
    "- `.dt.year`\n",
    "- `.dt.month`\n",
    "- `.dt.day`\n",
    "- `.dt.dayofweek`: index of day, Monday = 0 to Sunday = 6\n",
    "\n",
    "**Date component (string)**\n",
    "- `.dt.month_name()`\n",
    "- `.dt.day_name()`\n",
    "\n",
    "**Time component**\n",
    "- `.dt.hour`\n",
    "- `.dt.minute`\n",
    "- `.dt.second`\n",
    "\n",
    "[Documentation of datetime properties](https://pandas.pydata.org/pandas-docs/stable/reference/series.html#datetimelike-properties)"
   ]
  },
  {
   "cell_type": "markdown",
   "metadata": {},
   "source": [
    "Let's extract datetime component from `household`, but first let's convert `purchase_time` column to `datetime64`:"
   ]
  },
  {
   "cell_type": "code",
   "execution_count": 98,
   "metadata": {},
   "outputs": [
    {
     "data": {
      "text/plain": [
       "0       2018-07-22 21:19:00\n",
       "1       2018-07-15 16:17:00\n",
       "2       2018-07-15 12:12:00\n",
       "3       2018-07-24 08:27:00\n",
       "4       2018-07-26 11:28:00\n",
       "                ...        \n",
       "71995   2017-12-27 09:20:00\n",
       "71996   2017-12-13 19:52:00\n",
       "71997   2017-12-27 08:03:00\n",
       "71998   2017-12-07 12:29:00\n",
       "71999   2017-12-19 18:59:00\n",
       "Name: purchase_time, Length: 72000, dtype: datetime64[ns]"
      ]
     },
     "execution_count": 98,
     "metadata": {},
     "output_type": "execute_result"
    }
   ],
   "source": [
    "# your code here\n",
    "household['purchase_time'] = household['purchase_time'].astype('datetime64')\n",
    "household['purchase_time']"
   ]
  },
  {
   "cell_type": "code",
   "execution_count": 99,
   "metadata": {},
   "outputs": [
    {
     "data": {
      "text/plain": [
       "receipt_id                   int64\n",
       "receipts_item_id             int64\n",
       "purchase_time       datetime64[ns]\n",
       "category                    object\n",
       "sub_category                object\n",
       "format                      object\n",
       "unit_price                 float64\n",
       "discount                     int64\n",
       "quantity                     int64\n",
       "yearmonth                   object\n",
       "dtype: object"
      ]
     },
     "execution_count": 99,
     "metadata": {},
     "output_type": "execute_result"
    }
   ],
   "source": [
    "household.dtypes"
   ]
  },
  {
   "cell_type": "markdown",
   "metadata": {},
   "source": [
    "Check the range of `purchase_time`:"
   ]
  },
  {
   "cell_type": "code",
   "execution_count": 100,
   "metadata": {
    "scrolled": true
   },
   "outputs": [
    {
     "name": "stderr",
     "output_type": "stream",
     "text": [
      "<ipython-input-100-ae4a8afa6a47>:1: FutureWarning: Treating datetime data as categorical rather than numeric in `.describe` is deprecated and will be removed in a future version of pandas. Specify `datetime_is_numeric=True` to silence this warning and adopt the future behavior now.\n",
      "  household['purchase_time'].describe()\n"
     ]
    },
    {
     "data": {
      "text/plain": [
       "count                   72000\n",
       "unique                  62072\n",
       "top       2017-10-22 12:00:00\n",
       "freq                       12\n",
       "first     2017-10-01 00:00:00\n",
       "last      2018-09-30 23:57:00\n",
       "Name: purchase_time, dtype: object"
      ]
     },
     "execution_count": 100,
     "metadata": {},
     "output_type": "execute_result"
    }
   ],
   "source": [
    "household['purchase_time'].describe()"
   ]
  },
  {
   "cell_type": "markdown",
   "metadata": {},
   "source": [
    "Note: `dtype: object` bukanlah tipe data dari kolom `purchase_time`, melainkan dari hasil `.describe()`"
   ]
  },
  {
   "cell_type": "markdown",
   "metadata": {},
   "source": [
    "### Datetime attribute\n",
    "\n",
    "To extract datetime component in numeric value, we can use its **attribute** (without bracket)"
   ]
  },
  {
   "cell_type": "code",
   "execution_count": 101,
   "metadata": {},
   "outputs": [
    {
     "data": {
      "text/plain": [
       "0       2018-07-22 21:19:00\n",
       "1       2018-07-15 16:17:00\n",
       "2       2018-07-15 12:12:00\n",
       "3       2018-07-24 08:27:00\n",
       "4       2018-07-26 11:28:00\n",
       "                ...        \n",
       "71995   2017-12-27 09:20:00\n",
       "71996   2017-12-13 19:52:00\n",
       "71997   2017-12-27 08:03:00\n",
       "71998   2017-12-07 12:29:00\n",
       "71999   2017-12-19 18:59:00\n",
       "Name: purchase_time, Length: 72000, dtype: datetime64[ns]"
      ]
     },
     "execution_count": 101,
     "metadata": {},
     "output_type": "execute_result"
    }
   ],
   "source": [
    "household['purchase_time']"
   ]
  },
  {
   "cell_type": "code",
   "execution_count": 102,
   "metadata": {},
   "outputs": [
    {
     "data": {
      "text/plain": [
       "0         7\n",
       "1         7\n",
       "2         7\n",
       "3         7\n",
       "4         7\n",
       "         ..\n",
       "71995    12\n",
       "71996    12\n",
       "71997    12\n",
       "71998    12\n",
       "71999    12\n",
       "Name: purchase_time, Length: 72000, dtype: int64"
      ]
     },
     "execution_count": 102,
     "metadata": {},
     "output_type": "execute_result"
    }
   ],
   "source": [
    "household['purchase_time'].dt.month"
   ]
  },
  {
   "cell_type": "code",
   "execution_count": 103,
   "metadata": {},
   "outputs": [
    {
     "data": {
      "text/plain": [
       "0        21\n",
       "1        16\n",
       "2        12\n",
       "3         8\n",
       "4        11\n",
       "         ..\n",
       "71995     9\n",
       "71996    19\n",
       "71997     8\n",
       "71998    12\n",
       "71999    18\n",
       "Name: purchase_time, Length: 72000, dtype: int64"
      ]
     },
     "execution_count": 103,
     "metadata": {},
     "output_type": "execute_result"
    }
   ],
   "source": [
    "household['purchase_time'].dt.hour"
   ]
  },
  {
   "cell_type": "markdown",
   "metadata": {},
   "source": [
    "### Datetime method\n",
    "\n",
    "To extract name (text) from datetime component, we can use its **method** (with bracket)"
   ]
  },
  {
   "cell_type": "code",
   "execution_count": 104,
   "metadata": {},
   "outputs": [
    {
     "data": {
      "text/plain": [
       "0           Sunday\n",
       "1           Sunday\n",
       "2           Sunday\n",
       "3          Tuesday\n",
       "4         Thursday\n",
       "           ...    \n",
       "71995    Wednesday\n",
       "71996    Wednesday\n",
       "71997    Wednesday\n",
       "71998     Thursday\n",
       "71999      Tuesday\n",
       "Name: purchase_time, Length: 72000, dtype: object"
      ]
     },
     "execution_count": 104,
     "metadata": {},
     "output_type": "execute_result"
    }
   ],
   "source": [
    "household['purchase_time'].dt.day_name()"
   ]
  },
  {
   "cell_type": "code",
   "execution_count": 105,
   "metadata": {},
   "outputs": [
    {
     "data": {
      "text/plain": [
       "0            July\n",
       "1            July\n",
       "2            July\n",
       "3            July\n",
       "4            July\n",
       "           ...   \n",
       "71995    December\n",
       "71996    December\n",
       "71997    December\n",
       "71998    December\n",
       "71999    December\n",
       "Name: purchase_time, Length: 72000, dtype: object"
      ]
     },
     "execution_count": 105,
     "metadata": {},
     "output_type": "execute_result"
    }
   ],
   "source": [
    "household['purchase_time'].dt.month_name()"
   ]
  },
  {
   "cell_type": "markdown",
   "metadata": {},
   "source": [
    "## Datetime Transformation"
   ]
  },
  {
   "cell_type": "markdown",
   "metadata": {},
   "source": [
    "Supposed we want to transform the existing `datetime64` column into values of periods, we can use the `.to_period()` method:\n",
    "\n",
    "- `.dt.to_period('D')`: Daily (yyyy-mm-dd)\n",
    "- `.dt.to_period('W')`: Weekly (Monday to Sunday period)\n",
    "- `.dt.to_period('M')`: Monthly (year-month)\n",
    "- `.dt.to_period('Q')`: Quarterly (year-quarter)\n",
    "\n",
    "[Documentation of offset aliases](https://pandas.pydata.org/pandas-docs/stable/user_guide/timeseries.html#timeseries-offset-aliases)"
   ]
  },
  {
   "cell_type": "code",
   "execution_count": 106,
   "metadata": {},
   "outputs": [
    {
     "data": {
      "text/plain": [
       "0        2018-07-22\n",
       "1        2018-07-15\n",
       "2        2018-07-15\n",
       "3        2018-07-24\n",
       "4        2018-07-26\n",
       "            ...    \n",
       "71995    2017-12-27\n",
       "71996    2017-12-13\n",
       "71997    2017-12-27\n",
       "71998    2017-12-07\n",
       "71999    2017-12-19\n",
       "Name: purchase_time, Length: 72000, dtype: period[D]"
      ]
     },
     "execution_count": 106,
     "metadata": {},
     "output_type": "execute_result"
    }
   ],
   "source": [
    "household['purchase_time'].dt.to_period('D') # Daily"
   ]
  },
  {
   "cell_type": "code",
   "execution_count": 107,
   "metadata": {},
   "outputs": [
    {
     "data": {
      "text/plain": [
       "0        2018-07-16/2018-07-22\n",
       "1        2018-07-09/2018-07-15\n",
       "2        2018-07-09/2018-07-15\n",
       "3        2018-07-23/2018-07-29\n",
       "4        2018-07-23/2018-07-29\n",
       "                 ...          \n",
       "71995    2017-12-25/2017-12-31\n",
       "71996    2017-12-11/2017-12-17\n",
       "71997    2017-12-25/2017-12-31\n",
       "71998    2017-12-04/2017-12-10\n",
       "71999    2017-12-18/2017-12-24\n",
       "Name: purchase_time, Length: 72000, dtype: period[W-SUN]"
      ]
     },
     "execution_count": 107,
     "metadata": {},
     "output_type": "execute_result"
    }
   ],
   "source": [
    "household['purchase_time'].dt.to_period('W') # Weekly: Monday/Sunday"
   ]
  },
  {
   "cell_type": "code",
   "execution_count": 108,
   "metadata": {},
   "outputs": [
    {
     "data": {
      "text/plain": [
       "0        2018-07-22/2018-07-28\n",
       "1        2018-07-15/2018-07-21\n",
       "2        2018-07-15/2018-07-21\n",
       "3        2018-07-22/2018-07-28\n",
       "4        2018-07-22/2018-07-28\n",
       "                 ...          \n",
       "71995    2017-12-24/2017-12-30\n",
       "71996    2017-12-10/2017-12-16\n",
       "71997    2017-12-24/2017-12-30\n",
       "71998    2017-12-03/2017-12-09\n",
       "71999    2017-12-17/2017-12-23\n",
       "Name: purchase_time, Length: 72000, dtype: period[W-SAT]"
      ]
     },
     "execution_count": 108,
     "metadata": {},
     "output_type": "execute_result"
    }
   ],
   "source": [
    "household['purchase_time'].dt.to_period('W-SAT') # Weekly Saturday: Sunday/Saturday"
   ]
  },
  {
   "cell_type": "code",
   "execution_count": 109,
   "metadata": {},
   "outputs": [
    {
     "data": {
      "text/plain": [
       "0        2018-07\n",
       "1        2018-07\n",
       "2        2018-07\n",
       "3        2018-07\n",
       "4        2018-07\n",
       "          ...   \n",
       "71995    2017-12\n",
       "71996    2017-12\n",
       "71997    2017-12\n",
       "71998    2017-12\n",
       "71999    2017-12\n",
       "Name: purchase_time, Length: 72000, dtype: period[M]"
      ]
     },
     "execution_count": 109,
     "metadata": {},
     "output_type": "execute_result"
    }
   ],
   "source": [
    "household['purchase_time'].dt.to_period('M') # Monthly: year-month"
   ]
  },
  {
   "cell_type": "code",
   "execution_count": 110,
   "metadata": {},
   "outputs": [
    {
     "data": {
      "text/plain": [
       "0        2018Q3\n",
       "1        2018Q3\n",
       "2        2018Q3\n",
       "3        2018Q3\n",
       "4        2018Q3\n",
       "          ...  \n",
       "71995    2017Q4\n",
       "71996    2017Q4\n",
       "71997    2017Q4\n",
       "71998    2017Q4\n",
       "71999    2017Q4\n",
       "Name: purchase_time, Length: 72000, dtype: period[Q-DEC]"
      ]
     },
     "execution_count": 110,
     "metadata": {},
     "output_type": "execute_result"
    }
   ],
   "source": [
    "household['purchase_time'].dt.to_period('Q') # Quarterly: yearQ[1/2/3/4]"
   ]
  },
  {
   "cell_type": "markdown",
   "metadata": {},
   "source": [
    "**In class Question 1**: Bagaimana untuk menggabungkan beberapa kolom komponen tanggal menjadi satu?\n",
    "\n",
    "Misal pakai data `companies.csv` kita gabungkan kolom `Month`, `Day`, dan `Year`:"
   ]
  },
  {
   "cell_type": "code",
   "execution_count": 111,
   "metadata": {},
   "outputs": [
    {
     "data": {
      "text/html": [
       "<div>\n",
       "<style scoped>\n",
       "    .dataframe tbody tr th:only-of-type {\n",
       "        vertical-align: middle;\n",
       "    }\n",
       "\n",
       "    .dataframe tbody tr th {\n",
       "        vertical-align: top;\n",
       "    }\n",
       "\n",
       "    .dataframe thead th {\n",
       "        text-align: right;\n",
       "    }\n",
       "</style>\n",
       "<table border=\"1\" class=\"dataframe\">\n",
       "  <thead>\n",
       "    <tr style=\"text-align: right;\">\n",
       "      <th></th>\n",
       "      <th>ID</th>\n",
       "      <th>Customer Name</th>\n",
       "      <th>Consulting Sales</th>\n",
       "      <th>Software Sales</th>\n",
       "      <th>Forecasted Growth</th>\n",
       "      <th>Returns</th>\n",
       "      <th>Month</th>\n",
       "      <th>Day</th>\n",
       "      <th>Year</th>\n",
       "      <th>Location</th>\n",
       "      <th>Account</th>\n",
       "    </tr>\n",
       "  </thead>\n",
       "  <tbody>\n",
       "    <tr>\n",
       "      <th>0</th>\n",
       "      <td>30940</td>\n",
       "      <td>New Media Group</td>\n",
       "      <td>IDR7125000</td>\n",
       "      <td>IDR5500000</td>\n",
       "      <td>30.00%</td>\n",
       "      <td>IDR1,500,000</td>\n",
       "      <td>1</td>\n",
       "      <td>10</td>\n",
       "      <td>2017</td>\n",
       "      <td>Jakarta</td>\n",
       "      <td>Enterprise</td>\n",
       "    </tr>\n",
       "    <tr>\n",
       "      <th>1</th>\n",
       "      <td>82391</td>\n",
       "      <td>Li and Partners</td>\n",
       "      <td>IDR420000</td>\n",
       "      <td>IDR820000</td>\n",
       "      <td>10.00%</td>\n",
       "      <td>IDR400,000</td>\n",
       "      <td>6</td>\n",
       "      <td>15</td>\n",
       "      <td>2016</td>\n",
       "      <td>Jakarta</td>\n",
       "      <td>Startup</td>\n",
       "    </tr>\n",
       "    <tr>\n",
       "      <th>2</th>\n",
       "      <td>18374</td>\n",
       "      <td>PT. Kreasi Metrik Solusi</td>\n",
       "      <td>0</td>\n",
       "      <td>IDR550403</td>\n",
       "      <td>25.00%</td>\n",
       "      <td>0</td>\n",
       "      <td>3</td>\n",
       "      <td>29</td>\n",
       "      <td>2012</td>\n",
       "      <td>Surabaya</td>\n",
       "      <td>Enterprise</td>\n",
       "    </tr>\n",
       "    <tr>\n",
       "      <th>3</th>\n",
       "      <td>57531</td>\n",
       "      <td>PT. Algoritma Data Indonesia</td>\n",
       "      <td>IDR850000</td>\n",
       "      <td>IDR395500</td>\n",
       "      <td>4.00%</td>\n",
       "      <td>0</td>\n",
       "      <td>7</td>\n",
       "      <td>17</td>\n",
       "      <td>2017</td>\n",
       "      <td>Jakarta</td>\n",
       "      <td>Startup</td>\n",
       "    </tr>\n",
       "    <tr>\n",
       "      <th>4</th>\n",
       "      <td>19002</td>\n",
       "      <td>Palembang Konsultansi</td>\n",
       "      <td>IDR2115000</td>\n",
       "      <td>0</td>\n",
       "      <td>-15.00%</td>\n",
       "      <td>0</td>\n",
       "      <td>2</td>\n",
       "      <td>24</td>\n",
       "      <td>2018</td>\n",
       "      <td>Bandung</td>\n",
       "      <td>Startup</td>\n",
       "    </tr>\n",
       "    <tr>\n",
       "      <th>5</th>\n",
       "      <td>31142</td>\n",
       "      <td>PT. Surya Citra Manajemen</td>\n",
       "      <td>IDR960000</td>\n",
       "      <td>IDR503000</td>\n",
       "      <td>19.00%</td>\n",
       "      <td>0</td>\n",
       "      <td>1</td>\n",
       "      <td>19</td>\n",
       "      <td>2019</td>\n",
       "      <td>Jakarta</td>\n",
       "      <td>Enterprise</td>\n",
       "    </tr>\n",
       "  </tbody>\n",
       "</table>\n",
       "</div>"
      ],
      "text/plain": [
       "      ID                 Customer Name Consulting Sales Software Sales  \\\n",
       "0  30940               New Media Group       IDR7125000     IDR5500000   \n",
       "1  82391               Li and Partners        IDR420000      IDR820000   \n",
       "2  18374      PT. Kreasi Metrik Solusi                0      IDR550403   \n",
       "3  57531  PT. Algoritma Data Indonesia        IDR850000      IDR395500   \n",
       "4  19002         Palembang Konsultansi       IDR2115000              0   \n",
       "5  31142     PT. Surya Citra Manajemen        IDR960000      IDR503000   \n",
       "\n",
       "  Forecasted Growth       Returns  Month  Day  Year  Location     Account  \n",
       "0            30.00%  IDR1,500,000      1   10  2017   Jakarta  Enterprise  \n",
       "1            10.00%    IDR400,000      6   15  2016   Jakarta     Startup  \n",
       "2            25.00%             0      3   29  2012  Surabaya  Enterprise  \n",
       "3             4.00%             0      7   17  2017   Jakarta     Startup  \n",
       "4           -15.00%             0      2   24  2018   Bandung     Startup  \n",
       "5            19.00%             0      1   19  2019   Jakarta  Enterprise  "
      ]
     },
     "execution_count": 111,
     "metadata": {},
     "output_type": "execute_result"
    }
   ],
   "source": [
    "companies = pd.read_csv(\"./data_input/companies.csv\")\n",
    "companies"
   ]
  },
  {
   "cell_type": "markdown",
   "metadata": {},
   "source": [
    "Tahapan:\n",
    "\n",
    "1. Gabungkan dengan operasi `+`, namun pastikan tipenya **str** (string) agar dapat digabungkan\n",
    "2. Ubah menjadi tipe data `datetime64`\n",
    "3. Kemudian dapat diekstrak komponen datetime nya"
   ]
  },
  {
   "cell_type": "code",
   "execution_count": 112,
   "metadata": {},
   "outputs": [
    {
     "data": {
      "text/plain": [
       "0      Tuesday\n",
       "1    Wednesday\n",
       "2     Thursday\n",
       "3       Monday\n",
       "4     Saturday\n",
       "5     Saturday\n",
       "Name: date, dtype: object"
      ]
     },
     "execution_count": 112,
     "metadata": {},
     "output_type": "execute_result"
    }
   ],
   "source": [
    "companies['date'] = companies['Month'].astype(str) + '-' + companies['Day'].astype(str) + '-' + companies['Year'].astype(str)\n",
    "companies['date'] = companies['date'].astype('datetime64')\n",
    "companies['date'].dt.day_name()"
   ]
  },
  {
   "cell_type": "markdown",
   "metadata": {},
   "source": [
    "**In class Question 2**: Apakah str = object?\n",
    "\n",
    "Tipe data object umumnya adalah string (kalimat) pada file text/csv. Object tidak selalu string, bahkan kita dapat meletakkan DataFrame di dalam DataFrame, dan DataFrame yang ada di dalam dikenal sebagai object. Namun hal ini jarang dilakukan dalam melakukan analisis data."
   ]
  },
  {
   "cell_type": "code",
   "execution_count": 113,
   "metadata": {},
   "outputs": [
    {
     "data": {
      "text/html": [
       "<div>\n",
       "<style scoped>\n",
       "    .dataframe tbody tr th:only-of-type {\n",
       "        vertical-align: middle;\n",
       "    }\n",
       "\n",
       "    .dataframe tbody tr th {\n",
       "        vertical-align: top;\n",
       "    }\n",
       "\n",
       "    .dataframe thead th {\n",
       "        text-align: right;\n",
       "    }\n",
       "</style>\n",
       "<table border=\"1\" class=\"dataframe\">\n",
       "  <thead>\n",
       "    <tr style=\"text-align: right;\">\n",
       "      <th></th>\n",
       "      <th>kolom1</th>\n",
       "    </tr>\n",
       "  </thead>\n",
       "  <tbody>\n",
       "    <tr>\n",
       "      <th>0</th>\n",
       "      <td>kolom1 kolom2\n",
       "0       1      a\n",
       "1       2   ...</td>\n",
       "    </tr>\n",
       "    <tr>\n",
       "      <th>1</th>\n",
       "      <td>kolom1 kolom2\n",
       "0       1      a\n",
       "1       2   ...</td>\n",
       "    </tr>\n",
       "  </tbody>\n",
       "</table>\n",
       "</div>"
      ],
      "text/plain": [
       "                                              kolom1\n",
       "0     kolom1 kolom2\n",
       "0       1      a\n",
       "1       2   ...\n",
       "1     kolom1 kolom2\n",
       "0       1      a\n",
       "1       2   ..."
      ]
     },
     "execution_count": 113,
     "metadata": {},
     "output_type": "execute_result"
    }
   ],
   "source": [
    "tabel1 = pd.DataFrame({'kolom1': [1, 2, 3],\n",
    "                       'kolom2': ['a', 'b', 'c']})\n",
    "tabel2 = tabel1.copy()\n",
    "\n",
    "tabel = pd.DataFrame({'kolom1': [tabel1, tabel2]})\n",
    "tabel"
   ]
  },
  {
   "cell_type": "code",
   "execution_count": 114,
   "metadata": {},
   "outputs": [
    {
     "data": {
      "text/plain": [
       "kolom1    object\n",
       "dtype: object"
      ]
     },
     "execution_count": 114,
     "metadata": {},
     "output_type": "execute_result"
    }
   ],
   "source": [
    "tabel.dtypes"
   ]
  },
  {
   "cell_type": "markdown",
   "metadata": {},
   "source": [
    "## Knowledge Check: Datetime\n",
    "\n",
    "_Estimated time required: 15 minutes_"
   ]
  },
  {
   "cell_type": "markdown",
   "metadata": {},
   "source": [
    "1. In the following cell, start again by reading in the `household.csv` dataset.\n",
    "2. Make sure the `purchase_time` column has converted as a datetime object.\n",
    "3. Use `x.dt.day_name()`, assuming `x` is a datetime object to get the day of week. Assign this to a new column in your `household` Data Frame, name it `weekday`\n",
    "4. The `yearmonth` column stores the information of year and month of the `purchase_time`. Using `dt.to_period()`, how will you recreate the column if you needed the same information?\n",
    "5. Print the first 5 rows of your data to verify that your preprocessing steps are correct"
   ]
  },
  {
   "cell_type": "markdown",
   "metadata": {},
   "source": [
    "Alternatif untuk nomor 2:\n",
    "\n",
    "- Menggunakan `household['purchase_time'].astype('datetime64')`\n",
    "- Menambahkan parameter `parse_dates = ['purchase_time']` di dalam `pd.read_csv()`"
   ]
  },
  {
   "cell_type": "code",
   "execution_count": 115,
   "metadata": {
    "scrolled": true
   },
   "outputs": [
    {
     "data": {
      "text/html": [
       "<div>\n",
       "<style scoped>\n",
       "    .dataframe tbody tr th:only-of-type {\n",
       "        vertical-align: middle;\n",
       "    }\n",
       "\n",
       "    .dataframe tbody tr th {\n",
       "        vertical-align: top;\n",
       "    }\n",
       "\n",
       "    .dataframe thead th {\n",
       "        text-align: right;\n",
       "    }\n",
       "</style>\n",
       "<table border=\"1\" class=\"dataframe\">\n",
       "  <thead>\n",
       "    <tr style=\"text-align: right;\">\n",
       "      <th></th>\n",
       "      <th>receipt_id</th>\n",
       "      <th>receipts_item_id</th>\n",
       "      <th>purchase_time</th>\n",
       "      <th>category</th>\n",
       "      <th>sub_category</th>\n",
       "      <th>format</th>\n",
       "      <th>unit_price</th>\n",
       "      <th>discount</th>\n",
       "      <th>quantity</th>\n",
       "      <th>yearmonth</th>\n",
       "      <th>weekday</th>\n",
       "      <th>yearmonth_recreate</th>\n",
       "    </tr>\n",
       "  </thead>\n",
       "  <tbody>\n",
       "    <tr>\n",
       "      <th>0</th>\n",
       "      <td>9622257</td>\n",
       "      <td>32369294</td>\n",
       "      <td>2018-07-22 21:19:00</td>\n",
       "      <td>Rice</td>\n",
       "      <td>Rice</td>\n",
       "      <td>supermarket</td>\n",
       "      <td>128000.0</td>\n",
       "      <td>0</td>\n",
       "      <td>1</td>\n",
       "      <td>2018-07</td>\n",
       "      <td>Sunday</td>\n",
       "      <td>2018-07</td>\n",
       "    </tr>\n",
       "    <tr>\n",
       "      <th>1</th>\n",
       "      <td>9446359</td>\n",
       "      <td>31885876</td>\n",
       "      <td>2018-07-15 16:17:00</td>\n",
       "      <td>Rice</td>\n",
       "      <td>Rice</td>\n",
       "      <td>minimarket</td>\n",
       "      <td>102750.0</td>\n",
       "      <td>0</td>\n",
       "      <td>1</td>\n",
       "      <td>2018-07</td>\n",
       "      <td>Sunday</td>\n",
       "      <td>2018-07</td>\n",
       "    </tr>\n",
       "    <tr>\n",
       "      <th>2</th>\n",
       "      <td>9470290</td>\n",
       "      <td>31930241</td>\n",
       "      <td>2018-07-15 12:12:00</td>\n",
       "      <td>Rice</td>\n",
       "      <td>Rice</td>\n",
       "      <td>supermarket</td>\n",
       "      <td>64000.0</td>\n",
       "      <td>0</td>\n",
       "      <td>3</td>\n",
       "      <td>2018-07</td>\n",
       "      <td>Sunday</td>\n",
       "      <td>2018-07</td>\n",
       "    </tr>\n",
       "    <tr>\n",
       "      <th>3</th>\n",
       "      <td>9643416</td>\n",
       "      <td>32418582</td>\n",
       "      <td>2018-07-24 08:27:00</td>\n",
       "      <td>Rice</td>\n",
       "      <td>Rice</td>\n",
       "      <td>minimarket</td>\n",
       "      <td>65000.0</td>\n",
       "      <td>0</td>\n",
       "      <td>1</td>\n",
       "      <td>2018-07</td>\n",
       "      <td>Tuesday</td>\n",
       "      <td>2018-07</td>\n",
       "    </tr>\n",
       "    <tr>\n",
       "      <th>4</th>\n",
       "      <td>9692093</td>\n",
       "      <td>32561236</td>\n",
       "      <td>2018-07-26 11:28:00</td>\n",
       "      <td>Rice</td>\n",
       "      <td>Rice</td>\n",
       "      <td>supermarket</td>\n",
       "      <td>124500.0</td>\n",
       "      <td>0</td>\n",
       "      <td>1</td>\n",
       "      <td>2018-07</td>\n",
       "      <td>Thursday</td>\n",
       "      <td>2018-07</td>\n",
       "    </tr>\n",
       "  </tbody>\n",
       "</table>\n",
       "</div>"
      ],
      "text/plain": [
       "   receipt_id  receipts_item_id       purchase_time category sub_category  \\\n",
       "0     9622257          32369294 2018-07-22 21:19:00     Rice         Rice   \n",
       "1     9446359          31885876 2018-07-15 16:17:00     Rice         Rice   \n",
       "2     9470290          31930241 2018-07-15 12:12:00     Rice         Rice   \n",
       "3     9643416          32418582 2018-07-24 08:27:00     Rice         Rice   \n",
       "4     9692093          32561236 2018-07-26 11:28:00     Rice         Rice   \n",
       "\n",
       "        format  unit_price  discount  quantity yearmonth   weekday  \\\n",
       "0  supermarket    128000.0         0         1   2018-07    Sunday   \n",
       "1   minimarket    102750.0         0         1   2018-07    Sunday   \n",
       "2  supermarket     64000.0         0         3   2018-07    Sunday   \n",
       "3   minimarket     65000.0         0         1   2018-07   Tuesday   \n",
       "4  supermarket    124500.0         0         1   2018-07  Thursday   \n",
       "\n",
       "  yearmonth_recreate  \n",
       "0            2018-07  \n",
       "1            2018-07  \n",
       "2            2018-07  \n",
       "3            2018-07  \n",
       "4            2018-07  "
      ]
     },
     "execution_count": 115,
     "metadata": {},
     "output_type": "execute_result"
    }
   ],
   "source": [
    "# your code here\n",
    "household = pd.read_csv('data_input/household.csv')\n",
    "household['purchase_time'] = pd.to_datetime(household['purchase_time'])\n",
    "household['weekday'] = household['purchase_time'].dt.day_name()\n",
    "household['yearmonth_recreate'] = household['purchase_time'].dt.to_period('M') # Monthly: year-month\n",
    "household.head()"
   ]
  },
  {
   "cell_type": "markdown",
   "metadata": {},
   "source": [
    "💭 **Bonus challenge:**\n",
    "\n",
    "Suppose that the estimated delivery time will take exactly 2 days after the product is purchased. How do we obtain the result by using `purchase_time` column?"
   ]
  },
  {
   "cell_type": "code",
   "execution_count": 116,
   "metadata": {},
   "outputs": [
    {
     "data": {
      "text/plain": [
       "0       2018-07-22 21:19:00\n",
       "1       2018-07-15 16:17:00\n",
       "2       2018-07-15 12:12:00\n",
       "3       2018-07-24 08:27:00\n",
       "4       2018-07-26 11:28:00\n",
       "                ...        \n",
       "71995   2017-12-27 09:20:00\n",
       "71996   2017-12-13 19:52:00\n",
       "71997   2017-12-27 08:03:00\n",
       "71998   2017-12-07 12:29:00\n",
       "71999   2017-12-19 18:59:00\n",
       "Name: purchase_time, Length: 72000, dtype: datetime64[ns]"
      ]
     },
     "execution_count": 116,
     "metadata": {},
     "output_type": "execute_result"
    }
   ],
   "source": [
    "household['purchase_time']"
   ]
  },
  {
   "cell_type": "code",
   "execution_count": 117,
   "metadata": {},
   "outputs": [
    {
     "data": {
      "text/plain": [
       "0       2018-07-24 21:19:00\n",
       "1       2018-07-17 16:17:00\n",
       "2       2018-07-17 12:12:00\n",
       "3       2018-07-26 08:27:00\n",
       "4       2018-07-28 11:28:00\n",
       "                ...        \n",
       "71995   2017-12-29 09:20:00\n",
       "71996   2017-12-15 19:52:00\n",
       "71997   2017-12-29 08:03:00\n",
       "71998   2017-12-09 12:29:00\n",
       "71999   2017-12-21 18:59:00\n",
       "Name: purchase_time, Length: 72000, dtype: datetime64[ns]"
      ]
     },
     "execution_count": 117,
     "metadata": {},
     "output_type": "execute_result"
    }
   ],
   "source": [
    "# Pak Prasetyo, Pak Zainul, Bu Rahmah\n",
    "from datetime import timedelta\n",
    "household['purchase_time'] + timedelta(days=2)"
   ]
  },
  {
   "cell_type": "code",
   "execution_count": 118,
   "metadata": {},
   "outputs": [
    {
     "data": {
      "text/plain": [
       "0       2018-07-24 21:19:00\n",
       "1       2018-07-17 16:17:00\n",
       "2       2018-07-17 12:12:00\n",
       "3       2018-07-26 08:27:00\n",
       "4       2018-07-28 11:28:00\n",
       "                ...        \n",
       "71995   2017-12-29 09:20:00\n",
       "71996   2017-12-15 19:52:00\n",
       "71997   2017-12-29 08:03:00\n",
       "71998   2017-12-09 12:29:00\n",
       "71999   2017-12-21 18:59:00\n",
       "Name: purchase_time, Length: 72000, dtype: datetime64[ns]"
      ]
     },
     "execution_count": 118,
     "metadata": {},
     "output_type": "execute_result"
    }
   ],
   "source": [
    "# Pak Privera\n",
    "household['purchase_time'] + pd.Timedelta(2, 'D') # 2 Days"
   ]
  },
  {
   "cell_type": "code",
   "execution_count": 119,
   "metadata": {},
   "outputs": [
    {
     "data": {
      "text/plain": [
       "0        2018-07-24\n",
       "1        2018-07-17\n",
       "2        2018-07-17\n",
       "3        2018-07-26\n",
       "4        2018-07-28\n",
       "            ...    \n",
       "71995    2017-12-29\n",
       "71996    2017-12-15\n",
       "71997    2017-12-29\n",
       "71998    2017-12-09\n",
       "71999    2017-12-21\n",
       "Name: purchase_time, Length: 72000, dtype: period[D]"
      ]
     },
     "execution_count": 119,
     "metadata": {},
     "output_type": "execute_result"
    }
   ],
   "source": [
    "# Pak Endi: bisa, tetapi untuk data timenya hilang\n",
    "household['purchase_time'].dt.to_period('D') + 2"
   ]
  },
  {
   "cell_type": "markdown",
   "metadata": {},
   "source": [
    "## Timedelta Object"
   ]
  },
  {
   "cell_type": "markdown",
   "metadata": {},
   "source": [
    "`pandas` has `.Timedelta()` method which represents a duration, the difference between two dates or times.\n",
    "\n",
    "[Documentation of Timedelta](https://pandas.pydata.org/pandas-docs/stable/reference/api/pandas.Timedelta.html#pandas-timedelta)"
   ]
  },
  {
   "cell_type": "code",
   "execution_count": 120,
   "metadata": {},
   "outputs": [
    {
     "data": {
      "text/plain": [
       "0   3 days 14:00:00\n",
       "1   5 days 15:00:00\n",
       "2   5 days 16:00:00\n",
       "dtype: timedelta64[ns]"
      ]
     },
     "execution_count": 120,
     "metadata": {},
     "output_type": "execute_result"
    }
   ],
   "source": [
    "# contoh selisih antar dua tanggal\n",
    "contoh = pd.DataFrame({\n",
    "    'id': [1, 2, 3],\n",
    "    'start': ['2021-01-01 01:00:00', '2021-01-02 01:00:00', '2021-01-03 01:00:00'],\n",
    "    'end': ['2021/01/04 15:00:00', '2021/01/07 16:00:00', '2021/01/08 17:00:00']\n",
    "})\n",
    "\n",
    "contoh[['start', 'end']] = contoh[['start', 'end']].astype('datetime64')\n",
    "contoh['end'] - contoh['start']"
   ]
  },
  {
   "cell_type": "code",
   "execution_count": 121,
   "metadata": {},
   "outputs": [
    {
     "data": {
      "text/plain": [
       "0    3\n",
       "1    5\n",
       "2    5\n",
       "dtype: int64"
      ]
     },
     "execution_count": 121,
     "metadata": {},
     "output_type": "execute_result"
    }
   ],
   "source": [
    "(contoh['end'] - contoh['start']).dt.days"
   ]
  },
  {
   "cell_type": "markdown",
   "metadata": {},
   "source": [
    "**END OF DAY 1**\n",
    "\n",
    "___\n",
    "\n",
    "**START OF DAY 2**"
   ]
  },
  {
   "cell_type": "markdown",
   "metadata": {},
   "source": [
    "# Working with Category"
   ]
  },
  {
   "cell_type": "markdown",
   "metadata": {},
   "source": [
    "## Characteristic: Unique Values"
   ]
  },
  {
   "cell_type": "markdown",
   "metadata": {},
   "source": [
    "Characteristic of `category` data type: repeated values, which can be categorized into several groups. We can use:\n",
    "\n",
    "- `.unique()` to see unique values of a Series\n",
    "- `.nunique()` to see number of unique values of a Series or DataFrame\n",
    "\n",
    "to identify which columns are better converted to `category`."
   ]
  },
  {
   "cell_type": "code",
   "execution_count": 122,
   "metadata": {
    "scrolled": true
   },
   "outputs": [
    {
     "data": {
      "text/plain": [
       "receipt_id            69776\n",
       "receipts_item_id      72000\n",
       "purchase_time         62072\n",
       "category                  3\n",
       "sub_category              3\n",
       "format                    3\n",
       "unit_price             3884\n",
       "discount               1329\n",
       "quantity                 19\n",
       "yearmonth                12\n",
       "weekday                   7\n",
       "yearmonth_recreate       12\n",
       "dtype: int64"
      ]
     },
     "execution_count": 122,
     "metadata": {},
     "output_type": "execute_result"
    }
   ],
   "source": [
    "household.nunique()"
   ]
  },
  {
   "cell_type": "code",
   "execution_count": 123,
   "metadata": {},
   "outputs": [],
   "source": [
    "cat_col = ['category', 'sub_category', 'format', 'yearmonth']\n",
    "\n",
    "household[cat_col] = household[cat_col].astype('category')"
   ]
  },
  {
   "cell_type": "markdown",
   "metadata": {},
   "source": [
    "## Convert to Category"
   ]
  },
  {
   "cell_type": "markdown",
   "metadata": {},
   "source": [
    "Let's create a copy of `household` so that the original data remains unchanged."
   ]
  },
  {
   "cell_type": "code",
   "execution_count": 124,
   "metadata": {},
   "outputs": [
    {
     "data": {
      "text/plain": [
       "receipt_id                     int64\n",
       "receipts_item_id               int64\n",
       "purchase_time         datetime64[ns]\n",
       "category                    category\n",
       "sub_category                category\n",
       "format                      category\n",
       "unit_price                   float64\n",
       "discount                       int64\n",
       "quantity                       int64\n",
       "yearmonth                   category\n",
       "weekday                       object\n",
       "yearmonth_recreate         period[M]\n",
       "dtype: object"
      ]
     },
     "execution_count": 124,
     "metadata": {},
     "output_type": "execute_result"
    }
   ],
   "source": [
    "household_cat = household.copy()\n",
    "household_cat.dtypes"
   ]
  },
  {
   "cell_type": "markdown",
   "metadata": {},
   "source": [
    "Let's convert the columns to `category` data type:"
   ]
  },
  {
   "cell_type": "code",
   "execution_count": null,
   "metadata": {},
   "outputs": [],
   "source": []
  },
  {
   "cell_type": "markdown",
   "metadata": {},
   "source": [
    "## Advantages"
   ]
  },
  {
   "cell_type": "markdown",
   "metadata": {},
   "source": [
    "There are two main advantages of converting to `category`:"
   ]
  },
  {
   "cell_type": "markdown",
   "metadata": {},
   "source": [
    "### First: Memory Efficient"
   ]
  },
  {
   "cell_type": "markdown",
   "metadata": {},
   "source": [
    "We can compare two Data Frame **before and after** the columns are converted to `category` data type:\n",
    "\n",
    "- `household` (before): 6.0+ MB\n",
    "- `household_cat` (after): 3.6 MB"
   ]
  },
  {
   "cell_type": "code",
   "execution_count": 125,
   "metadata": {},
   "outputs": [
    {
     "name": "stdout",
     "output_type": "stream",
     "text": [
      "<class 'pandas.core.frame.DataFrame'>\n",
      "RangeIndex: 72000 entries, 0 to 71999\n",
      "Data columns (total 12 columns):\n",
      " #   Column              Non-Null Count  Dtype         \n",
      "---  ------              --------------  -----         \n",
      " 0   receipt_id          72000 non-null  int64         \n",
      " 1   receipts_item_id    72000 non-null  int64         \n",
      " 2   purchase_time       72000 non-null  datetime64[ns]\n",
      " 3   category            72000 non-null  category      \n",
      " 4   sub_category        72000 non-null  category      \n",
      " 5   format              72000 non-null  category      \n",
      " 6   unit_price          72000 non-null  float64       \n",
      " 7   discount            72000 non-null  int64         \n",
      " 8   quantity            72000 non-null  int64         \n",
      " 9   yearmonth           72000 non-null  category      \n",
      " 10  weekday             72000 non-null  object        \n",
      " 11  yearmonth_recreate  72000 non-null  period[M]     \n",
      "dtypes: category(4), datetime64[ns](1), float64(1), int64(4), object(1), period[M](1)\n",
      "memory usage: 4.7+ MB\n"
     ]
    }
   ],
   "source": [
    "household.info()"
   ]
  },
  {
   "cell_type": "code",
   "execution_count": 126,
   "metadata": {},
   "outputs": [
    {
     "name": "stdout",
     "output_type": "stream",
     "text": [
      "<class 'pandas.core.frame.DataFrame'>\n",
      "RangeIndex: 72000 entries, 0 to 71999\n",
      "Data columns (total 12 columns):\n",
      " #   Column              Non-Null Count  Dtype         \n",
      "---  ------              --------------  -----         \n",
      " 0   receipt_id          72000 non-null  int64         \n",
      " 1   receipts_item_id    72000 non-null  int64         \n",
      " 2   purchase_time       72000 non-null  datetime64[ns]\n",
      " 3   category            72000 non-null  category      \n",
      " 4   sub_category        72000 non-null  category      \n",
      " 5   format              72000 non-null  category      \n",
      " 6   unit_price          72000 non-null  float64       \n",
      " 7   discount            72000 non-null  int64         \n",
      " 8   quantity            72000 non-null  int64         \n",
      " 9   yearmonth           72000 non-null  category      \n",
      " 10  weekday             72000 non-null  object        \n",
      " 11  yearmonth_recreate  72000 non-null  period[M]     \n",
      "dtypes: category(4), datetime64[ns](1), float64(1), int64(4), object(1), period[M](1)\n",
      "memory usage: 4.7+ MB\n"
     ]
    }
   ],
   "source": [
    "household_cat.info()"
   ]
  },
  {
   "cell_type": "markdown",
   "metadata": {},
   "source": [
    "### Second: Categorical Accessor `.cat`"
   ]
  },
  {
   "cell_type": "markdown",
   "metadata": {},
   "source": [
    "Just like the `datetime64` data type which has `.dt` accessor, the `category` data type has `.cat` accessor."
   ]
  },
  {
   "cell_type": "code",
   "execution_count": 127,
   "metadata": {},
   "outputs": [
    {
     "data": {
      "text/plain": [
       "Index(['hypermarket', 'minimarket', 'supermarket'], dtype='object')"
      ]
     },
     "execution_count": 127,
     "metadata": {},
     "output_type": "execute_result"
    }
   ],
   "source": [
    "household_cat['format'].cat.categories"
   ]
  },
  {
   "cell_type": "markdown",
   "metadata": {},
   "source": [
    "You can explore more functionalities by refering to [documentation of categorical accessor](https://pandas.pydata.org/pandas-docs/stable/reference/series.html#categorical-accessor) for the complete list."
   ]
  },
  {
   "cell_type": "markdown",
   "metadata": {},
   "source": [
    "___"
   ]
  },
  {
   "cell_type": "markdown",
   "metadata": {},
   "source": [
    "# Contingency Table\n",
    "\n",
    "One of the simplest EDA toolkit to display **counts** of a categorical column:\n",
    "\n",
    "Contingency = Cross-tabulation = Frequency tables"
   ]
  },
  {
   "cell_type": "code",
   "execution_count": 151,
   "metadata": {},
   "outputs": [
    {
     "data": {
      "text/plain": [
       "receipt_id                     int64\n",
       "receipts_item_id               int64\n",
       "purchase_time         datetime64[ns]\n",
       "category                    category\n",
       "sub_category                category\n",
       "format                      category\n",
       "unit_price                   float64\n",
       "discount                       int64\n",
       "quantity                       int64\n",
       "yearmonth                   category\n",
       "weekday                       object\n",
       "yearmonth_recreate         period[M]\n",
       "dtype: object"
      ]
     },
     "execution_count": 151,
     "metadata": {},
     "output_type": "execute_result"
    }
   ],
   "source": [
    "household = household_cat.copy()\n",
    "household.dtypes"
   ]
  },
  {
   "cell_type": "markdown",
   "metadata": {},
   "source": [
    "## Method `.value_counts()`"
   ]
  },
  {
   "cell_type": "markdown",
   "metadata": {},
   "source": [
    "Usage: Get the counts of each unique levels in one categorical column, sorted by descending order.\n",
    "\n",
    "Parameter:\n",
    "\n",
    "- `sort=False`: prevent any sorting values, **sort by index** instead\n",
    "- `ascending=True`: **sort values** in ascending order"
   ]
  },
  {
   "cell_type": "markdown",
   "metadata": {},
   "source": [
    "<b id='q1'>Business Question 1</b>\n",
    "\n",
    "There are three categories of `format` (market type), how many total transactions occurred in each `format`?"
   ]
  },
  {
   "cell_type": "code",
   "execution_count": 129,
   "metadata": {
    "scrolled": false
   },
   "outputs": [
    {
     "data": {
      "text/plain": [
       "['supermarket', 'minimarket', 'hypermarket']\n",
       "Categories (3, object): ['supermarket', 'minimarket', 'hypermarket']"
      ]
     },
     "execution_count": 129,
     "metadata": {},
     "output_type": "execute_result"
    }
   ],
   "source": [
    "household['format'].unique()\n",
    "\n",
    "# count_unique = len(pd.unique(household['format'])) \n",
    "# count_unique"
   ]
  },
  {
   "cell_type": "code",
   "execution_count": 130,
   "metadata": {},
   "outputs": [
    {
     "data": {
      "text/plain": [
       "minimarket     46803\n",
       "supermarket    19826\n",
       "hypermarket     5371\n",
       "Name: format, dtype: int64"
      ]
     },
     "execution_count": 130,
     "metadata": {},
     "output_type": "execute_result"
    }
   ],
   "source": [
    "household['format'].value_counts()"
   ]
  },
  {
   "cell_type": "markdown",
   "metadata": {},
   "source": [
    "Let's say we don't need sort by values:"
   ]
  },
  {
   "cell_type": "code",
   "execution_count": 131,
   "metadata": {},
   "outputs": [
    {
     "data": {
      "text/plain": [
       "<bound method NDFrame.head of        receipt_id  receipts_item_id       purchase_time              category  \\\n",
       "0         9622257          32369294 2018-07-22 21:19:00                  Rice   \n",
       "1         9446359          31885876 2018-07-15 16:17:00                  Rice   \n",
       "2         9470290          31930241 2018-07-15 12:12:00                  Rice   \n",
       "3         9643416          32418582 2018-07-24 08:27:00                  Rice   \n",
       "4         9692093          32561236 2018-07-26 11:28:00                  Rice   \n",
       "...           ...               ...                 ...                   ...   \n",
       "71995     5909305          17998610 2017-12-27 09:20:00  Sugar/Flavored Syrup   \n",
       "71996     5736299          17432379 2017-12-13 19:52:00  Sugar/Flavored Syrup   \n",
       "71997     5901144          18263665 2017-12-27 08:03:00  Sugar/Flavored Syrup   \n",
       "71998     5660630          17222218 2017-12-07 12:29:00  Sugar/Flavored Syrup   \n",
       "71999     5808147          17658789 2017-12-19 18:59:00  Sugar/Flavored Syrup   \n",
       "\n",
       "      sub_category       format  unit_price  discount  quantity yearmonth  \\\n",
       "0             Rice  supermarket    128000.0         0         1   2018-07   \n",
       "1             Rice   minimarket    102750.0         0         1   2018-07   \n",
       "2             Rice  supermarket     64000.0         0         3   2018-07   \n",
       "3             Rice   minimarket     65000.0         0         1   2018-07   \n",
       "4             Rice  supermarket    124500.0         0         1   2018-07   \n",
       "...            ...          ...         ...       ...       ...       ...   \n",
       "71995        Sugar   minimarket     25000.0         0         1   2017-12   \n",
       "71996        Sugar   minimarket     12500.0         0         1   2017-12   \n",
       "71997        Sugar   minimarket     12500.0         0         1   2017-12   \n",
       "71998        Sugar  hypermarket     12500.0         0         3   2017-12   \n",
       "71999        Sugar   minimarket     12500.0         0         3   2017-12   \n",
       "\n",
       "         weekday yearmonth_recreate  \n",
       "0         Sunday            2018-07  \n",
       "1         Sunday            2018-07  \n",
       "2         Sunday            2018-07  \n",
       "3        Tuesday            2018-07  \n",
       "4       Thursday            2018-07  \n",
       "...          ...                ...  \n",
       "71995  Wednesday            2017-12  \n",
       "71996  Wednesday            2017-12  \n",
       "71997  Wednesday            2017-12  \n",
       "71998   Thursday            2017-12  \n",
       "71999    Tuesday            2017-12  \n",
       "\n",
       "[72000 rows x 12 columns]>"
      ]
     },
     "execution_count": 131,
     "metadata": {},
     "output_type": "execute_result"
    }
   ],
   "source": [
    "household.head"
   ]
  },
  {
   "cell_type": "markdown",
   "metadata": {},
   "source": [
    "Sort by ascending (smallest to largest):"
   ]
  },
  {
   "cell_type": "code",
   "execution_count": 301,
   "metadata": {},
   "outputs": [
    {
     "data": {
      "text/plain": [
       "0      Sunday\n",
       "1      Sunday\n",
       "2      Sunday\n",
       "3     Tuesday\n",
       "4    Thursday\n",
       "Name: weekday, dtype: category\n",
       "Categories (7, object): ['Monday' < 'Tuesday' < 'Wednesday' < 'Thursday' < 'Friday' < 'Saturday' < 'Sunday']"
      ]
     },
     "execution_count": 301,
     "metadata": {},
     "output_type": "execute_result"
    }
   ],
   "source": [
    "household['weekday'].head()"
   ]
  },
  {
   "cell_type": "markdown",
   "metadata": {},
   "source": [
    "<b id='q2'>Business Question 2</b>\n",
    "\n",
    "Which `weekday` has the **largest** and **smallest** transaction volume?"
   ]
  },
  {
   "cell_type": "code",
   "execution_count": 300,
   "metadata": {
    "scrolled": true
   },
   "outputs": [
    {
     "data": {
      "text/plain": [
       "Sunday       12573\n",
       "Saturday     11828\n",
       "Friday       10778\n",
       "Tuesday       9427\n",
       "Wednesday     9206\n",
       "Thursday      9138\n",
       "Monday        9050\n",
       "Name: weekday, dtype: int64"
      ]
     },
     "execution_count": 300,
     "metadata": {},
     "output_type": "execute_result"
    }
   ],
   "source": [
    "household['weekday'].value_counts().max()"
   ]
  },
  {
   "cell_type": "code",
   "execution_count": 149,
   "metadata": {},
   "outputs": [
    {
     "data": {
      "text/plain": [
       "9050"
      ]
     },
     "execution_count": 149,
     "metadata": {},
     "output_type": "execute_result"
    }
   ],
   "source": [
    "household['weekday'].value_counts().min()"
   ]
  },
  {
   "cell_type": "markdown",
   "metadata": {},
   "source": [
    "## Cross-Tabulation"
   ]
  },
  {
   "cell_type": "markdown",
   "metadata": {},
   "source": [
    "Versatile solution in producing frequency table is by using `crosstab`. Syntax:\n",
    "\n",
    "    pd.crosstab(\n",
    "        index=...,\n",
    "        columns=...\n",
    "    )\n",
    "                \n",
    "**Required Parameter**:\n",
    "\n",
    "- `index`: Values to group by in the index (rows)\n",
    "- `columns`: Values to group by in the columns"
   ]
  },
  {
   "cell_type": "markdown",
   "metadata": {},
   "source": [
    "Let's re-create [Business Question 1](#q1) using `pd.crosstab()`:\n",
    "\n",
    "How many total transactions occurred in each `format`?"
   ]
  },
  {
   "cell_type": "code",
   "execution_count": 164,
   "metadata": {},
   "outputs": [
    {
     "data": {
      "text/html": [
       "<div>\n",
       "<style scoped>\n",
       "    .dataframe tbody tr th:only-of-type {\n",
       "        vertical-align: middle;\n",
       "    }\n",
       "\n",
       "    .dataframe tbody tr th {\n",
       "        vertical-align: top;\n",
       "    }\n",
       "\n",
       "    .dataframe thead th {\n",
       "        text-align: right;\n",
       "    }\n",
       "</style>\n",
       "<table border=\"1\" class=\"dataframe\">\n",
       "  <thead>\n",
       "    <tr style=\"text-align: right;\">\n",
       "      <th>col_0</th>\n",
       "      <th>Total Transactions</th>\n",
       "    </tr>\n",
       "    <tr>\n",
       "      <th>format</th>\n",
       "      <th></th>\n",
       "    </tr>\n",
       "  </thead>\n",
       "  <tbody>\n",
       "    <tr>\n",
       "      <th>hypermarket</th>\n",
       "      <td>5371</td>\n",
       "    </tr>\n",
       "    <tr>\n",
       "      <th>minimarket</th>\n",
       "      <td>46803</td>\n",
       "    </tr>\n",
       "    <tr>\n",
       "      <th>supermarket</th>\n",
       "      <td>19826</td>\n",
       "    </tr>\n",
       "  </tbody>\n",
       "</table>\n",
       "</div>"
      ],
      "text/plain": [
       "col_0        Total Transactions\n",
       "format                         \n",
       "hypermarket                5371\n",
       "minimarket                46803\n",
       "supermarket               19826"
      ]
     },
     "execution_count": 164,
     "metadata": {},
     "output_type": "execute_result"
    }
   ],
   "source": [
    "crosstab = pd.crosstab(\n",
    "    index=household['format'],\n",
    "    columns='Total Transactions')\n",
    "\n",
    "crosstab"
   ]
  },
  {
   "cell_type": "markdown",
   "metadata": {},
   "source": [
    "Let's re-create [Business Question 2](#q2) using `pd.crosstab()`:\n",
    "\n",
    "Which `weekday` has the **largest** and **smallest** transaction volume?"
   ]
  },
  {
   "cell_type": "code",
   "execution_count": 171,
   "metadata": {},
   "outputs": [
    {
     "data": {
      "text/html": [
       "<div>\n",
       "<style scoped>\n",
       "    .dataframe tbody tr th:only-of-type {\n",
       "        vertical-align: middle;\n",
       "    }\n",
       "\n",
       "    .dataframe tbody tr th {\n",
       "        vertical-align: top;\n",
       "    }\n",
       "\n",
       "    .dataframe thead th {\n",
       "        text-align: right;\n",
       "    }\n",
       "</style>\n",
       "<table border=\"1\" class=\"dataframe\">\n",
       "  <thead>\n",
       "    <tr style=\"text-align: right;\">\n",
       "      <th>col_0</th>\n",
       "      <th>Most Popular Week</th>\n",
       "    </tr>\n",
       "    <tr>\n",
       "      <th>weekday</th>\n",
       "      <th></th>\n",
       "    </tr>\n",
       "  </thead>\n",
       "  <tbody>\n",
       "    <tr>\n",
       "      <th>Friday</th>\n",
       "      <td>10778</td>\n",
       "    </tr>\n",
       "    <tr>\n",
       "      <th>Monday</th>\n",
       "      <td>9050</td>\n",
       "    </tr>\n",
       "    <tr>\n",
       "      <th>Saturday</th>\n",
       "      <td>11828</td>\n",
       "    </tr>\n",
       "    <tr>\n",
       "      <th>Sunday</th>\n",
       "      <td>12573</td>\n",
       "    </tr>\n",
       "    <tr>\n",
       "      <th>Thursday</th>\n",
       "      <td>9138</td>\n",
       "    </tr>\n",
       "    <tr>\n",
       "      <th>Tuesday</th>\n",
       "      <td>9427</td>\n",
       "    </tr>\n",
       "    <tr>\n",
       "      <th>Wednesday</th>\n",
       "      <td>9206</td>\n",
       "    </tr>\n",
       "  </tbody>\n",
       "</table>\n",
       "</div>"
      ],
      "text/plain": [
       "col_0      Most Popular Week\n",
       "weekday                     \n",
       "Friday                 10778\n",
       "Monday                  9050\n",
       "Saturday               11828\n",
       "Sunday                 12573\n",
       "Thursday                9138\n",
       "Tuesday                 9427\n",
       "Wednesday               9206"
      ]
     },
     "execution_count": 171,
     "metadata": {},
     "output_type": "execute_result"
    }
   ],
   "source": [
    "weekday_summary = pd.crosstab(\n",
    "    index=household['weekday'],\n",
    "    columns='Most Popular Week')\n",
    "\n",
    "weekday_summary"
   ]
  },
  {
   "cell_type": "markdown",
   "metadata": {},
   "source": [
    "To get the insight easier, we have to sort the DataFrame by using `.sort_values()` method. Let's sort the table above in **descending** order:"
   ]
  },
  {
   "cell_type": "code",
   "execution_count": 191,
   "metadata": {},
   "outputs": [],
   "source": [
    "household['weekday'] = household['weekday'].astype('category')"
   ]
  },
  {
   "cell_type": "markdown",
   "metadata": {},
   "source": [
    "Optional: If you want to sort by `weekday` name, using `.cat` accessor:"
   ]
  },
  {
   "cell_type": "code",
   "execution_count": 189,
   "metadata": {},
   "outputs": [],
   "source": [
    "household['weekday'] = household['weekday'].cat.reorder_categories(\n",
    "    ['Monday', 'Tuesday', 'Wednesday', 'Thursday', 'Friday', 'Saturday', 'Sunday'],\n",
    "    ordered=True\n",
    ")"
   ]
  },
  {
   "cell_type": "code",
   "execution_count": 188,
   "metadata": {},
   "outputs": [
    {
     "data": {
      "text/plain": [
       "0           Sunday\n",
       "1           Sunday\n",
       "2           Sunday\n",
       "3          Tuesday\n",
       "4         Thursday\n",
       "           ...    \n",
       "71995    Wednesday\n",
       "71996    Wednesday\n",
       "71997    Wednesday\n",
       "71998     Thursday\n",
       "71999      Tuesday\n",
       "Name: weekday, Length: 72000, dtype: category\n",
       "Categories (7, object): ['Monday' < 'Tuesday' < 'Wednesday' < 'Thursday' < 'Friday' < 'Saturday' < 'Sunday']"
      ]
     },
     "execution_count": 188,
     "metadata": {},
     "output_type": "execute_result"
    }
   ],
   "source": [
    "household['weekday']"
   ]
  },
  {
   "cell_type": "markdown",
   "metadata": {},
   "source": [
    "<b id='q3'>Business Question 3</b>\n",
    "\n",
    "From [Business Question 1](#q1) we know that minimarket has the most frequent transaction. Let's say we are curious to know what `category` of items has the highest total transactions in minimarket?  "
   ]
  },
  {
   "cell_type": "code",
   "execution_count": 197,
   "metadata": {
    "scrolled": true
   },
   "outputs": [
    {
     "data": {
      "text/html": [
       "<div>\n",
       "<style scoped>\n",
       "    .dataframe tbody tr th:only-of-type {\n",
       "        vertical-align: middle;\n",
       "    }\n",
       "\n",
       "    .dataframe tbody tr th {\n",
       "        vertical-align: top;\n",
       "    }\n",
       "\n",
       "    .dataframe thead th {\n",
       "        text-align: right;\n",
       "    }\n",
       "</style>\n",
       "<table border=\"1\" class=\"dataframe\">\n",
       "  <thead>\n",
       "    <tr style=\"text-align: right;\">\n",
       "      <th>col_0</th>\n",
       "      <th>Most Popular Category</th>\n",
       "    </tr>\n",
       "    <tr>\n",
       "      <th>category</th>\n",
       "      <th></th>\n",
       "    </tr>\n",
       "  </thead>\n",
       "  <tbody>\n",
       "    <tr>\n",
       "      <th>Fabric Care</th>\n",
       "      <td>36000</td>\n",
       "    </tr>\n",
       "  </tbody>\n",
       "</table>\n",
       "</div>"
      ],
      "text/plain": [
       "col_0        Most Popular Category\n",
       "category                          \n",
       "Fabric Care                  36000"
      ]
     },
     "execution_count": 197,
     "metadata": {},
     "output_type": "execute_result"
    }
   ],
   "source": [
    "category_summary = pd.crosstab(\n",
    "    index=household['category'],\n",
    "    columns='Most Popular Category').sort_values(by='Most Popular Category', ascending=False).head(1)\n",
    "\n",
    "category_summary"
   ]
  },
  {
   "cell_type": "code",
   "execution_count": 204,
   "metadata": {},
   "outputs": [
    {
     "data": {
      "text/html": [
       "<div>\n",
       "<style scoped>\n",
       "    .dataframe tbody tr th:only-of-type {\n",
       "        vertical-align: middle;\n",
       "    }\n",
       "\n",
       "    .dataframe tbody tr th {\n",
       "        vertical-align: top;\n",
       "    }\n",
       "\n",
       "    .dataframe thead th {\n",
       "        text-align: right;\n",
       "    }\n",
       "</style>\n",
       "<table border=\"1\" class=\"dataframe\">\n",
       "  <thead>\n",
       "    <tr style=\"text-align: right;\">\n",
       "      <th>format</th>\n",
       "      <th>hypermarket</th>\n",
       "      <th>minimarket</th>\n",
       "      <th>supermarket</th>\n",
       "    </tr>\n",
       "    <tr>\n",
       "      <th>category</th>\n",
       "      <th></th>\n",
       "      <th></th>\n",
       "      <th></th>\n",
       "    </tr>\n",
       "  </thead>\n",
       "  <tbody>\n",
       "    <tr>\n",
       "      <th>Fabric Care</th>\n",
       "      <td>2611</td>\n",
       "      <td>24345</td>\n",
       "      <td>9044</td>\n",
       "    </tr>\n",
       "    <tr>\n",
       "      <th>Sugar/Flavored Syrup</th>\n",
       "      <td>1761</td>\n",
       "      <td>15370</td>\n",
       "      <td>6869</td>\n",
       "    </tr>\n",
       "    <tr>\n",
       "      <th>Rice</th>\n",
       "      <td>999</td>\n",
       "      <td>7088</td>\n",
       "      <td>3913</td>\n",
       "    </tr>\n",
       "  </tbody>\n",
       "</table>\n",
       "</div>"
      ],
      "text/plain": [
       "format                hypermarket  minimarket  supermarket\n",
       "category                                                  \n",
       "Fabric Care                  2611       24345         9044\n",
       "Sugar/Flavored Syrup         1761       15370         6869\n",
       "Rice                          999        7088         3913"
      ]
     },
     "execution_count": 204,
     "metadata": {},
     "output_type": "execute_result"
    }
   ],
   "source": [
    "category_summary = pd.crosstab(\n",
    "    index=household['category'],\n",
    "    columns=household['format']).sort_values('minimarket', ascending=False)\n",
    "\n",
    "category_summary"
   ]
  },
  {
   "cell_type": "code",
   "execution_count": 202,
   "metadata": {},
   "outputs": [
    {
     "data": {
      "text/html": [
       "<div>\n",
       "<style scoped>\n",
       "    .dataframe tbody tr th:only-of-type {\n",
       "        vertical-align: middle;\n",
       "    }\n",
       "\n",
       "    .dataframe tbody tr th {\n",
       "        vertical-align: top;\n",
       "    }\n",
       "\n",
       "    .dataframe thead th {\n",
       "        text-align: right;\n",
       "    }\n",
       "</style>\n",
       "<table border=\"1\" class=\"dataframe\">\n",
       "  <thead>\n",
       "    <tr style=\"text-align: right;\">\n",
       "      <th>col_0</th>\n",
       "      <th>Total transaction in minimarket</th>\n",
       "    </tr>\n",
       "    <tr>\n",
       "      <th>category</th>\n",
       "      <th></th>\n",
       "    </tr>\n",
       "  </thead>\n",
       "  <tbody>\n",
       "    <tr>\n",
       "      <th>Fabric Care</th>\n",
       "      <td>24345</td>\n",
       "    </tr>\n",
       "    <tr>\n",
       "      <th>Rice</th>\n",
       "      <td>7088</td>\n",
       "    </tr>\n",
       "    <tr>\n",
       "      <th>Sugar/Flavored Syrup</th>\n",
       "      <td>15370</td>\n",
       "    </tr>\n",
       "  </tbody>\n",
       "</table>\n",
       "</div>"
      ],
      "text/plain": [
       "col_0                 Total transaction in minimarket\n",
       "category                                             \n",
       "Fabric Care                                     24345\n",
       "Rice                                             7088\n",
       "Sugar/Flavored Syrup                            15370"
      ]
     },
     "execution_count": 202,
     "metadata": {},
     "output_type": "execute_result"
    }
   ],
   "source": [
    "minimarket = household[household['format'] == 'minimarket']\n",
    "\n",
    "pd.crosstab(\n",
    "    index=minimarket['category'],\n",
    "    columns='Total transaction in minimarket'\n",
    ")"
   ]
  },
  {
   "cell_type": "markdown",
   "metadata": {},
   "source": [
    "### Additional Parameters of `pd.crosstab()`"
   ]
  },
  {
   "cell_type": "markdown",
   "metadata": {},
   "source": [
    "#### Margins\n",
    "\n",
    "Usage: Calculate subtotals\n",
    "\n",
    "Parameter\n",
    "\n",
    "- `margins`: Add row and column margins for subtotals\n",
    "- `margins_name`: Name of the row and column that will contain the totals when `margins=True`"
   ]
  },
  {
   "cell_type": "code",
   "execution_count": 207,
   "metadata": {},
   "outputs": [
    {
     "data": {
      "text/html": [
       "<div>\n",
       "<style scoped>\n",
       "    .dataframe tbody tr th:only-of-type {\n",
       "        vertical-align: middle;\n",
       "    }\n",
       "\n",
       "    .dataframe tbody tr th {\n",
       "        vertical-align: top;\n",
       "    }\n",
       "\n",
       "    .dataframe thead th {\n",
       "        text-align: right;\n",
       "    }\n",
       "</style>\n",
       "<table border=\"1\" class=\"dataframe\">\n",
       "  <thead>\n",
       "    <tr style=\"text-align: right;\">\n",
       "      <th>format</th>\n",
       "      <th>hypermarket</th>\n",
       "      <th>minimarket</th>\n",
       "      <th>supermarket</th>\n",
       "      <th>All</th>\n",
       "    </tr>\n",
       "    <tr>\n",
       "      <th>category</th>\n",
       "      <th></th>\n",
       "      <th></th>\n",
       "      <th></th>\n",
       "      <th></th>\n",
       "    </tr>\n",
       "  </thead>\n",
       "  <tbody>\n",
       "    <tr>\n",
       "      <th>Fabric Care</th>\n",
       "      <td>2611</td>\n",
       "      <td>24345</td>\n",
       "      <td>9044</td>\n",
       "      <td>36000</td>\n",
       "    </tr>\n",
       "    <tr>\n",
       "      <th>Rice</th>\n",
       "      <td>999</td>\n",
       "      <td>7088</td>\n",
       "      <td>3913</td>\n",
       "      <td>12000</td>\n",
       "    </tr>\n",
       "    <tr>\n",
       "      <th>Sugar/Flavored Syrup</th>\n",
       "      <td>1761</td>\n",
       "      <td>15370</td>\n",
       "      <td>6869</td>\n",
       "      <td>24000</td>\n",
       "    </tr>\n",
       "    <tr>\n",
       "      <th>All</th>\n",
       "      <td>5371</td>\n",
       "      <td>46803</td>\n",
       "      <td>19826</td>\n",
       "      <td>72000</td>\n",
       "    </tr>\n",
       "  </tbody>\n",
       "</table>\n",
       "</div>"
      ],
      "text/plain": [
       "format                hypermarket  minimarket  supermarket    All\n",
       "category                                                         \n",
       "Fabric Care                  2611       24345         9044  36000\n",
       "Rice                          999        7088         3913  12000\n",
       "Sugar/Flavored Syrup         1761       15370         6869  24000\n",
       "All                          5371       46803        19826  72000"
      ]
     },
     "execution_count": 207,
     "metadata": {},
     "output_type": "execute_result"
    }
   ],
   "source": [
    "pd.crosstab(\n",
    "    index=household['category'],\n",
    "    columns=household['format'],\n",
    "    margins=True \n",
    ")"
   ]
  },
  {
   "cell_type": "code",
   "execution_count": 208,
   "metadata": {},
   "outputs": [
    {
     "data": {
      "text/html": [
       "<div>\n",
       "<style scoped>\n",
       "    .dataframe tbody tr th:only-of-type {\n",
       "        vertical-align: middle;\n",
       "    }\n",
       "\n",
       "    .dataframe tbody tr th {\n",
       "        vertical-align: top;\n",
       "    }\n",
       "\n",
       "    .dataframe thead th {\n",
       "        text-align: right;\n",
       "    }\n",
       "</style>\n",
       "<table border=\"1\" class=\"dataframe\">\n",
       "  <thead>\n",
       "    <tr style=\"text-align: right;\">\n",
       "      <th>category</th>\n",
       "      <th>Fabric Care</th>\n",
       "      <th>Rice</th>\n",
       "      <th>Sugar/Flavored Syrup</th>\n",
       "      <th>All</th>\n",
       "    </tr>\n",
       "    <tr>\n",
       "      <th>format</th>\n",
       "      <th></th>\n",
       "      <th></th>\n",
       "      <th></th>\n",
       "      <th></th>\n",
       "    </tr>\n",
       "  </thead>\n",
       "  <tbody>\n",
       "    <tr>\n",
       "      <th>hypermarket</th>\n",
       "      <td>2611</td>\n",
       "      <td>999</td>\n",
       "      <td>1761</td>\n",
       "      <td>5371</td>\n",
       "    </tr>\n",
       "    <tr>\n",
       "      <th>minimarket</th>\n",
       "      <td>24345</td>\n",
       "      <td>7088</td>\n",
       "      <td>15370</td>\n",
       "      <td>46803</td>\n",
       "    </tr>\n",
       "    <tr>\n",
       "      <th>supermarket</th>\n",
       "      <td>9044</td>\n",
       "      <td>3913</td>\n",
       "      <td>6869</td>\n",
       "      <td>19826</td>\n",
       "    </tr>\n",
       "    <tr>\n",
       "      <th>All</th>\n",
       "      <td>36000</td>\n",
       "      <td>12000</td>\n",
       "      <td>24000</td>\n",
       "      <td>72000</td>\n",
       "    </tr>\n",
       "  </tbody>\n",
       "</table>\n",
       "</div>"
      ],
      "text/plain": [
       "category     Fabric Care   Rice  Sugar/Flavored Syrup    All\n",
       "format                                                      \n",
       "hypermarket         2611    999                  1761   5371\n",
       "minimarket         24345   7088                 15370  46803\n",
       "supermarket         9044   3913                  6869  19826\n",
       "All                36000  12000                 24000  72000"
      ]
     },
     "execution_count": 208,
     "metadata": {},
     "output_type": "execute_result"
    }
   ],
   "source": [
    "pd.crosstab(\n",
    "    index=household['format'],\n",
    "    columns=household['category'],\n",
    "    margins=True \n",
    ")"
   ]
  },
  {
   "cell_type": "code",
   "execution_count": 139,
   "metadata": {},
   "outputs": [
    {
     "data": {
      "text/html": [
       "<div>\n",
       "<style scoped>\n",
       "    .dataframe tbody tr th:only-of-type {\n",
       "        vertical-align: middle;\n",
       "    }\n",
       "\n",
       "    .dataframe tbody tr th {\n",
       "        vertical-align: top;\n",
       "    }\n",
       "\n",
       "    .dataframe thead th {\n",
       "        text-align: right;\n",
       "    }\n",
       "</style>\n",
       "<table border=\"1\" class=\"dataframe\">\n",
       "  <thead>\n",
       "    <tr style=\"text-align: right;\">\n",
       "      <th>format</th>\n",
       "      <th>hypermarket</th>\n",
       "      <th>minimarket</th>\n",
       "      <th>supermarket</th>\n",
       "      <th>Total Transaction</th>\n",
       "    </tr>\n",
       "    <tr>\n",
       "      <th>category</th>\n",
       "      <th></th>\n",
       "      <th></th>\n",
       "      <th></th>\n",
       "      <th></th>\n",
       "    </tr>\n",
       "  </thead>\n",
       "  <tbody>\n",
       "    <tr>\n",
       "      <th>Fabric Care</th>\n",
       "      <td>2611</td>\n",
       "      <td>24345</td>\n",
       "      <td>9044</td>\n",
       "      <td>36000</td>\n",
       "    </tr>\n",
       "    <tr>\n",
       "      <th>Rice</th>\n",
       "      <td>999</td>\n",
       "      <td>7088</td>\n",
       "      <td>3913</td>\n",
       "      <td>12000</td>\n",
       "    </tr>\n",
       "    <tr>\n",
       "      <th>Sugar/Flavored Syrup</th>\n",
       "      <td>1761</td>\n",
       "      <td>15370</td>\n",
       "      <td>6869</td>\n",
       "      <td>24000</td>\n",
       "    </tr>\n",
       "    <tr>\n",
       "      <th>Total Transaction</th>\n",
       "      <td>5371</td>\n",
       "      <td>46803</td>\n",
       "      <td>19826</td>\n",
       "      <td>72000</td>\n",
       "    </tr>\n",
       "  </tbody>\n",
       "</table>\n",
       "</div>"
      ],
      "text/plain": [
       "format                hypermarket  minimarket  supermarket  Total Transaction\n",
       "category                                                                     \n",
       "Fabric Care                  2611       24345         9044              36000\n",
       "Rice                          999        7088         3913              12000\n",
       "Sugar/Flavored Syrup         1761       15370         6869              24000\n",
       "Total Transaction            5371       46803        19826              72000"
      ]
     },
     "execution_count": 139,
     "metadata": {},
     "output_type": "execute_result"
    }
   ],
   "source": [
    "# change margins_name\n",
    "pd.crosstab(\n",
    "    index=household['category'],\n",
    "    columns=household['format'],\n",
    "    margins=True,\n",
    "    margins_name='Total Transaction'\n",
    ")"
   ]
  },
  {
   "cell_type": "markdown",
   "metadata": {},
   "source": [
    "#### Normalize\n",
    "\n",
    "Usage: Calculate percentages/proportions instead of the frequency\n",
    "\n",
    "- `normalize='all'` or `normalize=True`: normalize over all values\n",
    "- `normalize='index'`: normalize over each row\n",
    "- `normalize='columns'`: normalize over each column"
   ]
  },
  {
   "cell_type": "markdown",
   "metadata": {},
   "source": [
    "**Normalize by all**"
   ]
  },
  {
   "cell_type": "code",
   "execution_count": 212,
   "metadata": {
    "scrolled": true
   },
   "outputs": [
    {
     "data": {
      "text/html": [
       "<div>\n",
       "<style scoped>\n",
       "    .dataframe tbody tr th:only-of-type {\n",
       "        vertical-align: middle;\n",
       "    }\n",
       "\n",
       "    .dataframe tbody tr th {\n",
       "        vertical-align: top;\n",
       "    }\n",
       "\n",
       "    .dataframe thead th {\n",
       "        text-align: right;\n",
       "    }\n",
       "</style>\n",
       "<table border=\"1\" class=\"dataframe\">\n",
       "  <thead>\n",
       "    <tr style=\"text-align: right;\">\n",
       "      <th>format</th>\n",
       "      <th>hypermarket</th>\n",
       "      <th>minimarket</th>\n",
       "      <th>supermarket</th>\n",
       "      <th>All</th>\n",
       "    </tr>\n",
       "    <tr>\n",
       "      <th>category</th>\n",
       "      <th></th>\n",
       "      <th></th>\n",
       "      <th></th>\n",
       "      <th></th>\n",
       "    </tr>\n",
       "  </thead>\n",
       "  <tbody>\n",
       "    <tr>\n",
       "      <th>Fabric Care</th>\n",
       "      <td>0.036264</td>\n",
       "      <td>0.338125</td>\n",
       "      <td>0.125611</td>\n",
       "      <td>0.500000</td>\n",
       "    </tr>\n",
       "    <tr>\n",
       "      <th>Rice</th>\n",
       "      <td>0.013875</td>\n",
       "      <td>0.098444</td>\n",
       "      <td>0.054347</td>\n",
       "      <td>0.166667</td>\n",
       "    </tr>\n",
       "    <tr>\n",
       "      <th>Sugar/Flavored Syrup</th>\n",
       "      <td>0.024458</td>\n",
       "      <td>0.213472</td>\n",
       "      <td>0.095403</td>\n",
       "      <td>0.333333</td>\n",
       "    </tr>\n",
       "    <tr>\n",
       "      <th>All</th>\n",
       "      <td>0.074597</td>\n",
       "      <td>0.650042</td>\n",
       "      <td>0.275361</td>\n",
       "      <td>1.000000</td>\n",
       "    </tr>\n",
       "  </tbody>\n",
       "</table>\n",
       "</div>"
      ],
      "text/plain": [
       "format                hypermarket  minimarket  supermarket       All\n",
       "category                                                            \n",
       "Fabric Care              0.036264    0.338125     0.125611  0.500000\n",
       "Rice                     0.013875    0.098444     0.054347  0.166667\n",
       "Sugar/Flavored Syrup     0.024458    0.213472     0.095403  0.333333\n",
       "All                      0.074597    0.650042     0.275361  1.000000"
      ]
     },
     "execution_count": 212,
     "metadata": {},
     "output_type": "execute_result"
    }
   ],
   "source": [
    "pd.crosstab(\n",
    "    index=household['category'],\n",
    "    columns=household['format'],\n",
    "    margins=True,\n",
    "    normalize='all'\n",
    ")"
   ]
  },
  {
   "cell_type": "markdown",
   "metadata": {},
   "source": [
    "**Normalize by index**"
   ]
  },
  {
   "cell_type": "code",
   "execution_count": 213,
   "metadata": {},
   "outputs": [
    {
     "data": {
      "text/html": [
       "<div>\n",
       "<style scoped>\n",
       "    .dataframe tbody tr th:only-of-type {\n",
       "        vertical-align: middle;\n",
       "    }\n",
       "\n",
       "    .dataframe tbody tr th {\n",
       "        vertical-align: top;\n",
       "    }\n",
       "\n",
       "    .dataframe thead th {\n",
       "        text-align: right;\n",
       "    }\n",
       "</style>\n",
       "<table border=\"1\" class=\"dataframe\">\n",
       "  <thead>\n",
       "    <tr style=\"text-align: right;\">\n",
       "      <th>format</th>\n",
       "      <th>hypermarket</th>\n",
       "      <th>minimarket</th>\n",
       "      <th>supermarket</th>\n",
       "    </tr>\n",
       "    <tr>\n",
       "      <th>category</th>\n",
       "      <th></th>\n",
       "      <th></th>\n",
       "      <th></th>\n",
       "    </tr>\n",
       "  </thead>\n",
       "  <tbody>\n",
       "    <tr>\n",
       "      <th>Fabric Care</th>\n",
       "      <td>0.072528</td>\n",
       "      <td>0.676250</td>\n",
       "      <td>0.251222</td>\n",
       "    </tr>\n",
       "    <tr>\n",
       "      <th>Rice</th>\n",
       "      <td>0.083250</td>\n",
       "      <td>0.590667</td>\n",
       "      <td>0.326083</td>\n",
       "    </tr>\n",
       "    <tr>\n",
       "      <th>Sugar/Flavored Syrup</th>\n",
       "      <td>0.073375</td>\n",
       "      <td>0.640417</td>\n",
       "      <td>0.286208</td>\n",
       "    </tr>\n",
       "    <tr>\n",
       "      <th>All</th>\n",
       "      <td>0.074597</td>\n",
       "      <td>0.650042</td>\n",
       "      <td>0.275361</td>\n",
       "    </tr>\n",
       "  </tbody>\n",
       "</table>\n",
       "</div>"
      ],
      "text/plain": [
       "format                hypermarket  minimarket  supermarket\n",
       "category                                                  \n",
       "Fabric Care              0.072528    0.676250     0.251222\n",
       "Rice                     0.083250    0.590667     0.326083\n",
       "Sugar/Flavored Syrup     0.073375    0.640417     0.286208\n",
       "All                      0.074597    0.650042     0.275361"
      ]
     },
     "execution_count": 213,
     "metadata": {},
     "output_type": "execute_result"
    }
   ],
   "source": [
    "pd.crosstab(\n",
    "    index=household['category'],\n",
    "    columns=household['format'],\n",
    "    margins=True,\n",
    "    normalize='index'\n",
    ")"
   ]
  },
  {
   "cell_type": "markdown",
   "metadata": {},
   "source": [
    "**Normalize by column**"
   ]
  },
  {
   "cell_type": "code",
   "execution_count": 214,
   "metadata": {
    "run_control": {
     "marked": false
    },
    "scrolled": true
   },
   "outputs": [
    {
     "data": {
      "text/html": [
       "<div>\n",
       "<style scoped>\n",
       "    .dataframe tbody tr th:only-of-type {\n",
       "        vertical-align: middle;\n",
       "    }\n",
       "\n",
       "    .dataframe tbody tr th {\n",
       "        vertical-align: top;\n",
       "    }\n",
       "\n",
       "    .dataframe thead th {\n",
       "        text-align: right;\n",
       "    }\n",
       "</style>\n",
       "<table border=\"1\" class=\"dataframe\">\n",
       "  <thead>\n",
       "    <tr style=\"text-align: right;\">\n",
       "      <th>format</th>\n",
       "      <th>hypermarket</th>\n",
       "      <th>minimarket</th>\n",
       "      <th>supermarket</th>\n",
       "      <th>All</th>\n",
       "    </tr>\n",
       "    <tr>\n",
       "      <th>category</th>\n",
       "      <th></th>\n",
       "      <th></th>\n",
       "      <th></th>\n",
       "      <th></th>\n",
       "    </tr>\n",
       "  </thead>\n",
       "  <tbody>\n",
       "    <tr>\n",
       "      <th>Fabric Care</th>\n",
       "      <td>0.486129</td>\n",
       "      <td>0.520159</td>\n",
       "      <td>0.456169</td>\n",
       "      <td>0.500000</td>\n",
       "    </tr>\n",
       "    <tr>\n",
       "      <th>Rice</th>\n",
       "      <td>0.185999</td>\n",
       "      <td>0.151443</td>\n",
       "      <td>0.197367</td>\n",
       "      <td>0.166667</td>\n",
       "    </tr>\n",
       "    <tr>\n",
       "      <th>Sugar/Flavored Syrup</th>\n",
       "      <td>0.327872</td>\n",
       "      <td>0.328398</td>\n",
       "      <td>0.346464</td>\n",
       "      <td>0.333333</td>\n",
       "    </tr>\n",
       "  </tbody>\n",
       "</table>\n",
       "</div>"
      ],
      "text/plain": [
       "format                hypermarket  minimarket  supermarket       All\n",
       "category                                                            \n",
       "Fabric Care              0.486129    0.520159     0.456169  0.500000\n",
       "Rice                     0.185999    0.151443     0.197367  0.166667\n",
       "Sugar/Flavored Syrup     0.327872    0.328398     0.346464  0.333333"
      ]
     },
     "execution_count": 214,
     "metadata": {},
     "output_type": "execute_result"
    }
   ],
   "source": [
    "pd.crosstab(\n",
    "    index=household['category'],\n",
    "    columns=household['format'],\n",
    "    margins=True,\n",
    "    normalize='columns'\n",
    ")"
   ]
  },
  {
   "cell_type": "markdown",
   "metadata": {},
   "source": [
    "## Knowledge Check: Contingency Table\n",
    "\n",
    "_Estimated time required: 15 minutes_"
   ]
  },
  {
   "cell_type": "markdown",
   "metadata": {},
   "source": [
    "1. In which period (`yearmonth`) does the hypermarket achieve the highest total transactions?"
   ]
  },
  {
   "cell_type": "code",
   "execution_count": 395,
   "metadata": {
    "scrolled": true
   },
   "outputs": [
    {
     "data": {
      "text/html": [
       "<div>\n",
       "<style scoped>\n",
       "    .dataframe tbody tr th:only-of-type {\n",
       "        vertical-align: middle;\n",
       "    }\n",
       "\n",
       "    .dataframe tbody tr th {\n",
       "        vertical-align: top;\n",
       "    }\n",
       "\n",
       "    .dataframe thead th {\n",
       "        text-align: right;\n",
       "    }\n",
       "</style>\n",
       "<table border=\"1\" class=\"dataframe\">\n",
       "  <thead>\n",
       "    <tr style=\"text-align: right;\">\n",
       "      <th>format</th>\n",
       "      <th>hypermarket</th>\n",
       "      <th>minimarket</th>\n",
       "      <th>supermarket</th>\n",
       "    </tr>\n",
       "    <tr>\n",
       "      <th>yearmonth</th>\n",
       "      <th></th>\n",
       "      <th></th>\n",
       "      <th></th>\n",
       "    </tr>\n",
       "  </thead>\n",
       "  <tbody>\n",
       "    <tr>\n",
       "      <th>2018-03</th>\n",
       "      <td>521</td>\n",
       "      <td>3540</td>\n",
       "      <td>1939</td>\n",
       "    </tr>\n",
       "    <tr>\n",
       "      <th>2018-02</th>\n",
       "      <td>513</td>\n",
       "      <td>3745</td>\n",
       "      <td>1742</td>\n",
       "    </tr>\n",
       "    <tr>\n",
       "      <th>2018-05</th>\n",
       "      <td>487</td>\n",
       "      <td>3704</td>\n",
       "      <td>1809</td>\n",
       "    </tr>\n",
       "  </tbody>\n",
       "</table>\n",
       "</div>"
      ],
      "text/plain": [
       "format     hypermarket  minimarket  supermarket\n",
       "yearmonth                                      \n",
       "2018-03            521        3540         1939\n",
       "2018-02            513        3745         1742\n",
       "2018-05            487        3704         1809"
      ]
     },
     "execution_count": 395,
     "metadata": {},
     "output_type": "execute_result"
    }
   ],
   "source": [
    "# your code here\n",
    "# category_summary = pd.crosstab(\n",
    "#     index=household['category'],\n",
    "#     columns=household['format']).sort_values('minimarket', ascending=False)\n",
    "\n",
    "# category_summary\n",
    "\n",
    "pd.crosstab(\n",
    "    index=household['yearmonth'],\n",
    "    columns=household['format']\n",
    ").sort_values('hypermarket', ascending=False).head(3)"
   ]
  },
  {
   "cell_type": "markdown",
   "metadata": {},
   "source": [
    "2. In the second quarter of 2018, how many percentage of total transactions came from the supermarket, when we compared to other `format`? (Hint: extract the quarterly period from `purchase_time`)"
   ]
  },
  {
   "cell_type": "code",
   "execution_count": 401,
   "metadata": {
    "run_control": {
     "marked": false
    }
   },
   "outputs": [
    {
     "data": {
      "text/html": [
       "<div>\n",
       "<style scoped>\n",
       "    .dataframe tbody tr th:only-of-type {\n",
       "        vertical-align: middle;\n",
       "    }\n",
       "\n",
       "    .dataframe tbody tr th {\n",
       "        vertical-align: top;\n",
       "    }\n",
       "\n",
       "    .dataframe thead th {\n",
       "        text-align: right;\n",
       "    }\n",
       "</style>\n",
       "<table border=\"1\" class=\"dataframe\">\n",
       "  <thead>\n",
       "    <tr style=\"text-align: right;\">\n",
       "      <th>format</th>\n",
       "      <th>supermarket</th>\n",
       "    </tr>\n",
       "    <tr>\n",
       "      <th>quarter</th>\n",
       "      <th></th>\n",
       "    </tr>\n",
       "  </thead>\n",
       "  <tbody>\n",
       "    <tr>\n",
       "      <th>2018Q2</th>\n",
       "      <td>28.427778</td>\n",
       "    </tr>\n",
       "  </tbody>\n",
       "</table>\n",
       "</div>"
      ],
      "text/plain": [
       "format   supermarket\n",
       "quarter             \n",
       "2018Q2     28.427778"
      ]
     },
     "execution_count": 401,
     "metadata": {},
     "output_type": "execute_result"
    }
   ],
   "source": [
    "# your code here\n",
    "\n",
    "household['quarter'] = household['purchase_time'].dt.to_period('Q')\n",
    "\n",
    "x = pd.crosstab(\n",
    "    index=household['quarter'],\n",
    "    columns=household['format'],\n",
    "    normalize='index'\n",
    ").sort_values('supermarket', ascending=False)*100\n",
    "\n",
    "x.loc[['2018Q2'], ['supermarket']]"
   ]
  },
  {
   "cell_type": "markdown",
   "metadata": {},
   "source": [
    "💭 **Bonus challenge:**\n",
    "\n",
    "Produce a frequency table where we can breakdown the total transactions for each `yearmonth` period by each product `category` in each market (`format`)."
   ]
  },
  {
   "cell_type": "code",
   "execution_count": 402,
   "metadata": {
    "scrolled": true
   },
   "outputs": [
    {
     "data": {
      "text/html": [
       "<div>\n",
       "<style scoped>\n",
       "    .dataframe tbody tr th:only-of-type {\n",
       "        vertical-align: middle;\n",
       "    }\n",
       "\n",
       "    .dataframe tbody tr th {\n",
       "        vertical-align: top;\n",
       "    }\n",
       "\n",
       "    .dataframe thead tr th {\n",
       "        text-align: left;\n",
       "    }\n",
       "\n",
       "    .dataframe thead tr:last-of-type th {\n",
       "        text-align: right;\n",
       "    }\n",
       "</style>\n",
       "<table border=\"1\" class=\"dataframe\">\n",
       "  <thead>\n",
       "    <tr>\n",
       "      <th>category</th>\n",
       "      <th colspan=\"3\" halign=\"left\">Fabric Care</th>\n",
       "      <th colspan=\"3\" halign=\"left\">Rice</th>\n",
       "      <th colspan=\"3\" halign=\"left\">Sugar/Flavored Syrup</th>\n",
       "    </tr>\n",
       "    <tr>\n",
       "      <th>format</th>\n",
       "      <th>hypermarket</th>\n",
       "      <th>minimarket</th>\n",
       "      <th>supermarket</th>\n",
       "      <th>hypermarket</th>\n",
       "      <th>minimarket</th>\n",
       "      <th>supermarket</th>\n",
       "      <th>hypermarket</th>\n",
       "      <th>minimarket</th>\n",
       "      <th>supermarket</th>\n",
       "    </tr>\n",
       "    <tr>\n",
       "      <th>yearmonth</th>\n",
       "      <th></th>\n",
       "      <th></th>\n",
       "      <th></th>\n",
       "      <th></th>\n",
       "      <th></th>\n",
       "      <th></th>\n",
       "      <th></th>\n",
       "      <th></th>\n",
       "      <th></th>\n",
       "    </tr>\n",
       "  </thead>\n",
       "  <tbody>\n",
       "    <tr>\n",
       "      <th>2017-10</th>\n",
       "      <td>213</td>\n",
       "      <td>2009</td>\n",
       "      <td>778</td>\n",
       "      <td>81</td>\n",
       "      <td>600</td>\n",
       "      <td>319</td>\n",
       "      <td>152</td>\n",
       "      <td>1289</td>\n",
       "      <td>559</td>\n",
       "    </tr>\n",
       "    <tr>\n",
       "      <th>2017-11</th>\n",
       "      <td>218</td>\n",
       "      <td>2069</td>\n",
       "      <td>713</td>\n",
       "      <td>76</td>\n",
       "      <td>581</td>\n",
       "      <td>343</td>\n",
       "      <td>148</td>\n",
       "      <td>1262</td>\n",
       "      <td>590</td>\n",
       "    </tr>\n",
       "    <tr>\n",
       "      <th>2017-12</th>\n",
       "      <td>206</td>\n",
       "      <td>2111</td>\n",
       "      <td>683</td>\n",
       "      <td>68</td>\n",
       "      <td>583</td>\n",
       "      <td>349</td>\n",
       "      <td>153</td>\n",
       "      <td>1245</td>\n",
       "      <td>602</td>\n",
       "    </tr>\n",
       "    <tr>\n",
       "      <th>2018-01</th>\n",
       "      <td>229</td>\n",
       "      <td>2094</td>\n",
       "      <td>677</td>\n",
       "      <td>68</td>\n",
       "      <td>597</td>\n",
       "      <td>335</td>\n",
       "      <td>152</td>\n",
       "      <td>1269</td>\n",
       "      <td>579</td>\n",
       "    </tr>\n",
       "    <tr>\n",
       "      <th>2018-02</th>\n",
       "      <td>212</td>\n",
       "      <td>1989</td>\n",
       "      <td>799</td>\n",
       "      <td>117</td>\n",
       "      <td>549</td>\n",
       "      <td>334</td>\n",
       "      <td>184</td>\n",
       "      <td>1207</td>\n",
       "      <td>609</td>\n",
       "    </tr>\n",
       "    <tr>\n",
       "      <th>2018-03</th>\n",
       "      <td>249</td>\n",
       "      <td>1853</td>\n",
       "      <td>898</td>\n",
       "      <td>97</td>\n",
       "      <td>559</td>\n",
       "      <td>344</td>\n",
       "      <td>175</td>\n",
       "      <td>1128</td>\n",
       "      <td>697</td>\n",
       "    </tr>\n",
       "    <tr>\n",
       "      <th>2018-04</th>\n",
       "      <td>176</td>\n",
       "      <td>2031</td>\n",
       "      <td>793</td>\n",
       "      <td>79</td>\n",
       "      <td>578</td>\n",
       "      <td>343</td>\n",
       "      <td>121</td>\n",
       "      <td>1300</td>\n",
       "      <td>579</td>\n",
       "    </tr>\n",
       "    <tr>\n",
       "      <th>2018-05</th>\n",
       "      <td>236</td>\n",
       "      <td>1884</td>\n",
       "      <td>880</td>\n",
       "      <td>82</td>\n",
       "      <td>585</td>\n",
       "      <td>333</td>\n",
       "      <td>169</td>\n",
       "      <td>1235</td>\n",
       "      <td>596</td>\n",
       "    </tr>\n",
       "    <tr>\n",
       "      <th>2018-06</th>\n",
       "      <td>230</td>\n",
       "      <td>1996</td>\n",
       "      <td>774</td>\n",
       "      <td>81</td>\n",
       "      <td>622</td>\n",
       "      <td>297</td>\n",
       "      <td>147</td>\n",
       "      <td>1331</td>\n",
       "      <td>522</td>\n",
       "    </tr>\n",
       "    <tr>\n",
       "      <th>2018-07</th>\n",
       "      <td>169</td>\n",
       "      <td>2289</td>\n",
       "      <td>542</td>\n",
       "      <td>65</td>\n",
       "      <td>626</td>\n",
       "      <td>309</td>\n",
       "      <td>122</td>\n",
       "      <td>1378</td>\n",
       "      <td>500</td>\n",
       "    </tr>\n",
       "    <tr>\n",
       "      <th>2018-08</th>\n",
       "      <td>253</td>\n",
       "      <td>2025</td>\n",
       "      <td>722</td>\n",
       "      <td>82</td>\n",
       "      <td>611</td>\n",
       "      <td>307</td>\n",
       "      <td>120</td>\n",
       "      <td>1358</td>\n",
       "      <td>522</td>\n",
       "    </tr>\n",
       "    <tr>\n",
       "      <th>2018-09</th>\n",
       "      <td>220</td>\n",
       "      <td>1995</td>\n",
       "      <td>785</td>\n",
       "      <td>103</td>\n",
       "      <td>597</td>\n",
       "      <td>300</td>\n",
       "      <td>118</td>\n",
       "      <td>1368</td>\n",
       "      <td>514</td>\n",
       "    </tr>\n",
       "  </tbody>\n",
       "</table>\n",
       "</div>"
      ],
      "text/plain": [
       "category  Fabric Care                               Rice             \\\n",
       "format    hypermarket minimarket supermarket hypermarket minimarket   \n",
       "yearmonth                                                             \n",
       "2017-10           213       2009         778          81        600   \n",
       "2017-11           218       2069         713          76        581   \n",
       "2017-12           206       2111         683          68        583   \n",
       "2018-01           229       2094         677          68        597   \n",
       "2018-02           212       1989         799         117        549   \n",
       "2018-03           249       1853         898          97        559   \n",
       "2018-04           176       2031         793          79        578   \n",
       "2018-05           236       1884         880          82        585   \n",
       "2018-06           230       1996         774          81        622   \n",
       "2018-07           169       2289         542          65        626   \n",
       "2018-08           253       2025         722          82        611   \n",
       "2018-09           220       1995         785         103        597   \n",
       "\n",
       "category              Sugar/Flavored Syrup                         \n",
       "format    supermarket          hypermarket minimarket supermarket  \n",
       "yearmonth                                                          \n",
       "2017-10           319                  152       1289         559  \n",
       "2017-11           343                  148       1262         590  \n",
       "2017-12           349                  153       1245         602  \n",
       "2018-01           335                  152       1269         579  \n",
       "2018-02           334                  184       1207         609  \n",
       "2018-03           344                  175       1128         697  \n",
       "2018-04           343                  121       1300         579  \n",
       "2018-05           333                  169       1235         596  \n",
       "2018-06           297                  147       1331         522  \n",
       "2018-07           309                  122       1378         500  \n",
       "2018-08           307                  120       1358         522  \n",
       "2018-09           300                  118       1368         514  "
      ]
     },
     "execution_count": 402,
     "metadata": {},
     "output_type": "execute_result"
    }
   ],
   "source": [
    "pd.crosstab(\n",
    "    index=household['yearmonth'],\n",
    "    columns=[household['category'], household['format']],\n",
    ")"
   ]
  },
  {
   "cell_type": "markdown",
   "metadata": {},
   "source": [
    "In `pandas`, we call a higher-dimensional table as Multi-Index DataFrame. We will cover more on Week 3: Data Wrangling and Visualization course. So, stay tune~"
   ]
  },
  {
   "cell_type": "markdown",
   "metadata": {},
   "source": [
    "___"
   ]
  },
  {
   "cell_type": "markdown",
   "metadata": {},
   "source": [
    "# Aggregation Table"
   ]
  },
  {
   "cell_type": "markdown",
   "metadata": {},
   "source": [
    "## `pd.crosstab()`"
   ]
  },
  {
   "cell_type": "markdown",
   "metadata": {},
   "source": [
    "Not only for creating a frequency table, `crosstab` can also be used to perform aggregation by adding two more parameters:\n",
    "\n",
    "- `values`: Values to be aggregated according to the `index` and `columns`\n",
    "- `aggfunc`: Aggregate function to be used. Most common function: 'count', 'mean', 'median', 'sum', 'max', 'min'\n",
    "\n",
    "\n",
    "    pd.crosstab(\n",
    "        index=...,\n",
    "        columns=...,\n",
    "        values=...,\n",
    "        aggfunc=...\n",
    "    )"
   ]
  },
  {
   "cell_type": "markdown",
   "metadata": {},
   "source": [
    "<b id='q4'>Business Question 4</b>\n",
    "\n",
    "Find out the most expensive product `category`, by its mean of `unit_price`.\n",
    "\n",
    "In other words, let's calculate the mean of `unit_price` of each product `category`."
   ]
  },
  {
   "cell_type": "code",
   "execution_count": 305,
   "metadata": {},
   "outputs": [
    {
     "data": {
      "text/html": [
       "<div>\n",
       "<style scoped>\n",
       "    .dataframe tbody tr th:only-of-type {\n",
       "        vertical-align: middle;\n",
       "    }\n",
       "\n",
       "    .dataframe tbody tr th {\n",
       "        vertical-align: top;\n",
       "    }\n",
       "\n",
       "    .dataframe thead th {\n",
       "        text-align: right;\n",
       "    }\n",
       "</style>\n",
       "<table border=\"1\" class=\"dataframe\">\n",
       "  <thead>\n",
       "    <tr style=\"text-align: right;\">\n",
       "      <th>col_0</th>\n",
       "      <th>mean_unit_price</th>\n",
       "    </tr>\n",
       "    <tr>\n",
       "      <th>category</th>\n",
       "      <th></th>\n",
       "    </tr>\n",
       "  </thead>\n",
       "  <tbody>\n",
       "    <tr>\n",
       "      <th>Fabric Care</th>\n",
       "      <td>17893.793214</td>\n",
       "    </tr>\n",
       "    <tr>\n",
       "      <th>Rice</th>\n",
       "      <td>70013.146313</td>\n",
       "    </tr>\n",
       "    <tr>\n",
       "      <th>Sugar/Flavored Syrup</th>\n",
       "      <td>12645.066024</td>\n",
       "    </tr>\n",
       "  </tbody>\n",
       "</table>\n",
       "</div>"
      ],
      "text/plain": [
       "col_0                 mean_unit_price\n",
       "category                             \n",
       "Fabric Care              17893.793214\n",
       "Rice                     70013.146313\n",
       "Sugar/Flavored Syrup     12645.066024"
      ]
     },
     "execution_count": 305,
     "metadata": {},
     "output_type": "execute_result"
    }
   ],
   "source": [
    "pd.crosstab(\n",
    "    index=household['category'], \n",
    "    columns='mean_unit_price', \n",
    "    values=household['unit_price'],\n",
    "    aggfunc='mean'\n",
    ")"
   ]
  },
  {
   "cell_type": "markdown",
   "metadata": {},
   "source": [
    "<b id='q5'>Business Question 5</b>\n",
    "\n",
    "Just like [Business Question 4](#q4), but please also breakdown the mean for each market (`format`)"
   ]
  },
  {
   "cell_type": "code",
   "execution_count": 360,
   "metadata": {},
   "outputs": [
    {
     "data": {
      "text/html": [
       "<div>\n",
       "<style scoped>\n",
       "    .dataframe tbody tr th:only-of-type {\n",
       "        vertical-align: middle;\n",
       "    }\n",
       "\n",
       "    .dataframe tbody tr th {\n",
       "        vertical-align: top;\n",
       "    }\n",
       "\n",
       "    .dataframe thead th {\n",
       "        text-align: right;\n",
       "    }\n",
       "</style>\n",
       "<table border=\"1\" class=\"dataframe\">\n",
       "  <thead>\n",
       "    <tr style=\"text-align: right;\">\n",
       "      <th></th>\n",
       "      <th>col_0</th>\n",
       "      <th>mean_unit_price</th>\n",
       "    </tr>\n",
       "    <tr>\n",
       "      <th>category</th>\n",
       "      <th>format</th>\n",
       "      <th></th>\n",
       "    </tr>\n",
       "  </thead>\n",
       "  <tbody>\n",
       "    <tr>\n",
       "      <th rowspan=\"3\" valign=\"top\">Fabric Care</th>\n",
       "      <th>hypermarket</th>\n",
       "      <td>19328.141915</td>\n",
       "    </tr>\n",
       "    <tr>\n",
       "      <th>minimarket</th>\n",
       "      <td>17757.135774</td>\n",
       "    </tr>\n",
       "    <tr>\n",
       "      <th>supermarket</th>\n",
       "      <td>17847.557137</td>\n",
       "    </tr>\n",
       "    <tr>\n",
       "      <th rowspan=\"3\" valign=\"top\">Rice</th>\n",
       "      <th>hypermarket</th>\n",
       "      <td>71205.458458</td>\n",
       "    </tr>\n",
       "    <tr>\n",
       "      <th>minimarket</th>\n",
       "      <td>67135.569554</td>\n",
       "    </tr>\n",
       "    <tr>\n",
       "      <th>supermarket</th>\n",
       "      <td>74921.182150</td>\n",
       "    </tr>\n",
       "    <tr>\n",
       "      <th rowspan=\"3\" valign=\"top\">Sugar/Flavored Syrup</th>\n",
       "      <th>hypermarket</th>\n",
       "      <td>13539.915728</td>\n",
       "    </tr>\n",
       "    <tr>\n",
       "      <th>minimarket</th>\n",
       "      <td>12352.135470</td>\n",
       "    </tr>\n",
       "    <tr>\n",
       "      <th>supermarket</th>\n",
       "      <td>13071.112361</td>\n",
       "    </tr>\n",
       "  </tbody>\n",
       "</table>\n",
       "</div>"
      ],
      "text/plain": [
       "col_0                             mean_unit_price\n",
       "category             format                      \n",
       "Fabric Care          hypermarket     19328.141915\n",
       "                     minimarket      17757.135774\n",
       "                     supermarket     17847.557137\n",
       "Rice                 hypermarket     71205.458458\n",
       "                     minimarket      67135.569554\n",
       "                     supermarket     74921.182150\n",
       "Sugar/Flavored Syrup hypermarket     13539.915728\n",
       "                     minimarket      12352.135470\n",
       "                     supermarket     13071.112361"
      ]
     },
     "execution_count": 360,
     "metadata": {},
     "output_type": "execute_result"
    }
   ],
   "source": [
    "mean = pd.crosstab(\n",
    "    index=[household['category'], household['format']],\n",
    "    columns='mean_unit_price', \n",
    "    values=household['unit_price'],\n",
    "    aggfunc='mean'\n",
    ")\n",
    "\n",
    "mean"
   ]
  },
  {
   "cell_type": "markdown",
   "metadata": {},
   "source": [
    "Let's say we want to compare the mean and median side by side:"
   ]
  },
  {
   "cell_type": "code",
   "execution_count": 371,
   "metadata": {},
   "outputs": [
    {
     "ename": "ValueError",
     "evalue": "Can only compare identically-labeled DataFrame objects",
     "output_type": "error",
     "traceback": [
      "\u001b[0;31m---------------------------------------------------------------------------\u001b[0m",
      "\u001b[0;31mValueError\u001b[0m                                Traceback (most recent call last)",
      "\u001b[0;32m<ipython-input-371-a8dc476a32e7>\u001b[0m in \u001b[0;36m<module>\u001b[0;34m\u001b[0m\n\u001b[1;32m      6\u001b[0m )\n\u001b[1;32m      7\u001b[0m \u001b[0;34m\u001b[0m\u001b[0m\n\u001b[0;32m----> 8\u001b[0;31m \u001b[0mmean\u001b[0m\u001b[0;34m.\u001b[0m\u001b[0mcompare\u001b[0m\u001b[0;34m(\u001b[0m\u001b[0mmedian\u001b[0m\u001b[0;34m,\u001b[0m \u001b[0mkeep_equal\u001b[0m\u001b[0;34m=\u001b[0m\u001b[0;32mTrue\u001b[0m\u001b[0;34m,\u001b[0m \u001b[0mkeep_shape\u001b[0m\u001b[0;34m=\u001b[0m\u001b[0;32mTrue\u001b[0m\u001b[0;34m)\u001b[0m\u001b[0;34m\u001b[0m\u001b[0;34m\u001b[0m\u001b[0m\n\u001b[0m\u001b[1;32m      9\u001b[0m \u001b[0;34m\u001b[0m\u001b[0m\n\u001b[1;32m     10\u001b[0m \u001b[0;34m\u001b[0m\u001b[0m\n",
      "\u001b[0;32m~/opt/anaconda3/lib/python3.8/site-packages/pandas/core/frame.py\u001b[0m in \u001b[0;36mcompare\u001b[0;34m(self, other, align_axis, keep_shape, keep_equal)\u001b[0m\n\u001b[1;32m   5989\u001b[0m         \u001b[0mkeep_equal\u001b[0m\u001b[0;34m:\u001b[0m \u001b[0mbool\u001b[0m \u001b[0;34m=\u001b[0m \u001b[0;32mFalse\u001b[0m\u001b[0;34m,\u001b[0m\u001b[0;34m\u001b[0m\u001b[0;34m\u001b[0m\u001b[0m\n\u001b[1;32m   5990\u001b[0m     ) -> \"DataFrame\":\n\u001b[0;32m-> 5991\u001b[0;31m         return super().compare(\n\u001b[0m\u001b[1;32m   5992\u001b[0m             \u001b[0mother\u001b[0m\u001b[0;34m=\u001b[0m\u001b[0mother\u001b[0m\u001b[0;34m,\u001b[0m\u001b[0;34m\u001b[0m\u001b[0;34m\u001b[0m\u001b[0m\n\u001b[1;32m   5993\u001b[0m             \u001b[0malign_axis\u001b[0m\u001b[0;34m=\u001b[0m\u001b[0malign_axis\u001b[0m\u001b[0;34m,\u001b[0m\u001b[0;34m\u001b[0m\u001b[0;34m\u001b[0m\u001b[0m\n",
      "\u001b[0;32m~/opt/anaconda3/lib/python3.8/site-packages/pandas/core/generic.py\u001b[0m in \u001b[0;36mcompare\u001b[0;34m(self, other, align_axis, keep_shape, keep_equal)\u001b[0m\n\u001b[1;32m   8390\u001b[0m             )\n\u001b[1;32m   8391\u001b[0m \u001b[0;34m\u001b[0m\u001b[0m\n\u001b[0;32m-> 8392\u001b[0;31m         \u001b[0mmask\u001b[0m \u001b[0;34m=\u001b[0m \u001b[0;34m~\u001b[0m\u001b[0;34m(\u001b[0m\u001b[0;34m(\u001b[0m\u001b[0mself\u001b[0m \u001b[0;34m==\u001b[0m \u001b[0mother\u001b[0m\u001b[0;34m)\u001b[0m \u001b[0;34m|\u001b[0m \u001b[0;34m(\u001b[0m\u001b[0mself\u001b[0m\u001b[0;34m.\u001b[0m\u001b[0misna\u001b[0m\u001b[0;34m(\u001b[0m\u001b[0;34m)\u001b[0m \u001b[0;34m&\u001b[0m \u001b[0mother\u001b[0m\u001b[0;34m.\u001b[0m\u001b[0misna\u001b[0m\u001b[0;34m(\u001b[0m\u001b[0;34m)\u001b[0m\u001b[0;34m)\u001b[0m\u001b[0;34m)\u001b[0m\u001b[0;34m\u001b[0m\u001b[0;34m\u001b[0m\u001b[0m\n\u001b[0m\u001b[1;32m   8393\u001b[0m         \u001b[0mkeys\u001b[0m \u001b[0;34m=\u001b[0m \u001b[0;34m[\u001b[0m\u001b[0;34m\"self\"\u001b[0m\u001b[0;34m,\u001b[0m \u001b[0;34m\"other\"\u001b[0m\u001b[0;34m]\u001b[0m\u001b[0;34m\u001b[0m\u001b[0;34m\u001b[0m\u001b[0m\n\u001b[1;32m   8394\u001b[0m \u001b[0;34m\u001b[0m\u001b[0m\n",
      "\u001b[0;32m~/opt/anaconda3/lib/python3.8/site-packages/pandas/core/ops/__init__.py\u001b[0m in \u001b[0;36mf\u001b[0;34m(self, other)\u001b[0m\n\u001b[1;32m    699\u001b[0m         \u001b[0maxis\u001b[0m \u001b[0;34m=\u001b[0m \u001b[0;36m1\u001b[0m  \u001b[0;31m# only relevant for Series other case\u001b[0m\u001b[0;34m\u001b[0m\u001b[0;34m\u001b[0m\u001b[0m\n\u001b[1;32m    700\u001b[0m \u001b[0;34m\u001b[0m\u001b[0m\n\u001b[0;32m--> 701\u001b[0;31m         \u001b[0mself\u001b[0m\u001b[0;34m,\u001b[0m \u001b[0mother\u001b[0m \u001b[0;34m=\u001b[0m \u001b[0m_align_method_FRAME\u001b[0m\u001b[0;34m(\u001b[0m\u001b[0mself\u001b[0m\u001b[0;34m,\u001b[0m \u001b[0mother\u001b[0m\u001b[0;34m,\u001b[0m \u001b[0maxis\u001b[0m\u001b[0;34m,\u001b[0m \u001b[0mlevel\u001b[0m\u001b[0;34m=\u001b[0m\u001b[0;32mNone\u001b[0m\u001b[0;34m,\u001b[0m \u001b[0mflex\u001b[0m\u001b[0;34m=\u001b[0m\u001b[0;32mFalse\u001b[0m\u001b[0;34m)\u001b[0m\u001b[0;34m\u001b[0m\u001b[0;34m\u001b[0m\u001b[0m\n\u001b[0m\u001b[1;32m    702\u001b[0m \u001b[0;34m\u001b[0m\u001b[0m\n\u001b[1;32m    703\u001b[0m         \u001b[0;31m# See GH#4537 for discussion of scalar op behavior\u001b[0m\u001b[0;34m\u001b[0m\u001b[0;34m\u001b[0m\u001b[0;34m\u001b[0m\u001b[0m\n",
      "\u001b[0;32m~/opt/anaconda3/lib/python3.8/site-packages/pandas/core/ops/__init__.py\u001b[0m in \u001b[0;36m_align_method_FRAME\u001b[0;34m(left, right, axis, flex, level)\u001b[0m\n\u001b[1;32m    508\u001b[0m                 \u001b[0mleft\u001b[0m\u001b[0;34m,\u001b[0m \u001b[0mright\u001b[0m \u001b[0;34m=\u001b[0m \u001b[0mleft\u001b[0m\u001b[0;34m.\u001b[0m\u001b[0malign\u001b[0m\u001b[0;34m(\u001b[0m\u001b[0mright\u001b[0m\u001b[0;34m,\u001b[0m \u001b[0mjoin\u001b[0m\u001b[0;34m=\u001b[0m\u001b[0;34m\"outer\"\u001b[0m\u001b[0;34m,\u001b[0m \u001b[0mlevel\u001b[0m\u001b[0;34m=\u001b[0m\u001b[0mlevel\u001b[0m\u001b[0;34m,\u001b[0m \u001b[0mcopy\u001b[0m\u001b[0;34m=\u001b[0m\u001b[0;32mFalse\u001b[0m\u001b[0;34m)\u001b[0m\u001b[0;34m\u001b[0m\u001b[0;34m\u001b[0m\u001b[0m\n\u001b[1;32m    509\u001b[0m             \u001b[0;32melse\u001b[0m\u001b[0;34m:\u001b[0m\u001b[0;34m\u001b[0m\u001b[0;34m\u001b[0m\u001b[0m\n\u001b[0;32m--> 510\u001b[0;31m                 raise ValueError(\n\u001b[0m\u001b[1;32m    511\u001b[0m                     \u001b[0;34m\"Can only compare identically-labeled DataFrame objects\"\u001b[0m\u001b[0;34m\u001b[0m\u001b[0;34m\u001b[0m\u001b[0m\n\u001b[1;32m    512\u001b[0m                 )\n",
      "\u001b[0;31mValueError\u001b[0m: Can only compare identically-labeled DataFrame objects"
     ]
    }
   ],
   "source": [
    "median = pd.crosstab(\n",
    "    index=[household['category'], household['format']],\n",
    "    columns='median_unit_price', \n",
    "    values=household['unit_price'],\n",
    "    aggfunc='median'\n",
    ")\n",
    "\n",
    "mean.compare(median, keep_equal=True, keep_shape=True)\n",
    "\n",
    "\n",
    "# combine = pd.concat([mean.set_index('format'), median.set_index('format')], \n",
    "#                    axis='columns', keys=['mean', 'median'])\n",
    "\n",
    "# combine"
   ]
  },
  {
   "cell_type": "markdown",
   "metadata": {},
   "source": [
    "📝 Notes on mean and median:\n",
    "\n",
    "- Both are measures of central tendency\n",
    "- Mean = average values of data, Median = middle value (50%) of data\n",
    "- Median is prefered when the data is skewed (contains extremely large values)"
   ]
  },
  {
   "cell_type": "markdown",
   "metadata": {},
   "source": [
    "<b id='q6'>Business Question 6</b>\n",
    "\n",
    "Construct an aggregation table to show the sum of `quantity` across each product `category` and `format`. Find out how many percentages of **Rice** is sold in **hypermarket**?\n",
    "\n",
    "Note: Don't forget we can use parameter `margins` and `normalize` too."
   ]
  },
  {
   "cell_type": "code",
   "execution_count": 393,
   "metadata": {},
   "outputs": [
    {
     "data": {
      "text/html": [
       "<div>\n",
       "<style scoped>\n",
       "    .dataframe tbody tr th:only-of-type {\n",
       "        vertical-align: middle;\n",
       "    }\n",
       "\n",
       "    .dataframe tbody tr th {\n",
       "        vertical-align: top;\n",
       "    }\n",
       "\n",
       "    .dataframe thead th {\n",
       "        text-align: right;\n",
       "    }\n",
       "</style>\n",
       "<table border=\"1\" class=\"dataframe\">\n",
       "  <thead>\n",
       "    <tr style=\"text-align: right;\">\n",
       "      <th></th>\n",
       "      <th>col_0</th>\n",
       "      <th>sum unit</th>\n",
       "      <th>All</th>\n",
       "    </tr>\n",
       "    <tr>\n",
       "      <th>category</th>\n",
       "      <th>format</th>\n",
       "      <th></th>\n",
       "      <th></th>\n",
       "    </tr>\n",
       "  </thead>\n",
       "  <tbody>\n",
       "    <tr>\n",
       "      <th rowspan=\"3\" valign=\"top\">Rice</th>\n",
       "      <th>hypermarket</th>\n",
       "      <td>3.978835</td>\n",
       "      <td>3.978835</td>\n",
       "    </tr>\n",
       "    <tr>\n",
       "      <th>minimarket</th>\n",
       "      <td>26.616662</td>\n",
       "      <td>26.616662</td>\n",
       "    </tr>\n",
       "    <tr>\n",
       "      <th>supermarket</th>\n",
       "      <td>16.398030</td>\n",
       "      <td>16.398030</td>\n",
       "    </tr>\n",
       "  </tbody>\n",
       "</table>\n",
       "</div>"
      ],
      "text/plain": [
       "col_0                  sum unit        All\n",
       "category format                           \n",
       "Rice     hypermarket   3.978835   3.978835\n",
       "         minimarket   26.616662  26.616662\n",
       "         supermarket  16.398030  16.398030"
      ]
     },
     "execution_count": 393,
     "metadata": {},
     "output_type": "execute_result"
    }
   ],
   "source": [
    "haha = pd.crosstab(\n",
    "    index=[household['category'], household['format']],\n",
    "    columns='sum unit', \n",
    "    values=household['unit_price'],\n",
    "    aggfunc='sum',\n",
    "    margins=True,\n",
    "    normalize='columns'\n",
    ")*100\n",
    "\n",
    "haha.loc[['Rice']] "
   ]
  },
  {
   "cell_type": "markdown",
   "metadata": {},
   "source": [
    "## Knowledge Check: Aggregation Table\n",
    "\n",
    "_Estimated time required: 20 minutes_"
   ]
  },
  {
   "cell_type": "markdown",
   "metadata": {},
   "source": [
    "1. Create a cross-tab showing the median of `unit_price` across each `sub_category` and `format`. Add a subtotal to both the row and column. Answer the following questions:\n",
    "\n",
    "    - Overall by median, Sugar is cheapest at ...\n",
    "    - Overall by median, Detergent is most expensive at ..."
   ]
  },
  {
   "cell_type": "code",
   "execution_count": 430,
   "metadata": {},
   "outputs": [
    {
     "data": {
      "text/html": [
       "<div>\n",
       "<style scoped>\n",
       "    .dataframe tbody tr th:only-of-type {\n",
       "        vertical-align: middle;\n",
       "    }\n",
       "\n",
       "    .dataframe tbody tr th {\n",
       "        vertical-align: top;\n",
       "    }\n",
       "\n",
       "    .dataframe thead th {\n",
       "        text-align: right;\n",
       "    }\n",
       "</style>\n",
       "<table border=\"1\" class=\"dataframe\">\n",
       "  <thead>\n",
       "    <tr style=\"text-align: right;\">\n",
       "      <th></th>\n",
       "      <th>col_0</th>\n",
       "      <th>Median</th>\n",
       "    </tr>\n",
       "    <tr>\n",
       "      <th>sub_category</th>\n",
       "      <th>format</th>\n",
       "      <th></th>\n",
       "    </tr>\n",
       "  </thead>\n",
       "  <tbody>\n",
       "    <tr>\n",
       "      <th>Sugar</th>\n",
       "      <th>hypermarket</th>\n",
       "      <td>12250.0</td>\n",
       "    </tr>\n",
       "  </tbody>\n",
       "</table>\n",
       "</div>"
      ],
      "text/plain": [
       "col_0                      Median\n",
       "sub_category format              \n",
       "Sugar        hypermarket  12250.0"
      ]
     },
     "execution_count": 430,
     "metadata": {},
     "output_type": "execute_result"
    }
   ],
   "source": [
    "# your code here\n",
    "k1 = pd.crosstab(\n",
    "    index=[household['sub_category'], household['format']],\n",
    "    values=household['unit_price'],\n",
    "    columns='Median',\n",
    "    aggfunc='median'\n",
    ")\n",
    "\n",
    "k1.loc[['Sugar']].sort_values(by='format', ascending=True).head(1)"
   ]
  },
  {
   "cell_type": "markdown",
   "metadata": {},
   "source": [
    "2. In which `quarterly` do the hypermarket achieve its highest total sales (sum of `subtotal`)?. **Hint**: Create a new column `subtotal` which calculate the total price of each item in a transaction by multiplying the `unit_price` with the `quantity`.\n",
    "\n",
    "\n",
    "<!--\n",
    "# float formatting, round to 3 decimal places\n",
    "pd.options.display.float_format = '{:.3f}'.format\n",
    "-->"
   ]
  },
  {
   "cell_type": "code",
   "execution_count": 478,
   "metadata": {},
   "outputs": [
    {
     "data": {
      "text/html": [
       "<div>\n",
       "<style scoped>\n",
       "    .dataframe tbody tr th:only-of-type {\n",
       "        vertical-align: middle;\n",
       "    }\n",
       "\n",
       "    .dataframe tbody tr th {\n",
       "        vertical-align: top;\n",
       "    }\n",
       "\n",
       "    .dataframe thead th {\n",
       "        text-align: right;\n",
       "    }\n",
       "</style>\n",
       "<table border=\"1\" class=\"dataframe\">\n",
       "  <thead>\n",
       "    <tr style=\"text-align: right;\">\n",
       "      <th></th>\n",
       "      <th>col_0</th>\n",
       "      <th>Sum total wkwkkwwk</th>\n",
       "    </tr>\n",
       "    <tr>\n",
       "      <th>format</th>\n",
       "      <th>quarter</th>\n",
       "      <th></th>\n",
       "    </tr>\n",
       "  </thead>\n",
       "  <tbody>\n",
       "    <tr>\n",
       "      <th>hypermarket</th>\n",
       "      <th>2018Q1</th>\n",
       "      <td>61795966.99</td>\n",
       "    </tr>\n",
       "  </tbody>\n",
       "</table>\n",
       "</div>"
      ],
      "text/plain": [
       "col_0                Sum total wkwkkwwk\n",
       "format      quarter                    \n",
       "hypermarket 2018Q1          61795966.99"
      ]
     },
     "execution_count": 478,
     "metadata": {},
     "output_type": "execute_result"
    }
   ],
   "source": [
    "# your code here\n",
    "household['quarter'] = household['purchase_time'].dt.to_period('Q')\n",
    "household['subtotal'] = household['unit_price'] * household['quantity']\n",
    "\n",
    "k2 = pd.crosstab(\n",
    "    index=[household['format'], household['quarter']],\n",
    "    values=household['subtotal'],\n",
    "    columns='Sum total',\n",
    "    aggfunc='sum'\n",
    ").sort_values(by='format', ascending=False)\n",
    "\n",
    "k2.loc[['hypermarket']].sort_values(by='Sum total', ascending=False).head(1)"
   ]
  },
  {
   "cell_type": "markdown",
   "metadata": {},
   "source": [
    "💭 **Bonus challenge:**\n",
    "\n",
    "Produce a cross-tabulation table where we calculate the sum of `quantity` using:\n",
    "\n",
    "- `quarterly` and `weekday` as the `index`\n",
    "- `format` and `category` as the `columns`\n",
    "\n",
    "Note: this will return a Multi-Index DataFrame."
   ]
  },
  {
   "cell_type": "code",
   "execution_count": 453,
   "metadata": {},
   "outputs": [
    {
     "data": {
      "text/html": [
       "<div>\n",
       "<style scoped>\n",
       "    .dataframe tbody tr th:only-of-type {\n",
       "        vertical-align: middle;\n",
       "    }\n",
       "\n",
       "    .dataframe tbody tr th {\n",
       "        vertical-align: top;\n",
       "    }\n",
       "\n",
       "    .dataframe thead tr th {\n",
       "        text-align: left;\n",
       "    }\n",
       "\n",
       "    .dataframe thead tr:last-of-type th {\n",
       "        text-align: right;\n",
       "    }\n",
       "</style>\n",
       "<table border=\"1\" class=\"dataframe\">\n",
       "  <thead>\n",
       "    <tr>\n",
       "      <th></th>\n",
       "      <th>format</th>\n",
       "      <th colspan=\"3\" halign=\"left\">hypermarket</th>\n",
       "      <th colspan=\"3\" halign=\"left\">minimarket</th>\n",
       "      <th colspan=\"3\" halign=\"left\">supermarket</th>\n",
       "    </tr>\n",
       "    <tr>\n",
       "      <th></th>\n",
       "      <th>category</th>\n",
       "      <th>Fabric Care</th>\n",
       "      <th>Rice</th>\n",
       "      <th>Sugar/Flavored Syrup</th>\n",
       "      <th>Fabric Care</th>\n",
       "      <th>Rice</th>\n",
       "      <th>Sugar/Flavored Syrup</th>\n",
       "      <th>Fabric Care</th>\n",
       "      <th>Rice</th>\n",
       "      <th>Sugar/Flavored Syrup</th>\n",
       "    </tr>\n",
       "    <tr>\n",
       "      <th>quarter</th>\n",
       "      <th>weekday</th>\n",
       "      <th></th>\n",
       "      <th></th>\n",
       "      <th></th>\n",
       "      <th></th>\n",
       "      <th></th>\n",
       "      <th></th>\n",
       "      <th></th>\n",
       "      <th></th>\n",
       "      <th></th>\n",
       "    </tr>\n",
       "  </thead>\n",
       "  <tbody>\n",
       "    <tr>\n",
       "      <th rowspan=\"7\" valign=\"top\">2017Q4</th>\n",
       "      <th>Monday</th>\n",
       "      <td>59</td>\n",
       "      <td>20</td>\n",
       "      <td>50</td>\n",
       "      <td>733</td>\n",
       "      <td>233</td>\n",
       "      <td>510</td>\n",
       "      <td>266</td>\n",
       "      <td>114</td>\n",
       "      <td>213</td>\n",
       "    </tr>\n",
       "    <tr>\n",
       "      <th>Tuesday</th>\n",
       "      <td>69</td>\n",
       "      <td>20</td>\n",
       "      <td>54</td>\n",
       "      <td>765</td>\n",
       "      <td>221</td>\n",
       "      <td>545</td>\n",
       "      <td>267</td>\n",
       "      <td>131</td>\n",
       "      <td>255</td>\n",
       "    </tr>\n",
       "    <tr>\n",
       "      <th>Wednesday</th>\n",
       "      <td>63</td>\n",
       "      <td>21</td>\n",
       "      <td>49</td>\n",
       "      <td>843</td>\n",
       "      <td>205</td>\n",
       "      <td>522</td>\n",
       "      <td>232</td>\n",
       "      <td>108</td>\n",
       "      <td>240</td>\n",
       "    </tr>\n",
       "    <tr>\n",
       "      <th>Thursday</th>\n",
       "      <td>57</td>\n",
       "      <td>19</td>\n",
       "      <td>49</td>\n",
       "      <td>754</td>\n",
       "      <td>225</td>\n",
       "      <td>517</td>\n",
       "      <td>275</td>\n",
       "      <td>127</td>\n",
       "      <td>238</td>\n",
       "    </tr>\n",
       "    <tr>\n",
       "      <th>Friday</th>\n",
       "      <td>109</td>\n",
       "      <td>32</td>\n",
       "      <td>75</td>\n",
       "      <td>955</td>\n",
       "      <td>245</td>\n",
       "      <td>530</td>\n",
       "      <td>336</td>\n",
       "      <td>133</td>\n",
       "      <td>225</td>\n",
       "    </tr>\n",
       "    <tr>\n",
       "      <th>Saturday</th>\n",
       "      <td>128</td>\n",
       "      <td>42</td>\n",
       "      <td>76</td>\n",
       "      <td>1041</td>\n",
       "      <td>280</td>\n",
       "      <td>531</td>\n",
       "      <td>362</td>\n",
       "      <td>187</td>\n",
       "      <td>276</td>\n",
       "    </tr>\n",
       "    <tr>\n",
       "      <th>Sunday</th>\n",
       "      <td>152</td>\n",
       "      <td>71</td>\n",
       "      <td>100</td>\n",
       "      <td>1098</td>\n",
       "      <td>355</td>\n",
       "      <td>641</td>\n",
       "      <td>436</td>\n",
       "      <td>211</td>\n",
       "      <td>304</td>\n",
       "    </tr>\n",
       "    <tr>\n",
       "      <th rowspan=\"7\" valign=\"top\">2018Q1</th>\n",
       "      <th>Monday</th>\n",
       "      <td>67</td>\n",
       "      <td>28</td>\n",
       "      <td>55</td>\n",
       "      <td>704</td>\n",
       "      <td>233</td>\n",
       "      <td>510</td>\n",
       "      <td>244</td>\n",
       "      <td>128</td>\n",
       "      <td>221</td>\n",
       "    </tr>\n",
       "    <tr>\n",
       "      <th>Tuesday</th>\n",
       "      <td>67</td>\n",
       "      <td>29</td>\n",
       "      <td>55</td>\n",
       "      <td>772</td>\n",
       "      <td>269</td>\n",
       "      <td>489</td>\n",
       "      <td>286</td>\n",
       "      <td>134</td>\n",
       "      <td>230</td>\n",
       "    </tr>\n",
       "    <tr>\n",
       "      <th>Wednesday</th>\n",
       "      <td>63</td>\n",
       "      <td>24</td>\n",
       "      <td>63</td>\n",
       "      <td>787</td>\n",
       "      <td>239</td>\n",
       "      <td>456</td>\n",
       "      <td>274</td>\n",
       "      <td>106</td>\n",
       "      <td>228</td>\n",
       "    </tr>\n",
       "    <tr>\n",
       "      <th>Thursday</th>\n",
       "      <td>63</td>\n",
       "      <td>33</td>\n",
       "      <td>58</td>\n",
       "      <td>783</td>\n",
       "      <td>226</td>\n",
       "      <td>529</td>\n",
       "      <td>276</td>\n",
       "      <td>159</td>\n",
       "      <td>236</td>\n",
       "    </tr>\n",
       "    <tr>\n",
       "      <th>Friday</th>\n",
       "      <td>102</td>\n",
       "      <td>57</td>\n",
       "      <td>62</td>\n",
       "      <td>1016</td>\n",
       "      <td>231</td>\n",
       "      <td>501</td>\n",
       "      <td>390</td>\n",
       "      <td>141</td>\n",
       "      <td>300</td>\n",
       "    </tr>\n",
       "    <tr>\n",
       "      <th>Saturday</th>\n",
       "      <td>170</td>\n",
       "      <td>52</td>\n",
       "      <td>96</td>\n",
       "      <td>942</td>\n",
       "      <td>272</td>\n",
       "      <td>575</td>\n",
       "      <td>458</td>\n",
       "      <td>151</td>\n",
       "      <td>349</td>\n",
       "    </tr>\n",
       "    <tr>\n",
       "      <th>Sunday</th>\n",
       "      <td>158</td>\n",
       "      <td>59</td>\n",
       "      <td>122</td>\n",
       "      <td>932</td>\n",
       "      <td>235</td>\n",
       "      <td>544</td>\n",
       "      <td>446</td>\n",
       "      <td>194</td>\n",
       "      <td>321</td>\n",
       "    </tr>\n",
       "    <tr>\n",
       "      <th rowspan=\"7\" valign=\"top\">2018Q2</th>\n",
       "      <th>Monday</th>\n",
       "      <td>64</td>\n",
       "      <td>27</td>\n",
       "      <td>53</td>\n",
       "      <td>717</td>\n",
       "      <td>221</td>\n",
       "      <td>525</td>\n",
       "      <td>320</td>\n",
       "      <td>111</td>\n",
       "      <td>240</td>\n",
       "    </tr>\n",
       "    <tr>\n",
       "      <th>Tuesday</th>\n",
       "      <td>83</td>\n",
       "      <td>22</td>\n",
       "      <td>55</td>\n",
       "      <td>789</td>\n",
       "      <td>285</td>\n",
       "      <td>536</td>\n",
       "      <td>318</td>\n",
       "      <td>139</td>\n",
       "      <td>232</td>\n",
       "    </tr>\n",
       "    <tr>\n",
       "      <th>Wednesday</th>\n",
       "      <td>69</td>\n",
       "      <td>27</td>\n",
       "      <td>57</td>\n",
       "      <td>740</td>\n",
       "      <td>243</td>\n",
       "      <td>550</td>\n",
       "      <td>276</td>\n",
       "      <td>124</td>\n",
       "      <td>200</td>\n",
       "    </tr>\n",
       "    <tr>\n",
       "      <th>Thursday</th>\n",
       "      <td>82</td>\n",
       "      <td>20</td>\n",
       "      <td>51</td>\n",
       "      <td>760</td>\n",
       "      <td>246</td>\n",
       "      <td>560</td>\n",
       "      <td>280</td>\n",
       "      <td>138</td>\n",
       "      <td>206</td>\n",
       "    </tr>\n",
       "    <tr>\n",
       "      <th>Friday</th>\n",
       "      <td>76</td>\n",
       "      <td>30</td>\n",
       "      <td>66</td>\n",
       "      <td>942</td>\n",
       "      <td>239</td>\n",
       "      <td>528</td>\n",
       "      <td>382</td>\n",
       "      <td>130</td>\n",
       "      <td>235</td>\n",
       "    </tr>\n",
       "    <tr>\n",
       "      <th>Saturday</th>\n",
       "      <td>128</td>\n",
       "      <td>47</td>\n",
       "      <td>74</td>\n",
       "      <td>993</td>\n",
       "      <td>257</td>\n",
       "      <td>602</td>\n",
       "      <td>420</td>\n",
       "      <td>155</td>\n",
       "      <td>278</td>\n",
       "    </tr>\n",
       "    <tr>\n",
       "      <th>Sunday</th>\n",
       "      <td>140</td>\n",
       "      <td>69</td>\n",
       "      <td>81</td>\n",
       "      <td>970</td>\n",
       "      <td>294</td>\n",
       "      <td>565</td>\n",
       "      <td>451</td>\n",
       "      <td>176</td>\n",
       "      <td>306</td>\n",
       "    </tr>\n",
       "    <tr>\n",
       "      <th rowspan=\"7\" valign=\"top\">2018Q3</th>\n",
       "      <th>Monday</th>\n",
       "      <td>74</td>\n",
       "      <td>36</td>\n",
       "      <td>40</td>\n",
       "      <td>849</td>\n",
       "      <td>271</td>\n",
       "      <td>538</td>\n",
       "      <td>240</td>\n",
       "      <td>129</td>\n",
       "      <td>207</td>\n",
       "    </tr>\n",
       "    <tr>\n",
       "      <th>Tuesday</th>\n",
       "      <td>72</td>\n",
       "      <td>23</td>\n",
       "      <td>51</td>\n",
       "      <td>782</td>\n",
       "      <td>236</td>\n",
       "      <td>580</td>\n",
       "      <td>252</td>\n",
       "      <td>112</td>\n",
       "      <td>202</td>\n",
       "    </tr>\n",
       "    <tr>\n",
       "      <th>Wednesday</th>\n",
       "      <td>61</td>\n",
       "      <td>30</td>\n",
       "      <td>47</td>\n",
       "      <td>856</td>\n",
       "      <td>247</td>\n",
       "      <td>557</td>\n",
       "      <td>281</td>\n",
       "      <td>107</td>\n",
       "      <td>211</td>\n",
       "    </tr>\n",
       "    <tr>\n",
       "      <th>Thursday</th>\n",
       "      <td>64</td>\n",
       "      <td>28</td>\n",
       "      <td>47</td>\n",
       "      <td>730</td>\n",
       "      <td>205</td>\n",
       "      <td>598</td>\n",
       "      <td>196</td>\n",
       "      <td>126</td>\n",
       "      <td>177</td>\n",
       "    </tr>\n",
       "    <tr>\n",
       "      <th>Friday</th>\n",
       "      <td>111</td>\n",
       "      <td>35</td>\n",
       "      <td>47</td>\n",
       "      <td>971</td>\n",
       "      <td>258</td>\n",
       "      <td>588</td>\n",
       "      <td>358</td>\n",
       "      <td>115</td>\n",
       "      <td>227</td>\n",
       "    </tr>\n",
       "    <tr>\n",
       "      <th>Saturday</th>\n",
       "      <td>112</td>\n",
       "      <td>34</td>\n",
       "      <td>57</td>\n",
       "      <td>1024</td>\n",
       "      <td>291</td>\n",
       "      <td>603</td>\n",
       "      <td>369</td>\n",
       "      <td>147</td>\n",
       "      <td>249</td>\n",
       "    </tr>\n",
       "    <tr>\n",
       "      <th>Sunday</th>\n",
       "      <td>148</td>\n",
       "      <td>64</td>\n",
       "      <td>71</td>\n",
       "      <td>1097</td>\n",
       "      <td>326</td>\n",
       "      <td>640</td>\n",
       "      <td>353</td>\n",
       "      <td>180</td>\n",
       "      <td>263</td>\n",
       "    </tr>\n",
       "  </tbody>\n",
       "</table>\n",
       "</div>"
      ],
      "text/plain": [
       "format            hypermarket                            minimarket       \\\n",
       "category          Fabric Care Rice Sugar/Flavored Syrup Fabric Care Rice   \n",
       "quarter weekday                                                            \n",
       "2017Q4  Monday             59   20                   50         733  233   \n",
       "        Tuesday            69   20                   54         765  221   \n",
       "        Wednesday          63   21                   49         843  205   \n",
       "        Thursday           57   19                   49         754  225   \n",
       "        Friday            109   32                   75         955  245   \n",
       "        Saturday          128   42                   76        1041  280   \n",
       "        Sunday            152   71                  100        1098  355   \n",
       "2018Q1  Monday             67   28                   55         704  233   \n",
       "        Tuesday            67   29                   55         772  269   \n",
       "        Wednesday          63   24                   63         787  239   \n",
       "        Thursday           63   33                   58         783  226   \n",
       "        Friday            102   57                   62        1016  231   \n",
       "        Saturday          170   52                   96         942  272   \n",
       "        Sunday            158   59                  122         932  235   \n",
       "2018Q2  Monday             64   27                   53         717  221   \n",
       "        Tuesday            83   22                   55         789  285   \n",
       "        Wednesday          69   27                   57         740  243   \n",
       "        Thursday           82   20                   51         760  246   \n",
       "        Friday             76   30                   66         942  239   \n",
       "        Saturday          128   47                   74         993  257   \n",
       "        Sunday            140   69                   81         970  294   \n",
       "2018Q3  Monday             74   36                   40         849  271   \n",
       "        Tuesday            72   23                   51         782  236   \n",
       "        Wednesday          61   30                   47         856  247   \n",
       "        Thursday           64   28                   47         730  205   \n",
       "        Friday            111   35                   47         971  258   \n",
       "        Saturday          112   34                   57        1024  291   \n",
       "        Sunday            148   64                   71        1097  326   \n",
       "\n",
       "format                                 supermarket                            \n",
       "category          Sugar/Flavored Syrup Fabric Care Rice Sugar/Flavored Syrup  \n",
       "quarter weekday                                                               \n",
       "2017Q4  Monday                     510         266  114                  213  \n",
       "        Tuesday                    545         267  131                  255  \n",
       "        Wednesday                  522         232  108                  240  \n",
       "        Thursday                   517         275  127                  238  \n",
       "        Friday                     530         336  133                  225  \n",
       "        Saturday                   531         362  187                  276  \n",
       "        Sunday                     641         436  211                  304  \n",
       "2018Q1  Monday                     510         244  128                  221  \n",
       "        Tuesday                    489         286  134                  230  \n",
       "        Wednesday                  456         274  106                  228  \n",
       "        Thursday                   529         276  159                  236  \n",
       "        Friday                     501         390  141                  300  \n",
       "        Saturday                   575         458  151                  349  \n",
       "        Sunday                     544         446  194                  321  \n",
       "2018Q2  Monday                     525         320  111                  240  \n",
       "        Tuesday                    536         318  139                  232  \n",
       "        Wednesday                  550         276  124                  200  \n",
       "        Thursday                   560         280  138                  206  \n",
       "        Friday                     528         382  130                  235  \n",
       "        Saturday                   602         420  155                  278  \n",
       "        Sunday                     565         451  176                  306  \n",
       "2018Q3  Monday                     538         240  129                  207  \n",
       "        Tuesday                    580         252  112                  202  \n",
       "        Wednesday                  557         281  107                  211  \n",
       "        Thursday                   598         196  126                  177  \n",
       "        Friday                     588         358  115                  227  \n",
       "        Saturday                   603         369  147                  249  \n",
       "        Sunday                     640         353  180                  263  "
      ]
     },
     "execution_count": 453,
     "metadata": {},
     "output_type": "execute_result"
    }
   ],
   "source": [
    "pd.crosstab(\n",
    "    index=[household['quarter'], household['weekday']],\n",
    "    columns=[household['format'], household['category']],\n",
    ")"
   ]
  },
  {
   "cell_type": "markdown",
   "metadata": {},
   "source": [
    "## Pivot Table"
   ]
  },
  {
   "cell_type": "markdown",
   "metadata": {},
   "source": [
    "Actually if our data is already a `DataFrame` object, using `pd.pivot_table()` can be more convenient compared to a `pd.crosstab()`.\n",
    "\n",
    "Parameters:\n",
    "\n",
    "- `data`: the `DataFrame` object (**not available in `pd.crosstab()`**)\n",
    "- `index`: the column to be used as rows\n",
    "- `columns`: the column to be used as columns\n",
    "- `values`: the values used to fill in the table\n",
    "- `aggfunc`: the aggregation function (**default: 'mean'**)\n",
    "\n",
    "Syntax:\n",
    "\n",
    "```\n",
    "pd.pivot_table(\n",
    "    data=...,\n",
    "    index=...,\n",
    "    columns=...,\n",
    "    values=...,\n",
    "    aggfunc=...\n",
    ")\n",
    "```\n",
    "\n",
    "OR\n",
    "\n",
    "```\n",
    "data.pivot_table(\n",
    "    index=...,\n",
    "    columns=...,\n",
    "    values=...,\n",
    "    aggfunc=...\n",
    ")\n",
    "```"
   ]
  },
  {
   "cell_type": "markdown",
   "metadata": {},
   "source": [
    "Let's compare between `pivot_table` and `crosstab`. Consider the following aggregation table created using `crosstab`:"
   ]
  },
  {
   "cell_type": "code",
   "execution_count": 457,
   "metadata": {},
   "outputs": [
    {
     "data": {
      "text/html": [
       "<div>\n",
       "<style scoped>\n",
       "    .dataframe tbody tr th:only-of-type {\n",
       "        vertical-align: middle;\n",
       "    }\n",
       "\n",
       "    .dataframe tbody tr th {\n",
       "        vertical-align: top;\n",
       "    }\n",
       "\n",
       "    .dataframe thead tr th {\n",
       "        text-align: left;\n",
       "    }\n",
       "\n",
       "    .dataframe thead tr:last-of-type th {\n",
       "        text-align: right;\n",
       "    }\n",
       "</style>\n",
       "<table border=\"1\" class=\"dataframe\">\n",
       "  <thead>\n",
       "    <tr>\n",
       "      <th>format</th>\n",
       "      <th colspan=\"3\" halign=\"left\">hypermarket</th>\n",
       "      <th colspan=\"3\" halign=\"left\">minimarket</th>\n",
       "      <th colspan=\"3\" halign=\"left\">supermarket</th>\n",
       "    </tr>\n",
       "    <tr>\n",
       "      <th>sub_category</th>\n",
       "      <th>Detergent</th>\n",
       "      <th>Rice</th>\n",
       "      <th>Sugar</th>\n",
       "      <th>Detergent</th>\n",
       "      <th>Rice</th>\n",
       "      <th>Sugar</th>\n",
       "      <th>Detergent</th>\n",
       "      <th>Rice</th>\n",
       "      <th>Sugar</th>\n",
       "    </tr>\n",
       "    <tr>\n",
       "      <th>weekday</th>\n",
       "      <th></th>\n",
       "      <th></th>\n",
       "      <th></th>\n",
       "      <th></th>\n",
       "      <th></th>\n",
       "      <th></th>\n",
       "      <th></th>\n",
       "      <th></th>\n",
       "      <th></th>\n",
       "    </tr>\n",
       "  </thead>\n",
       "  <tbody>\n",
       "    <tr>\n",
       "      <th>Monday</th>\n",
       "      <td>19138.560606</td>\n",
       "      <td>66298.693694</td>\n",
       "      <td>13358.891903</td>\n",
       "      <td>17560.317294</td>\n",
       "      <td>68546.853862</td>\n",
       "      <td>12457.940470</td>\n",
       "      <td>18133.631542</td>\n",
       "      <td>73603.415629</td>\n",
       "      <td>13024.603859</td>\n",
       "    </tr>\n",
       "    <tr>\n",
       "      <th>Tuesday</th>\n",
       "      <td>19389.388316</td>\n",
       "      <td>74470.872340</td>\n",
       "      <td>13794.590698</td>\n",
       "      <td>17901.031532</td>\n",
       "      <td>68448.321464</td>\n",
       "      <td>12286.595116</td>\n",
       "      <td>17944.182547</td>\n",
       "      <td>73134.498062</td>\n",
       "      <td>13436.082699</td>\n",
       "    </tr>\n",
       "    <tr>\n",
       "      <th>Wednesday</th>\n",
       "      <td>19372.105469</td>\n",
       "      <td>68216.509804</td>\n",
       "      <td>13234.430556</td>\n",
       "      <td>17809.980058</td>\n",
       "      <td>66220.127409</td>\n",
       "      <td>12255.598561</td>\n",
       "      <td>17797.291157</td>\n",
       "      <td>71961.800562</td>\n",
       "      <td>13234.805461</td>\n",
       "    </tr>\n",
       "    <tr>\n",
       "      <th>Thursday</th>\n",
       "      <td>19879.209774</td>\n",
       "      <td>68319.880000</td>\n",
       "      <td>13324.351220</td>\n",
       "      <td>17987.282458</td>\n",
       "      <td>67578.548780</td>\n",
       "      <td>12511.782441</td>\n",
       "      <td>17906.231623</td>\n",
       "      <td>75706.441218</td>\n",
       "      <td>12694.992999</td>\n",
       "    </tr>\n",
       "    <tr>\n",
       "      <th>Friday</th>\n",
       "      <td>18891.041457</td>\n",
       "      <td>73596.727273</td>\n",
       "      <td>12885.248000</td>\n",
       "      <td>17694.003432</td>\n",
       "      <td>65973.959918</td>\n",
       "      <td>12249.178311</td>\n",
       "      <td>17535.585915</td>\n",
       "      <td>77468.788054</td>\n",
       "      <td>12982.341464</td>\n",
       "    </tr>\n",
       "    <tr>\n",
       "      <th>Saturday</th>\n",
       "      <td>19970.335818</td>\n",
       "      <td>72381.885714</td>\n",
       "      <td>13939.891089</td>\n",
       "      <td>17747.660396</td>\n",
       "      <td>66611.120909</td>\n",
       "      <td>12313.932787</td>\n",
       "      <td>17773.888751</td>\n",
       "      <td>74740.144531</td>\n",
       "      <td>13001.971354</td>\n",
       "    </tr>\n",
       "    <tr>\n",
       "      <th>Sunday</th>\n",
       "      <td>18831.241756</td>\n",
       "      <td>72182.653992</td>\n",
       "      <td>13897.502674</td>\n",
       "      <td>17649.690262</td>\n",
       "      <td>66708.621488</td>\n",
       "      <td>12385.304045</td>\n",
       "      <td>17939.162317</td>\n",
       "      <td>76545.073587</td>\n",
       "      <td>13114.061792</td>\n",
       "    </tr>\n",
       "  </tbody>\n",
       "</table>\n",
       "</div>"
      ],
      "text/plain": [
       "format         hypermarket                                minimarket  \\\n",
       "sub_category     Detergent          Rice         Sugar     Detergent   \n",
       "weekday                                                                \n",
       "Monday        19138.560606  66298.693694  13358.891903  17560.317294   \n",
       "Tuesday       19389.388316  74470.872340  13794.590698  17901.031532   \n",
       "Wednesday     19372.105469  68216.509804  13234.430556  17809.980058   \n",
       "Thursday      19879.209774  68319.880000  13324.351220  17987.282458   \n",
       "Friday        18891.041457  73596.727273  12885.248000  17694.003432   \n",
       "Saturday      19970.335818  72381.885714  13939.891089  17747.660396   \n",
       "Sunday        18831.241756  72182.653992  13897.502674  17649.690262   \n",
       "\n",
       "format                                     supermarket                \\\n",
       "sub_category          Rice         Sugar     Detergent          Rice   \n",
       "weekday                                                                \n",
       "Monday        68546.853862  12457.940470  18133.631542  73603.415629   \n",
       "Tuesday       68448.321464  12286.595116  17944.182547  73134.498062   \n",
       "Wednesday     66220.127409  12255.598561  17797.291157  71961.800562   \n",
       "Thursday      67578.548780  12511.782441  17906.231623  75706.441218   \n",
       "Friday        65973.959918  12249.178311  17535.585915  77468.788054   \n",
       "Saturday      66611.120909  12313.932787  17773.888751  74740.144531   \n",
       "Sunday        66708.621488  12385.304045  17939.162317  76545.073587   \n",
       "\n",
       "format                      \n",
       "sub_category         Sugar  \n",
       "weekday                     \n",
       "Monday        13024.603859  \n",
       "Tuesday       13436.082699  \n",
       "Wednesday     13234.805461  \n",
       "Thursday      12694.992999  \n",
       "Friday        12982.341464  \n",
       "Saturday      13001.971354  \n",
       "Sunday        13114.061792  "
      ]
     },
     "execution_count": 457,
     "metadata": {},
     "output_type": "execute_result"
    }
   ],
   "source": [
    "pd.crosstab(\n",
    "    index=household['weekday'], \n",
    "    columns=[household['format'], household['sub_category']], \n",
    "    values=household['unit_price'],\n",
    "    aggfunc='mean'\n",
    ")"
   ]
  },
  {
   "cell_type": "markdown",
   "metadata": {},
   "source": [
    "Let's re-create the table above with `pd.pivot_table()`.\n",
    "\n",
    "Note: Default `aggfunc='mean'`"
   ]
  },
  {
   "cell_type": "code",
   "execution_count": 455,
   "metadata": {},
   "outputs": [
    {
     "data": {
      "text/html": [
       "<div>\n",
       "<style scoped>\n",
       "    .dataframe tbody tr th:only-of-type {\n",
       "        vertical-align: middle;\n",
       "    }\n",
       "\n",
       "    .dataframe tbody tr th {\n",
       "        vertical-align: top;\n",
       "    }\n",
       "\n",
       "    .dataframe thead tr th {\n",
       "        text-align: left;\n",
       "    }\n",
       "\n",
       "    .dataframe thead tr:last-of-type th {\n",
       "        text-align: right;\n",
       "    }\n",
       "</style>\n",
       "<table border=\"1\" class=\"dataframe\">\n",
       "  <thead>\n",
       "    <tr>\n",
       "      <th>format</th>\n",
       "      <th colspan=\"3\" halign=\"left\">hypermarket</th>\n",
       "      <th colspan=\"3\" halign=\"left\">minimarket</th>\n",
       "      <th colspan=\"3\" halign=\"left\">supermarket</th>\n",
       "    </tr>\n",
       "    <tr>\n",
       "      <th>sub_category</th>\n",
       "      <th>Detergent</th>\n",
       "      <th>Rice</th>\n",
       "      <th>Sugar</th>\n",
       "      <th>Detergent</th>\n",
       "      <th>Rice</th>\n",
       "      <th>Sugar</th>\n",
       "      <th>Detergent</th>\n",
       "      <th>Rice</th>\n",
       "      <th>Sugar</th>\n",
       "    </tr>\n",
       "    <tr>\n",
       "      <th>weekday</th>\n",
       "      <th></th>\n",
       "      <th></th>\n",
       "      <th></th>\n",
       "      <th></th>\n",
       "      <th></th>\n",
       "      <th></th>\n",
       "      <th></th>\n",
       "      <th></th>\n",
       "      <th></th>\n",
       "    </tr>\n",
       "  </thead>\n",
       "  <tbody>\n",
       "    <tr>\n",
       "      <th>Monday</th>\n",
       "      <td>19138.560606</td>\n",
       "      <td>66298.693694</td>\n",
       "      <td>13358.891903</td>\n",
       "      <td>17560.317294</td>\n",
       "      <td>68546.853862</td>\n",
       "      <td>12457.940470</td>\n",
       "      <td>18133.631542</td>\n",
       "      <td>73603.415629</td>\n",
       "      <td>13024.603859</td>\n",
       "    </tr>\n",
       "    <tr>\n",
       "      <th>Tuesday</th>\n",
       "      <td>19389.388316</td>\n",
       "      <td>74470.872340</td>\n",
       "      <td>13794.590698</td>\n",
       "      <td>17901.031532</td>\n",
       "      <td>68448.321464</td>\n",
       "      <td>12286.595116</td>\n",
       "      <td>17944.182547</td>\n",
       "      <td>73134.498062</td>\n",
       "      <td>13436.082699</td>\n",
       "    </tr>\n",
       "    <tr>\n",
       "      <th>Wednesday</th>\n",
       "      <td>19372.105469</td>\n",
       "      <td>68216.509804</td>\n",
       "      <td>13234.430556</td>\n",
       "      <td>17809.980058</td>\n",
       "      <td>66220.127409</td>\n",
       "      <td>12255.598561</td>\n",
       "      <td>17797.291157</td>\n",
       "      <td>71961.800562</td>\n",
       "      <td>13234.805461</td>\n",
       "    </tr>\n",
       "    <tr>\n",
       "      <th>Thursday</th>\n",
       "      <td>19879.209774</td>\n",
       "      <td>68319.880000</td>\n",
       "      <td>13324.351220</td>\n",
       "      <td>17987.282458</td>\n",
       "      <td>67578.548780</td>\n",
       "      <td>12511.782441</td>\n",
       "      <td>17906.231623</td>\n",
       "      <td>75706.441218</td>\n",
       "      <td>12694.992999</td>\n",
       "    </tr>\n",
       "    <tr>\n",
       "      <th>Friday</th>\n",
       "      <td>18891.041457</td>\n",
       "      <td>73596.727273</td>\n",
       "      <td>12885.248000</td>\n",
       "      <td>17694.003432</td>\n",
       "      <td>65973.959918</td>\n",
       "      <td>12249.178311</td>\n",
       "      <td>17535.585915</td>\n",
       "      <td>77468.788054</td>\n",
       "      <td>12982.341464</td>\n",
       "    </tr>\n",
       "    <tr>\n",
       "      <th>Saturday</th>\n",
       "      <td>19970.335818</td>\n",
       "      <td>72381.885714</td>\n",
       "      <td>13939.891089</td>\n",
       "      <td>17747.660396</td>\n",
       "      <td>66611.120909</td>\n",
       "      <td>12313.932787</td>\n",
       "      <td>17773.888751</td>\n",
       "      <td>74740.144531</td>\n",
       "      <td>13001.971354</td>\n",
       "    </tr>\n",
       "    <tr>\n",
       "      <th>Sunday</th>\n",
       "      <td>18831.241756</td>\n",
       "      <td>72182.653992</td>\n",
       "      <td>13897.502674</td>\n",
       "      <td>17649.690262</td>\n",
       "      <td>66708.621488</td>\n",
       "      <td>12385.304045</td>\n",
       "      <td>17939.162317</td>\n",
       "      <td>76545.073587</td>\n",
       "      <td>13114.061792</td>\n",
       "    </tr>\n",
       "  </tbody>\n",
       "</table>\n",
       "</div>"
      ],
      "text/plain": [
       "format         hypermarket                                minimarket  \\\n",
       "sub_category     Detergent          Rice         Sugar     Detergent   \n",
       "weekday                                                                \n",
       "Monday        19138.560606  66298.693694  13358.891903  17560.317294   \n",
       "Tuesday       19389.388316  74470.872340  13794.590698  17901.031532   \n",
       "Wednesday     19372.105469  68216.509804  13234.430556  17809.980058   \n",
       "Thursday      19879.209774  68319.880000  13324.351220  17987.282458   \n",
       "Friday        18891.041457  73596.727273  12885.248000  17694.003432   \n",
       "Saturday      19970.335818  72381.885714  13939.891089  17747.660396   \n",
       "Sunday        18831.241756  72182.653992  13897.502674  17649.690262   \n",
       "\n",
       "format                                     supermarket                \\\n",
       "sub_category          Rice         Sugar     Detergent          Rice   \n",
       "weekday                                                                \n",
       "Monday        68546.853862  12457.940470  18133.631542  73603.415629   \n",
       "Tuesday       68448.321464  12286.595116  17944.182547  73134.498062   \n",
       "Wednesday     66220.127409  12255.598561  17797.291157  71961.800562   \n",
       "Thursday      67578.548780  12511.782441  17906.231623  75706.441218   \n",
       "Friday        65973.959918  12249.178311  17535.585915  77468.788054   \n",
       "Saturday      66611.120909  12313.932787  17773.888751  74740.144531   \n",
       "Sunday        66708.621488  12385.304045  17939.162317  76545.073587   \n",
       "\n",
       "format                      \n",
       "sub_category         Sugar  \n",
       "weekday                     \n",
       "Monday        13024.603859  \n",
       "Tuesday       13436.082699  \n",
       "Wednesday     13234.805461  \n",
       "Thursday      12694.992999  \n",
       "Friday        12982.341464  \n",
       "Saturday      13001.971354  \n",
       "Sunday        13114.061792  "
      ]
     },
     "execution_count": 455,
     "metadata": {},
     "output_type": "execute_result"
    }
   ],
   "source": [
    "pd.pivot_table(\n",
    "    data=household,\n",
    "    index='weekday',\n",
    "    columns=['format', 'sub_category'],\n",
    "    values='unit_price'\n",
    ")"
   ]
  },
  {
   "cell_type": "markdown",
   "metadata": {},
   "source": [
    "If we want to summarize the table by `max` of `unit_price`, just specify the `aggfunc` parameter:"
   ]
  },
  {
   "cell_type": "code",
   "execution_count": 458,
   "metadata": {},
   "outputs": [
    {
     "data": {
      "text/html": [
       "<div>\n",
       "<style scoped>\n",
       "    .dataframe tbody tr th:only-of-type {\n",
       "        vertical-align: middle;\n",
       "    }\n",
       "\n",
       "    .dataframe tbody tr th {\n",
       "        vertical-align: top;\n",
       "    }\n",
       "\n",
       "    .dataframe thead tr th {\n",
       "        text-align: left;\n",
       "    }\n",
       "\n",
       "    .dataframe thead tr:last-of-type th {\n",
       "        text-align: right;\n",
       "    }\n",
       "</style>\n",
       "<table border=\"1\" class=\"dataframe\">\n",
       "  <thead>\n",
       "    <tr>\n",
       "      <th>format</th>\n",
       "      <th colspan=\"3\" halign=\"left\">hypermarket</th>\n",
       "      <th colspan=\"3\" halign=\"left\">minimarket</th>\n",
       "      <th colspan=\"3\" halign=\"left\">supermarket</th>\n",
       "    </tr>\n",
       "    <tr>\n",
       "      <th>sub_category</th>\n",
       "      <th>Detergent</th>\n",
       "      <th>Rice</th>\n",
       "      <th>Sugar</th>\n",
       "      <th>Detergent</th>\n",
       "      <th>Rice</th>\n",
       "      <th>Sugar</th>\n",
       "      <th>Detergent</th>\n",
       "      <th>Rice</th>\n",
       "      <th>Sugar</th>\n",
       "    </tr>\n",
       "    <tr>\n",
       "      <th>weekday</th>\n",
       "      <th></th>\n",
       "      <th></th>\n",
       "      <th></th>\n",
       "      <th></th>\n",
       "      <th></th>\n",
       "      <th></th>\n",
       "      <th></th>\n",
       "      <th></th>\n",
       "      <th></th>\n",
       "    </tr>\n",
       "  </thead>\n",
       "  <tbody>\n",
       "    <tr>\n",
       "      <th>Monday</th>\n",
       "      <td>57000.0</td>\n",
       "      <td>175000.0</td>\n",
       "      <td>59950.0</td>\n",
       "      <td>57000.0</td>\n",
       "      <td>219400.0</td>\n",
       "      <td>57000.0</td>\n",
       "      <td>53200.0</td>\n",
       "      <td>219000.0</td>\n",
       "      <td>59500.0</td>\n",
       "    </tr>\n",
       "    <tr>\n",
       "      <th>Tuesday</th>\n",
       "      <td>59500.0</td>\n",
       "      <td>213725.0</td>\n",
       "      <td>59900.0</td>\n",
       "      <td>59000.0</td>\n",
       "      <td>215000.0</td>\n",
       "      <td>50000.0</td>\n",
       "      <td>59900.0</td>\n",
       "      <td>179900.0</td>\n",
       "      <td>59216.0</td>\n",
       "    </tr>\n",
       "    <tr>\n",
       "      <th>Wednesday</th>\n",
       "      <td>50000.0</td>\n",
       "      <td>214000.0</td>\n",
       "      <td>50000.0</td>\n",
       "      <td>55675.0</td>\n",
       "      <td>218592.0</td>\n",
       "      <td>57000.0</td>\n",
       "      <td>53900.0</td>\n",
       "      <td>192000.0</td>\n",
       "      <td>59900.0</td>\n",
       "    </tr>\n",
       "    <tr>\n",
       "      <th>Thursday</th>\n",
       "      <td>54475.0</td>\n",
       "      <td>128000.0</td>\n",
       "      <td>49600.0</td>\n",
       "      <td>57500.0</td>\n",
       "      <td>215000.0</td>\n",
       "      <td>59900.0</td>\n",
       "      <td>55000.0</td>\n",
       "      <td>192000.0</td>\n",
       "      <td>59950.0</td>\n",
       "    </tr>\n",
       "    <tr>\n",
       "      <th>Friday</th>\n",
       "      <td>55440.0</td>\n",
       "      <td>141200.0</td>\n",
       "      <td>43815.0</td>\n",
       "      <td>56000.0</td>\n",
       "      <td>215000.0</td>\n",
       "      <td>47200.0</td>\n",
       "      <td>57200.0</td>\n",
       "      <td>218900.0</td>\n",
       "      <td>58500.0</td>\n",
       "    </tr>\n",
       "    <tr>\n",
       "      <th>Saturday</th>\n",
       "      <td>58470.0</td>\n",
       "      <td>195650.0</td>\n",
       "      <td>59500.0</td>\n",
       "      <td>58000.0</td>\n",
       "      <td>215000.0</td>\n",
       "      <td>56000.0</td>\n",
       "      <td>56400.0</td>\n",
       "      <td>214000.0</td>\n",
       "      <td>59900.0</td>\n",
       "    </tr>\n",
       "    <tr>\n",
       "      <th>Sunday</th>\n",
       "      <td>55560.0</td>\n",
       "      <td>129000.0</td>\n",
       "      <td>59900.0</td>\n",
       "      <td>57100.0</td>\n",
       "      <td>219000.0</td>\n",
       "      <td>58000.0</td>\n",
       "      <td>59600.0</td>\n",
       "      <td>218000.0</td>\n",
       "      <td>59900.0</td>\n",
       "    </tr>\n",
       "  </tbody>\n",
       "</table>\n",
       "</div>"
      ],
      "text/plain": [
       "format       hypermarket                    minimarket                     \\\n",
       "sub_category   Detergent      Rice    Sugar  Detergent      Rice    Sugar   \n",
       "weekday                                                                     \n",
       "Monday           57000.0  175000.0  59950.0    57000.0  219400.0  57000.0   \n",
       "Tuesday          59500.0  213725.0  59900.0    59000.0  215000.0  50000.0   \n",
       "Wednesday        50000.0  214000.0  50000.0    55675.0  218592.0  57000.0   \n",
       "Thursday         54475.0  128000.0  49600.0    57500.0  215000.0  59900.0   \n",
       "Friday           55440.0  141200.0  43815.0    56000.0  215000.0  47200.0   \n",
       "Saturday         58470.0  195650.0  59500.0    58000.0  215000.0  56000.0   \n",
       "Sunday           55560.0  129000.0  59900.0    57100.0  219000.0  58000.0   \n",
       "\n",
       "format       supermarket                     \n",
       "sub_category   Detergent      Rice    Sugar  \n",
       "weekday                                      \n",
       "Monday           53200.0  219000.0  59500.0  \n",
       "Tuesday          59900.0  179900.0  59216.0  \n",
       "Wednesday        53900.0  192000.0  59900.0  \n",
       "Thursday         55000.0  192000.0  59950.0  \n",
       "Friday           57200.0  218900.0  58500.0  \n",
       "Saturday         56400.0  214000.0  59900.0  \n",
       "Sunday           59600.0  218000.0  59900.0  "
      ]
     },
     "execution_count": 458,
     "metadata": {},
     "output_type": "execute_result"
    }
   ],
   "source": [
    "pd.pivot_table(\n",
    "    data=household,\n",
    "    index='weekday', \n",
    "    columns=['format', 'sub_category'], \n",
    "    values='unit_price',\n",
    "    aggfunc='max'\n",
    ")"
   ]
  },
  {
   "cell_type": "markdown",
   "metadata": {},
   "source": [
    "Let's recreate a frequency table below which shows the number of transactions, using `pd.pivot_table()`:"
   ]
  },
  {
   "cell_type": "markdown",
   "metadata": {},
   "source": [
    "| category                 |   hypermarket |   minimarket |   supermarket |   Total |\n",
    "|:-------------------------|--------------:|-------------:|--------------:|--------:|\n",
    "| **Fabric Care**          |          2611 |        24345 |          9044 |   36000 |\n",
    "| **Rice**                 |           999 |         7088 |          3913 |   12000 |\n",
    "| **Sugar/Flavored Syrup** |          1761 |        15370 |          6869 |   24000 |\n",
    "| **Total**                |          5371 |        46803 |         19826 |   72000 |"
   ]
  },
  {
   "cell_type": "markdown",
   "metadata": {},
   "source": [
    "- index: ...\n",
    "- columns: ...\n",
    "- aggfunc: ...\n",
    "- values: ...\n",
    "- \"Total\" in row and column using ..."
   ]
  },
  {
   "cell_type": "code",
   "execution_count": 488,
   "metadata": {},
   "outputs": [
    {
     "data": {
      "text/html": [
       "<div>\n",
       "<style scoped>\n",
       "    .dataframe tbody tr th:only-of-type {\n",
       "        vertical-align: middle;\n",
       "    }\n",
       "\n",
       "    .dataframe tbody tr th {\n",
       "        vertical-align: top;\n",
       "    }\n",
       "\n",
       "    .dataframe thead th {\n",
       "        text-align: right;\n",
       "    }\n",
       "</style>\n",
       "<table border=\"1\" class=\"dataframe\">\n",
       "  <thead>\n",
       "    <tr style=\"text-align: right;\">\n",
       "      <th>format</th>\n",
       "      <th>hypermarket</th>\n",
       "      <th>minimarket</th>\n",
       "      <th>supermarket</th>\n",
       "      <th>Total</th>\n",
       "    </tr>\n",
       "    <tr>\n",
       "      <th>category</th>\n",
       "      <th></th>\n",
       "      <th></th>\n",
       "      <th></th>\n",
       "      <th></th>\n",
       "    </tr>\n",
       "  </thead>\n",
       "  <tbody>\n",
       "    <tr>\n",
       "      <th>Fabric Care</th>\n",
       "      <td>28412.196856</td>\n",
       "      <td>23337.270487</td>\n",
       "      <td>24738.854488</td>\n",
       "      <td>24057.452666</td>\n",
       "    </tr>\n",
       "    <tr>\n",
       "      <th>Rice</th>\n",
       "      <td>102479.930931</td>\n",
       "      <td>86508.830559</td>\n",
       "      <td>94261.849478</td>\n",
       "      <td>90366.554917</td>\n",
       "    </tr>\n",
       "    <tr>\n",
       "      <th>Sugar/Flavored Syrup</th>\n",
       "      <td>23785.120398</td>\n",
       "      <td>20503.070398</td>\n",
       "      <td>22550.114868</td>\n",
       "      <td>21329.772002</td>\n",
       "    </tr>\n",
       "    <tr>\n",
       "      <th>Total</th>\n",
       "      <td>40671.624280</td>\n",
       "      <td>31973.434032</td>\n",
       "      <td>37702.085949</td>\n",
       "      <td>34199.742820</td>\n",
       "    </tr>\n",
       "  </tbody>\n",
       "</table>\n",
       "</div>"
      ],
      "text/plain": [
       "format                  hypermarket    minimarket   supermarket         Total\n",
       "category                                                                     \n",
       "Fabric Care            28412.196856  23337.270487  24738.854488  24057.452666\n",
       "Rice                  102479.930931  86508.830559  94261.849478  90366.554917\n",
       "Sugar/Flavored Syrup   23785.120398  20503.070398  22550.114868  21329.772002\n",
       "Total                  40671.624280  31973.434032  37702.085949  34199.742820"
      ]
     },
     "execution_count": 488,
     "metadata": {},
     "output_type": "execute_result"
    }
   ],
   "source": [
    "pd.pivot_table(\n",
    "    data=household,\n",
    "    index='category',\n",
    "    values='subtotal',\n",
    "    columns='format',\n",
    "    margins_name='Total',\n",
    "    margins=True\n",
    ")"
   ]
  },
  {
   "cell_type": "markdown",
   "metadata": {},
   "source": [
    "**Note:** parameter `margins` and `margins_name` are available on both `crosstab` and `pivot_table`, but parameter `normalize` only available on `crosstab`"
   ]
  },
  {
   "cell_type": "markdown",
   "metadata": {},
   "source": [
    "___"
   ]
  },
  {
   "cell_type": "markdown",
   "metadata": {},
   "source": [
    "# Summary: Tables in `pandas` "
   ]
  },
  {
   "cell_type": "markdown",
   "metadata": {},
   "source": [
    "## Frequency Tables\n",
    "\n",
    "Usage: calculate number of rows for categorical column\n",
    "\n",
    "Methods:\n",
    "\n",
    "- For one column, use `.value_counts()` (Series)\n",
    "- For one or more columns:\n",
    "    - `pd.crosstab(index, columns)`\n",
    "    - `pd.pivot_table(index, columns, aggfunc='count')` but rarely used"
   ]
  },
  {
   "cell_type": "markdown",
   "metadata": {},
   "source": [
    "## Aggregation Tables\n",
    "\n",
    "Usage: aggregate numerical column which broken down by categorical column\n",
    "\n",
    "Methods:\n",
    "\n",
    "- `pd.crosstab(index, columns, values, aggfunc)`\n",
    "- `pd.pivot_table(data, index, columns, values, aggfunc)`"
   ]
  },
  {
   "cell_type": "markdown",
   "metadata": {},
   "source": [
    "## `crosstab` vs `pivot_table`"
   ]
  },
  {
   "cell_type": "markdown",
   "metadata": {},
   "source": [
    "The main differences between `crosstab` and `pivot_table` can be summarized as follows:\n",
    "\n",
    "|                                                                                    | `pd.crosstab()` | `pd.pivot_table()` |\n",
    "|------------------------------------------------------------------------------------|-----------------|--------------------|\n",
    "|                                                                          **Input** | Array of values |          DataFrame |\n",
    "|                                                              **Default `aggfunc`** |       `'count'` |           `'mean'` |\n",
    "|                                                          **Parameter `normalize`** |       Available |      Not Available |\n",
    "| [**Computation Time**](https://ramiro.org/notebook/pandas-crosstab-groupby-pivot/) | Relatively Slower |  Relatively Faster |"
   ]
  },
  {
   "cell_type": "code",
   "execution_count": 491,
   "metadata": {},
   "outputs": [
    {
     "data": {
      "text/html": [
       "<div>\n",
       "<style scoped>\n",
       "    .dataframe tbody tr th:only-of-type {\n",
       "        vertical-align: middle;\n",
       "    }\n",
       "\n",
       "    .dataframe tbody tr th {\n",
       "        vertical-align: top;\n",
       "    }\n",
       "\n",
       "    .dataframe thead th {\n",
       "        text-align: right;\n",
       "    }\n",
       "</style>\n",
       "<table border=\"1\" class=\"dataframe\">\n",
       "  <thead>\n",
       "    <tr style=\"text-align: right;\">\n",
       "      <th>col_0</th>\n",
       "      <th>hypermarket</th>\n",
       "      <th>minimarket</th>\n",
       "    </tr>\n",
       "    <tr>\n",
       "      <th>row_0</th>\n",
       "      <th></th>\n",
       "      <th></th>\n",
       "    </tr>\n",
       "  </thead>\n",
       "  <tbody>\n",
       "    <tr>\n",
       "      <th>Rice</th>\n",
       "      <td>1</td>\n",
       "      <td>1</td>\n",
       "    </tr>\n",
       "    <tr>\n",
       "      <th>Sugar</th>\n",
       "      <td>2</td>\n",
       "      <td>0</td>\n",
       "    </tr>\n",
       "  </tbody>\n",
       "</table>\n",
       "</div>"
      ],
      "text/plain": [
       "col_0  hypermarket  minimarket\n",
       "row_0                         \n",
       "Rice             1           1\n",
       "Sugar            2           0"
      ]
     },
     "execution_count": 491,
     "metadata": {},
     "output_type": "execute_result"
    }
   ],
   "source": [
    "# crosstab expect a list/array of values, so the input doesn't have to be a DataFrame\n",
    "import numpy as np\n",
    "\n",
    "pd.crosstab(\n",
    "    index=np.array(['Sugar', 'Sugar', 'Rice', 'Rice']),\n",
    "    columns=np.array(['hypermarket', 'hypermarket', 'minimarket', 'hypermarket'])\n",
    ")"
   ]
  },
  {
   "cell_type": "markdown",
   "metadata": {},
   "source": [
    "# Missing Values and Duplicates"
   ]
  },
  {
   "cell_type": "markdown",
   "metadata": {},
   "source": [
    "During the data exploration and preparation phase, it is likely we come across some problematic details in our data, such as: \n",
    "\n",
    "- Value of _-1_ for the _age_ column\n",
    "- Value of _blank_ for the _customer segment_ column\n",
    "- Value of _None_ for the _loan duration_ column\n",
    "- etc\n",
    "\n",
    "All of these are examples of \"untidy\" data, which is rather common depending on the data collection and recording process in a company."
   ]
  },
  {
   "cell_type": "markdown",
   "metadata": {},
   "source": [
    "## Missing Values"
   ]
  },
  {
   "cell_type": "markdown",
   "metadata": {},
   "source": [
    "Let's import `household_untidy.csv`, which is a manipulated version of `household` DataFrame. \n",
    "\n",
    "**Note**: If you're curious on how to inject the missing values, check out our main materials on Section 3."
   ]
  },
  {
   "cell_type": "code",
   "execution_count": 492,
   "metadata": {},
   "outputs": [
    {
     "data": {
      "text/html": [
       "<div>\n",
       "<style scoped>\n",
       "    .dataframe tbody tr th:only-of-type {\n",
       "        vertical-align: middle;\n",
       "    }\n",
       "\n",
       "    .dataframe tbody tr th {\n",
       "        vertical-align: top;\n",
       "    }\n",
       "\n",
       "    .dataframe thead th {\n",
       "        text-align: right;\n",
       "    }\n",
       "</style>\n",
       "<table border=\"1\" class=\"dataframe\">\n",
       "  <thead>\n",
       "    <tr style=\"text-align: right;\">\n",
       "      <th></th>\n",
       "      <th>purchase_time</th>\n",
       "      <th>category</th>\n",
       "      <th>format</th>\n",
       "      <th>unit_price</th>\n",
       "      <th>discount</th>\n",
       "      <th>quantity</th>\n",
       "      <th>weekday</th>\n",
       "      <th>Unnamed: 8</th>\n",
       "    </tr>\n",
       "    <tr>\n",
       "      <th>receipts_item_id</th>\n",
       "      <th></th>\n",
       "      <th></th>\n",
       "      <th></th>\n",
       "      <th></th>\n",
       "      <th></th>\n",
       "      <th></th>\n",
       "      <th></th>\n",
       "      <th></th>\n",
       "    </tr>\n",
       "  </thead>\n",
       "  <tbody>\n",
       "    <tr>\n",
       "      <th>32000000</th>\n",
       "      <td>NaT</td>\n",
       "      <td>NaN</td>\n",
       "      <td>NaN</td>\n",
       "      <td>NaN</td>\n",
       "      <td>NaN</td>\n",
       "      <td>NaN</td>\n",
       "      <td>NaN</td>\n",
       "      <td>NaN</td>\n",
       "    </tr>\n",
       "    <tr>\n",
       "      <th>32000001</th>\n",
       "      <td>NaT</td>\n",
       "      <td>NaN</td>\n",
       "      <td>NaN</td>\n",
       "      <td>NaN</td>\n",
       "      <td>NaN</td>\n",
       "      <td>NaN</td>\n",
       "      <td>NaN</td>\n",
       "      <td>NaN</td>\n",
       "    </tr>\n",
       "    <tr>\n",
       "      <th>32030785</th>\n",
       "      <td>2018-07-17 18:05:00</td>\n",
       "      <td>Rice</td>\n",
       "      <td>minimarket</td>\n",
       "      <td>63500.0</td>\n",
       "      <td>0.0</td>\n",
       "      <td>1.0</td>\n",
       "      <td>Tuesday</td>\n",
       "      <td>NaN</td>\n",
       "    </tr>\n",
       "    <tr>\n",
       "      <th>32000002</th>\n",
       "      <td>NaT</td>\n",
       "      <td>NaN</td>\n",
       "      <td>NaN</td>\n",
       "      <td>NaN</td>\n",
       "      <td>NaN</td>\n",
       "      <td>NaN</td>\n",
       "      <td>NaN</td>\n",
       "      <td>NaN</td>\n",
       "    </tr>\n",
       "    <tr>\n",
       "      <th>32000003</th>\n",
       "      <td>NaT</td>\n",
       "      <td>NaN</td>\n",
       "      <td>NaN</td>\n",
       "      <td>NaN</td>\n",
       "      <td>NaN</td>\n",
       "      <td>NaN</td>\n",
       "      <td>NaN</td>\n",
       "      <td>NaN</td>\n",
       "    </tr>\n",
       "  </tbody>\n",
       "</table>\n",
       "</div>"
      ],
      "text/plain": [
       "                       purchase_time category      format  unit_price  \\\n",
       "receipts_item_id                                                        \n",
       "32000000                         NaT      NaN         NaN         NaN   \n",
       "32000001                         NaT      NaN         NaN         NaN   \n",
       "32030785         2018-07-17 18:05:00     Rice  minimarket     63500.0   \n",
       "32000002                         NaT      NaN         NaN         NaN   \n",
       "32000003                         NaT      NaN         NaN         NaN   \n",
       "\n",
       "                  discount  quantity  weekday  Unnamed: 8  \n",
       "receipts_item_id                                           \n",
       "32000000               NaN       NaN      NaN         NaN  \n",
       "32000001               NaN       NaN      NaN         NaN  \n",
       "32030785               0.0       1.0  Tuesday         NaN  \n",
       "32000002               NaN       NaN      NaN         NaN  \n",
       "32000003               NaN       NaN      NaN         NaN  "
      ]
     },
     "execution_count": 492,
     "metadata": {},
     "output_type": "execute_result"
    }
   ],
   "source": [
    "household_untidy = pd.read_csv(\"data_input/household_untidy.csv\", index_col='receipts_item_id')\n",
    "household_untidy['purchase_time'] = household_untidy['purchase_time'].astype('datetime64')\n",
    "household_untidy.head()"
   ]
  },
  {
   "cell_type": "markdown",
   "metadata": {},
   "source": [
    "Missing Values:\n",
    "\n",
    "- `NaN`: Not a Number, for object and category\n",
    "- `nan`: not a number, for numeric\n",
    "- `NaT`: Not a Time, for datetime64"
   ]
  },
  {
   "cell_type": "markdown",
   "metadata": {},
   "source": [
    "### Check Missing Values"
   ]
  },
  {
   "cell_type": "markdown",
   "metadata": {},
   "source": [
    "A common method to detect missing values:\n",
    "\n",
    "- `.isna()`: returns `True` if the values are missing.\n",
    "- `.notna()`: returns `True` if the values are **not** missing."
   ]
  },
  {
   "cell_type": "code",
   "execution_count": 493,
   "metadata": {
    "scrolled": false
   },
   "outputs": [
    {
     "data": {
      "text/html": [
       "<div>\n",
       "<style scoped>\n",
       "    .dataframe tbody tr th:only-of-type {\n",
       "        vertical-align: middle;\n",
       "    }\n",
       "\n",
       "    .dataframe tbody tr th {\n",
       "        vertical-align: top;\n",
       "    }\n",
       "\n",
       "    .dataframe thead th {\n",
       "        text-align: right;\n",
       "    }\n",
       "</style>\n",
       "<table border=\"1\" class=\"dataframe\">\n",
       "  <thead>\n",
       "    <tr style=\"text-align: right;\">\n",
       "      <th></th>\n",
       "      <th>purchase_time</th>\n",
       "      <th>category</th>\n",
       "      <th>format</th>\n",
       "      <th>unit_price</th>\n",
       "      <th>discount</th>\n",
       "      <th>quantity</th>\n",
       "      <th>weekday</th>\n",
       "      <th>Unnamed: 8</th>\n",
       "    </tr>\n",
       "    <tr>\n",
       "      <th>receipts_item_id</th>\n",
       "      <th></th>\n",
       "      <th></th>\n",
       "      <th></th>\n",
       "      <th></th>\n",
       "      <th></th>\n",
       "      <th></th>\n",
       "      <th></th>\n",
       "      <th></th>\n",
       "    </tr>\n",
       "  </thead>\n",
       "  <tbody>\n",
       "    <tr>\n",
       "      <th>32000000</th>\n",
       "      <td>True</td>\n",
       "      <td>True</td>\n",
       "      <td>True</td>\n",
       "      <td>True</td>\n",
       "      <td>True</td>\n",
       "      <td>True</td>\n",
       "      <td>True</td>\n",
       "      <td>True</td>\n",
       "    </tr>\n",
       "    <tr>\n",
       "      <th>32000001</th>\n",
       "      <td>True</td>\n",
       "      <td>True</td>\n",
       "      <td>True</td>\n",
       "      <td>True</td>\n",
       "      <td>True</td>\n",
       "      <td>True</td>\n",
       "      <td>True</td>\n",
       "      <td>True</td>\n",
       "    </tr>\n",
       "    <tr>\n",
       "      <th>32030785</th>\n",
       "      <td>False</td>\n",
       "      <td>False</td>\n",
       "      <td>False</td>\n",
       "      <td>False</td>\n",
       "      <td>False</td>\n",
       "      <td>False</td>\n",
       "      <td>False</td>\n",
       "      <td>True</td>\n",
       "    </tr>\n",
       "    <tr>\n",
       "      <th>32000002</th>\n",
       "      <td>True</td>\n",
       "      <td>True</td>\n",
       "      <td>True</td>\n",
       "      <td>True</td>\n",
       "      <td>True</td>\n",
       "      <td>True</td>\n",
       "      <td>True</td>\n",
       "      <td>True</td>\n",
       "    </tr>\n",
       "    <tr>\n",
       "      <th>32000003</th>\n",
       "      <td>True</td>\n",
       "      <td>True</td>\n",
       "      <td>True</td>\n",
       "      <td>True</td>\n",
       "      <td>True</td>\n",
       "      <td>True</td>\n",
       "      <td>True</td>\n",
       "      <td>True</td>\n",
       "    </tr>\n",
       "    <tr>\n",
       "      <th>32000004</th>\n",
       "      <td>True</td>\n",
       "      <td>True</td>\n",
       "      <td>True</td>\n",
       "      <td>True</td>\n",
       "      <td>True</td>\n",
       "      <td>True</td>\n",
       "      <td>True</td>\n",
       "      <td>True</td>\n",
       "    </tr>\n",
       "    <tr>\n",
       "      <th>32369294</th>\n",
       "      <td>False</td>\n",
       "      <td>False</td>\n",
       "      <td>False</td>\n",
       "      <td>False</td>\n",
       "      <td>False</td>\n",
       "      <td>False</td>\n",
       "      <td>False</td>\n",
       "      <td>True</td>\n",
       "    </tr>\n",
       "    <tr>\n",
       "      <th>31885876</th>\n",
       "      <td>False</td>\n",
       "      <td>False</td>\n",
       "      <td>False</td>\n",
       "      <td>False</td>\n",
       "      <td>False</td>\n",
       "      <td>False</td>\n",
       "      <td>True</td>\n",
       "      <td>True</td>\n",
       "    </tr>\n",
       "    <tr>\n",
       "      <th>31930241</th>\n",
       "      <td>False</td>\n",
       "      <td>False</td>\n",
       "      <td>False</td>\n",
       "      <td>False</td>\n",
       "      <td>False</td>\n",
       "      <td>False</td>\n",
       "      <td>False</td>\n",
       "      <td>True</td>\n",
       "    </tr>\n",
       "    <tr>\n",
       "      <th>32418582</th>\n",
       "      <td>False</td>\n",
       "      <td>False</td>\n",
       "      <td>False</td>\n",
       "      <td>False</td>\n",
       "      <td>False</td>\n",
       "      <td>False</td>\n",
       "      <td>False</td>\n",
       "      <td>True</td>\n",
       "    </tr>\n",
       "    <tr>\n",
       "      <th>32561236</th>\n",
       "      <td>False</td>\n",
       "      <td>False</td>\n",
       "      <td>False</td>\n",
       "      <td>False</td>\n",
       "      <td>False</td>\n",
       "      <td>False</td>\n",
       "      <td>False</td>\n",
       "      <td>True</td>\n",
       "    </tr>\n",
       "    <tr>\n",
       "      <th>32030785</th>\n",
       "      <td>False</td>\n",
       "      <td>False</td>\n",
       "      <td>False</td>\n",
       "      <td>False</td>\n",
       "      <td>False</td>\n",
       "      <td>False</td>\n",
       "      <td>False</td>\n",
       "      <td>True</td>\n",
       "    </tr>\n",
       "    <tr>\n",
       "      <th>32935097</th>\n",
       "      <td>False</td>\n",
       "      <td>False</td>\n",
       "      <td>False</td>\n",
       "      <td>False</td>\n",
       "      <td>False</td>\n",
       "      <td>False</td>\n",
       "      <td>False</td>\n",
       "      <td>True</td>\n",
       "    </tr>\n",
       "    <tr>\n",
       "      <th>32593606</th>\n",
       "      <td>False</td>\n",
       "      <td>False</td>\n",
       "      <td>False</td>\n",
       "      <td>False</td>\n",
       "      <td>False</td>\n",
       "      <td>False</td>\n",
       "      <td>False</td>\n",
       "      <td>True</td>\n",
       "    </tr>\n",
       "    <tr>\n",
       "      <th>32573843</th>\n",
       "      <td>False</td>\n",
       "      <td>False</td>\n",
       "      <td>False</td>\n",
       "      <td>False</td>\n",
       "      <td>False</td>\n",
       "      <td>False</td>\n",
       "      <td>False</td>\n",
       "      <td>True</td>\n",
       "    </tr>\n",
       "    <tr>\n",
       "      <th>31913062</th>\n",
       "      <td>False</td>\n",
       "      <td>False</td>\n",
       "      <td>False</td>\n",
       "      <td>False</td>\n",
       "      <td>False</td>\n",
       "      <td>False</td>\n",
       "      <td>False</td>\n",
       "      <td>True</td>\n",
       "    </tr>\n",
       "    <tr>\n",
       "      <th>31125365</th>\n",
       "      <td>False</td>\n",
       "      <td>False</td>\n",
       "      <td>False</td>\n",
       "      <td>False</td>\n",
       "      <td>False</td>\n",
       "      <td>False</td>\n",
       "      <td>False</td>\n",
       "      <td>True</td>\n",
       "    </tr>\n",
       "    <tr>\n",
       "      <th>32856560</th>\n",
       "      <td>False</td>\n",
       "      <td>False</td>\n",
       "      <td>False</td>\n",
       "      <td>False</td>\n",
       "      <td>False</td>\n",
       "      <td>False</td>\n",
       "      <td>False</td>\n",
       "      <td>True</td>\n",
       "    </tr>\n",
       "    <tr>\n",
       "      <th>32552145</th>\n",
       "      <td>False</td>\n",
       "      <td>False</td>\n",
       "      <td>False</td>\n",
       "      <td>False</td>\n",
       "      <td>False</td>\n",
       "      <td>False</td>\n",
       "      <td>False</td>\n",
       "      <td>True</td>\n",
       "    </tr>\n",
       "    <tr>\n",
       "      <th>32369065</th>\n",
       "      <td>False</td>\n",
       "      <td>False</td>\n",
       "      <td>False</td>\n",
       "      <td>False</td>\n",
       "      <td>False</td>\n",
       "      <td>False</td>\n",
       "      <td>False</td>\n",
       "      <td>True</td>\n",
       "    </tr>\n",
       "  </tbody>\n",
       "</table>\n",
       "</div>"
      ],
      "text/plain": [
       "                  purchase_time  category  format  unit_price  discount  \\\n",
       "receipts_item_id                                                          \n",
       "32000000                   True      True    True        True      True   \n",
       "32000001                   True      True    True        True      True   \n",
       "32030785                  False     False   False       False     False   \n",
       "32000002                   True      True    True        True      True   \n",
       "32000003                   True      True    True        True      True   \n",
       "32000004                   True      True    True        True      True   \n",
       "32369294                  False     False   False       False     False   \n",
       "31885876                  False     False   False       False     False   \n",
       "31930241                  False     False   False       False     False   \n",
       "32418582                  False     False   False       False     False   \n",
       "32561236                  False     False   False       False     False   \n",
       "32030785                  False     False   False       False     False   \n",
       "32935097                  False     False   False       False     False   \n",
       "32593606                  False     False   False       False     False   \n",
       "32573843                  False     False   False       False     False   \n",
       "31913062                  False     False   False       False     False   \n",
       "31125365                  False     False   False       False     False   \n",
       "32856560                  False     False   False       False     False   \n",
       "32552145                  False     False   False       False     False   \n",
       "32369065                  False     False   False       False     False   \n",
       "\n",
       "                  quantity  weekday  Unnamed: 8  \n",
       "receipts_item_id                                 \n",
       "32000000              True     True        True  \n",
       "32000001              True     True        True  \n",
       "32030785             False    False        True  \n",
       "32000002              True     True        True  \n",
       "32000003              True     True        True  \n",
       "32000004              True     True        True  \n",
       "32369294             False    False        True  \n",
       "31885876             False     True        True  \n",
       "31930241             False    False        True  \n",
       "32418582             False    False        True  \n",
       "32561236             False    False        True  \n",
       "32030785             False    False        True  \n",
       "32935097             False    False        True  \n",
       "32593606             False    False        True  \n",
       "32573843             False    False        True  \n",
       "31913062             False    False        True  \n",
       "31125365             False    False        True  \n",
       "32856560             False    False        True  \n",
       "32552145             False    False        True  \n",
       "32369065             False    False        True  "
      ]
     },
     "execution_count": 493,
     "metadata": {},
     "output_type": "execute_result"
    }
   ],
   "source": [
    "household_untidy.isna()"
   ]
  },
  {
   "cell_type": "markdown",
   "metadata": {},
   "source": [
    "Count the **number** of missing values across each column:\n",
    "\n",
    "- `True` will be treated as 1\n",
    "- `False` will be treated as 0"
   ]
  },
  {
   "cell_type": "code",
   "execution_count": 494,
   "metadata": {},
   "outputs": [
    {
     "data": {
      "text/plain": [
       "purchase_time     5\n",
       "category          5\n",
       "format            5\n",
       "unit_price        5\n",
       "discount          5\n",
       "quantity          5\n",
       "weekday           6\n",
       "Unnamed: 8       20\n",
       "dtype: int64"
      ]
     },
     "execution_count": 494,
     "metadata": {},
     "output_type": "execute_result"
    }
   ],
   "source": [
    "household_untidy.isna().sum()"
   ]
  },
  {
   "cell_type": "markdown",
   "metadata": {},
   "source": [
    "Usually, we count the **percentages** of missing values across each column:"
   ]
  },
  {
   "cell_type": "code",
   "execution_count": 496,
   "metadata": {},
   "outputs": [
    {
     "data": {
      "text/html": [
       "<div>\n",
       "<style scoped>\n",
       "    .dataframe tbody tr th:only-of-type {\n",
       "        vertical-align: middle;\n",
       "    }\n",
       "\n",
       "    .dataframe tbody tr th {\n",
       "        vertical-align: top;\n",
       "    }\n",
       "\n",
       "    .dataframe thead th {\n",
       "        text-align: right;\n",
       "    }\n",
       "</style>\n",
       "<table border=\"1\" class=\"dataframe\">\n",
       "  <thead>\n",
       "    <tr style=\"text-align: right;\">\n",
       "      <th></th>\n",
       "      <th>column_name</th>\n",
       "      <th>percent_missing</th>\n",
       "    </tr>\n",
       "  </thead>\n",
       "  <tbody>\n",
       "    <tr>\n",
       "      <th>purchase_time</th>\n",
       "      <td>purchase_time</td>\n",
       "      <td>25.0</td>\n",
       "    </tr>\n",
       "    <tr>\n",
       "      <th>category</th>\n",
       "      <td>category</td>\n",
       "      <td>25.0</td>\n",
       "    </tr>\n",
       "    <tr>\n",
       "      <th>format</th>\n",
       "      <td>format</td>\n",
       "      <td>25.0</td>\n",
       "    </tr>\n",
       "    <tr>\n",
       "      <th>unit_price</th>\n",
       "      <td>unit_price</td>\n",
       "      <td>25.0</td>\n",
       "    </tr>\n",
       "    <tr>\n",
       "      <th>discount</th>\n",
       "      <td>discount</td>\n",
       "      <td>25.0</td>\n",
       "    </tr>\n",
       "    <tr>\n",
       "      <th>quantity</th>\n",
       "      <td>quantity</td>\n",
       "      <td>25.0</td>\n",
       "    </tr>\n",
       "    <tr>\n",
       "      <th>weekday</th>\n",
       "      <td>weekday</td>\n",
       "      <td>30.0</td>\n",
       "    </tr>\n",
       "    <tr>\n",
       "      <th>Unnamed: 8</th>\n",
       "      <td>Unnamed: 8</td>\n",
       "      <td>100.0</td>\n",
       "    </tr>\n",
       "  </tbody>\n",
       "</table>\n",
       "</div>"
      ],
      "text/plain": [
       "                 column_name  percent_missing\n",
       "purchase_time  purchase_time             25.0\n",
       "category            category             25.0\n",
       "format                format             25.0\n",
       "unit_price        unit_price             25.0\n",
       "discount            discount             25.0\n",
       "quantity            quantity             25.0\n",
       "weekday              weekday             30.0\n",
       "Unnamed: 8        Unnamed: 8            100.0"
      ]
     },
     "execution_count": 496,
     "metadata": {},
     "output_type": "execute_result"
    }
   ],
   "source": [
    "percent_missing = household_untidy.isna().sum() * 100 / len(household_untidy)\n",
    "\n",
    "missing_value_df = pd.DataFrame({'column_name': household_untidy.columns,\n",
    "                                 'percent_missing': percent_missing})\n",
    "\n",
    "missing_value_df"
   ]
  },
  {
   "cell_type": "markdown",
   "metadata": {},
   "source": [
    "### Treatment for Missing Value"
   ]
  },
  {
   "cell_type": "markdown",
   "metadata": {},
   "source": [
    "Three most common ways to deal with missing value:\n",
    "\n",
    "1. Delete column\n",
    "2. Delete row\n",
    "3. Imputation"
   ]
  },
  {
   "cell_type": "markdown",
   "metadata": {},
   "source": [
    "#### Delete Column"
   ]
  },
  {
   "cell_type": "markdown",
   "metadata": {},
   "source": [
    "Use `.drop(columns = ...)` method"
   ]
  },
  {
   "cell_type": "code",
   "execution_count": 497,
   "metadata": {},
   "outputs": [
    {
     "data": {
      "text/html": [
       "<div>\n",
       "<style scoped>\n",
       "    .dataframe tbody tr th:only-of-type {\n",
       "        vertical-align: middle;\n",
       "    }\n",
       "\n",
       "    .dataframe tbody tr th {\n",
       "        vertical-align: top;\n",
       "    }\n",
       "\n",
       "    .dataframe thead th {\n",
       "        text-align: right;\n",
       "    }\n",
       "</style>\n",
       "<table border=\"1\" class=\"dataframe\">\n",
       "  <thead>\n",
       "    <tr style=\"text-align: right;\">\n",
       "      <th></th>\n",
       "      <th>purchase_time</th>\n",
       "      <th>category</th>\n",
       "      <th>format</th>\n",
       "      <th>unit_price</th>\n",
       "      <th>discount</th>\n",
       "      <th>quantity</th>\n",
       "      <th>weekday</th>\n",
       "    </tr>\n",
       "    <tr>\n",
       "      <th>receipts_item_id</th>\n",
       "      <th></th>\n",
       "      <th></th>\n",
       "      <th></th>\n",
       "      <th></th>\n",
       "      <th></th>\n",
       "      <th></th>\n",
       "      <th></th>\n",
       "    </tr>\n",
       "  </thead>\n",
       "  <tbody>\n",
       "    <tr>\n",
       "      <th>32000000</th>\n",
       "      <td>NaT</td>\n",
       "      <td>NaN</td>\n",
       "      <td>NaN</td>\n",
       "      <td>NaN</td>\n",
       "      <td>NaN</td>\n",
       "      <td>NaN</td>\n",
       "      <td>NaN</td>\n",
       "    </tr>\n",
       "    <tr>\n",
       "      <th>32000001</th>\n",
       "      <td>NaT</td>\n",
       "      <td>NaN</td>\n",
       "      <td>NaN</td>\n",
       "      <td>NaN</td>\n",
       "      <td>NaN</td>\n",
       "      <td>NaN</td>\n",
       "      <td>NaN</td>\n",
       "    </tr>\n",
       "    <tr>\n",
       "      <th>32030785</th>\n",
       "      <td>2018-07-17 18:05:00</td>\n",
       "      <td>Rice</td>\n",
       "      <td>minimarket</td>\n",
       "      <td>63500.0</td>\n",
       "      <td>0.0</td>\n",
       "      <td>1.0</td>\n",
       "      <td>Tuesday</td>\n",
       "    </tr>\n",
       "    <tr>\n",
       "      <th>32000002</th>\n",
       "      <td>NaT</td>\n",
       "      <td>NaN</td>\n",
       "      <td>NaN</td>\n",
       "      <td>NaN</td>\n",
       "      <td>NaN</td>\n",
       "      <td>NaN</td>\n",
       "      <td>NaN</td>\n",
       "    </tr>\n",
       "    <tr>\n",
       "      <th>32000003</th>\n",
       "      <td>NaT</td>\n",
       "      <td>NaN</td>\n",
       "      <td>NaN</td>\n",
       "      <td>NaN</td>\n",
       "      <td>NaN</td>\n",
       "      <td>NaN</td>\n",
       "      <td>NaN</td>\n",
       "    </tr>\n",
       "  </tbody>\n",
       "</table>\n",
       "</div>"
      ],
      "text/plain": [
       "                       purchase_time category      format  unit_price  \\\n",
       "receipts_item_id                                                        \n",
       "32000000                         NaT      NaN         NaN         NaN   \n",
       "32000001                         NaT      NaN         NaN         NaN   \n",
       "32030785         2018-07-17 18:05:00     Rice  minimarket     63500.0   \n",
       "32000002                         NaT      NaN         NaN         NaN   \n",
       "32000003                         NaT      NaN         NaN         NaN   \n",
       "\n",
       "                  discount  quantity  weekday  \n",
       "receipts_item_id                               \n",
       "32000000               NaN       NaN      NaN  \n",
       "32000001               NaN       NaN      NaN  \n",
       "32030785               0.0       1.0  Tuesday  \n",
       "32000002               NaN       NaN      NaN  \n",
       "32000003               NaN       NaN      NaN  "
      ]
     },
     "execution_count": 497,
     "metadata": {},
     "output_type": "execute_result"
    }
   ],
   "source": [
    "household_untidy = household_untidy.drop(columns='Unnamed: 8')\n",
    "household_untidy.head()"
   ]
  },
  {
   "cell_type": "markdown",
   "metadata": {},
   "source": [
    "⚠️ **Warning**: When removing a column, it is necessary to pay attention to the business case, will the discarded column eliminate or reduce the information of our data?"
   ]
  },
  {
   "cell_type": "markdown",
   "metadata": {},
   "source": [
    "#### Delete Row"
   ]
  },
  {
   "cell_type": "markdown",
   "metadata": {},
   "source": [
    "When we are certain that the rows with missing value can be safely dropped, we can use `.dropna()` method.\n",
    "\n",
    "- `.dropna(how='any')`: drops row if **minimum 1 column** contain missing value\n",
    "\n",
    "- `.dropna(how='all')`: drops row if **all values** are missing\n",
    "\n",
    "- `.dropna(thresh=...)`: drops row if non-missing values < `thresh` "
   ]
  },
  {
   "cell_type": "code",
   "execution_count": 498,
   "metadata": {},
   "outputs": [
    {
     "data": {
      "text/html": [
       "<div>\n",
       "<style scoped>\n",
       "    .dataframe tbody tr th:only-of-type {\n",
       "        vertical-align: middle;\n",
       "    }\n",
       "\n",
       "    .dataframe tbody tr th {\n",
       "        vertical-align: top;\n",
       "    }\n",
       "\n",
       "    .dataframe thead th {\n",
       "        text-align: right;\n",
       "    }\n",
       "</style>\n",
       "<table border=\"1\" class=\"dataframe\">\n",
       "  <thead>\n",
       "    <tr style=\"text-align: right;\">\n",
       "      <th></th>\n",
       "      <th>purchase_time</th>\n",
       "      <th>category</th>\n",
       "      <th>format</th>\n",
       "      <th>unit_price</th>\n",
       "      <th>discount</th>\n",
       "      <th>quantity</th>\n",
       "      <th>weekday</th>\n",
       "    </tr>\n",
       "    <tr>\n",
       "      <th>receipts_item_id</th>\n",
       "      <th></th>\n",
       "      <th></th>\n",
       "      <th></th>\n",
       "      <th></th>\n",
       "      <th></th>\n",
       "      <th></th>\n",
       "      <th></th>\n",
       "    </tr>\n",
       "  </thead>\n",
       "  <tbody>\n",
       "    <tr>\n",
       "      <th>32030785</th>\n",
       "      <td>2018-07-17 18:05:00</td>\n",
       "      <td>Rice</td>\n",
       "      <td>minimarket</td>\n",
       "      <td>63500.0</td>\n",
       "      <td>0.0</td>\n",
       "      <td>1.0</td>\n",
       "      <td>Tuesday</td>\n",
       "    </tr>\n",
       "    <tr>\n",
       "      <th>32369294</th>\n",
       "      <td>2018-07-22 21:19:00</td>\n",
       "      <td>Rice</td>\n",
       "      <td>supermarket</td>\n",
       "      <td>128000.0</td>\n",
       "      <td>0.0</td>\n",
       "      <td>1.0</td>\n",
       "      <td>Sunday</td>\n",
       "    </tr>\n",
       "    <tr>\n",
       "      <th>31930241</th>\n",
       "      <td>2018-07-15 12:12:00</td>\n",
       "      <td>Rice</td>\n",
       "      <td>supermarket</td>\n",
       "      <td>64000.0</td>\n",
       "      <td>0.0</td>\n",
       "      <td>3.0</td>\n",
       "      <td>Sunday</td>\n",
       "    </tr>\n",
       "    <tr>\n",
       "      <th>32418582</th>\n",
       "      <td>2018-07-24 08:27:00</td>\n",
       "      <td>Rice</td>\n",
       "      <td>minimarket</td>\n",
       "      <td>65000.0</td>\n",
       "      <td>0.0</td>\n",
       "      <td>1.0</td>\n",
       "      <td>Tuesday</td>\n",
       "    </tr>\n",
       "    <tr>\n",
       "      <th>32561236</th>\n",
       "      <td>2018-07-26 11:28:00</td>\n",
       "      <td>Rice</td>\n",
       "      <td>supermarket</td>\n",
       "      <td>124500.0</td>\n",
       "      <td>0.0</td>\n",
       "      <td>1.0</td>\n",
       "      <td>Thursday</td>\n",
       "    </tr>\n",
       "    <tr>\n",
       "      <th>32030785</th>\n",
       "      <td>2018-07-17 18:05:00</td>\n",
       "      <td>Rice</td>\n",
       "      <td>minimarket</td>\n",
       "      <td>63500.0</td>\n",
       "      <td>0.0</td>\n",
       "      <td>1.0</td>\n",
       "      <td>Tuesday</td>\n",
       "    </tr>\n",
       "    <tr>\n",
       "      <th>32935097</th>\n",
       "      <td>2018-07-29 18:18:00</td>\n",
       "      <td>Rice</td>\n",
       "      <td>supermarket</td>\n",
       "      <td>66500.0</td>\n",
       "      <td>0.0</td>\n",
       "      <td>1.0</td>\n",
       "      <td>Sunday</td>\n",
       "    </tr>\n",
       "    <tr>\n",
       "      <th>32593606</th>\n",
       "      <td>2018-07-25 12:48:00</td>\n",
       "      <td>Rice</td>\n",
       "      <td>minimarket</td>\n",
       "      <td>62500.0</td>\n",
       "      <td>0.0</td>\n",
       "      <td>1.0</td>\n",
       "      <td>Wednesday</td>\n",
       "    </tr>\n",
       "    <tr>\n",
       "      <th>32573843</th>\n",
       "      <td>2018-07-26 16:41:00</td>\n",
       "      <td>Rice</td>\n",
       "      <td>minimarket</td>\n",
       "      <td>62500.0</td>\n",
       "      <td>0.0</td>\n",
       "      <td>1.0</td>\n",
       "      <td>Thursday</td>\n",
       "    </tr>\n",
       "    <tr>\n",
       "      <th>31913062</th>\n",
       "      <td>2018-07-14 21:17:00</td>\n",
       "      <td>Rice</td>\n",
       "      <td>supermarket</td>\n",
       "      <td>64000.0</td>\n",
       "      <td>0.0</td>\n",
       "      <td>3.0</td>\n",
       "      <td>Saturday</td>\n",
       "    </tr>\n",
       "    <tr>\n",
       "      <th>31125365</th>\n",
       "      <td>2018-07-02 15:39:00</td>\n",
       "      <td>Rice</td>\n",
       "      <td>minimarket</td>\n",
       "      <td>112500.0</td>\n",
       "      <td>0.0</td>\n",
       "      <td>1.0</td>\n",
       "      <td>Monday</td>\n",
       "    </tr>\n",
       "    <tr>\n",
       "      <th>32856560</th>\n",
       "      <td>2018-07-31 05:51:00</td>\n",
       "      <td>Rice</td>\n",
       "      <td>hypermarket</td>\n",
       "      <td>77750.0</td>\n",
       "      <td>0.0</td>\n",
       "      <td>1.0</td>\n",
       "      <td>Tuesday</td>\n",
       "    </tr>\n",
       "    <tr>\n",
       "      <th>32552145</th>\n",
       "      <td>2018-07-26 11:43:00</td>\n",
       "      <td>Rice</td>\n",
       "      <td>minimarket</td>\n",
       "      <td>66500.0</td>\n",
       "      <td>0.0</td>\n",
       "      <td>1.0</td>\n",
       "      <td>Thursday</td>\n",
       "    </tr>\n",
       "    <tr>\n",
       "      <th>32369065</th>\n",
       "      <td>2018-07-23 14:22:00</td>\n",
       "      <td>Rice</td>\n",
       "      <td>minimarket</td>\n",
       "      <td>62900.0</td>\n",
       "      <td>0.0</td>\n",
       "      <td>1.0</td>\n",
       "      <td>Monday</td>\n",
       "    </tr>\n",
       "  </tbody>\n",
       "</table>\n",
       "</div>"
      ],
      "text/plain": [
       "                       purchase_time category       format  unit_price  \\\n",
       "receipts_item_id                                                         \n",
       "32030785         2018-07-17 18:05:00     Rice   minimarket     63500.0   \n",
       "32369294         2018-07-22 21:19:00     Rice  supermarket    128000.0   \n",
       "31930241         2018-07-15 12:12:00     Rice  supermarket     64000.0   \n",
       "32418582         2018-07-24 08:27:00     Rice   minimarket     65000.0   \n",
       "32561236         2018-07-26 11:28:00     Rice  supermarket    124500.0   \n",
       "32030785         2018-07-17 18:05:00     Rice   minimarket     63500.0   \n",
       "32935097         2018-07-29 18:18:00     Rice  supermarket     66500.0   \n",
       "32593606         2018-07-25 12:48:00     Rice   minimarket     62500.0   \n",
       "32573843         2018-07-26 16:41:00     Rice   minimarket     62500.0   \n",
       "31913062         2018-07-14 21:17:00     Rice  supermarket     64000.0   \n",
       "31125365         2018-07-02 15:39:00     Rice   minimarket    112500.0   \n",
       "32856560         2018-07-31 05:51:00     Rice  hypermarket     77750.0   \n",
       "32552145         2018-07-26 11:43:00     Rice   minimarket     66500.0   \n",
       "32369065         2018-07-23 14:22:00     Rice   minimarket     62900.0   \n",
       "\n",
       "                  discount  quantity    weekday  \n",
       "receipts_item_id                                 \n",
       "32030785               0.0       1.0    Tuesday  \n",
       "32369294               0.0       1.0     Sunday  \n",
       "31930241               0.0       3.0     Sunday  \n",
       "32418582               0.0       1.0    Tuesday  \n",
       "32561236               0.0       1.0   Thursday  \n",
       "32030785               0.0       1.0    Tuesday  \n",
       "32935097               0.0       1.0     Sunday  \n",
       "32593606               0.0       1.0  Wednesday  \n",
       "32573843               0.0       1.0   Thursday  \n",
       "31913062               0.0       3.0   Saturday  \n",
       "31125365               0.0       1.0     Monday  \n",
       "32856560               0.0       1.0    Tuesday  \n",
       "32552145               0.0       1.0   Thursday  \n",
       "32369065               0.0       1.0     Monday  "
      ]
     },
     "execution_count": 498,
     "metadata": {},
     "output_type": "execute_result"
    }
   ],
   "source": [
    "household_untidy.dropna(how='any')#.shape[0]"
   ]
  },
  {
   "cell_type": "code",
   "execution_count": 499,
   "metadata": {},
   "outputs": [
    {
     "data": {
      "text/html": [
       "<div>\n",
       "<style scoped>\n",
       "    .dataframe tbody tr th:only-of-type {\n",
       "        vertical-align: middle;\n",
       "    }\n",
       "\n",
       "    .dataframe tbody tr th {\n",
       "        vertical-align: top;\n",
       "    }\n",
       "\n",
       "    .dataframe thead th {\n",
       "        text-align: right;\n",
       "    }\n",
       "</style>\n",
       "<table border=\"1\" class=\"dataframe\">\n",
       "  <thead>\n",
       "    <tr style=\"text-align: right;\">\n",
       "      <th></th>\n",
       "      <th>purchase_time</th>\n",
       "      <th>category</th>\n",
       "      <th>format</th>\n",
       "      <th>unit_price</th>\n",
       "      <th>discount</th>\n",
       "      <th>quantity</th>\n",
       "      <th>weekday</th>\n",
       "    </tr>\n",
       "    <tr>\n",
       "      <th>receipts_item_id</th>\n",
       "      <th></th>\n",
       "      <th></th>\n",
       "      <th></th>\n",
       "      <th></th>\n",
       "      <th></th>\n",
       "      <th></th>\n",
       "      <th></th>\n",
       "    </tr>\n",
       "  </thead>\n",
       "  <tbody>\n",
       "    <tr>\n",
       "      <th>32030785</th>\n",
       "      <td>2018-07-17 18:05:00</td>\n",
       "      <td>Rice</td>\n",
       "      <td>minimarket</td>\n",
       "      <td>63500.0</td>\n",
       "      <td>0.0</td>\n",
       "      <td>1.0</td>\n",
       "      <td>Tuesday</td>\n",
       "    </tr>\n",
       "    <tr>\n",
       "      <th>32369294</th>\n",
       "      <td>2018-07-22 21:19:00</td>\n",
       "      <td>Rice</td>\n",
       "      <td>supermarket</td>\n",
       "      <td>128000.0</td>\n",
       "      <td>0.0</td>\n",
       "      <td>1.0</td>\n",
       "      <td>Sunday</td>\n",
       "    </tr>\n",
       "    <tr>\n",
       "      <th>31885876</th>\n",
       "      <td>2018-07-15 16:17:00</td>\n",
       "      <td>Rice</td>\n",
       "      <td>minimarket</td>\n",
       "      <td>102750.0</td>\n",
       "      <td>0.0</td>\n",
       "      <td>1.0</td>\n",
       "      <td>NaN</td>\n",
       "    </tr>\n",
       "    <tr>\n",
       "      <th>31930241</th>\n",
       "      <td>2018-07-15 12:12:00</td>\n",
       "      <td>Rice</td>\n",
       "      <td>supermarket</td>\n",
       "      <td>64000.0</td>\n",
       "      <td>0.0</td>\n",
       "      <td>3.0</td>\n",
       "      <td>Sunday</td>\n",
       "    </tr>\n",
       "    <tr>\n",
       "      <th>32418582</th>\n",
       "      <td>2018-07-24 08:27:00</td>\n",
       "      <td>Rice</td>\n",
       "      <td>minimarket</td>\n",
       "      <td>65000.0</td>\n",
       "      <td>0.0</td>\n",
       "      <td>1.0</td>\n",
       "      <td>Tuesday</td>\n",
       "    </tr>\n",
       "    <tr>\n",
       "      <th>32561236</th>\n",
       "      <td>2018-07-26 11:28:00</td>\n",
       "      <td>Rice</td>\n",
       "      <td>supermarket</td>\n",
       "      <td>124500.0</td>\n",
       "      <td>0.0</td>\n",
       "      <td>1.0</td>\n",
       "      <td>Thursday</td>\n",
       "    </tr>\n",
       "    <tr>\n",
       "      <th>32030785</th>\n",
       "      <td>2018-07-17 18:05:00</td>\n",
       "      <td>Rice</td>\n",
       "      <td>minimarket</td>\n",
       "      <td>63500.0</td>\n",
       "      <td>0.0</td>\n",
       "      <td>1.0</td>\n",
       "      <td>Tuesday</td>\n",
       "    </tr>\n",
       "    <tr>\n",
       "      <th>32935097</th>\n",
       "      <td>2018-07-29 18:18:00</td>\n",
       "      <td>Rice</td>\n",
       "      <td>supermarket</td>\n",
       "      <td>66500.0</td>\n",
       "      <td>0.0</td>\n",
       "      <td>1.0</td>\n",
       "      <td>Sunday</td>\n",
       "    </tr>\n",
       "    <tr>\n",
       "      <th>32593606</th>\n",
       "      <td>2018-07-25 12:48:00</td>\n",
       "      <td>Rice</td>\n",
       "      <td>minimarket</td>\n",
       "      <td>62500.0</td>\n",
       "      <td>0.0</td>\n",
       "      <td>1.0</td>\n",
       "      <td>Wednesday</td>\n",
       "    </tr>\n",
       "    <tr>\n",
       "      <th>32573843</th>\n",
       "      <td>2018-07-26 16:41:00</td>\n",
       "      <td>Rice</td>\n",
       "      <td>minimarket</td>\n",
       "      <td>62500.0</td>\n",
       "      <td>0.0</td>\n",
       "      <td>1.0</td>\n",
       "      <td>Thursday</td>\n",
       "    </tr>\n",
       "    <tr>\n",
       "      <th>31913062</th>\n",
       "      <td>2018-07-14 21:17:00</td>\n",
       "      <td>Rice</td>\n",
       "      <td>supermarket</td>\n",
       "      <td>64000.0</td>\n",
       "      <td>0.0</td>\n",
       "      <td>3.0</td>\n",
       "      <td>Saturday</td>\n",
       "    </tr>\n",
       "    <tr>\n",
       "      <th>31125365</th>\n",
       "      <td>2018-07-02 15:39:00</td>\n",
       "      <td>Rice</td>\n",
       "      <td>minimarket</td>\n",
       "      <td>112500.0</td>\n",
       "      <td>0.0</td>\n",
       "      <td>1.0</td>\n",
       "      <td>Monday</td>\n",
       "    </tr>\n",
       "    <tr>\n",
       "      <th>32856560</th>\n",
       "      <td>2018-07-31 05:51:00</td>\n",
       "      <td>Rice</td>\n",
       "      <td>hypermarket</td>\n",
       "      <td>77750.0</td>\n",
       "      <td>0.0</td>\n",
       "      <td>1.0</td>\n",
       "      <td>Tuesday</td>\n",
       "    </tr>\n",
       "    <tr>\n",
       "      <th>32552145</th>\n",
       "      <td>2018-07-26 11:43:00</td>\n",
       "      <td>Rice</td>\n",
       "      <td>minimarket</td>\n",
       "      <td>66500.0</td>\n",
       "      <td>0.0</td>\n",
       "      <td>1.0</td>\n",
       "      <td>Thursday</td>\n",
       "    </tr>\n",
       "    <tr>\n",
       "      <th>32369065</th>\n",
       "      <td>2018-07-23 14:22:00</td>\n",
       "      <td>Rice</td>\n",
       "      <td>minimarket</td>\n",
       "      <td>62900.0</td>\n",
       "      <td>0.0</td>\n",
       "      <td>1.0</td>\n",
       "      <td>Monday</td>\n",
       "    </tr>\n",
       "  </tbody>\n",
       "</table>\n",
       "</div>"
      ],
      "text/plain": [
       "                       purchase_time category       format  unit_price  \\\n",
       "receipts_item_id                                                         \n",
       "32030785         2018-07-17 18:05:00     Rice   minimarket     63500.0   \n",
       "32369294         2018-07-22 21:19:00     Rice  supermarket    128000.0   \n",
       "31885876         2018-07-15 16:17:00     Rice   minimarket    102750.0   \n",
       "31930241         2018-07-15 12:12:00     Rice  supermarket     64000.0   \n",
       "32418582         2018-07-24 08:27:00     Rice   minimarket     65000.0   \n",
       "32561236         2018-07-26 11:28:00     Rice  supermarket    124500.0   \n",
       "32030785         2018-07-17 18:05:00     Rice   minimarket     63500.0   \n",
       "32935097         2018-07-29 18:18:00     Rice  supermarket     66500.0   \n",
       "32593606         2018-07-25 12:48:00     Rice   minimarket     62500.0   \n",
       "32573843         2018-07-26 16:41:00     Rice   minimarket     62500.0   \n",
       "31913062         2018-07-14 21:17:00     Rice  supermarket     64000.0   \n",
       "31125365         2018-07-02 15:39:00     Rice   minimarket    112500.0   \n",
       "32856560         2018-07-31 05:51:00     Rice  hypermarket     77750.0   \n",
       "32552145         2018-07-26 11:43:00     Rice   minimarket     66500.0   \n",
       "32369065         2018-07-23 14:22:00     Rice   minimarket     62900.0   \n",
       "\n",
       "                  discount  quantity    weekday  \n",
       "receipts_item_id                                 \n",
       "32030785               0.0       1.0    Tuesday  \n",
       "32369294               0.0       1.0     Sunday  \n",
       "31885876               0.0       1.0        NaN  \n",
       "31930241               0.0       3.0     Sunday  \n",
       "32418582               0.0       1.0    Tuesday  \n",
       "32561236               0.0       1.0   Thursday  \n",
       "32030785               0.0       1.0    Tuesday  \n",
       "32935097               0.0       1.0     Sunday  \n",
       "32593606               0.0       1.0  Wednesday  \n",
       "32573843               0.0       1.0   Thursday  \n",
       "31913062               0.0       3.0   Saturday  \n",
       "31125365               0.0       1.0     Monday  \n",
       "32856560               0.0       1.0    Tuesday  \n",
       "32552145               0.0       1.0   Thursday  \n",
       "32369065               0.0       1.0     Monday  "
      ]
     },
     "execution_count": 499,
     "metadata": {},
     "output_type": "execute_result"
    }
   ],
   "source": [
    "household_untidy.dropna(how='all')#.shape[0]"
   ]
  },
  {
   "cell_type": "code",
   "execution_count": 500,
   "metadata": {},
   "outputs": [
    {
     "data": {
      "text/html": [
       "<div>\n",
       "<style scoped>\n",
       "    .dataframe tbody tr th:only-of-type {\n",
       "        vertical-align: middle;\n",
       "    }\n",
       "\n",
       "    .dataframe tbody tr th {\n",
       "        vertical-align: top;\n",
       "    }\n",
       "\n",
       "    .dataframe thead th {\n",
       "        text-align: right;\n",
       "    }\n",
       "</style>\n",
       "<table border=\"1\" class=\"dataframe\">\n",
       "  <thead>\n",
       "    <tr style=\"text-align: right;\">\n",
       "      <th></th>\n",
       "      <th>purchase_time</th>\n",
       "      <th>category</th>\n",
       "      <th>format</th>\n",
       "      <th>unit_price</th>\n",
       "      <th>discount</th>\n",
       "      <th>quantity</th>\n",
       "      <th>weekday</th>\n",
       "    </tr>\n",
       "    <tr>\n",
       "      <th>receipts_item_id</th>\n",
       "      <th></th>\n",
       "      <th></th>\n",
       "      <th></th>\n",
       "      <th></th>\n",
       "      <th></th>\n",
       "      <th></th>\n",
       "      <th></th>\n",
       "    </tr>\n",
       "  </thead>\n",
       "  <tbody>\n",
       "    <tr>\n",
       "      <th>32030785</th>\n",
       "      <td>2018-07-17 18:05:00</td>\n",
       "      <td>Rice</td>\n",
       "      <td>minimarket</td>\n",
       "      <td>63500.0</td>\n",
       "      <td>0.0</td>\n",
       "      <td>1.0</td>\n",
       "      <td>Tuesday</td>\n",
       "    </tr>\n",
       "    <tr>\n",
       "      <th>32369294</th>\n",
       "      <td>2018-07-22 21:19:00</td>\n",
       "      <td>Rice</td>\n",
       "      <td>supermarket</td>\n",
       "      <td>128000.0</td>\n",
       "      <td>0.0</td>\n",
       "      <td>1.0</td>\n",
       "      <td>Sunday</td>\n",
       "    </tr>\n",
       "    <tr>\n",
       "      <th>31885876</th>\n",
       "      <td>2018-07-15 16:17:00</td>\n",
       "      <td>Rice</td>\n",
       "      <td>minimarket</td>\n",
       "      <td>102750.0</td>\n",
       "      <td>0.0</td>\n",
       "      <td>1.0</td>\n",
       "      <td>NaN</td>\n",
       "    </tr>\n",
       "    <tr>\n",
       "      <th>31930241</th>\n",
       "      <td>2018-07-15 12:12:00</td>\n",
       "      <td>Rice</td>\n",
       "      <td>supermarket</td>\n",
       "      <td>64000.0</td>\n",
       "      <td>0.0</td>\n",
       "      <td>3.0</td>\n",
       "      <td>Sunday</td>\n",
       "    </tr>\n",
       "    <tr>\n",
       "      <th>32418582</th>\n",
       "      <td>2018-07-24 08:27:00</td>\n",
       "      <td>Rice</td>\n",
       "      <td>minimarket</td>\n",
       "      <td>65000.0</td>\n",
       "      <td>0.0</td>\n",
       "      <td>1.0</td>\n",
       "      <td>Tuesday</td>\n",
       "    </tr>\n",
       "    <tr>\n",
       "      <th>32561236</th>\n",
       "      <td>2018-07-26 11:28:00</td>\n",
       "      <td>Rice</td>\n",
       "      <td>supermarket</td>\n",
       "      <td>124500.0</td>\n",
       "      <td>0.0</td>\n",
       "      <td>1.0</td>\n",
       "      <td>Thursday</td>\n",
       "    </tr>\n",
       "    <tr>\n",
       "      <th>32030785</th>\n",
       "      <td>2018-07-17 18:05:00</td>\n",
       "      <td>Rice</td>\n",
       "      <td>minimarket</td>\n",
       "      <td>63500.0</td>\n",
       "      <td>0.0</td>\n",
       "      <td>1.0</td>\n",
       "      <td>Tuesday</td>\n",
       "    </tr>\n",
       "    <tr>\n",
       "      <th>32935097</th>\n",
       "      <td>2018-07-29 18:18:00</td>\n",
       "      <td>Rice</td>\n",
       "      <td>supermarket</td>\n",
       "      <td>66500.0</td>\n",
       "      <td>0.0</td>\n",
       "      <td>1.0</td>\n",
       "      <td>Sunday</td>\n",
       "    </tr>\n",
       "    <tr>\n",
       "      <th>32593606</th>\n",
       "      <td>2018-07-25 12:48:00</td>\n",
       "      <td>Rice</td>\n",
       "      <td>minimarket</td>\n",
       "      <td>62500.0</td>\n",
       "      <td>0.0</td>\n",
       "      <td>1.0</td>\n",
       "      <td>Wednesday</td>\n",
       "    </tr>\n",
       "    <tr>\n",
       "      <th>32573843</th>\n",
       "      <td>2018-07-26 16:41:00</td>\n",
       "      <td>Rice</td>\n",
       "      <td>minimarket</td>\n",
       "      <td>62500.0</td>\n",
       "      <td>0.0</td>\n",
       "      <td>1.0</td>\n",
       "      <td>Thursday</td>\n",
       "    </tr>\n",
       "    <tr>\n",
       "      <th>31913062</th>\n",
       "      <td>2018-07-14 21:17:00</td>\n",
       "      <td>Rice</td>\n",
       "      <td>supermarket</td>\n",
       "      <td>64000.0</td>\n",
       "      <td>0.0</td>\n",
       "      <td>3.0</td>\n",
       "      <td>Saturday</td>\n",
       "    </tr>\n",
       "    <tr>\n",
       "      <th>31125365</th>\n",
       "      <td>2018-07-02 15:39:00</td>\n",
       "      <td>Rice</td>\n",
       "      <td>minimarket</td>\n",
       "      <td>112500.0</td>\n",
       "      <td>0.0</td>\n",
       "      <td>1.0</td>\n",
       "      <td>Monday</td>\n",
       "    </tr>\n",
       "    <tr>\n",
       "      <th>32856560</th>\n",
       "      <td>2018-07-31 05:51:00</td>\n",
       "      <td>Rice</td>\n",
       "      <td>hypermarket</td>\n",
       "      <td>77750.0</td>\n",
       "      <td>0.0</td>\n",
       "      <td>1.0</td>\n",
       "      <td>Tuesday</td>\n",
       "    </tr>\n",
       "    <tr>\n",
       "      <th>32552145</th>\n",
       "      <td>2018-07-26 11:43:00</td>\n",
       "      <td>Rice</td>\n",
       "      <td>minimarket</td>\n",
       "      <td>66500.0</td>\n",
       "      <td>0.0</td>\n",
       "      <td>1.0</td>\n",
       "      <td>Thursday</td>\n",
       "    </tr>\n",
       "    <tr>\n",
       "      <th>32369065</th>\n",
       "      <td>2018-07-23 14:22:00</td>\n",
       "      <td>Rice</td>\n",
       "      <td>minimarket</td>\n",
       "      <td>62900.0</td>\n",
       "      <td>0.0</td>\n",
       "      <td>1.0</td>\n",
       "      <td>Monday</td>\n",
       "    </tr>\n",
       "  </tbody>\n",
       "</table>\n",
       "</div>"
      ],
      "text/plain": [
       "                       purchase_time category       format  unit_price  \\\n",
       "receipts_item_id                                                         \n",
       "32030785         2018-07-17 18:05:00     Rice   minimarket     63500.0   \n",
       "32369294         2018-07-22 21:19:00     Rice  supermarket    128000.0   \n",
       "31885876         2018-07-15 16:17:00     Rice   minimarket    102750.0   \n",
       "31930241         2018-07-15 12:12:00     Rice  supermarket     64000.0   \n",
       "32418582         2018-07-24 08:27:00     Rice   minimarket     65000.0   \n",
       "32561236         2018-07-26 11:28:00     Rice  supermarket    124500.0   \n",
       "32030785         2018-07-17 18:05:00     Rice   minimarket     63500.0   \n",
       "32935097         2018-07-29 18:18:00     Rice  supermarket     66500.0   \n",
       "32593606         2018-07-25 12:48:00     Rice   minimarket     62500.0   \n",
       "32573843         2018-07-26 16:41:00     Rice   minimarket     62500.0   \n",
       "31913062         2018-07-14 21:17:00     Rice  supermarket     64000.0   \n",
       "31125365         2018-07-02 15:39:00     Rice   minimarket    112500.0   \n",
       "32856560         2018-07-31 05:51:00     Rice  hypermarket     77750.0   \n",
       "32552145         2018-07-26 11:43:00     Rice   minimarket     66500.0   \n",
       "32369065         2018-07-23 14:22:00     Rice   minimarket     62900.0   \n",
       "\n",
       "                  discount  quantity    weekday  \n",
       "receipts_item_id                                 \n",
       "32030785               0.0       1.0    Tuesday  \n",
       "32369294               0.0       1.0     Sunday  \n",
       "31885876               0.0       1.0        NaN  \n",
       "31930241               0.0       3.0     Sunday  \n",
       "32418582               0.0       1.0    Tuesday  \n",
       "32561236               0.0       1.0   Thursday  \n",
       "32030785               0.0       1.0    Tuesday  \n",
       "32935097               0.0       1.0     Sunday  \n",
       "32593606               0.0       1.0  Wednesday  \n",
       "32573843               0.0       1.0   Thursday  \n",
       "31913062               0.0       3.0   Saturday  \n",
       "31125365               0.0       1.0     Monday  \n",
       "32856560               0.0       1.0    Tuesday  \n",
       "32552145               0.0       1.0   Thursday  \n",
       "32369065               0.0       1.0     Monday  "
      ]
     },
     "execution_count": 500,
     "metadata": {},
     "output_type": "execute_result"
    }
   ],
   "source": [
    "# example: thresh=1, minimal 1 non-NA value present so that it doesn't drop the row\n",
    "household_untidy.dropna(thresh=1)"
   ]
  },
  {
   "cell_type": "markdown",
   "metadata": {},
   "source": [
    "#### Imputation\n",
    "\n",
    "Fill missing value with some value, using `.fillna()` method"
   ]
  },
  {
   "cell_type": "markdown",
   "metadata": {},
   "source": [
    "First:\n",
    "\n",
    "- Impute `category`, `format`, `discount`  with value 'Missing'\n",
    "- Impute `unit_price` with value 0\n",
    "- Impute `quantity` with value 0"
   ]
  },
  {
   "cell_type": "code",
   "execution_count": 501,
   "metadata": {
    "run_control": {
     "marked": false
    }
   },
   "outputs": [
    {
     "data": {
      "text/html": [
       "<div>\n",
       "<style scoped>\n",
       "    .dataframe tbody tr th:only-of-type {\n",
       "        vertical-align: middle;\n",
       "    }\n",
       "\n",
       "    .dataframe tbody tr th {\n",
       "        vertical-align: top;\n",
       "    }\n",
       "\n",
       "    .dataframe thead th {\n",
       "        text-align: right;\n",
       "    }\n",
       "</style>\n",
       "<table border=\"1\" class=\"dataframe\">\n",
       "  <thead>\n",
       "    <tr style=\"text-align: right;\">\n",
       "      <th></th>\n",
       "      <th>purchase_time</th>\n",
       "      <th>category</th>\n",
       "      <th>format</th>\n",
       "      <th>unit_price</th>\n",
       "      <th>discount</th>\n",
       "      <th>quantity</th>\n",
       "      <th>weekday</th>\n",
       "    </tr>\n",
       "    <tr>\n",
       "      <th>receipts_item_id</th>\n",
       "      <th></th>\n",
       "      <th></th>\n",
       "      <th></th>\n",
       "      <th></th>\n",
       "      <th></th>\n",
       "      <th></th>\n",
       "      <th></th>\n",
       "    </tr>\n",
       "  </thead>\n",
       "  <tbody>\n",
       "    <tr>\n",
       "      <th>32000000</th>\n",
       "      <td>NaT</td>\n",
       "      <td>Missing</td>\n",
       "      <td>Missing</td>\n",
       "      <td>0.0</td>\n",
       "      <td>Missing</td>\n",
       "      <td>0.0</td>\n",
       "      <td>NaN</td>\n",
       "    </tr>\n",
       "    <tr>\n",
       "      <th>32000001</th>\n",
       "      <td>NaT</td>\n",
       "      <td>Missing</td>\n",
       "      <td>Missing</td>\n",
       "      <td>0.0</td>\n",
       "      <td>Missing</td>\n",
       "      <td>0.0</td>\n",
       "      <td>NaN</td>\n",
       "    </tr>\n",
       "    <tr>\n",
       "      <th>32030785</th>\n",
       "      <td>2018-07-17 18:05:00</td>\n",
       "      <td>Rice</td>\n",
       "      <td>minimarket</td>\n",
       "      <td>63500.0</td>\n",
       "      <td>0</td>\n",
       "      <td>1.0</td>\n",
       "      <td>Tuesday</td>\n",
       "    </tr>\n",
       "    <tr>\n",
       "      <th>32000002</th>\n",
       "      <td>NaT</td>\n",
       "      <td>Missing</td>\n",
       "      <td>Missing</td>\n",
       "      <td>0.0</td>\n",
       "      <td>Missing</td>\n",
       "      <td>0.0</td>\n",
       "      <td>NaN</td>\n",
       "    </tr>\n",
       "    <tr>\n",
       "      <th>32000003</th>\n",
       "      <td>NaT</td>\n",
       "      <td>Missing</td>\n",
       "      <td>Missing</td>\n",
       "      <td>0.0</td>\n",
       "      <td>Missing</td>\n",
       "      <td>0.0</td>\n",
       "      <td>NaN</td>\n",
       "    </tr>\n",
       "  </tbody>\n",
       "</table>\n",
       "</div>"
      ],
      "text/plain": [
       "                       purchase_time category      format  unit_price  \\\n",
       "receipts_item_id                                                        \n",
       "32000000                         NaT  Missing     Missing         0.0   \n",
       "32000001                         NaT  Missing     Missing         0.0   \n",
       "32030785         2018-07-17 18:05:00     Rice  minimarket     63500.0   \n",
       "32000002                         NaT  Missing     Missing         0.0   \n",
       "32000003                         NaT  Missing     Missing         0.0   \n",
       "\n",
       "                 discount  quantity  weekday  \n",
       "receipts_item_id                              \n",
       "32000000          Missing       0.0      NaN  \n",
       "32000001          Missing       0.0      NaN  \n",
       "32030785                0       1.0  Tuesday  \n",
       "32000002          Missing       0.0      NaN  \n",
       "32000003          Missing       0.0      NaN  "
      ]
     },
     "execution_count": 501,
     "metadata": {},
     "output_type": "execute_result"
    }
   ],
   "source": [
    "household_untidy[['category', 'format', 'discount']] = household_untidy[['category', 'format', 'discount']].fillna('Missing')\n",
    "household_untidy['unit_price'] = household_untidy['unit_price'].fillna(0)\n",
    "household_untidy['quantity'] = household_untidy['quantity'].replace(np.nan, 0) #.fillna(0)\n",
    "household_untidy.head()"
   ]
  },
  {
   "cell_type": "markdown",
   "metadata": {},
   "source": [
    "Note, these two codes are functionally identical:\n",
    "\n",
    "- `.fillna(0)`\n",
    "- `.replace(np.nan, 0)`"
   ]
  },
  {
   "cell_type": "markdown",
   "metadata": {},
   "source": [
    "Second: impute `purchase_time` with the next value. Use parameter `method='bfill'` to **backward fill** the missing values in the dataset"
   ]
  },
  {
   "cell_type": "code",
   "execution_count": 502,
   "metadata": {
    "run_control": {
     "marked": false
    }
   },
   "outputs": [
    {
     "data": {
      "text/html": [
       "<div>\n",
       "<style scoped>\n",
       "    .dataframe tbody tr th:only-of-type {\n",
       "        vertical-align: middle;\n",
       "    }\n",
       "\n",
       "    .dataframe tbody tr th {\n",
       "        vertical-align: top;\n",
       "    }\n",
       "\n",
       "    .dataframe thead th {\n",
       "        text-align: right;\n",
       "    }\n",
       "</style>\n",
       "<table border=\"1\" class=\"dataframe\">\n",
       "  <thead>\n",
       "    <tr style=\"text-align: right;\">\n",
       "      <th></th>\n",
       "      <th>purchase_time</th>\n",
       "      <th>category</th>\n",
       "      <th>format</th>\n",
       "      <th>unit_price</th>\n",
       "      <th>discount</th>\n",
       "      <th>quantity</th>\n",
       "      <th>weekday</th>\n",
       "    </tr>\n",
       "    <tr>\n",
       "      <th>receipts_item_id</th>\n",
       "      <th></th>\n",
       "      <th></th>\n",
       "      <th></th>\n",
       "      <th></th>\n",
       "      <th></th>\n",
       "      <th></th>\n",
       "      <th></th>\n",
       "    </tr>\n",
       "  </thead>\n",
       "  <tbody>\n",
       "    <tr>\n",
       "      <th>32000000</th>\n",
       "      <td>2018-07-17 18:05:00</td>\n",
       "      <td>Missing</td>\n",
       "      <td>Missing</td>\n",
       "      <td>0.0</td>\n",
       "      <td>Missing</td>\n",
       "      <td>0.0</td>\n",
       "      <td>NaN</td>\n",
       "    </tr>\n",
       "    <tr>\n",
       "      <th>32000001</th>\n",
       "      <td>2018-07-17 18:05:00</td>\n",
       "      <td>Missing</td>\n",
       "      <td>Missing</td>\n",
       "      <td>0.0</td>\n",
       "      <td>Missing</td>\n",
       "      <td>0.0</td>\n",
       "      <td>NaN</td>\n",
       "    </tr>\n",
       "    <tr>\n",
       "      <th>32030785</th>\n",
       "      <td>2018-07-17 18:05:00</td>\n",
       "      <td>Rice</td>\n",
       "      <td>minimarket</td>\n",
       "      <td>63500.0</td>\n",
       "      <td>0</td>\n",
       "      <td>1.0</td>\n",
       "      <td>Tuesday</td>\n",
       "    </tr>\n",
       "    <tr>\n",
       "      <th>32000002</th>\n",
       "      <td>2018-07-22 21:19:00</td>\n",
       "      <td>Missing</td>\n",
       "      <td>Missing</td>\n",
       "      <td>0.0</td>\n",
       "      <td>Missing</td>\n",
       "      <td>0.0</td>\n",
       "      <td>NaN</td>\n",
       "    </tr>\n",
       "    <tr>\n",
       "      <th>32000003</th>\n",
       "      <td>2018-07-22 21:19:00</td>\n",
       "      <td>Missing</td>\n",
       "      <td>Missing</td>\n",
       "      <td>0.0</td>\n",
       "      <td>Missing</td>\n",
       "      <td>0.0</td>\n",
       "      <td>NaN</td>\n",
       "    </tr>\n",
       "    <tr>\n",
       "      <th>32000004</th>\n",
       "      <td>2018-07-22 21:19:00</td>\n",
       "      <td>Missing</td>\n",
       "      <td>Missing</td>\n",
       "      <td>0.0</td>\n",
       "      <td>Missing</td>\n",
       "      <td>0.0</td>\n",
       "      <td>NaN</td>\n",
       "    </tr>\n",
       "    <tr>\n",
       "      <th>32369294</th>\n",
       "      <td>2018-07-22 21:19:00</td>\n",
       "      <td>Rice</td>\n",
       "      <td>supermarket</td>\n",
       "      <td>128000.0</td>\n",
       "      <td>0</td>\n",
       "      <td>1.0</td>\n",
       "      <td>Sunday</td>\n",
       "    </tr>\n",
       "  </tbody>\n",
       "</table>\n",
       "</div>"
      ],
      "text/plain": [
       "                       purchase_time category       format  unit_price  \\\n",
       "receipts_item_id                                                         \n",
       "32000000         2018-07-17 18:05:00  Missing      Missing         0.0   \n",
       "32000001         2018-07-17 18:05:00  Missing      Missing         0.0   \n",
       "32030785         2018-07-17 18:05:00     Rice   minimarket     63500.0   \n",
       "32000002         2018-07-22 21:19:00  Missing      Missing         0.0   \n",
       "32000003         2018-07-22 21:19:00  Missing      Missing         0.0   \n",
       "32000004         2018-07-22 21:19:00  Missing      Missing         0.0   \n",
       "32369294         2018-07-22 21:19:00     Rice  supermarket    128000.0   \n",
       "\n",
       "                 discount  quantity  weekday  \n",
       "receipts_item_id                              \n",
       "32000000          Missing       0.0      NaN  \n",
       "32000001          Missing       0.0      NaN  \n",
       "32030785                0       1.0  Tuesday  \n",
       "32000002          Missing       0.0      NaN  \n",
       "32000003          Missing       0.0      NaN  \n",
       "32000004          Missing       0.0      NaN  \n",
       "32369294                0       1.0   Sunday  "
      ]
     },
     "execution_count": 502,
     "metadata": {},
     "output_type": "execute_result"
    }
   ],
   "source": [
    "household_untidy['purchase_time'] = household_untidy['purchase_time'].fillna(method='bfill')\n",
    "household_untidy.head(7)"
   ]
  },
  {
   "cell_type": "markdown",
   "metadata": {},
   "source": [
    "💡 **Tips on Imputation**:\n",
    "\n",
    "For categorical column, do either:\n",
    "- Make NA as one category\n",
    "- Fill using a central value (mode as the most frequent category)\n",
    "- Fill using predictive/machine learning model (Classification problem)\n",
    "\n",
    "For numerical column, do either:\n",
    "- Fill using a central value (mean or median)\n",
    "- Fill using predictive/machine learning model (Regression problem)\n",
    "\n",
    "Case: In a dataframe where `salary` is missing but the bank has data about the customer's occupation / profession, years of experience, years of education, seniority level, age, and industry, then a machine learning model can offer a viable alternative to the mean imputation approach."
   ]
  },
  {
   "cell_type": "markdown",
   "metadata": {},
   "source": [
    "## Duplicated Data"
   ]
  },
  {
   "cell_type": "markdown",
   "metadata": {},
   "source": [
    "### Check Duplicates"
   ]
  },
  {
   "cell_type": "markdown",
   "metadata": {},
   "source": [
    "Use method `.duplicated()` and combine with subsetting operation.\n",
    "\n",
    "Parameter `keep`: \n",
    "\n",
    "- `keep='first'` (default): Mark duplicates as True except for the **first occurrence**.\n",
    "- `keep='last'`: Mark duplicates as True except for the **last occurrence**.\n",
    "- `keep=False`: Mark all duplicates as True."
   ]
  },
  {
   "cell_type": "code",
   "execution_count": 503,
   "metadata": {},
   "outputs": [
    {
     "data": {
      "text/html": [
       "<div>\n",
       "<style scoped>\n",
       "    .dataframe tbody tr th:only-of-type {\n",
       "        vertical-align: middle;\n",
       "    }\n",
       "\n",
       "    .dataframe tbody tr th {\n",
       "        vertical-align: top;\n",
       "    }\n",
       "\n",
       "    .dataframe thead th {\n",
       "        text-align: right;\n",
       "    }\n",
       "</style>\n",
       "<table border=\"1\" class=\"dataframe\">\n",
       "  <thead>\n",
       "    <tr style=\"text-align: right;\">\n",
       "      <th></th>\n",
       "      <th>purchase_time</th>\n",
       "      <th>category</th>\n",
       "      <th>format</th>\n",
       "      <th>unit_price</th>\n",
       "      <th>discount</th>\n",
       "      <th>quantity</th>\n",
       "      <th>weekday</th>\n",
       "    </tr>\n",
       "    <tr>\n",
       "      <th>receipts_item_id</th>\n",
       "      <th></th>\n",
       "      <th></th>\n",
       "      <th></th>\n",
       "      <th></th>\n",
       "      <th></th>\n",
       "      <th></th>\n",
       "      <th></th>\n",
       "    </tr>\n",
       "  </thead>\n",
       "  <tbody>\n",
       "    <tr>\n",
       "      <th>32000000</th>\n",
       "      <td>2018-07-17 18:05:00</td>\n",
       "      <td>Missing</td>\n",
       "      <td>Missing</td>\n",
       "      <td>0.0</td>\n",
       "      <td>Missing</td>\n",
       "      <td>0.0</td>\n",
       "      <td>NaN</td>\n",
       "    </tr>\n",
       "    <tr>\n",
       "      <th>32000001</th>\n",
       "      <td>2018-07-17 18:05:00</td>\n",
       "      <td>Missing</td>\n",
       "      <td>Missing</td>\n",
       "      <td>0.0</td>\n",
       "      <td>Missing</td>\n",
       "      <td>0.0</td>\n",
       "      <td>NaN</td>\n",
       "    </tr>\n",
       "    <tr>\n",
       "      <th>32030785</th>\n",
       "      <td>2018-07-17 18:05:00</td>\n",
       "      <td>Rice</td>\n",
       "      <td>minimarket</td>\n",
       "      <td>63500.0</td>\n",
       "      <td>0</td>\n",
       "      <td>1.0</td>\n",
       "      <td>Tuesday</td>\n",
       "    </tr>\n",
       "    <tr>\n",
       "      <th>32000002</th>\n",
       "      <td>2018-07-22 21:19:00</td>\n",
       "      <td>Missing</td>\n",
       "      <td>Missing</td>\n",
       "      <td>0.0</td>\n",
       "      <td>Missing</td>\n",
       "      <td>0.0</td>\n",
       "      <td>NaN</td>\n",
       "    </tr>\n",
       "    <tr>\n",
       "      <th>32000003</th>\n",
       "      <td>2018-07-22 21:19:00</td>\n",
       "      <td>Missing</td>\n",
       "      <td>Missing</td>\n",
       "      <td>0.0</td>\n",
       "      <td>Missing</td>\n",
       "      <td>0.0</td>\n",
       "      <td>NaN</td>\n",
       "    </tr>\n",
       "    <tr>\n",
       "      <th>32000004</th>\n",
       "      <td>2018-07-22 21:19:00</td>\n",
       "      <td>Missing</td>\n",
       "      <td>Missing</td>\n",
       "      <td>0.0</td>\n",
       "      <td>Missing</td>\n",
       "      <td>0.0</td>\n",
       "      <td>NaN</td>\n",
       "    </tr>\n",
       "    <tr>\n",
       "      <th>32030785</th>\n",
       "      <td>2018-07-17 18:05:00</td>\n",
       "      <td>Rice</td>\n",
       "      <td>minimarket</td>\n",
       "      <td>63500.0</td>\n",
       "      <td>0</td>\n",
       "      <td>1.0</td>\n",
       "      <td>Tuesday</td>\n",
       "    </tr>\n",
       "  </tbody>\n",
       "</table>\n",
       "</div>"
      ],
      "text/plain": [
       "                       purchase_time category      format  unit_price  \\\n",
       "receipts_item_id                                                        \n",
       "32000000         2018-07-17 18:05:00  Missing     Missing         0.0   \n",
       "32000001         2018-07-17 18:05:00  Missing     Missing         0.0   \n",
       "32030785         2018-07-17 18:05:00     Rice  minimarket     63500.0   \n",
       "32000002         2018-07-22 21:19:00  Missing     Missing         0.0   \n",
       "32000003         2018-07-22 21:19:00  Missing     Missing         0.0   \n",
       "32000004         2018-07-22 21:19:00  Missing     Missing         0.0   \n",
       "32030785         2018-07-17 18:05:00     Rice  minimarket     63500.0   \n",
       "\n",
       "                 discount  quantity  weekday  \n",
       "receipts_item_id                              \n",
       "32000000          Missing       0.0      NaN  \n",
       "32000001          Missing       0.0      NaN  \n",
       "32030785                0       1.0  Tuesday  \n",
       "32000002          Missing       0.0      NaN  \n",
       "32000003          Missing       0.0      NaN  \n",
       "32000004          Missing       0.0      NaN  \n",
       "32030785                0       1.0  Tuesday  "
      ]
     },
     "execution_count": 503,
     "metadata": {},
     "output_type": "execute_result"
    }
   ],
   "source": [
    "cond = household_untidy.duplicated(keep=False)\n",
    "household_untidy[cond]"
   ]
  },
  {
   "cell_type": "markdown",
   "metadata": {},
   "source": [
    "### Treatment for Duplicated Data"
   ]
  },
  {
   "cell_type": "markdown",
   "metadata": {},
   "source": [
    "Drop the duplicated row by using `.drop_duplicates()` method.\n",
    "\n",
    "Parameter `keep`: \n",
    "\n",
    "- `keep='first'` (default): Drop duplicates except for the **first occurrence**.\n",
    "- `keep='last'`: Drop duplicates except for the **last occurrence**.\n",
    "- `keep=False`: Drop all duplicates."
   ]
  },
  {
   "cell_type": "code",
   "execution_count": 504,
   "metadata": {},
   "outputs": [
    {
     "data": {
      "text/html": [
       "<div>\n",
       "<style scoped>\n",
       "    .dataframe tbody tr th:only-of-type {\n",
       "        vertical-align: middle;\n",
       "    }\n",
       "\n",
       "    .dataframe tbody tr th {\n",
       "        vertical-align: top;\n",
       "    }\n",
       "\n",
       "    .dataframe thead th {\n",
       "        text-align: right;\n",
       "    }\n",
       "</style>\n",
       "<table border=\"1\" class=\"dataframe\">\n",
       "  <thead>\n",
       "    <tr style=\"text-align: right;\">\n",
       "      <th></th>\n",
       "      <th>purchase_time</th>\n",
       "      <th>category</th>\n",
       "      <th>format</th>\n",
       "      <th>unit_price</th>\n",
       "      <th>discount</th>\n",
       "      <th>quantity</th>\n",
       "      <th>weekday</th>\n",
       "    </tr>\n",
       "    <tr>\n",
       "      <th>receipts_item_id</th>\n",
       "      <th></th>\n",
       "      <th></th>\n",
       "      <th></th>\n",
       "      <th></th>\n",
       "      <th></th>\n",
       "      <th></th>\n",
       "      <th></th>\n",
       "    </tr>\n",
       "  </thead>\n",
       "  <tbody>\n",
       "    <tr>\n",
       "      <th>32000001</th>\n",
       "      <td>2018-07-17 18:05:00</td>\n",
       "      <td>Missing</td>\n",
       "      <td>Missing</td>\n",
       "      <td>0.0</td>\n",
       "      <td>Missing</td>\n",
       "      <td>0.0</td>\n",
       "      <td>NaN</td>\n",
       "    </tr>\n",
       "    <tr>\n",
       "      <th>32000004</th>\n",
       "      <td>2018-07-22 21:19:00</td>\n",
       "      <td>Missing</td>\n",
       "      <td>Missing</td>\n",
       "      <td>0.0</td>\n",
       "      <td>Missing</td>\n",
       "      <td>0.0</td>\n",
       "      <td>NaN</td>\n",
       "    </tr>\n",
       "    <tr>\n",
       "      <th>32369294</th>\n",
       "      <td>2018-07-22 21:19:00</td>\n",
       "      <td>Rice</td>\n",
       "      <td>supermarket</td>\n",
       "      <td>128000.0</td>\n",
       "      <td>0</td>\n",
       "      <td>1.0</td>\n",
       "      <td>Sunday</td>\n",
       "    </tr>\n",
       "    <tr>\n",
       "      <th>31885876</th>\n",
       "      <td>2018-07-15 16:17:00</td>\n",
       "      <td>Rice</td>\n",
       "      <td>minimarket</td>\n",
       "      <td>102750.0</td>\n",
       "      <td>0</td>\n",
       "      <td>1.0</td>\n",
       "      <td>NaN</td>\n",
       "    </tr>\n",
       "    <tr>\n",
       "      <th>31930241</th>\n",
       "      <td>2018-07-15 12:12:00</td>\n",
       "      <td>Rice</td>\n",
       "      <td>supermarket</td>\n",
       "      <td>64000.0</td>\n",
       "      <td>0</td>\n",
       "      <td>3.0</td>\n",
       "      <td>Sunday</td>\n",
       "    </tr>\n",
       "    <tr>\n",
       "      <th>32418582</th>\n",
       "      <td>2018-07-24 08:27:00</td>\n",
       "      <td>Rice</td>\n",
       "      <td>minimarket</td>\n",
       "      <td>65000.0</td>\n",
       "      <td>0</td>\n",
       "      <td>1.0</td>\n",
       "      <td>Tuesday</td>\n",
       "    </tr>\n",
       "    <tr>\n",
       "      <th>32561236</th>\n",
       "      <td>2018-07-26 11:28:00</td>\n",
       "      <td>Rice</td>\n",
       "      <td>supermarket</td>\n",
       "      <td>124500.0</td>\n",
       "      <td>0</td>\n",
       "      <td>1.0</td>\n",
       "      <td>Thursday</td>\n",
       "    </tr>\n",
       "    <tr>\n",
       "      <th>32030785</th>\n",
       "      <td>2018-07-17 18:05:00</td>\n",
       "      <td>Rice</td>\n",
       "      <td>minimarket</td>\n",
       "      <td>63500.0</td>\n",
       "      <td>0</td>\n",
       "      <td>1.0</td>\n",
       "      <td>Tuesday</td>\n",
       "    </tr>\n",
       "    <tr>\n",
       "      <th>32935097</th>\n",
       "      <td>2018-07-29 18:18:00</td>\n",
       "      <td>Rice</td>\n",
       "      <td>supermarket</td>\n",
       "      <td>66500.0</td>\n",
       "      <td>0</td>\n",
       "      <td>1.0</td>\n",
       "      <td>Sunday</td>\n",
       "    </tr>\n",
       "    <tr>\n",
       "      <th>32593606</th>\n",
       "      <td>2018-07-25 12:48:00</td>\n",
       "      <td>Rice</td>\n",
       "      <td>minimarket</td>\n",
       "      <td>62500.0</td>\n",
       "      <td>0</td>\n",
       "      <td>1.0</td>\n",
       "      <td>Wednesday</td>\n",
       "    </tr>\n",
       "    <tr>\n",
       "      <th>32573843</th>\n",
       "      <td>2018-07-26 16:41:00</td>\n",
       "      <td>Rice</td>\n",
       "      <td>minimarket</td>\n",
       "      <td>62500.0</td>\n",
       "      <td>0</td>\n",
       "      <td>1.0</td>\n",
       "      <td>Thursday</td>\n",
       "    </tr>\n",
       "    <tr>\n",
       "      <th>31913062</th>\n",
       "      <td>2018-07-14 21:17:00</td>\n",
       "      <td>Rice</td>\n",
       "      <td>supermarket</td>\n",
       "      <td>64000.0</td>\n",
       "      <td>0</td>\n",
       "      <td>3.0</td>\n",
       "      <td>Saturday</td>\n",
       "    </tr>\n",
       "    <tr>\n",
       "      <th>31125365</th>\n",
       "      <td>2018-07-02 15:39:00</td>\n",
       "      <td>Rice</td>\n",
       "      <td>minimarket</td>\n",
       "      <td>112500.0</td>\n",
       "      <td>0</td>\n",
       "      <td>1.0</td>\n",
       "      <td>Monday</td>\n",
       "    </tr>\n",
       "    <tr>\n",
       "      <th>32856560</th>\n",
       "      <td>2018-07-31 05:51:00</td>\n",
       "      <td>Rice</td>\n",
       "      <td>hypermarket</td>\n",
       "      <td>77750.0</td>\n",
       "      <td>0</td>\n",
       "      <td>1.0</td>\n",
       "      <td>Tuesday</td>\n",
       "    </tr>\n",
       "    <tr>\n",
       "      <th>32552145</th>\n",
       "      <td>2018-07-26 11:43:00</td>\n",
       "      <td>Rice</td>\n",
       "      <td>minimarket</td>\n",
       "      <td>66500.0</td>\n",
       "      <td>0</td>\n",
       "      <td>1.0</td>\n",
       "      <td>Thursday</td>\n",
       "    </tr>\n",
       "    <tr>\n",
       "      <th>32369065</th>\n",
       "      <td>2018-07-23 14:22:00</td>\n",
       "      <td>Rice</td>\n",
       "      <td>minimarket</td>\n",
       "      <td>62900.0</td>\n",
       "      <td>0</td>\n",
       "      <td>1.0</td>\n",
       "      <td>Monday</td>\n",
       "    </tr>\n",
       "  </tbody>\n",
       "</table>\n",
       "</div>"
      ],
      "text/plain": [
       "                       purchase_time category       format  unit_price  \\\n",
       "receipts_item_id                                                         \n",
       "32000001         2018-07-17 18:05:00  Missing      Missing         0.0   \n",
       "32000004         2018-07-22 21:19:00  Missing      Missing         0.0   \n",
       "32369294         2018-07-22 21:19:00     Rice  supermarket    128000.0   \n",
       "31885876         2018-07-15 16:17:00     Rice   minimarket    102750.0   \n",
       "31930241         2018-07-15 12:12:00     Rice  supermarket     64000.0   \n",
       "32418582         2018-07-24 08:27:00     Rice   minimarket     65000.0   \n",
       "32561236         2018-07-26 11:28:00     Rice  supermarket    124500.0   \n",
       "32030785         2018-07-17 18:05:00     Rice   minimarket     63500.0   \n",
       "32935097         2018-07-29 18:18:00     Rice  supermarket     66500.0   \n",
       "32593606         2018-07-25 12:48:00     Rice   minimarket     62500.0   \n",
       "32573843         2018-07-26 16:41:00     Rice   minimarket     62500.0   \n",
       "31913062         2018-07-14 21:17:00     Rice  supermarket     64000.0   \n",
       "31125365         2018-07-02 15:39:00     Rice   minimarket    112500.0   \n",
       "32856560         2018-07-31 05:51:00     Rice  hypermarket     77750.0   \n",
       "32552145         2018-07-26 11:43:00     Rice   minimarket     66500.0   \n",
       "32369065         2018-07-23 14:22:00     Rice   minimarket     62900.0   \n",
       "\n",
       "                 discount  quantity    weekday  \n",
       "receipts_item_id                                \n",
       "32000001          Missing       0.0        NaN  \n",
       "32000004          Missing       0.0        NaN  \n",
       "32369294                0       1.0     Sunday  \n",
       "31885876                0       1.0        NaN  \n",
       "31930241                0       3.0     Sunday  \n",
       "32418582                0       1.0    Tuesday  \n",
       "32561236                0       1.0   Thursday  \n",
       "32030785                0       1.0    Tuesday  \n",
       "32935097                0       1.0     Sunday  \n",
       "32593606                0       1.0  Wednesday  \n",
       "32573843                0       1.0   Thursday  \n",
       "31913062                0       3.0   Saturday  \n",
       "31125365                0       1.0     Monday  \n",
       "32856560                0       1.0    Tuesday  \n",
       "32552145                0       1.0   Thursday  \n",
       "32369065                0       1.0     Monday  "
      ]
     },
     "execution_count": 504,
     "metadata": {},
     "output_type": "execute_result"
    }
   ],
   "source": [
    "household_untidy.drop_duplicates(keep='last')"
   ]
  },
  {
   "cell_type": "markdown",
   "metadata": {},
   "source": [
    "Suppose we want to show unique observation of `receipt_id`:"
   ]
  },
  {
   "cell_type": "code",
   "execution_count": 505,
   "metadata": {},
   "outputs": [
    {
     "data": {
      "text/html": [
       "<div>\n",
       "<style scoped>\n",
       "    .dataframe tbody tr th:only-of-type {\n",
       "        vertical-align: middle;\n",
       "    }\n",
       "\n",
       "    .dataframe tbody tr th {\n",
       "        vertical-align: top;\n",
       "    }\n",
       "\n",
       "    .dataframe thead th {\n",
       "        text-align: right;\n",
       "    }\n",
       "</style>\n",
       "<table border=\"1\" class=\"dataframe\">\n",
       "  <thead>\n",
       "    <tr style=\"text-align: right;\">\n",
       "      <th></th>\n",
       "      <th>receipt_id</th>\n",
       "      <th>receipts_item_id</th>\n",
       "      <th>purchase_time</th>\n",
       "      <th>category</th>\n",
       "      <th>sub_category</th>\n",
       "      <th>format</th>\n",
       "      <th>unit_price</th>\n",
       "      <th>discount</th>\n",
       "      <th>quantity</th>\n",
       "      <th>yearmonth</th>\n",
       "      <th>weekday</th>\n",
       "      <th>yearmonth_recreate</th>\n",
       "      <th>quarter</th>\n",
       "      <th>subtotal</th>\n",
       "    </tr>\n",
       "  </thead>\n",
       "  <tbody>\n",
       "    <tr>\n",
       "      <th>353</th>\n",
       "      <td>9270720</td>\n",
       "      <td>31330334</td>\n",
       "      <td>2018-07-05 13:13:00</td>\n",
       "      <td>Rice</td>\n",
       "      <td>Rice</td>\n",
       "      <td>supermarket</td>\n",
       "      <td>64000.0</td>\n",
       "      <td>0</td>\n",
       "      <td>1</td>\n",
       "      <td>2018-07</td>\n",
       "      <td>Thursday</td>\n",
       "      <td>2018-07</td>\n",
       "      <td>2018Q3</td>\n",
       "      <td>64000.0</td>\n",
       "    </tr>\n",
       "    <tr>\n",
       "      <th>443</th>\n",
       "      <td>9622257</td>\n",
       "      <td>32369293</td>\n",
       "      <td>2018-07-22 21:19:00</td>\n",
       "      <td>Rice</td>\n",
       "      <td>Rice</td>\n",
       "      <td>supermarket</td>\n",
       "      <td>159900.0</td>\n",
       "      <td>0</td>\n",
       "      <td>1</td>\n",
       "      <td>2018-07</td>\n",
       "      <td>Sunday</td>\n",
       "      <td>2018-07</td>\n",
       "      <td>2018Q3</td>\n",
       "      <td>159900.0</td>\n",
       "    </tr>\n",
       "    <tr>\n",
       "      <th>634</th>\n",
       "      <td>9655239</td>\n",
       "      <td>32451761</td>\n",
       "      <td>2018-07-21 18:04:00</td>\n",
       "      <td>Rice</td>\n",
       "      <td>Rice</td>\n",
       "      <td>supermarket</td>\n",
       "      <td>59900.0</td>\n",
       "      <td>4100</td>\n",
       "      <td>1</td>\n",
       "      <td>2018-07</td>\n",
       "      <td>Saturday</td>\n",
       "      <td>2018-07</td>\n",
       "      <td>2018Q3</td>\n",
       "      <td>59900.0</td>\n",
       "    </tr>\n",
       "    <tr>\n",
       "      <th>682</th>\n",
       "      <td>9367922</td>\n",
       "      <td>31616632</td>\n",
       "      <td>2018-07-10 22:56:00</td>\n",
       "      <td>Rice</td>\n",
       "      <td>Rice</td>\n",
       "      <td>minimarket</td>\n",
       "      <td>64000.0</td>\n",
       "      <td>0</td>\n",
       "      <td>1</td>\n",
       "      <td>2018-07</td>\n",
       "      <td>Tuesday</td>\n",
       "      <td>2018-07</td>\n",
       "      <td>2018Q3</td>\n",
       "      <td>64000.0</td>\n",
       "    </tr>\n",
       "    <tr>\n",
       "      <th>996</th>\n",
       "      <td>9623282</td>\n",
       "      <td>32371114</td>\n",
       "      <td>2018-07-21 19:18:00</td>\n",
       "      <td>Rice</td>\n",
       "      <td>Rice</td>\n",
       "      <td>minimarket</td>\n",
       "      <td>28500.0</td>\n",
       "      <td>0</td>\n",
       "      <td>2</td>\n",
       "      <td>2018-07</td>\n",
       "      <td>Saturday</td>\n",
       "      <td>2018-07</td>\n",
       "      <td>2018Q3</td>\n",
       "      <td>57000.0</td>\n",
       "    </tr>\n",
       "    <tr>\n",
       "      <th>...</th>\n",
       "      <td>...</td>\n",
       "      <td>...</td>\n",
       "      <td>...</td>\n",
       "      <td>...</td>\n",
       "      <td>...</td>\n",
       "      <td>...</td>\n",
       "      <td>...</td>\n",
       "      <td>...</td>\n",
       "      <td>...</td>\n",
       "      <td>...</td>\n",
       "      <td>...</td>\n",
       "      <td>...</td>\n",
       "      <td>...</td>\n",
       "      <td>...</td>\n",
       "    </tr>\n",
       "    <tr>\n",
       "      <th>71913</th>\n",
       "      <td>5955640</td>\n",
       "      <td>18149296</td>\n",
       "      <td>2017-12-31 09:28:00</td>\n",
       "      <td>Sugar/Flavored Syrup</td>\n",
       "      <td>Sugar</td>\n",
       "      <td>minimarket</td>\n",
       "      <td>11500.0</td>\n",
       "      <td>0</td>\n",
       "      <td>2</td>\n",
       "      <td>2017-12</td>\n",
       "      <td>Sunday</td>\n",
       "      <td>2017-12</td>\n",
       "      <td>2017Q4</td>\n",
       "      <td>23000.0</td>\n",
       "    </tr>\n",
       "    <tr>\n",
       "      <th>71935</th>\n",
       "      <td>5737076</td>\n",
       "      <td>17437723</td>\n",
       "      <td>2017-12-13 14:13:00</td>\n",
       "      <td>Sugar/Flavored Syrup</td>\n",
       "      <td>Sugar</td>\n",
       "      <td>minimarket</td>\n",
       "      <td>12200.0</td>\n",
       "      <td>600</td>\n",
       "      <td>2</td>\n",
       "      <td>2017-12</td>\n",
       "      <td>Wednesday</td>\n",
       "      <td>2017-12</td>\n",
       "      <td>2017Q4</td>\n",
       "      <td>24400.0</td>\n",
       "    </tr>\n",
       "    <tr>\n",
       "      <th>71940</th>\n",
       "      <td>5865653</td>\n",
       "      <td>17834851</td>\n",
       "      <td>2017-12-24 10:47:00</td>\n",
       "      <td>Sugar/Flavored Syrup</td>\n",
       "      <td>Sugar</td>\n",
       "      <td>supermarket</td>\n",
       "      <td>12990.0</td>\n",
       "      <td>0</td>\n",
       "      <td>1</td>\n",
       "      <td>2017-12</td>\n",
       "      <td>Sunday</td>\n",
       "      <td>2017-12</td>\n",
       "      <td>2017Q4</td>\n",
       "      <td>12990.0</td>\n",
       "    </tr>\n",
       "    <tr>\n",
       "      <th>71954</th>\n",
       "      <td>5805533</td>\n",
       "      <td>17651393</td>\n",
       "      <td>2017-12-19 13:07:00</td>\n",
       "      <td>Sugar/Flavored Syrup</td>\n",
       "      <td>Sugar</td>\n",
       "      <td>minimarket</td>\n",
       "      <td>12500.0</td>\n",
       "      <td>0</td>\n",
       "      <td>1</td>\n",
       "      <td>2017-12</td>\n",
       "      <td>Tuesday</td>\n",
       "      <td>2017-12</td>\n",
       "      <td>2017Q4</td>\n",
       "      <td>12500.0</td>\n",
       "    </tr>\n",
       "    <tr>\n",
       "      <th>71965</th>\n",
       "      <td>5935719</td>\n",
       "      <td>18295911</td>\n",
       "      <td>2017-12-28 14:23:00</td>\n",
       "      <td>Sugar/Flavored Syrup</td>\n",
       "      <td>Sugar</td>\n",
       "      <td>minimarket</td>\n",
       "      <td>12500.0</td>\n",
       "      <td>0</td>\n",
       "      <td>10</td>\n",
       "      <td>2017-12</td>\n",
       "      <td>Thursday</td>\n",
       "      <td>2017-12</td>\n",
       "      <td>2017Q4</td>\n",
       "      <td>125000.0</td>\n",
       "    </tr>\n",
       "  </tbody>\n",
       "</table>\n",
       "<p>2224 rows × 14 columns</p>\n",
       "</div>"
      ],
      "text/plain": [
       "       receipt_id  receipts_item_id       purchase_time              category  \\\n",
       "353       9270720          31330334 2018-07-05 13:13:00                  Rice   \n",
       "443       9622257          32369293 2018-07-22 21:19:00                  Rice   \n",
       "634       9655239          32451761 2018-07-21 18:04:00                  Rice   \n",
       "682       9367922          31616632 2018-07-10 22:56:00                  Rice   \n",
       "996       9623282          32371114 2018-07-21 19:18:00                  Rice   \n",
       "...           ...               ...                 ...                   ...   \n",
       "71913     5955640          18149296 2017-12-31 09:28:00  Sugar/Flavored Syrup   \n",
       "71935     5737076          17437723 2017-12-13 14:13:00  Sugar/Flavored Syrup   \n",
       "71940     5865653          17834851 2017-12-24 10:47:00  Sugar/Flavored Syrup   \n",
       "71954     5805533          17651393 2017-12-19 13:07:00  Sugar/Flavored Syrup   \n",
       "71965     5935719          18295911 2017-12-28 14:23:00  Sugar/Flavored Syrup   \n",
       "\n",
       "      sub_category       format  unit_price  discount  quantity yearmonth  \\\n",
       "353           Rice  supermarket     64000.0         0         1   2018-07   \n",
       "443           Rice  supermarket    159900.0         0         1   2018-07   \n",
       "634           Rice  supermarket     59900.0      4100         1   2018-07   \n",
       "682           Rice   minimarket     64000.0         0         1   2018-07   \n",
       "996           Rice   minimarket     28500.0         0         2   2018-07   \n",
       "...            ...          ...         ...       ...       ...       ...   \n",
       "71913        Sugar   minimarket     11500.0         0         2   2017-12   \n",
       "71935        Sugar   minimarket     12200.0       600         2   2017-12   \n",
       "71940        Sugar  supermarket     12990.0         0         1   2017-12   \n",
       "71954        Sugar   minimarket     12500.0         0         1   2017-12   \n",
       "71965        Sugar   minimarket     12500.0         0        10   2017-12   \n",
       "\n",
       "         weekday yearmonth_recreate quarter  subtotal  \n",
       "353     Thursday            2018-07  2018Q3   64000.0  \n",
       "443       Sunday            2018-07  2018Q3  159900.0  \n",
       "634     Saturday            2018-07  2018Q3   59900.0  \n",
       "682      Tuesday            2018-07  2018Q3   64000.0  \n",
       "996     Saturday            2018-07  2018Q3   57000.0  \n",
       "...          ...                ...     ...       ...  \n",
       "71913     Sunday            2017-12  2017Q4   23000.0  \n",
       "71935  Wednesday            2017-12  2017Q4   24400.0  \n",
       "71940     Sunday            2017-12  2017Q4   12990.0  \n",
       "71954    Tuesday            2017-12  2017Q4   12500.0  \n",
       "71965   Thursday            2017-12  2017Q4  125000.0  \n",
       "\n",
       "[2224 rows x 14 columns]"
      ]
     },
     "execution_count": 505,
     "metadata": {},
     "output_type": "execute_result"
    }
   ],
   "source": [
    "household[household['receipt_id'].duplicated()]"
   ]
  },
  {
   "cell_type": "markdown",
   "metadata": {},
   "source": [
    "⚠️ **Warning**: Duplicates may mean a different thing from a data point-of-view and a business analyst's point-of-view. You want to be extra careful about whether the duplicates is an intended characteristic of your data, or whether it poses a violation to the business logic."
   ]
  },
  {
   "cell_type": "markdown",
   "metadata": {},
   "source": [
    "## Knowledge Check: Missing Values and Duplicates\n",
    "\n",
    "_Estimated time required: 10 minutes_"
   ]
  },
  {
   "cell_type": "markdown",
   "metadata": {},
   "source": [
    "Should we drop the duplicates for each of the following case, and why:\n",
    "\n",
    "1. A medical center collects anonymized heart rate monitoring data from patients. It has duplicate observations collected across a span of 3 months\n",
    "2. An insurance company uses machine learning to deliver dynamic pricing to its customers. Each row contains the customer's name, occupation / profession and historical health data. It has duplicate observations collected across a span of 3 months\n",
    "3. On our original `household` data, check for duplicate observations. Would you have drop the duplicated rows?"
   ]
  },
  {
   "cell_type": "code",
   "execution_count": 510,
   "metadata": {},
   "outputs": [
    {
     "data": {
      "text/html": [
       "<div>\n",
       "<style scoped>\n",
       "    .dataframe tbody tr th:only-of-type {\n",
       "        vertical-align: middle;\n",
       "    }\n",
       "\n",
       "    .dataframe tbody tr th {\n",
       "        vertical-align: top;\n",
       "    }\n",
       "\n",
       "    .dataframe thead th {\n",
       "        text-align: right;\n",
       "    }\n",
       "</style>\n",
       "<table border=\"1\" class=\"dataframe\">\n",
       "  <thead>\n",
       "    <tr style=\"text-align: right;\">\n",
       "      <th></th>\n",
       "      <th>rate</th>\n",
       "    </tr>\n",
       "  </thead>\n",
       "  <tbody>\n",
       "    <tr>\n",
       "      <th>0</th>\n",
       "      <td>70</td>\n",
       "    </tr>\n",
       "    <tr>\n",
       "      <th>1</th>\n",
       "      <td>80</td>\n",
       "    </tr>\n",
       "    <tr>\n",
       "      <th>2</th>\n",
       "      <td>90</td>\n",
       "    </tr>\n",
       "    <tr>\n",
       "      <th>3</th>\n",
       "      <td>75</td>\n",
       "    </tr>\n",
       "    <tr>\n",
       "      <th>4</th>\n",
       "      <td>95</td>\n",
       "    </tr>\n",
       "    <tr>\n",
       "      <th>6</th>\n",
       "      <td>85</td>\n",
       "    </tr>\n",
       "  </tbody>\n",
       "</table>\n",
       "</div>"
      ],
      "text/plain": [
       "   rate\n",
       "0    70\n",
       "1    80\n",
       "2    90\n",
       "3    75\n",
       "4    95\n",
       "6    85"
      ]
     },
     "execution_count": 510,
     "metadata": {},
     "output_type": "execute_result"
    }
   ],
   "source": [
    "# illustration data for question 1\n",
    "heart = pd.DataFrame({\n",
    "    'rate': [70, 80, 90, 75, 95, 70, 85, 90]\n",
    "})\n",
    "\n",
    "heart.drop_duplicates(keep='first')"
   ]
  },
  {
   "cell_type": "code",
   "execution_count": 557,
   "metadata": {},
   "outputs": [
    {
     "data": {
      "text/html": [
       "<div>\n",
       "<style scoped>\n",
       "    .dataframe tbody tr th:only-of-type {\n",
       "        vertical-align: middle;\n",
       "    }\n",
       "\n",
       "    .dataframe tbody tr th {\n",
       "        vertical-align: top;\n",
       "    }\n",
       "\n",
       "    .dataframe thead th {\n",
       "        text-align: right;\n",
       "    }\n",
       "</style>\n",
       "<table border=\"1\" class=\"dataframe\">\n",
       "  <thead>\n",
       "    <tr style=\"text-align: right;\">\n",
       "      <th></th>\n",
       "      <th>cust_id</th>\n",
       "      <th>occupation</th>\n",
       "      <th>health</th>\n",
       "    </tr>\n",
       "  </thead>\n",
       "  <tbody>\n",
       "    <tr>\n",
       "      <th>0</th>\n",
       "      <td>C1</td>\n",
       "      <td>Employee</td>\n",
       "      <td>Good</td>\n",
       "    </tr>\n",
       "    <tr>\n",
       "      <th>1</th>\n",
       "      <td>C2</td>\n",
       "      <td>Employee</td>\n",
       "      <td>Ok</td>\n",
       "    </tr>\n",
       "    <tr>\n",
       "      <th>2</th>\n",
       "      <td>C3</td>\n",
       "      <td>Student</td>\n",
       "      <td>Good</td>\n",
       "    </tr>\n",
       "    <tr>\n",
       "      <th>3</th>\n",
       "      <td>C4</td>\n",
       "      <td>Student</td>\n",
       "      <td>Ok</td>\n",
       "    </tr>\n",
       "  </tbody>\n",
       "</table>\n",
       "</div>"
      ],
      "text/plain": [
       "  cust_id occupation health\n",
       "0      C1   Employee   Good\n",
       "1      C2   Employee     Ok\n",
       "2      C3    Student   Good\n",
       "3      C4    Student     Ok"
      ]
     },
     "execution_count": 557,
     "metadata": {},
     "output_type": "execute_result"
    }
   ],
   "source": [
    "# illustration data for question 2\n",
    "insurance = pd.DataFrame({\n",
    "    'cust_id': ['C1', 'C2', 'C3', 'C4', 'C1'],\n",
    "    'occupation': ['Employee', 'Employee', 'Student', 'Student', 'Employee'],\n",
    "    'health': ['Good', 'Ok', 'Good', 'Ok', 'Ok']\n",
    "})\n",
    "\n",
    "insurance['cust_id'] = insurance['cust_id'].drop_duplicates(keep='first')\n",
    "\n",
    "insurance.dropna(how='any')\n",
    "\n",
    "\n",
    "# cond = insurance['cust_id'].duplicated()\n",
    "\n",
    "# insurance = insurance.drop(columns=insurance[cond])\n",
    "\n",
    "# insurance[cond]"
   ]
  },
  {
   "cell_type": "code",
   "execution_count": 525,
   "metadata": {},
   "outputs": [
    {
     "data": {
      "text/html": [
       "<div>\n",
       "<style scoped>\n",
       "    .dataframe tbody tr th:only-of-type {\n",
       "        vertical-align: middle;\n",
       "    }\n",
       "\n",
       "    .dataframe tbody tr th {\n",
       "        vertical-align: top;\n",
       "    }\n",
       "\n",
       "    .dataframe thead th {\n",
       "        text-align: right;\n",
       "    }\n",
       "</style>\n",
       "<table border=\"1\" class=\"dataframe\">\n",
       "  <thead>\n",
       "    <tr style=\"text-align: right;\">\n",
       "      <th></th>\n",
       "      <th>receipt_id</th>\n",
       "      <th>purchase_time</th>\n",
       "      <th>category</th>\n",
       "      <th>sub_category</th>\n",
       "      <th>format</th>\n",
       "      <th>unit_price</th>\n",
       "      <th>discount</th>\n",
       "      <th>quantity</th>\n",
       "      <th>yearmonth</th>\n",
       "    </tr>\n",
       "    <tr>\n",
       "      <th>receipts_item_id</th>\n",
       "      <th></th>\n",
       "      <th></th>\n",
       "      <th></th>\n",
       "      <th></th>\n",
       "      <th></th>\n",
       "      <th></th>\n",
       "      <th></th>\n",
       "      <th></th>\n",
       "      <th></th>\n",
       "    </tr>\n",
       "  </thead>\n",
       "  <tbody>\n",
       "    <tr>\n",
       "      <th>31616772</th>\n",
       "      <td>9367922</td>\n",
       "      <td>7/10/2018 22:56</td>\n",
       "      <td>Rice</td>\n",
       "      <td>Rice</td>\n",
       "      <td>minimarket</td>\n",
       "      <td>64000.0</td>\n",
       "      <td>0</td>\n",
       "      <td>1</td>\n",
       "      <td>2018-07</td>\n",
       "    </tr>\n",
       "    <tr>\n",
       "      <th>31616632</th>\n",
       "      <td>9367922</td>\n",
       "      <td>7/10/2018 22:56</td>\n",
       "      <td>Rice</td>\n",
       "      <td>Rice</td>\n",
       "      <td>minimarket</td>\n",
       "      <td>64000.0</td>\n",
       "      <td>0</td>\n",
       "      <td>1</td>\n",
       "      <td>2018-07</td>\n",
       "    </tr>\n",
       "    <tr>\n",
       "      <th>35486879</th>\n",
       "      <td>10626238</td>\n",
       "      <td>8/31/2018 20:21</td>\n",
       "      <td>Rice</td>\n",
       "      <td>Rice</td>\n",
       "      <td>minimarket</td>\n",
       "      <td>62500.0</td>\n",
       "      <td>0</td>\n",
       "      <td>1</td>\n",
       "      <td>2018-08</td>\n",
       "    </tr>\n",
       "    <tr>\n",
       "      <th>35486825</th>\n",
       "      <td>10626238</td>\n",
       "      <td>8/31/2018 20:21</td>\n",
       "      <td>Rice</td>\n",
       "      <td>Rice</td>\n",
       "      <td>minimarket</td>\n",
       "      <td>62500.0</td>\n",
       "      <td>0</td>\n",
       "      <td>1</td>\n",
       "      <td>2018-08</td>\n",
       "    </tr>\n",
       "    <tr>\n",
       "      <th>37704383</th>\n",
       "      <td>11250231</td>\n",
       "      <td>9/25/2018 14:15</td>\n",
       "      <td>Rice</td>\n",
       "      <td>Rice</td>\n",
       "      <td>supermarket</td>\n",
       "      <td>64000.0</td>\n",
       "      <td>0</td>\n",
       "      <td>1</td>\n",
       "      <td>2018-09</td>\n",
       "    </tr>\n",
       "    <tr>\n",
       "      <th>...</th>\n",
       "      <td>...</td>\n",
       "      <td>...</td>\n",
       "      <td>...</td>\n",
       "      <td>...</td>\n",
       "      <td>...</td>\n",
       "      <td>...</td>\n",
       "      <td>...</td>\n",
       "      <td>...</td>\n",
       "      <td>...</td>\n",
       "    </tr>\n",
       "    <tr>\n",
       "      <th>17911936</th>\n",
       "      <td>5890361</td>\n",
       "      <td>12/26/2017 9:50</td>\n",
       "      <td>Sugar/Flavored Syrup</td>\n",
       "      <td>Sugar</td>\n",
       "      <td>supermarket</td>\n",
       "      <td>6250.0</td>\n",
       "      <td>0</td>\n",
       "      <td>1</td>\n",
       "      <td>2017-12</td>\n",
       "    </tr>\n",
       "    <tr>\n",
       "      <th>17110567</th>\n",
       "      <td>5636761</td>\n",
       "      <td>12/4/2017 20:06</td>\n",
       "      <td>Sugar/Flavored Syrup</td>\n",
       "      <td>Sugar</td>\n",
       "      <td>minimarket</td>\n",
       "      <td>12500.0</td>\n",
       "      <td>0</td>\n",
       "      <td>1</td>\n",
       "      <td>2017-12</td>\n",
       "    </tr>\n",
       "    <tr>\n",
       "      <th>17685098</th>\n",
       "      <td>5817089</td>\n",
       "      <td>12/19/2017 22:03</td>\n",
       "      <td>Sugar/Flavored Syrup</td>\n",
       "      <td>Sugar</td>\n",
       "      <td>hypermarket</td>\n",
       "      <td>11990.0</td>\n",
       "      <td>260</td>\n",
       "      <td>1</td>\n",
       "      <td>2017-12</td>\n",
       "    </tr>\n",
       "    <tr>\n",
       "      <th>18149296</th>\n",
       "      <td>5955640</td>\n",
       "      <td>12/31/2017 9:28</td>\n",
       "      <td>Sugar/Flavored Syrup</td>\n",
       "      <td>Sugar</td>\n",
       "      <td>minimarket</td>\n",
       "      <td>11500.0</td>\n",
       "      <td>0</td>\n",
       "      <td>2</td>\n",
       "      <td>2017-12</td>\n",
       "    </tr>\n",
       "    <tr>\n",
       "      <th>17651393</th>\n",
       "      <td>5805533</td>\n",
       "      <td>12/19/2017 13:07</td>\n",
       "      <td>Sugar/Flavored Syrup</td>\n",
       "      <td>Sugar</td>\n",
       "      <td>minimarket</td>\n",
       "      <td>12500.0</td>\n",
       "      <td>0</td>\n",
       "      <td>1</td>\n",
       "      <td>2017-12</td>\n",
       "    </tr>\n",
       "  </tbody>\n",
       "</table>\n",
       "<p>650 rows × 9 columns</p>\n",
       "</div>"
      ],
      "text/plain": [
       "                  receipt_id     purchase_time              category  \\\n",
       "receipts_item_id                                                       \n",
       "31616772             9367922   7/10/2018 22:56                  Rice   \n",
       "31616632             9367922   7/10/2018 22:56                  Rice   \n",
       "35486879            10626238   8/31/2018 20:21                  Rice   \n",
       "35486825            10626238   8/31/2018 20:21                  Rice   \n",
       "37704383            11250231   9/25/2018 14:15                  Rice   \n",
       "...                      ...               ...                   ...   \n",
       "17911936             5890361   12/26/2017 9:50  Sugar/Flavored Syrup   \n",
       "17110567             5636761   12/4/2017 20:06  Sugar/Flavored Syrup   \n",
       "17685098             5817089  12/19/2017 22:03  Sugar/Flavored Syrup   \n",
       "18149296             5955640   12/31/2017 9:28  Sugar/Flavored Syrup   \n",
       "17651393             5805533  12/19/2017 13:07  Sugar/Flavored Syrup   \n",
       "\n",
       "                 sub_category       format  unit_price  discount  quantity  \\\n",
       "receipts_item_id                                                             \n",
       "31616772                 Rice   minimarket     64000.0         0         1   \n",
       "31616632                 Rice   minimarket     64000.0         0         1   \n",
       "35486879                 Rice   minimarket     62500.0         0         1   \n",
       "35486825                 Rice   minimarket     62500.0         0         1   \n",
       "37704383                 Rice  supermarket     64000.0         0         1   \n",
       "...                       ...          ...         ...       ...       ...   \n",
       "17911936                Sugar  supermarket      6250.0         0         1   \n",
       "17110567                Sugar   minimarket     12500.0         0         1   \n",
       "17685098                Sugar  hypermarket     11990.0       260         1   \n",
       "18149296                Sugar   minimarket     11500.0         0         2   \n",
       "17651393                Sugar   minimarket     12500.0         0         1   \n",
       "\n",
       "                 yearmonth  \n",
       "receipts_item_id            \n",
       "31616772           2018-07  \n",
       "31616632           2018-07  \n",
       "35486879           2018-08  \n",
       "35486825           2018-08  \n",
       "37704383           2018-09  \n",
       "...                    ...  \n",
       "17911936           2017-12  \n",
       "17110567           2017-12  \n",
       "17685098           2017-12  \n",
       "18149296           2017-12  \n",
       "17651393           2017-12  \n",
       "\n",
       "[650 rows x 9 columns]"
      ]
     },
     "execution_count": 525,
     "metadata": {},
     "output_type": "execute_result"
    }
   ],
   "source": [
    "# reference data for question 3\n",
    "household = pd.read_csv('data_input/household.csv', index_col='receipts_item_id')\n",
    "household[household.duplicated(keep=False)]"
   ]
  },
  {
   "cell_type": "markdown",
   "metadata": {},
   "source": [
    "**Answer**:\n",
    "\n",
    "1. Should (drop/not drop) the duplicates, because ...\n",
    "\n",
    "2. Should (drop/not drop) the duplicates, because ...\n",
    "\n",
    "3. Should (drop/not drop) the duplicates, because ..."
   ]
  }
 ],
 "metadata": {
  "kernelspec": {
   "display_name": "Python 3",
   "language": "python",
   "name": "python3"
  },
  "language_info": {
   "codemirror_mode": {
    "name": "ipython",
    "version": 3
   },
   "file_extension": ".py",
   "mimetype": "text/x-python",
   "name": "python",
   "nbconvert_exporter": "python",
   "pygments_lexer": "ipython3",
   "version": "3.8.5"
  },
  "latex_envs": {
   "LaTeX_envs_menu_present": true,
   "autoclose": false,
   "autocomplete": true,
   "bibliofile": "biblio.bib",
   "cite_by": "apalike",
   "current_citInitial": 1,
   "eqLabelWithNumbers": true,
   "eqNumInitial": 1,
   "hotkeys": {
    "equation": "Ctrl-E",
    "itemize": "Ctrl-I"
   },
   "labels_anchors": false,
   "latex_user_defs": false,
   "report_style_numbering": false,
   "user_envs_cfg": false
  },
  "toc": {
   "base_numbering": 1,
   "nav_menu": {},
   "number_sections": false,
   "sideBar": true,
   "skip_h1_title": false,
   "title_cell": "Table of Contents",
   "title_sidebar": "Contents",
   "toc_cell": false,
   "toc_position": {
    "height": "calc(100% - 180px)",
    "left": "10px",
    "top": "150px",
    "width": "228.011px"
   },
   "toc_section_display": true,
   "toc_window_display": false
  },
  "toc-showcode": true,
  "toc-showmarkdowntxt": true,
  "varInspector": {
   "cols": {
    "lenName": 16,
    "lenType": 16,
    "lenVar": 40
   },
   "kernels_config": {
    "python": {
     "delete_cmd_postfix": "",
     "delete_cmd_prefix": "del ",
     "library": "var_list.py",
     "varRefreshCmd": "print(var_dic_list())"
    },
    "r": {
     "delete_cmd_postfix": ") ",
     "delete_cmd_prefix": "rm(",
     "library": "var_list.r",
     "varRefreshCmd": "cat(var_dic_list()) "
    }
   },
   "types_to_exclude": [
    "module",
    "function",
    "builtin_function_or_method",
    "instance",
    "_Feature"
   ],
   "window_display": false
  }
 },
 "nbformat": 4,
 "nbformat_minor": 4
}
